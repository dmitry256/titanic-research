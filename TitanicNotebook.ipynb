{
 "cells": [
  {
   "cell_type": "markdown",
   "metadata": {},
   "source": [
    "# Titanic: Machine Learning from Disaster"
   ]
  },
  {
   "cell_type": "markdown",
   "metadata": {},
   "source": [
    "# The Challenge\n",
    "\n",
    "The sinking of the Titanic is one of the most infamous shipwrecks in history.\n",
    "\n",
    "On April 15, 1912, during her maiden voyage, the widely considered “unsinkable” RMS Titanic sank after colliding with an iceberg. Unfortunately, there weren’t enough lifeboats for everyone onboard, resulting in the death of 1502 out of 2224 passengers and crew.\n",
    "\n",
    "While there was some element of luck involved in surviving, it seems some groups of people were more likely to survive than others.\n",
    "\n",
    "In this challenge, we ask you to build a predictive model that answers the question: “what sorts of people were more likely to survive?” using passenger data (ie name, age, gender, socio-economic class, etc). "
   ]
  },
  {
   "cell_type": "markdown",
   "metadata": {},
   "source": [
    "# Tools we would need"
   ]
  },
  {
   "cell_type": "code",
   "execution_count": 1,
   "metadata": {
    "_cell_guid": "b1076dfc-b9ad-4769-8c92-a6c4dae69d19",
    "_uuid": "8f2839f25d086af736a60e9eeb907d3b93b6e0e5"
   },
   "outputs": [
    {
     "name": "stderr",
     "output_type": "stream",
     "text": [
      "Using TensorFlow backend.\n"
     ]
    }
   ],
   "source": [
    "from sklearn.model_selection import train_test_split\n",
    "from sklearn.metrics import accuracy_score, mean_squared_error, r2_score, median_absolute_error, max_error, explained_variance_score\n",
    "from sklearn.neighbors import KNeighborsClassifier\n",
    "from sklearn.preprocessing import LabelEncoder\n",
    "\n",
    "import xgboost as xgb\n",
    "from xgboost import XGBRegressor, plot_importance \n",
    "\n",
    "import lightgbm as lgb\n",
    "\n",
    "from keras.models import Sequential\n",
    "from keras.layers import Conv1D, MaxPooling1D, Dense, Flatten, Dropout\n",
    "from keras.optimizers import RMSprop \n",
    "from keras.callbacks import EarlyStopping \n",
    "import keras\n",
    "\n",
    "import numpy as np # linear algebra\n",
    "import pandas as pd # data processing, CSV file I/O (e.g. pd.read_csv)\n",
    "\n",
    "import matplotlib.pyplot as plt\n",
    "import seaborn as sns\n",
    "\n",
    "import threading\n",
    "import re\n",
    "\n",
    "sns.set()\n",
    "\n",
    "TrainData =  pd.read_csv('input/train.csv')\n",
    "TestData = pd.read_csv('input/test.csv')"
   ]
  },
  {
   "cell_type": "markdown",
   "metadata": {
    "slideshow": {
     "slide_type": "slide"
    }
   },
   "source": [
    "# Feature engineering"
   ]
  },
  {
   "cell_type": "markdown",
   "metadata": {},
   "source": [
    "## Interpolation of missing values\n",
    "\n",
    "One can notice that in traing and testing data sets combined there are:\n",
    "- **1014** passengers with missing `Cabin`\n",
    "- **418** passengers with missing `Survived` value\n",
    "- **263** passengers with missing `Age`\n",
    "- **2** passengers with missing `Embarked` port\n",
    "- **1** record with missing `Fare` value\n",
    "\n",
    "We will try to approximate those values below."
   ]
  },
  {
   "cell_type": "code",
   "execution_count": 2,
   "metadata": {},
   "outputs": [
    {
     "name": "stdout",
     "output_type": "stream",
     "text": [
      "<class 'pandas.core.frame.DataFrame'>\n",
      "RangeIndex: 1309 entries, 0 to 1308\n",
      "Data columns (total 12 columns):\n",
      " #   Column       Non-Null Count  Dtype  \n",
      "---  ------       --------------  -----  \n",
      " 0   PassengerId  1309 non-null   int64  \n",
      " 1   Survived     891 non-null    float64\n",
      " 2   Pclass       1309 non-null   int64  \n",
      " 3   Name         1309 non-null   object \n",
      " 4   Sex          1309 non-null   object \n",
      " 5   Age          1046 non-null   float64\n",
      " 6   SibSp        1309 non-null   int64  \n",
      " 7   Parch        1309 non-null   int64  \n",
      " 8   Ticket       1309 non-null   object \n",
      " 9   Fare         1308 non-null   float64\n",
      " 10  Cabin        295 non-null    object \n",
      " 11  Embarked     1307 non-null   object \n",
      "dtypes: float64(3), int64(4), object(5)\n",
      "memory usage: 122.8+ KB\n"
     ]
    }
   ],
   "source": [
    "traind = TrainData.copy()\n",
    "testd = TestData.copy()\n",
    "td_merged = traind.append(testd, ignore_index=True)\n",
    "td_merged.info() "
   ]
  },
  {
   "cell_type": "markdown",
   "metadata": {},
   "source": [
    "### Retrieve Title from Name"
   ]
  },
  {
   "cell_type": "code",
   "execution_count": 3,
   "metadata": {},
   "outputs": [],
   "source": [
    "# Retrieve title from Name, we will use it as a feature\n",
    "for index, person in td_merged.iterrows():\n",
    "    found = re.match(r\".+ (.+\\.).*\", person.Name)\n",
    "    if found:\n",
    "        td_merged.loc[index, 'Title'] = found.group(1)\n",
    "\n",
    "td_filtered = td_merged.drop(['PassengerId','Name'],axis=1)"
   ]
  },
  {
   "cell_type": "markdown",
   "metadata": {},
   "source": [
    "### Fill missing `Embarked` values"
   ]
  },
  {
   "cell_type": "code",
   "execution_count": 4,
   "metadata": {},
   "outputs": [],
   "source": [
    "# According to publicly available report, those 2 ladies embarked in Southampton\n",
    "td_filtered[['Embarked']] = td_filtered[['Embarked']].fillna('S')"
   ]
  },
  {
   "cell_type": "markdown",
   "metadata": {},
   "source": [
    "### Fill missing `Fare` value"
   ]
  },
  {
   "cell_type": "code",
   "execution_count": 5,
   "metadata": {},
   "outputs": [],
   "source": [
    "# There's only 1 missing fare for a senior citezen, we'll use a median fare\n",
    "# among other people on board of the same age\n",
    "missing_fare = float(td_filtered[['Pclass','Age','Fare']]\n",
    "                     [(td_filtered.Age > 50) & (td_filtered.Pclass == 3)]\n",
    "                     .groupby(['Pclass']).median().Fare)\n",
    "td_filtered[['Fare']] = td_filtered[['Fare']].fillna(missing_fare)"
   ]
  },
  {
   "cell_type": "markdown",
   "metadata": {},
   "source": [
    "### Use `Cabin`'s first letter as sector identifier on the ship"
   ]
  },
  {
   "cell_type": "code",
   "execution_count": 6,
   "metadata": {},
   "outputs": [],
   "source": [
    "# Use first cabin latter to distinguish location on the ship\n",
    "td_filtered.Cabin = td_filtered.Cabin[td_filtered.Cabin.notnull()].apply(lambda c: c[0])"
   ]
  },
  {
   "cell_type": "markdown",
   "metadata": {
    "slideshow": {
     "slide_type": "slide"
    }
   },
   "source": [
    "## Categorical feature encoding\n",
    "* `Sex` - we have discovered only 2 possible genders in the data: _male_ and _female_\n",
    "* `Ticket` - some tickets are reoccurring, perhaps shared among passengers tagging along in group (family members, tourists, friends, etc.)\n",
    "* `Cabin` - Some cabins are also shared among passengers\n",
    "* `Embarked` - this feature has 3 ports, some of the passengers (2 ladies from _Southampton_ ) have this field missing, we will manually populate those entries, as this information is publically available\n",
    "* `Title` - We will extract title (_Mr._ , _Ms._ , _Mrs._ , etc.) from the name. Perhaps, it's worth to have a look at surname, and play around with that feature to predict survival rate of particular family members but for now we will drop it and use title only.\n",
    "\n",
    "Apart from `Name`, we are also dropping `PassengerId` to avoid our models allocating excessive weights to irrelevant features."
   ]
  },
  {
   "cell_type": "code",
   "execution_count": 7,
   "metadata": {},
   "outputs": [],
   "source": [
    "categorical_features = ['Sex','Cabin','Embarked', 'Ticket', 'Title']\n",
    "encoders = dict()\n",
    "for feature in categorical_features:\n",
    "    enc = LabelEncoder()\n",
    "    encoders[feature] = enc\n",
    "    td_filtered.loc[:,feature] = enc.fit_transform(td_filtered[feature].astype(str))"
   ]
  },
  {
   "cell_type": "markdown",
   "metadata": {},
   "source": [
    "## Feature relationship analysis\n",
    "\n",
    "In this step we will discover how different features correlate with each other and prepare a set of important variables to feed to our predictive models later.\n",
    "\n",
    "### Heatmap"
   ]
  },
  {
   "cell_type": "code",
   "execution_count": 8,
   "metadata": {
    "slideshow": {
     "slide_type": "fragment"
    }
   },
   "outputs": [
    {
     "data": {
      "image/png": "[encoded data removed]",
      "text/plain": [
       "<Figure size 720x576 with 2 Axes>"
      ]
     },
     "metadata": {},
     "output_type": "display_data"
    },
    {
     "data": {
      "text/html": [
       "<div>\n",
       "<style scoped>\n",
       "    .dataframe tbody tr th:only-of-type {\n",
       "        vertical-align: middle;\n",
       "    }\n",
       "\n",
       "    .dataframe tbody tr th {\n",
       "        vertical-align: top;\n",
       "    }\n",
       "\n",
       "    .dataframe thead th {\n",
       "        text-align: right;\n",
       "    }\n",
       "</style>\n",
       "<table border=\"1\" class=\"dataframe\">\n",
       "  <thead>\n",
       "    <tr style=\"text-align: right;\">\n",
       "      <th></th>\n",
       "      <th>Survived</th>\n",
       "      <th>Pclass</th>\n",
       "      <th>Sex</th>\n",
       "      <th>Age</th>\n",
       "      <th>SibSp</th>\n",
       "      <th>Parch</th>\n",
       "      <th>Ticket</th>\n",
       "      <th>Fare</th>\n",
       "      <th>Cabin</th>\n",
       "      <th>Embarked</th>\n",
       "      <th>Title</th>\n",
       "    </tr>\n",
       "  </thead>\n",
       "  <tbody>\n",
       "    <tr>\n",
       "      <th>Survived</th>\n",
       "      <td>1.00</td>\n",
       "      <td>-0.34</td>\n",
       "      <td>-0.54</td>\n",
       "      <td>-0.08</td>\n",
       "      <td>-3.53e-02</td>\n",
       "      <td>0.08</td>\n",
       "      <td>-0.17</td>\n",
       "      <td>0.26</td>\n",
       "      <td>-3.01e-01</td>\n",
       "      <td>-0.17</td>\n",
       "      <td>-0.20</td>\n",
       "    </tr>\n",
       "    <tr>\n",
       "      <th>Pclass</th>\n",
       "      <td>-0.34</td>\n",
       "      <td>1.00</td>\n",
       "      <td>0.12</td>\n",
       "      <td>-0.41</td>\n",
       "      <td>6.08e-02</td>\n",
       "      <td>0.02</td>\n",
       "      <td>0.31</td>\n",
       "      <td>-0.56</td>\n",
       "      <td>7.35e-01</td>\n",
       "      <td>0.19</td>\n",
       "      <td>0.02</td>\n",
       "    </tr>\n",
       "    <tr>\n",
       "      <th>Sex</th>\n",
       "      <td>-0.54</td>\n",
       "      <td>0.12</td>\n",
       "      <td>1.00</td>\n",
       "      <td>0.06</td>\n",
       "      <td>-1.10e-01</td>\n",
       "      <td>-0.21</td>\n",
       "      <td>0.02</td>\n",
       "      <td>-0.19</td>\n",
       "      <td>1.25e-01</td>\n",
       "      <td>0.10</td>\n",
       "      <td>0.22</td>\n",
       "    </tr>\n",
       "    <tr>\n",
       "      <th>Age</th>\n",
       "      <td>-0.08</td>\n",
       "      <td>-0.41</td>\n",
       "      <td>0.06</td>\n",
       "      <td>1.00</td>\n",
       "      <td>-2.44e-01</td>\n",
       "      <td>-0.15</td>\n",
       "      <td>-0.09</td>\n",
       "      <td>0.18</td>\n",
       "      <td>-3.12e-01</td>\n",
       "      <td>-0.08</td>\n",
       "      <td>0.27</td>\n",
       "    </tr>\n",
       "    <tr>\n",
       "      <th>SibSp</th>\n",
       "      <td>-0.04</td>\n",
       "      <td>0.06</td>\n",
       "      <td>-0.11</td>\n",
       "      <td>-0.24</td>\n",
       "      <td>1.00e+00</td>\n",
       "      <td>0.37</td>\n",
       "      <td>0.06</td>\n",
       "      <td>0.16</td>\n",
       "      <td>7.95e-03</td>\n",
       "      <td>0.07</td>\n",
       "      <td>-0.18</td>\n",
       "    </tr>\n",
       "    <tr>\n",
       "      <th>Parch</th>\n",
       "      <td>0.08</td>\n",
       "      <td>0.02</td>\n",
       "      <td>-0.21</td>\n",
       "      <td>-0.15</td>\n",
       "      <td>3.74e-01</td>\n",
       "      <td>1.00</td>\n",
       "      <td>0.05</td>\n",
       "      <td>0.22</td>\n",
       "      <td>-3.44e-02</td>\n",
       "      <td>0.04</td>\n",
       "      <td>-0.09</td>\n",
       "    </tr>\n",
       "    <tr>\n",
       "      <th>Ticket</th>\n",
       "      <td>-0.17</td>\n",
       "      <td>0.31</td>\n",
       "      <td>0.02</td>\n",
       "      <td>-0.09</td>\n",
       "      <td>6.39e-02</td>\n",
       "      <td>0.05</td>\n",
       "      <td>1.00</td>\n",
       "      <td>-0.01</td>\n",
       "      <td>2.33e-01</td>\n",
       "      <td>0.03</td>\n",
       "      <td>-0.01</td>\n",
       "    </tr>\n",
       "    <tr>\n",
       "      <th>Fare</th>\n",
       "      <td>0.26</td>\n",
       "      <td>-0.56</td>\n",
       "      <td>-0.19</td>\n",
       "      <td>0.18</td>\n",
       "      <td>1.60e-01</td>\n",
       "      <td>0.22</td>\n",
       "      <td>-0.01</td>\n",
       "      <td>1.00</td>\n",
       "      <td>-5.47e-01</td>\n",
       "      <td>-0.24</td>\n",
       "      <td>-0.08</td>\n",
       "    </tr>\n",
       "    <tr>\n",
       "      <th>Cabin</th>\n",
       "      <td>-0.30</td>\n",
       "      <td>0.73</td>\n",
       "      <td>0.13</td>\n",
       "      <td>-0.31</td>\n",
       "      <td>7.95e-03</td>\n",
       "      <td>-0.03</td>\n",
       "      <td>0.23</td>\n",
       "      <td>-0.55</td>\n",
       "      <td>1.00e+00</td>\n",
       "      <td>0.23</td>\n",
       "      <td>0.05</td>\n",
       "    </tr>\n",
       "    <tr>\n",
       "      <th>Embarked</th>\n",
       "      <td>-0.17</td>\n",
       "      <td>0.19</td>\n",
       "      <td>0.10</td>\n",
       "      <td>-0.08</td>\n",
       "      <td>6.56e-02</td>\n",
       "      <td>0.04</td>\n",
       "      <td>0.03</td>\n",
       "      <td>-0.24</td>\n",
       "      <td>2.31e-01</td>\n",
       "      <td>1.00</td>\n",
       "      <td>0.06</td>\n",
       "    </tr>\n",
       "    <tr>\n",
       "      <th>Title</th>\n",
       "      <td>-0.20</td>\n",
       "      <td>0.02</td>\n",
       "      <td>0.22</td>\n",
       "      <td>0.27</td>\n",
       "      <td>-1.76e-01</td>\n",
       "      <td>-0.09</td>\n",
       "      <td>-0.01</td>\n",
       "      <td>-0.08</td>\n",
       "      <td>4.63e-02</td>\n",
       "      <td>0.06</td>\n",
       "      <td>1.00</td>\n",
       "    </tr>\n",
       "  </tbody>\n",
       "</table>\n",
       "</div>"
      ],
      "text/plain": [
       "          Survived  Pclass   Sex   Age     SibSp  Parch  Ticket  Fare  \\\n",
       "Survived      1.00   -0.34 -0.54 -0.08 -3.53e-02   0.08   -0.17  0.26   \n",
       "Pclass       -0.34    1.00  0.12 -0.41  6.08e-02   0.02    0.31 -0.56   \n",
       "Sex          -0.54    0.12  1.00  0.06 -1.10e-01  -0.21    0.02 -0.19   \n",
       "Age          -0.08   -0.41  0.06  1.00 -2.44e-01  -0.15   -0.09  0.18   \n",
       "SibSp        -0.04    0.06 -0.11 -0.24  1.00e+00   0.37    0.06  0.16   \n",
       "Parch         0.08    0.02 -0.21 -0.15  3.74e-01   1.00    0.05  0.22   \n",
       "Ticket       -0.17    0.31  0.02 -0.09  6.39e-02   0.05    1.00 -0.01   \n",
       "Fare          0.26   -0.56 -0.19  0.18  1.60e-01   0.22   -0.01  1.00   \n",
       "Cabin        -0.30    0.73  0.13 -0.31  7.95e-03  -0.03    0.23 -0.55   \n",
       "Embarked     -0.17    0.19  0.10 -0.08  6.56e-02   0.04    0.03 -0.24   \n",
       "Title        -0.20    0.02  0.22  0.27 -1.76e-01  -0.09   -0.01 -0.08   \n",
       "\n",
       "             Cabin  Embarked  Title  \n",
       "Survived -3.01e-01     -0.17  -0.20  \n",
       "Pclass    7.35e-01      0.19   0.02  \n",
       "Sex       1.25e-01      0.10   0.22  \n",
       "Age      -3.12e-01     -0.08   0.27  \n",
       "SibSp     7.95e-03      0.07  -0.18  \n",
       "Parch    -3.44e-02      0.04  -0.09  \n",
       "Ticket    2.33e-01      0.03  -0.01  \n",
       "Fare     -5.47e-01     -0.24  -0.08  \n",
       "Cabin     1.00e+00      0.23   0.05  \n",
       "Embarked  2.31e-01      1.00   0.06  \n",
       "Title     4.63e-02      0.06   1.00  "
      ]
     },
     "execution_count": 8,
     "metadata": {},
     "output_type": "execute_result"
    }
   ],
   "source": [
    "pd.set_option('precision',2)\n",
    "plt.figure(figsize=(10, 8))\n",
    "sns.heatmap(td_filtered.corr())\n",
    "plt.suptitle(\"Pearson Correlation Heatmap\")\n",
    "plt.show();\n",
    "td_filtered.corr()"
   ]
  },
  {
   "cell_type": "markdown",
   "metadata": {},
   "source": [
    "### Closer look on `Gender`, `Age` and `Class` "
   ]
  },
  {
   "cell_type": "markdown",
   "metadata": {},
   "source": [
    "From age and gender insights we can observe that passengers of the First class got the best survival rate followed by the Second class and the Third as the last one. Probably because passengers of the 3rd class ended up to be locked in their cabins, that might have been done to reduce sinking rate of the ship so that more lifes could have be saved."
   ]
  },
  {
   "cell_type": "code",
   "execution_count": 9,
   "metadata": {},
   "outputs": [
    {
     "data": {
      "text/plain": [
       "<seaborn.axisgrid.FacetGrid at 0x7f5924745b00>"
      ]
     },
     "execution_count": 9,
     "metadata": {},
     "output_type": "execute_result"
    },
    {
     "data": {
      "image/png": "[encoded data removed]",
      "text/plain": [
       "<Figure size 1141.55x360 with 3 Axes>"
      ]
     },
     "metadata": {},
     "output_type": "display_data"
    }
   ],
   "source": [
    "sns.catplot(x='Sex', y='Age', hue='Survived', data=td_filtered, kind=\"box\", col='Pclass',\n",
    "               palette=['lightpink','lightgreen'])"
   ]
  },
  {
   "cell_type": "markdown",
   "metadata": {},
   "source": [
    "## Feature recovery"
   ]
  },
  {
   "cell_type": "markdown",
   "metadata": {},
   "source": [
    "### Regression analysis of `Age`\n",
    "\n",
    "For this model we are going to drop `Ticket` feature here, as it reduces error rate of prediction."
   ]
  },
  {
   "cell_type": "code",
   "execution_count": 10,
   "metadata": {},
   "outputs": [],
   "source": [
    "td_with_age = td_filtered[(~td_filtered.Age.isnull())]\n",
    "td_without_age = td_filtered[(td_filtered.Age.isnull())].drop(['Age'], axis=1)\n",
    "\n",
    "X = td_with_age.drop(['Age'], axis=1)\n",
    "Y = td_with_age.Age\n",
    "\n",
    "X_train, X_test, y_train, y_test = train_test_split(X, Y, test_size=0.05, random_state=10)\n"
   ]
  },
  {
   "cell_type": "markdown",
   "metadata": {},
   "source": [
    "#### Gradient boosting with LightGBM"
   ]
  },
  {
   "cell_type": "code",
   "execution_count": 11,
   "metadata": {},
   "outputs": [
    {
     "name": "stdout",
     "output_type": "stream",
     "text": [
      "R2 Score (best is 1.0): 0.410205426474857\n",
      "MedAE (the smaller the better): 7.275197240862298\n",
      "Max Error: 33.729644507969894\n",
      "ExpVar score (best is 1.0): 0.41303551808169436\n",
      "RMSE: 11.593578558801603\n"
     ]
    },
    {
     "data": {
      "image/png": "[encoded data removed]",
      "text/plain": [
       "<Figure size 432x288 with 1 Axes>"
      ]
     },
     "metadata": {},
     "output_type": "display_data"
    }
   ],
   "source": [
    "params = {\n",
    "    'boosting_type': 'gbdt',\n",
    "    'objective': 'regression',\n",
    "    'metric': {'l2', 'l1'},\n",
    "    'learning_rate': 0.05,\n",
    "    'feature_fraction': 0.8,\n",
    "    'bagging_fraction': 0.9,\n",
    "    'bagging_freq': 5,\n",
    "    'num_threads': threading.active_count(),\n",
    "}\n",
    "\n",
    "# create dataset for lightgbm\n",
    "lgb_train = lgb.Dataset(X_train, y_train)\n",
    "lgb_eval = lgb.Dataset(X_test, y_test, reference=lgb_train)\n",
    "\n",
    "modelLGB = lgb.train(params,\n",
    "                lgb_train,\n",
    "                num_boost_round=50,\n",
    "                valid_sets=lgb_eval,\n",
    "                early_stopping_rounds=10, verbose_eval=0)\n",
    "\n",
    "predictions = modelLGB.predict(X_test, num_iteration=modelLGB.best_iteration)\n",
    "\n",
    "print('R2 Score (best is 1.0): %s' % r2_score(y_test.to_numpy(), predictions))\n",
    "print('MedAE (the smaller the better): %s' % median_absolute_error(y_true=y_test.to_numpy(),y_pred=predictions))\n",
    "print('Max Error: %s' % max_error(y_true=y_test.to_numpy(),y_pred=predictions))\n",
    "print('ExpVar score (best is 1.0): %s' % explained_variance_score(y_true=y_test.to_numpy(),y_pred=predictions))\n",
    "print('RMSE:', mean_squared_error(y_test, predictions) ** 0.5)\n",
    "\n",
    "feature_importance = pd.DataFrame()\n",
    "feature_importance['Score'] = modelLGB.feature_importance()\n",
    "feature_importance['Feature'] = modelLGB.feature_name()\n",
    "feature_importance = feature_importance.sort_values(by='Score',ascending=False)\n",
    "\n",
    "ax = sns.barplot(x='Score',y='Feature',data=feature_importance, palette=\"Purples_d\", orient='h')"
   ]
  },
  {
   "cell_type": "markdown",
   "metadata": {},
   "source": [
    "#### Gradient boosting with XGBoost"
   ]
  },
  {
   "cell_type": "code",
   "execution_count": 12,
   "metadata": {},
   "outputs": [
    {
     "name": "stdout",
     "output_type": "stream",
     "text": [
      "R2 Score (best is 1.0): 0.3521010399536765\n",
      "MedAE (the smaller the better): 6.317258834838867\n",
      "Max Error: 36.57940483093262\n",
      "ExpVar score (best is 1.0): 0.3582935130372745\n",
      "RMSE: 12.15124463439559\n"
     ]
    },
    {
     "data": {
      "image/png": "[encoded data removed]",
      "text/plain": [
       "<Figure size 432x288 with 1 Axes>"
      ]
     },
     "metadata": {},
     "output_type": "display_data"
    },
    {
     "data": {
      "image/png": "[encoded data removed]",
      "text/plain": [
       "<Figure size 432x288 with 1 Axes>"
      ]
     },
     "metadata": {},
     "output_type": "display_data"
    }
   ],
   "source": [
    "modelXGB = XGBRegressor(n_estimators=10000)\n",
    "modelXGB.fit(X_train, y_train, early_stopping_rounds=10, \n",
    "             eval_set=[(X_test, y_test)], verbose=False)\n",
    "predictions = modelXGB.predict(X_test)\n",
    "print('R2 Score (best is 1.0): %s' % r2_score(y_test.to_numpy(), predictions))\n",
    "print('MedAE (the smaller the better): %s' % median_absolute_error(y_true=y_test.to_numpy(),y_pred=predictions))\n",
    "print('Max Error: %s' % max_error(y_true=y_test.to_numpy(),y_pred=predictions))\n",
    "print('ExpVar score (best is 1.0): %s' % explained_variance_score(y_true=y_test.to_numpy(),y_pred=predictions))\n",
    "print('RMSE:', mean_squared_error(y_test, predictions) ** 0.5)\n",
    "\n",
    "temp = pd.DataFrame()\n",
    "temp['Actual'] = y_test\n",
    "temp['Predicted'] = predictions\n",
    "sns.regplot(x='Actual',y='Predicted',data=temp)\n",
    "\n",
    "plot_importance(modelXGB)\n",
    "\n",
    "plt.show()"
   ]
  },
  {
   "cell_type": "markdown",
   "metadata": {},
   "source": [
    "We will go with the results produced by **XGBoost** in this case as the predictions indicates slightly lower error rates comparing to **LightGBM**"
   ]
  },
  {
   "cell_type": "markdown",
   "metadata": {},
   "source": [
    "#### Populating missing `Age` values with results of our prediction"
   ]
  },
  {
   "cell_type": "code",
   "execution_count": 13,
   "metadata": {},
   "outputs": [
    {
     "name": "stdout",
     "output_type": "stream",
     "text": [
      "<class 'pandas.core.frame.DataFrame'>\n",
      "RangeIndex: 1309 entries, 0 to 1308\n",
      "Data columns (total 11 columns):\n",
      " #   Column    Non-Null Count  Dtype  \n",
      "---  ------    --------------  -----  \n",
      " 0   Survived  891 non-null    float64\n",
      " 1   Pclass    1309 non-null   int64  \n",
      " 2   Sex       1309 non-null   int64  \n",
      " 3   Age       1309 non-null   float64\n",
      " 4   SibSp     1309 non-null   int64  \n",
      " 5   Parch     1309 non-null   int64  \n",
      " 6   Ticket    1309 non-null   int64  \n",
      " 7   Fare      1309 non-null   float64\n",
      " 8   Cabin     1309 non-null   int64  \n",
      " 9   Embarked  1309 non-null   int64  \n",
      " 10  Title     1309 non-null   int64  \n",
      "dtypes: float64(3), int64(8)\n",
      "memory usage: 112.6 KB\n"
     ]
    }
   ],
   "source": [
    "predictions = modelXGB.predict(td_without_age)\n",
    "td_age_restored = td_without_age.copy()\n",
    "td_age_restored.loc[:,'Age'] = predictions\n",
    "td_filtered.update(td_with_age.append(td_age_restored))\n",
    "td_filtered.info()"
   ]
  },
  {
   "cell_type": "markdown",
   "metadata": {},
   "source": [
    "### Classification of missing `Cabin` (sector of the ship) values"
   ]
  },
  {
   "cell_type": "code",
   "execution_count": 14,
   "metadata": {},
   "outputs": [],
   "source": [
    "td_with_cabin = td_filtered[(td_filtered.Cabin.notna())].drop(['Survived'], axis=1)\n",
    "td_without_cabin = td_filtered[(td_filtered.Cabin.isna())].drop(['Cabin', 'Survived'], axis=1)\n",
    "\n",
    "X = td_with_cabin.drop(['Cabin'], axis=1)\n",
    "\n",
    "input_features = X.columns.values\n",
    "n_input_features = len(input_features)\n",
    "n_output_feature = len(td_with_cabin.Cabin.unique())\n",
    "\n",
    "Y = td_with_cabin.Cabin\n",
    "\n",
    "X_train, X_test, y_train, y_test = train_test_split(X, Y, test_size=0.05, random_state=10)"
   ]
  },
  {
   "cell_type": "markdown",
   "metadata": {},
   "source": [
    "#### Predicting with multiple layer Neural Networks (Keras & TF)"
   ]
  },
  {
   "cell_type": "code",
   "execution_count": 15,
   "metadata": {},
   "outputs": [
    {
     "name": "stdout",
     "output_type": "stream",
     "text": [
      "Model: \"sequential_1\"\n",
      "_________________________________________________________________\n",
      "Layer (type)                 Output Shape              Param #   \n",
      "=================================================================\n",
      "dense_1 (Dense)              (None, 9)                 90        \n",
      "_________________________________________________________________\n",
      "dense_2 (Dense)              (None, 72)                720       \n",
      "_________________________________________________________________\n",
      "dense_3 (Dense)              (None, 72)                5256      \n",
      "_________________________________________________________________\n",
      "dropout_1 (Dropout)          (None, 72)                0         \n",
      "_________________________________________________________________\n",
      "dense_4 (Dense)              (None, 9)                 657       \n",
      "=================================================================\n",
      "Total params: 6,723\n",
      "Trainable params: 6,723\n",
      "Non-trainable params: 0\n",
      "_________________________________________________________________\n",
      "Train on 1243 samples, validate on 66 samples\n",
      "Epoch 1/30\n",
      "1243/1243 [==============================] - 0s 184us/step - loss: 20.5537 - accuracy: 0.5430 - val_loss: 2.4356 - val_accuracy: 0.7727\n",
      "Epoch 2/30\n",
      "1243/1243 [==============================] - 0s 49us/step - loss: 5.4559 - accuracy: 0.6959 - val_loss: 1.1069 - val_accuracy: 0.8182\n",
      "Epoch 3/30\n",
      "1243/1243 [==============================] - 0s 57us/step - loss: 3.2069 - accuracy: 0.6822 - val_loss: 0.7519 - val_accuracy: 0.8485\n",
      "Epoch 4/30\n",
      "1243/1243 [==============================] - 0s 48us/step - loss: 2.1670 - accuracy: 0.7120 - val_loss: 0.4772 - val_accuracy: 0.8485\n",
      "Epoch 5/30\n",
      "1243/1243 [==============================] - 0s 60us/step - loss: 1.4175 - accuracy: 0.7570 - val_loss: 0.5681 - val_accuracy: 0.8030\n",
      "Epoch 6/30\n",
      "1243/1243 [==============================] - 0s 48us/step - loss: 1.1371 - accuracy: 0.7643 - val_loss: 0.4783 - val_accuracy: 0.8030\n",
      "Epoch 7/30\n",
      "1243/1243 [==============================] - 0s 53us/step - loss: 1.0123 - accuracy: 0.7755 - val_loss: 0.5597 - val_accuracy: 0.8030\n",
      "Epoch 8/30\n",
      "1243/1243 [==============================] - 0s 61us/step - loss: 0.9108 - accuracy: 0.7860 - val_loss: 0.5117 - val_accuracy: 0.8333\n",
      "Epoch 9/30\n",
      "1243/1243 [==============================] - 0s 56us/step - loss: 0.8819 - accuracy: 0.7916 - val_loss: 0.4689 - val_accuracy: 0.8636\n",
      "Epoch 10/30\n",
      "1243/1243 [==============================] - 0s 51us/step - loss: 0.8671 - accuracy: 0.7940 - val_loss: 0.5196 - val_accuracy: 0.8485\n",
      "Epoch 11/30\n",
      "1243/1243 [==============================] - 0s 54us/step - loss: 0.7799 - accuracy: 0.7916 - val_loss: 0.5808 - val_accuracy: 0.8182\n",
      "Epoch 12/30\n",
      "1243/1243 [==============================] - 0s 57us/step - loss: 0.7371 - accuracy: 0.8061 - val_loss: 0.4785 - val_accuracy: 0.8485\n",
      "Epoch 13/30\n",
      "1243/1243 [==============================] - 0s 49us/step - loss: 0.7820 - accuracy: 0.7932 - val_loss: 0.4530 - val_accuracy: 0.8485\n",
      "Epoch 14/30\n",
      "1243/1243 [==============================] - 0s 48us/step - loss: 0.7369 - accuracy: 0.7965 - val_loss: 0.5625 - val_accuracy: 0.8030\n",
      "Epoch 15/30\n",
      "1243/1243 [==============================] - 0s 56us/step - loss: 0.6974 - accuracy: 0.7997 - val_loss: 0.5419 - val_accuracy: 0.8182\n",
      "Epoch 16/30\n",
      "1243/1243 [==============================] - 0s 50us/step - loss: 0.7342 - accuracy: 0.7949 - val_loss: 0.4874 - val_accuracy: 0.8939\n",
      "Epoch 17/30\n",
      "1243/1243 [==============================] - 0s 56us/step - loss: 0.7067 - accuracy: 0.7989 - val_loss: 0.5525 - val_accuracy: 0.8333\n",
      "Epoch 18/30\n",
      "1243/1243 [==============================] - 0s 48us/step - loss: 0.6865 - accuracy: 0.8117 - val_loss: 0.4650 - val_accuracy: 0.8636\n",
      "Epoch 19/30\n",
      "1243/1243 [==============================] - 0s 55us/step - loss: 0.6357 - accuracy: 0.8109 - val_loss: 0.7712 - val_accuracy: 0.8030\n",
      "Epoch 20/30\n",
      "1243/1243 [==============================] - 0s 57us/step - loss: 0.7217 - accuracy: 0.8077 - val_loss: 0.4486 - val_accuracy: 0.8485\n",
      "Epoch 21/30\n",
      "1243/1243 [==============================] - 0s 48us/step - loss: 0.6407 - accuracy: 0.8142 - val_loss: 0.5779 - val_accuracy: 0.8030\n",
      "Epoch 22/30\n",
      "1243/1243 [==============================] - 0s 55us/step - loss: 0.6781 - accuracy: 0.8142 - val_loss: 0.6176 - val_accuracy: 0.7879\n",
      "Epoch 23/30\n",
      "1243/1243 [==============================] - 0s 49us/step - loss: 0.6365 - accuracy: 0.8061 - val_loss: 0.4864 - val_accuracy: 0.8333\n",
      "Epoch 24/30\n",
      "1243/1243 [==============================] - 0s 58us/step - loss: 0.6261 - accuracy: 0.8093 - val_loss: 0.5414 - val_accuracy: 0.8485\n",
      "Epoch 25/30\n",
      "1243/1243 [==============================] - 0s 49us/step - loss: 0.6280 - accuracy: 0.8077 - val_loss: 0.5224 - val_accuracy: 0.8485\n",
      "Epoch 26/30\n",
      "1243/1243 [==============================] - 0s 57us/step - loss: 0.6260 - accuracy: 0.8061 - val_loss: 0.5400 - val_accuracy: 0.8333\n",
      "Epoch 27/30\n",
      "1243/1243 [==============================] - 0s 48us/step - loss: 0.6215 - accuracy: 0.8077 - val_loss: 0.5785 - val_accuracy: 0.8182\n",
      "Epoch 28/30\n",
      "1243/1243 [==============================] - 0s 54us/step - loss: 0.6198 - accuracy: 0.8190 - val_loss: 0.4434 - val_accuracy: 0.8636\n",
      "Epoch 29/30\n",
      "1243/1243 [==============================] - 0s 53us/step - loss: 0.6120 - accuracy: 0.8069 - val_loss: 0.4659 - val_accuracy: 0.8485\n",
      "Epoch 30/30\n",
      "1243/1243 [==============================] - 0s 50us/step - loss: 0.6192 - accuracy: 0.8158 - val_loss: 0.5983 - val_accuracy: 0.8485\n",
      "66/66 [==============================] - 0s 49us/step\n",
      "Accuracy: 0.8484848737716675\n",
      "Loss: 0.5982763862068002\n"
     ]
    }
   ],
   "source": [
    "modelNN = Sequential([\n",
    "    Dense(n_input_features, input_dim=n_input_features, activation='relu'),\n",
    "    Dense(n_input_features * 8, activation='relu'),\n",
    "    Dense(n_input_features * 8, activation='relu'),\n",
    "    Dropout(0.1),\n",
    "    Dense(n_output_feature, activation='softmax'),\n",
    "])\n",
    "modelNN.compile(\n",
    "    loss='sparse_categorical_crossentropy',\n",
    "    optimizer='adam',\n",
    "    metrics=['accuracy']\n",
    ")\n",
    "modelNN.summary()\n",
    "modelNN.fit(\n",
    "    X_train, y_train,\n",
    "    epochs=30,\n",
    "    validation_data=(X_test, y_test),\n",
    "    verbose = 1\n",
    ")\n",
    "loss, accuracy = modelNN.evaluate(X_test, y_test)\n",
    "print(\"Accuracy: %s\" % accuracy)\n",
    "print(\"Loss: %s\" % loss)"
   ]
  },
  {
   "cell_type": "markdown",
   "metadata": {},
   "source": [
    "##### Model overview"
   ]
  },
  {
   "cell_type": "markdown",
   "metadata": {},
   "source": [
    "The result produced by the model: **74% of accuracy** and **65% of loss** is somewhat not satisfying at all for this task!"
   ]
  },
  {
   "cell_type": "markdown",
   "metadata": {},
   "source": [
    "#### Trying to classify with XGBoost"
   ]
  },
  {
   "cell_type": "code",
   "execution_count": 16,
   "metadata": {},
   "outputs": [],
   "source": [
    "dtrain = xgb.DMatrix(X_train, label=y_train)\n",
    "dtest = xgb.DMatrix(X_test, label=y_test)\n",
    "params = { \n",
    "    'objective': 'multi:softmax',\n",
    "    'learning_rate': 0.3,\n",
    "    'max_depth': 6,\n",
    "    'eta': 0.1,\n",
    "    'nthread': threading.active_count(),\n",
    "    'num_class': n_output_feature,\n",
    "}\n",
    "modelXGB = xgb.train(params=params,dtrain=dtrain,num_boost_round=100)\n",
    "predictions = modelXGB.predict(dtest)"
   ]
  },
  {
   "cell_type": "markdown",
   "metadata": {},
   "source": [
    "##### Model overview\n",
    "\n",
    "Excellent result - 95% of accuracy!"
   ]
  },
  {
   "cell_type": "code",
   "execution_count": 17,
   "metadata": {},
   "outputs": [
    {
     "name": "stdout",
     "output_type": "stream",
     "text": [
      "Accuracy: 0.9545454545454546\n",
      "Error rate: 0.045454545454545456\n",
      "MSE: 1.3333333333333333\n",
      "MedAE: 0.0\n",
      "Max Error: 6.0\n",
      "ExpVar score: 0.7780525502318393\n"
     ]
    }
   ],
   "source": [
    "print('Accuracy: %s' % accuracy_score(y_test, predictions))\n",
    "print('Error rate: %s' % (np.sum(predictions != y_test) / y_test.shape[0]))\n",
    "print('MSE: %s' % mean_squared_error(y_test, predictions))\n",
    "print('MedAE: %s' % median_absolute_error(y_true=y_test,y_pred=predictions))\n",
    "print('Max Error: %s' % max_error(y_true=y_test,y_pred=predictions))\n",
    "print('ExpVar score: %s' % explained_variance_score(y_true=y_test,y_pred=predictions))"
   ]
  },
  {
   "cell_type": "markdown",
   "metadata": {},
   "source": [
    "#### Populating predicted values"
   ]
  },
  {
   "cell_type": "code",
   "execution_count": 18,
   "metadata": {},
   "outputs": [
    {
     "name": "stdout",
     "output_type": "stream",
     "text": [
      "<class 'pandas.core.frame.DataFrame'>\n",
      "RangeIndex: 1309 entries, 0 to 1308\n",
      "Data columns (total 11 columns):\n",
      " #   Column    Non-Null Count  Dtype  \n",
      "---  ------    --------------  -----  \n",
      " 0   Survived  891 non-null    float64\n",
      " 1   Pclass    1309 non-null   int64  \n",
      " 2   Sex       1309 non-null   int64  \n",
      " 3   Age       1309 non-null   float64\n",
      " 4   SibSp     1309 non-null   int64  \n",
      " 5   Parch     1309 non-null   int64  \n",
      " 6   Ticket    1309 non-null   int64  \n",
      " 7   Fare      1309 non-null   float64\n",
      " 8   Cabin     1309 non-null   int64  \n",
      " 9   Embarked  1309 non-null   int64  \n",
      " 10  Title     1309 non-null   int64  \n",
      "dtypes: float64(3), int64(8)\n",
      "memory usage: 112.6 KB\n"
     ]
    }
   ],
   "source": [
    "predictions = modelXGB.predict(xgb.DMatrix(td_without_cabin))\n",
    "missing_cabins = np.array(predictions,dtype=int)\n",
    "td_cabins_restored = td_without_cabin.copy()\n",
    "td_cabins_restored.loc[:,'Cabin'] = missing_cabins\n",
    "td_filtered.update(td_with_cabin.append(td_cabins_restored))\n",
    "td_filtered['Survived'] = TrainData.Survived\n",
    "td_filtered.info()"
   ]
  },
  {
   "cell_type": "markdown",
   "metadata": {},
   "source": [
    "Now we have all of our missing values recovered except the only one `Survived`. \n",
    "\n",
    "Let's jump to our final goal -- guess who survived and who did not."
   ]
  },
  {
   "cell_type": "markdown",
   "metadata": {},
   "source": [
    "### Classification of `Survived` passengers"
   ]
  },
  {
   "cell_type": "code",
   "execution_count": 19,
   "metadata": {},
   "outputs": [],
   "source": [
    "training_data = td_filtered[(~td_filtered.Survived.isnull())].drop(['Embarked'],axis=1)\n",
    "testing_data = td_filtered[(td_filtered.Survived.isnull())].drop(['Embarked','Survived'],axis=1)\n",
    "\n",
    "X = training_data.drop(['Survived'],axis=1)\n",
    "Y = training_data.Survived\n",
    "\n",
    "X_train, X_test, y_train, y_test = train_test_split(X, Y, test_size=0.05, random_state=10)"
   ]
  },
  {
   "cell_type": "markdown",
   "metadata": {},
   "source": [
    "#### Binary logistic regression with `LightGBM`"
   ]
  },
  {
   "cell_type": "code",
   "execution_count": 20,
   "metadata": {},
   "outputs": [
    {
     "name": "stdout",
     "output_type": "stream",
     "text": [
      "[1]\tvalid_0's auc: 0.887019\tvalid_0's binary_logloss: 0.601159\n",
      "Training until validation scores don't improve for 10 rounds\n",
      "[2]\tvalid_0's auc: 0.883413\tvalid_0's binary_logloss: 0.581927\n",
      "[3]\tvalid_0's auc: 0.883413\tvalid_0's binary_logloss: 0.564348\n",
      "[4]\tvalid_0's auc: 0.884615\tvalid_0's binary_logloss: 0.550044\n",
      "[5]\tvalid_0's auc: 0.884615\tvalid_0's binary_logloss: 0.536333\n",
      "[6]\tvalid_0's auc: 0.885817\tvalid_0's binary_logloss: 0.52349\n",
      "[7]\tvalid_0's auc: 0.882212\tvalid_0's binary_logloss: 0.510005\n",
      "[8]\tvalid_0's auc: 0.884615\tvalid_0's binary_logloss: 0.499404\n",
      "[9]\tvalid_0's auc: 0.887019\tvalid_0's binary_logloss: 0.48808\n",
      "[10]\tvalid_0's auc: 0.884615\tvalid_0's binary_logloss: 0.478776\n",
      "[11]\tvalid_0's auc: 0.899038\tvalid_0's binary_logloss: 0.467515\n",
      "[12]\tvalid_0's auc: 0.908654\tvalid_0's binary_logloss: 0.456432\n",
      "[13]\tvalid_0's auc: 0.911058\tvalid_0's binary_logloss: 0.446728\n",
      "[14]\tvalid_0's auc: 0.911058\tvalid_0's binary_logloss: 0.438962\n",
      "[15]\tvalid_0's auc: 0.911058\tvalid_0's binary_logloss: 0.431808\n",
      "[16]\tvalid_0's auc: 0.913462\tvalid_0's binary_logloss: 0.424851\n",
      "[17]\tvalid_0's auc: 0.901442\tvalid_0's binary_logloss: 0.420208\n",
      "[18]\tvalid_0's auc: 0.901442\tvalid_0's binary_logloss: 0.416105\n",
      "[19]\tvalid_0's auc: 0.899038\tvalid_0's binary_logloss: 0.412113\n",
      "[20]\tvalid_0's auc: 0.889423\tvalid_0's binary_logloss: 0.409081\n",
      "[21]\tvalid_0's auc: 0.889423\tvalid_0's binary_logloss: 0.40384\n",
      "[22]\tvalid_0's auc: 0.884615\tvalid_0's binary_logloss: 0.398509\n",
      "[23]\tvalid_0's auc: 0.887019\tvalid_0's binary_logloss: 0.394099\n",
      "[24]\tvalid_0's auc: 0.887019\tvalid_0's binary_logloss: 0.39074\n",
      "[25]\tvalid_0's auc: 0.889423\tvalid_0's binary_logloss: 0.388734\n",
      "[26]\tvalid_0's auc: 0.891827\tvalid_0's binary_logloss: 0.384603\n",
      "Early stopping, best iteration is:\n",
      "[16]\tvalid_0's auc: 0.913462\tvalid_0's binary_logloss: 0.424851\n"
     ]
    }
   ],
   "source": [
    "param = {\n",
    "    'objective': 'binary',\n",
    "    'learning_rate': 0.05,\n",
    "    'feature_fraction': 1,\n",
    "    'bagging_fraction': 0.7,\n",
    "    'bagging_freq': 5,\n",
    "    'num_threads': threading.active_count(),\n",
    "}\n",
    "param['metric'] = ['auc', 'binary_logloss']\n",
    "\n",
    "# create dataset for lightgbm\n",
    "lgb_train = lgb.Dataset(X_train, y_train)\n",
    "lgb_eval = lgb.Dataset(X_test, y_test, reference=lgb_train)\n",
    "\n",
    "bst = lgb.train(param, lgb_train, num_boost_round=50, valid_sets=lgb_eval, early_stopping_rounds=10)"
   ]
  },
  {
   "cell_type": "markdown",
   "metadata": {},
   "source": [
    "##### Model overview"
   ]
  },
  {
   "cell_type": "code",
   "execution_count": 21,
   "metadata": {},
   "outputs": [
    {
     "name": "stdout",
     "output_type": "stream",
     "text": [
      "Accuracy: 0.9134615384615384\n",
      "Binary logloss: 0.4248511598054666\n"
     ]
    },
    {
     "data": {
      "image/png": "[encoded data removed]",
      "text/plain": [
       "<Figure size 432x288 with 1 Axes>"
      ]
     },
     "metadata": {},
     "output_type": "display_data"
    }
   ],
   "source": [
    "print('Accuracy: %s' % bst.best_score['valid_0']['auc'])\n",
    "print('Binary logloss: %s' % bst.best_score['valid_0']['binary_logloss'])\n",
    "\n",
    "feature_importance = pd.DataFrame()\n",
    "feature_importance['Score'] = bst.feature_importance()\n",
    "feature_importance['Feature'] = bst.feature_name()\n",
    "feature_importance = feature_importance.sort_values(by='Score',ascending=False)\n",
    "\n",
    "ax = sns.barplot(x='Score',y='Feature',data=feature_importance, palette=\"Purples_d\", orient='h')"
   ]
  },
  {
   "cell_type": "markdown",
   "metadata": {},
   "source": [
    "#### Binary logistic regression with `XGBoost`\n",
    "\n",
    "Despite the name of the algorithm suggests the word \"regression\" we're going to perform classification underneath.\n",
    "\n",
    "In order to answer to the question like \"Did this passenger survive the disaster?\" -- the possible answer can contain only 2 possible outcomes: `True` or `False`.\n",
    "\n",
    "Let's see what rate of accuracy we can achieve with this model."
   ]
  },
  {
   "cell_type": "code",
   "execution_count": 22,
   "metadata": {},
   "outputs": [],
   "source": [
    "dtrain = xgb.DMatrix(X_train, label=y_train)\n",
    "dtest = xgb.DMatrix(X_test, label=y_test)\n",
    "params = { \n",
    "    'objective': 'binary:logistic',\n",
    "    'learning_rate': 0.05,\n",
    "    'max_depth': 6,\n",
    "    'eta': 0.01,\n",
    "    'nthread': threading.active_count(),\n",
    "}\n",
    "modelXGB = xgb.train(params=params,dtrain=dtrain,num_boost_round=40)\n",
    "predictions = modelXGB.predict(dtest)"
   ]
  },
  {
   "cell_type": "markdown",
   "metadata": {},
   "source": [
    "##### Model overview\n",
    "\n",
    "We achieved quite a good result:\n"
   ]
  },
  {
   "cell_type": "code",
   "execution_count": 23,
   "metadata": {},
   "outputs": [
    {
     "name": "stdout",
     "output_type": "stream",
     "text": [
      "Accuracy: 0.8888888888888888\n",
      "MSE: 0.1111111111111111\n"
     ]
    }
   ],
   "source": [
    "print('Accuracy: %s' % accuracy_score(y_test, predictions.round()))\n",
    "print('MSE: %s' % mean_squared_error(y_test, predictions.round()))"
   ]
  },
  {
   "cell_type": "markdown",
   "metadata": {},
   "source": [
    "##### Decision tree"
   ]
  },
  {
   "cell_type": "code",
   "execution_count": 24,
   "metadata": {},
   "outputs": [
    {
     "data": {
      "image/svg+xml": [
       "<?xml version=\"1.0\" encoding=\"UTF-8\" standalone=\"no\"?>\n",
       "<!DOCTYPE svg PUBLIC \"-//W3C//DTD SVG 1.1//EN\"\n",
       " \"http://www.w3.org/Graphics/SVG/1.1/DTD/svg11.dtd\">\n",
       "<!-- Generated by graphviz version 2.40.1 (20161225.0304)\n",
       " -->\n",
       "<!-- Title: %3 Pages: 1 -->\n",
       "<svg width=\"3312pt\" height=\"566pt\"\n",
       " viewBox=\"0.00 0.00 3312.14 566.00\" xmlns=\"http://www.w3.org/2000/svg\" xmlns:xlink=\"http://www.w3.org/1999/xlink\">\n",
       "<g id=\"graph0\" class=\"graph\" transform=\"scale(1 1) rotate(0) translate(4 562)\">\n",
       "<title>%3</title>\n",
       "<polygon fill=\"#ffffff\" stroke=\"transparent\" points=\"-4,4 -4,-562 3308.1355,-562 3308.1355,4 -4,4\"/>\n",
       "<!-- 0 -->\n",
       "<g id=\"node1\" class=\"node\">\n",
       "<title>0</title>\n",
       "<ellipse fill=\"none\" stroke=\"#000000\" cx=\"1503.9429\" cy=\"-540\" rx=\"40.0939\" ry=\"18\"/>\n",
       "<text text-anchor=\"middle\" x=\"1503.9429\" y=\"-536.3\" font-family=\"Times,serif\" font-size=\"14.00\" fill=\"#000000\">Sex&lt;0.5</text>\n",
       "</g>\n",
       "<!-- 1 -->\n",
       "<g id=\"node2\" class=\"node\">\n",
       "<title>1</title>\n",
       "<ellipse fill=\"none\" stroke=\"#000000\" cx=\"1117.9429\" cy=\"-453\" rx=\"49.2915\" ry=\"18\"/>\n",
       "<text text-anchor=\"middle\" x=\"1117.9429\" y=\"-449.3\" font-family=\"Times,serif\" font-size=\"14.00\" fill=\"#000000\">Pclass&lt;2.5</text>\n",
       "</g>\n",
       "<!-- 0&#45;&gt;1 -->\n",
       "<g id=\"edge1\" class=\"edge\">\n",
       "<title>0&#45;&gt;1</title>\n",
       "<path fill=\"none\" stroke=\"#0000ff\" d=\"M1467.629,-531.8153C1398.7878,-516.2992 1249.1028,-482.5619 1169.7458,-464.6758\"/>\n",
       "<polygon fill=\"#0000ff\" stroke=\"#0000ff\" points=\"1170.4861,-461.2549 1159.9613,-462.4705 1168.947,-468.0836 1170.4861,-461.2549\"/>\n",
       "<text text-anchor=\"middle\" x=\"1369.4429\" y=\"-492.8\" font-family=\"Times,serif\" font-size=\"14.00\" fill=\"#000000\">yes, missing</text>\n",
       "</g>\n",
       "<!-- 2 -->\n",
       "<g id=\"node3\" class=\"node\">\n",
       "<title>2</title>\n",
       "<ellipse fill=\"none\" stroke=\"#000000\" cx=\"1908.9429\" cy=\"-453\" rx=\"41.6928\" ry=\"18\"/>\n",
       "<text text-anchor=\"middle\" x=\"1908.9429\" y=\"-449.3\" font-family=\"Times,serif\" font-size=\"14.00\" fill=\"#000000\">Cabin&lt;6</text>\n",
       "</g>\n",
       "<!-- 0&#45;&gt;2 -->\n",
       "<g id=\"edge2\" class=\"edge\">\n",
       "<title>0&#45;&gt;2</title>\n",
       "<path fill=\"none\" stroke=\"#ff0000\" d=\"M1540.5983,-532.1259C1614.1696,-516.3217 1779.7538,-480.7517 1861.479,-463.196\"/>\n",
       "<polygon fill=\"#ff0000\" stroke=\"#ff0000\" points=\"1862.4493,-466.5674 1871.4911,-461.0452 1860.9791,-459.7236 1862.4493,-466.5674\"/>\n",
       "<text text-anchor=\"middle\" x=\"1737.9429\" y=\"-492.8\" font-family=\"Times,serif\" font-size=\"14.00\" fill=\"#000000\">no</text>\n",
       "</g>\n",
       "<!-- 3 -->\n",
       "<g id=\"node4\" class=\"node\">\n",
       "<title>3</title>\n",
       "<ellipse fill=\"none\" stroke=\"#000000\" cx=\"891.9429\" cy=\"-366\" rx=\"42.4939\" ry=\"18\"/>\n",
       "<text text-anchor=\"middle\" x=\"891.9429\" y=\"-362.3\" font-family=\"Times,serif\" font-size=\"14.00\" fill=\"#000000\">Age&lt;4.5</text>\n",
       "</g>\n",
       "<!-- 1&#45;&gt;3 -->\n",
       "<g id=\"edge3\" class=\"edge\">\n",
       "<title>1&#45;&gt;3</title>\n",
       "<path fill=\"none\" stroke=\"#0000ff\" d=\"M1083.6184,-439.7866C1043.0941,-424.1865 975.7701,-398.2698 932.6517,-381.6711\"/>\n",
       "<polygon fill=\"#0000ff\" stroke=\"#0000ff\" points=\"933.8958,-378.3997 923.306,-378.0734 931.381,-384.9324 933.8958,-378.3997\"/>\n",
       "<text text-anchor=\"middle\" x=\"1053.4429\" y=\"-405.8\" font-family=\"Times,serif\" font-size=\"14.00\" fill=\"#000000\">yes, missing</text>\n",
       "</g>\n",
       "<!-- 4 -->\n",
       "<g id=\"node5\" class=\"node\">\n",
       "<title>4</title>\n",
       "<ellipse fill=\"none\" stroke=\"#000000\" cx=\"1117.9429\" cy=\"-366\" rx=\"73.387\" ry=\"18\"/>\n",
       "<text text-anchor=\"middle\" x=\"1117.9429\" y=\"-362.3\" font-family=\"Times,serif\" font-size=\"14.00\" fill=\"#000000\">Fare&lt;23.3500004</text>\n",
       "</g>\n",
       "<!-- 1&#45;&gt;4 -->\n",
       "<g id=\"edge4\" class=\"edge\">\n",
       "<title>1&#45;&gt;4</title>\n",
       "<path fill=\"none\" stroke=\"#ff0000\" d=\"M1117.9429,-434.9735C1117.9429,-423.1918 1117.9429,-407.5607 1117.9429,-394.1581\"/>\n",
       "<polygon fill=\"#ff0000\" stroke=\"#ff0000\" points=\"1121.443,-394.0033 1117.9429,-384.0034 1114.443,-394.0034 1121.443,-394.0033\"/>\n",
       "<text text-anchor=\"middle\" x=\"1124.9429\" y=\"-405.8\" font-family=\"Times,serif\" font-size=\"14.00\" fill=\"#000000\">no</text>\n",
       "</g>\n",
       "<!-- 5 -->\n",
       "<g id=\"node26\" class=\"node\">\n",
       "<title>5</title>\n",
       "<ellipse fill=\"none\" stroke=\"#000000\" cx=\"1908.9429\" cy=\"-366\" rx=\"72.5877\" ry=\"18\"/>\n",
       "<text text-anchor=\"middle\" x=\"1908.9429\" y=\"-362.3\" font-family=\"Times,serif\" font-size=\"14.00\" fill=\"#000000\">Age&lt;42.5929794</text>\n",
       "</g>\n",
       "<!-- 2&#45;&gt;5 -->\n",
       "<g id=\"edge25\" class=\"edge\">\n",
       "<title>2&#45;&gt;5</title>\n",
       "<path fill=\"none\" stroke=\"#0000ff\" d=\"M1908.9429,-434.9735C1908.9429,-423.1918 1908.9429,-407.5607 1908.9429,-394.1581\"/>\n",
       "<polygon fill=\"#0000ff\" stroke=\"#0000ff\" points=\"1912.443,-394.0033 1908.9429,-384.0034 1905.443,-394.0034 1912.443,-394.0033\"/>\n",
       "<text text-anchor=\"middle\" x=\"1943.4429\" y=\"-405.8\" font-family=\"Times,serif\" font-size=\"14.00\" fill=\"#000000\">yes, missing</text>\n",
       "</g>\n",
       "<!-- 6 -->\n",
       "<g id=\"node27\" class=\"node\">\n",
       "<title>6</title>\n",
       "<ellipse fill=\"none\" stroke=\"#000000\" cx=\"2376.9429\" cy=\"-366\" rx=\"42.4939\" ry=\"18\"/>\n",
       "<text text-anchor=\"middle\" x=\"2376.9429\" y=\"-362.3\" font-family=\"Times,serif\" font-size=\"14.00\" fill=\"#000000\">Age&lt;9.5</text>\n",
       "</g>\n",
       "<!-- 2&#45;&gt;6 -->\n",
       "<g id=\"edge26\" class=\"edge\">\n",
       "<title>2&#45;&gt;6</title>\n",
       "<path fill=\"none\" stroke=\"#ff0000\" d=\"M1947.2413,-445.8804C2031.8289,-430.1558 2234.4881,-392.482 2328.0635,-375.0866\"/>\n",
       "<polygon fill=\"#ff0000\" stroke=\"#ff0000\" points=\"2328.9235,-378.4867 2338.1153,-373.2179 2327.644,-371.6046 2328.9235,-378.4867\"/>\n",
       "<text text-anchor=\"middle\" x=\"2178.9429\" y=\"-405.8\" font-family=\"Times,serif\" font-size=\"14.00\" fill=\"#000000\">no</text>\n",
       "</g>\n",
       "<!-- 7 -->\n",
       "<g id=\"node6\" class=\"node\">\n",
       "<title>7</title>\n",
       "<ellipse fill=\"none\" stroke=\"#000000\" cx=\"718.9429\" cy=\"-279\" rx=\"79.8859\" ry=\"18\"/>\n",
       "<text text-anchor=\"middle\" x=\"718.9429\" y=\"-275.3\" font-family=\"Times,serif\" font-size=\"14.00\" fill=\"#000000\">leaf=0.0250000004</text>\n",
       "</g>\n",
       "<!-- 3&#45;&gt;7 -->\n",
       "<g id=\"edge5\" class=\"edge\">\n",
       "<title>3&#45;&gt;7</title>\n",
       "<path fill=\"none\" stroke=\"#0000ff\" d=\"M864.1678,-352.4118C850.5221,-345.7082 833.8478,-337.4755 818.9429,-330 799.6581,-320.3278 778.3522,-309.4838 760.3794,-300.2901\"/>\n",
       "<polygon fill=\"#0000ff\" stroke=\"#0000ff\" points=\"761.8092,-297.0901 751.3129,-295.6478 758.6188,-303.3209 761.8092,-297.0901\"/>\n",
       "<text text-anchor=\"middle\" x=\"853.4429\" y=\"-318.8\" font-family=\"Times,serif\" font-size=\"14.00\" fill=\"#000000\">yes, missing</text>\n",
       "</g>\n",
       "<!-- 8 -->\n",
       "<g id=\"node7\" class=\"node\">\n",
       "<title>8</title>\n",
       "<ellipse fill=\"none\" stroke=\"#000000\" cx=\"891.9429\" cy=\"-279\" rx=\"75.2868\" ry=\"18\"/>\n",
       "<text text-anchor=\"middle\" x=\"891.9429\" y=\"-275.3\" font-family=\"Times,serif\" font-size=\"14.00\" fill=\"#000000\">leaf=0.087730065</text>\n",
       "</g>\n",
       "<!-- 3&#45;&gt;8 -->\n",
       "<g id=\"edge6\" class=\"edge\">\n",
       "<title>3&#45;&gt;8</title>\n",
       "<path fill=\"none\" stroke=\"#ff0000\" d=\"M891.9429,-347.9735C891.9429,-336.1918 891.9429,-320.5607 891.9429,-307.1581\"/>\n",
       "<polygon fill=\"#ff0000\" stroke=\"#ff0000\" points=\"895.443,-307.0033 891.9429,-297.0034 888.443,-307.0034 895.443,-307.0033\"/>\n",
       "<text text-anchor=\"middle\" x=\"898.9429\" y=\"-318.8\" font-family=\"Times,serif\" font-size=\"14.00\" fill=\"#000000\">no</text>\n",
       "</g>\n",
       "<!-- 9 -->\n",
       "<g id=\"node8\" class=\"node\">\n",
       "<title>9</title>\n",
       "<ellipse fill=\"none\" stroke=\"#000000\" cx=\"1057.9429\" cy=\"-279\" rx=\"72.5877\" ry=\"18\"/>\n",
       "<text text-anchor=\"middle\" x=\"1057.9429\" y=\"-275.3\" font-family=\"Times,serif\" font-size=\"14.00\" fill=\"#000000\">Age&lt;27.7937698</text>\n",
       "</g>\n",
       "<!-- 4&#45;&gt;9 -->\n",
       "<g id=\"edge7\" class=\"edge\">\n",
       "<title>4&#45;&gt;9</title>\n",
       "<path fill=\"none\" stroke=\"#0000ff\" d=\"M1105.5109,-347.9735C1097.0637,-335.7252 1085.7474,-319.3165 1076.2716,-305.5766\"/>\n",
       "<polygon fill=\"#0000ff\" stroke=\"#0000ff\" points=\"1078.9176,-303.2484 1070.359,-297.0034 1073.1551,-307.2226 1078.9176,-303.2484\"/>\n",
       "<text text-anchor=\"middle\" x=\"1126.4429\" y=\"-318.8\" font-family=\"Times,serif\" font-size=\"14.00\" fill=\"#000000\">yes, missing</text>\n",
       "</g>\n",
       "<!-- 10 -->\n",
       "<g id=\"node9\" class=\"node\">\n",
       "<title>10</title>\n",
       "<ellipse fill=\"none\" stroke=\"#000000\" cx=\"1206.9429\" cy=\"-279\" rx=\"58.4896\" ry=\"18\"/>\n",
       "<text text-anchor=\"middle\" x=\"1206.9429\" y=\"-275.3\" font-family=\"Times,serif\" font-size=\"14.00\" fill=\"#000000\">Ticket&lt;456.5</text>\n",
       "</g>\n",
       "<!-- 4&#45;&gt;10 -->\n",
       "<g id=\"edge8\" class=\"edge\">\n",
       "<title>4&#45;&gt;10</title>\n",
       "<path fill=\"none\" stroke=\"#ff0000\" d=\"M1142.7193,-348.6923C1150.156,-343.0639 1158.1395,-336.5674 1164.9429,-330 1172.8653,-322.3524 1180.7521,-313.2686 1187.516,-304.9012\"/>\n",
       "<polygon fill=\"#ff0000\" stroke=\"#ff0000\" points=\"1190.4198,-306.8713 1193.8653,-296.8524 1184.9239,-302.5359 1190.4198,-306.8713\"/>\n",
       "<text text-anchor=\"middle\" x=\"1185.9429\" y=\"-318.8\" font-family=\"Times,serif\" font-size=\"14.00\" fill=\"#000000\">no</text>\n",
       "</g>\n",
       "<!-- 15 -->\n",
       "<g id=\"node10\" class=\"node\">\n",
       "<title>15</title>\n",
       "<ellipse fill=\"none\" stroke=\"#000000\" cx=\"546.9429\" cy=\"-192\" rx=\"73.387\" ry=\"18\"/>\n",
       "<text text-anchor=\"middle\" x=\"546.9429\" y=\"-188.3\" font-family=\"Times,serif\" font-size=\"14.00\" fill=\"#000000\">Fare&lt;7.98750019</text>\n",
       "</g>\n",
       "<!-- 9&#45;&gt;15 -->\n",
       "<g id=\"edge9\" class=\"edge\">\n",
       "<title>9&#45;&gt;15</title>\n",
       "<path fill=\"none\" stroke=\"#0000ff\" d=\"M1004.2198,-266.751C994.814,-264.737 985.107,-262.7413 975.9429,-261 851.8501,-237.4202 706.5569,-215.1671 620.8853,-202.593\"/>\n",
       "<polygon fill=\"#0000ff\" stroke=\"#0000ff\" points=\"621.14,-199.093 610.7386,-201.1081 620.1263,-206.0193 621.14,-199.093\"/>\n",
       "<text text-anchor=\"middle\" x=\"905.4429\" y=\"-231.8\" font-family=\"Times,serif\" font-size=\"14.00\" fill=\"#000000\">yes, missing</text>\n",
       "</g>\n",
       "<!-- 16 -->\n",
       "<g id=\"node11\" class=\"node\">\n",
       "<title>16</title>\n",
       "<ellipse fill=\"none\" stroke=\"#000000\" cx=\"1057.9429\" cy=\"-192\" rx=\"60.3893\" ry=\"18\"/>\n",
       "<text text-anchor=\"middle\" x=\"1057.9429\" y=\"-188.3\" font-family=\"Times,serif\" font-size=\"14.00\" fill=\"#000000\">Fare&lt;14.8729</text>\n",
       "</g>\n",
       "<!-- 9&#45;&gt;16 -->\n",
       "<g id=\"edge10\" class=\"edge\">\n",
       "<title>9&#45;&gt;16</title>\n",
       "<path fill=\"none\" stroke=\"#ff0000\" d=\"M1057.9429,-260.9735C1057.9429,-249.1918 1057.9429,-233.5607 1057.9429,-220.1581\"/>\n",
       "<polygon fill=\"#ff0000\" stroke=\"#ff0000\" points=\"1061.443,-220.0033 1057.9429,-210.0034 1054.443,-220.0034 1061.443,-220.0033\"/>\n",
       "<text text-anchor=\"middle\" x=\"1064.9429\" y=\"-231.8\" font-family=\"Times,serif\" font-size=\"14.00\" fill=\"#000000\">no</text>\n",
       "</g>\n",
       "<!-- 17 -->\n",
       "<g id=\"node24\" class=\"node\">\n",
       "<title>17</title>\n",
       "<ellipse fill=\"none\" stroke=\"#000000\" cx=\"1189.9429\" cy=\"-192\" rx=\"36.2938\" ry=\"18\"/>\n",
       "<text text-anchor=\"middle\" x=\"1189.9429\" y=\"-188.3\" font-family=\"Times,serif\" font-size=\"14.00\" fill=\"#000000\">leaf=&#45;0</text>\n",
       "</g>\n",
       "<!-- 10&#45;&gt;17 -->\n",
       "<g id=\"edge23\" class=\"edge\">\n",
       "<title>10&#45;&gt;17</title>\n",
       "<path fill=\"none\" stroke=\"#0000ff\" d=\"M1203.4205,-260.9735C1201.1183,-249.1918 1198.064,-233.5607 1195.4451,-220.1581\"/>\n",
       "<polygon fill=\"#0000ff\" stroke=\"#0000ff\" points=\"1198.8137,-219.1465 1193.4608,-210.0034 1191.9436,-220.489 1198.8137,-219.1465\"/>\n",
       "<text text-anchor=\"middle\" x=\"1234.4429\" y=\"-231.8\" font-family=\"Times,serif\" font-size=\"14.00\" fill=\"#000000\">yes, missing</text>\n",
       "</g>\n",
       "<!-- 18 -->\n",
       "<g id=\"node25\" class=\"node\">\n",
       "<title>18</title>\n",
       "<ellipse fill=\"none\" stroke=\"#000000\" cx=\"1327.9429\" cy=\"-192\" rx=\"83.3857\" ry=\"18\"/>\n",
       "<text text-anchor=\"middle\" x=\"1327.9429\" y=\"-188.3\" font-family=\"Times,serif\" font-size=\"14.00\" fill=\"#000000\">leaf=&#45;0.0769230798</text>\n",
       "</g>\n",
       "<!-- 10&#45;&gt;18 -->\n",
       "<g id=\"edge24\" class=\"edge\">\n",
       "<title>10&#45;&gt;18</title>\n",
       "<path fill=\"none\" stroke=\"#ff0000\" d=\"M1238.7942,-263.6778C1249.9581,-257.7812 1262.3468,-250.621 1272.9429,-243 1283.6798,-235.2778 1294.554,-225.6557 1303.7668,-216.8567\"/>\n",
       "<polygon fill=\"#ff0000\" stroke=\"#ff0000\" points=\"1306.3666,-219.21 1311.0752,-209.7189 1301.4756,-214.2021 1306.3666,-219.21\"/>\n",
       "<text text-anchor=\"middle\" x=\"1297.9429\" y=\"-231.8\" font-family=\"Times,serif\" font-size=\"14.00\" fill=\"#000000\">no</text>\n",
       "</g>\n",
       "<!-- 27 -->\n",
       "<g id=\"node12\" class=\"node\">\n",
       "<title>27</title>\n",
       "<ellipse fill=\"none\" stroke=\"#000000\" cx=\"257.9429\" cy=\"-105\" rx=\"58.4896\" ry=\"18\"/>\n",
       "<text text-anchor=\"middle\" x=\"257.9429\" y=\"-101.3\" font-family=\"Times,serif\" font-size=\"14.00\" fill=\"#000000\">Ticket&lt;428.5</text>\n",
       "</g>\n",
       "<!-- 15&#45;&gt;27 -->\n",
       "<g id=\"edge11\" class=\"edge\">\n",
       "<title>15&#45;&gt;27</title>\n",
       "<path fill=\"none\" stroke=\"#0000ff\" d=\"M500.5101,-178.0219C448.3876,-162.3311 364.0331,-136.9372 309.7938,-120.6091\"/>\n",
       "<polygon fill=\"#0000ff\" stroke=\"#0000ff\" points=\"310.6157,-117.2014 300.0312,-117.6702 308.5978,-123.9043 310.6157,-117.2014\"/>\n",
       "<text text-anchor=\"middle\" x=\"454.4429\" y=\"-144.8\" font-family=\"Times,serif\" font-size=\"14.00\" fill=\"#000000\">yes, missing</text>\n",
       "</g>\n",
       "<!-- 28 -->\n",
       "<g id=\"node13\" class=\"node\">\n",
       "<title>28</title>\n",
       "<ellipse fill=\"none\" stroke=\"#000000\" cx=\"546.9429\" cy=\"-105\" rx=\"73.387\" ry=\"18\"/>\n",
       "<text text-anchor=\"middle\" x=\"546.9429\" y=\"-101.3\" font-family=\"Times,serif\" font-size=\"14.00\" fill=\"#000000\">Fare&lt;10.8249998</text>\n",
       "</g>\n",
       "<!-- 15&#45;&gt;28 -->\n",
       "<g id=\"edge12\" class=\"edge\">\n",
       "<title>15&#45;&gt;28</title>\n",
       "<path fill=\"none\" stroke=\"#ff0000\" d=\"M546.9429,-173.9735C546.9429,-162.1918 546.9429,-146.5607 546.9429,-133.1581\"/>\n",
       "<polygon fill=\"#ff0000\" stroke=\"#ff0000\" points=\"550.443,-133.0033 546.9429,-123.0034 543.443,-133.0034 550.443,-133.0033\"/>\n",
       "<text text-anchor=\"middle\" x=\"553.9429\" y=\"-144.8\" font-family=\"Times,serif\" font-size=\"14.00\" fill=\"#000000\">no</text>\n",
       "</g>\n",
       "<!-- 29 -->\n",
       "<g id=\"node18\" class=\"node\">\n",
       "<title>29</title>\n",
       "<ellipse fill=\"none\" stroke=\"#000000\" cx=\"976.9429\" cy=\"-105\" rx=\"69.5877\" ry=\"18\"/>\n",
       "<text text-anchor=\"middle\" x=\"976.9429\" y=\"-101.3\" font-family=\"Times,serif\" font-size=\"14.00\" fill=\"#000000\">Fare&lt;8.6729002</text>\n",
       "</g>\n",
       "<!-- 16&#45;&gt;29 -->\n",
       "<g id=\"edge17\" class=\"edge\">\n",
       "<title>16&#45;&gt;29</title>\n",
       "<path fill=\"none\" stroke=\"#0000ff\" d=\"M1041.2982,-174.4624C1035.7615,-168.6057 1029.5728,-162.0345 1023.9429,-156 1016.1001,-147.5935 1007.5692,-138.3629 999.9547,-130.0926\"/>\n",
       "<polygon fill=\"#0000ff\" stroke=\"#0000ff\" points=\"1002.3324,-127.5075 992.9872,-122.5157 997.1798,-132.2457 1002.3324,-127.5075\"/>\n",
       "<text text-anchor=\"middle\" x=\"1058.4429\" y=\"-144.8\" font-family=\"Times,serif\" font-size=\"14.00\" fill=\"#000000\">yes, missing</text>\n",
       "</g>\n",
       "<!-- 30 -->\n",
       "<g id=\"node19\" class=\"node\">\n",
       "<title>30</title>\n",
       "<ellipse fill=\"none\" stroke=\"#000000\" cx=\"1160.9429\" cy=\"-105\" rx=\"72.5877\" ry=\"18\"/>\n",
       "<text text-anchor=\"middle\" x=\"1160.9429\" y=\"-101.3\" font-family=\"Times,serif\" font-size=\"14.00\" fill=\"#000000\">Age&lt;32.3269653</text>\n",
       "</g>\n",
       "<!-- 16&#45;&gt;30 -->\n",
       "<g id=\"edge18\" class=\"edge\">\n",
       "<title>16&#45;&gt;30</title>\n",
       "<path fill=\"none\" stroke=\"#ff0000\" d=\"M1078.2924,-174.8116C1093.7096,-161.7893 1115.0928,-143.7277 1132.2466,-129.2386\"/>\n",
       "<polygon fill=\"#ff0000\" stroke=\"#ff0000\" points=\"1134.9021,-131.5771 1140.2831,-122.4505 1130.3852,-126.2295 1134.9021,-131.5771\"/>\n",
       "<text text-anchor=\"middle\" x=\"1122.9429\" y=\"-144.8\" font-family=\"Times,serif\" font-size=\"14.00\" fill=\"#000000\">no</text>\n",
       "</g>\n",
       "<!-- 39 -->\n",
       "<g id=\"node14\" class=\"node\">\n",
       "<title>39</title>\n",
       "<ellipse fill=\"none\" stroke=\"#000000\" cx=\"79.9429\" cy=\"-18\" rx=\"79.8859\" ry=\"18\"/>\n",
       "<text text-anchor=\"middle\" x=\"79.9429\" y=\"-14.3\" font-family=\"Times,serif\" font-size=\"14.00\" fill=\"#000000\">leaf=0.0714285746</text>\n",
       "</g>\n",
       "<!-- 27&#45;&gt;39 -->\n",
       "<g id=\"edge13\" class=\"edge\">\n",
       "<title>27&#45;&gt;39</title>\n",
       "<path fill=\"none\" stroke=\"#0000ff\" d=\"M226.5298,-89.6464C197.6432,-75.5277 154.5727,-54.4764 122.5853,-38.8421\"/>\n",
       "<polygon fill=\"#0000ff\" stroke=\"#0000ff\" points=\"123.9821,-35.6291 113.4609,-34.3824 120.9083,-41.9182 123.9821,-35.6291\"/>\n",
       "<text text-anchor=\"middle\" x=\"214.4429\" y=\"-57.8\" font-family=\"Times,serif\" font-size=\"14.00\" fill=\"#000000\">yes, missing</text>\n",
       "</g>\n",
       "<!-- 40 -->\n",
       "<g id=\"node15\" class=\"node\">\n",
       "<title>40</title>\n",
       "<ellipse fill=\"none\" stroke=\"#000000\" cx=\"257.9429\" cy=\"-18\" rx=\"79.8859\" ry=\"18\"/>\n",
       "<text text-anchor=\"middle\" x=\"257.9429\" y=\"-14.3\" font-family=\"Times,serif\" font-size=\"14.00\" fill=\"#000000\">leaf=0.0285714306</text>\n",
       "</g>\n",
       "<!-- 27&#45;&gt;40 -->\n",
       "<g id=\"edge14\" class=\"edge\">\n",
       "<title>27&#45;&gt;40</title>\n",
       "<path fill=\"none\" stroke=\"#ff0000\" d=\"M257.9429,-86.9735C257.9429,-75.1918 257.9429,-59.5607 257.9429,-46.1581\"/>\n",
       "<polygon fill=\"#ff0000\" stroke=\"#ff0000\" points=\"261.443,-46.0033 257.9429,-36.0034 254.443,-46.0034 261.443,-46.0033\"/>\n",
       "<text text-anchor=\"middle\" x=\"264.9429\" y=\"-57.8\" font-family=\"Times,serif\" font-size=\"14.00\" fill=\"#000000\">no</text>\n",
       "</g>\n",
       "<!-- 41 -->\n",
       "<g id=\"node16\" class=\"node\">\n",
       "<title>41</title>\n",
       "<ellipse fill=\"none\" stroke=\"#000000\" cx=\"434.9429\" cy=\"-18\" rx=\"78.7863\" ry=\"18\"/>\n",
       "<text text-anchor=\"middle\" x=\"434.9429\" y=\"-14.3\" font-family=\"Times,serif\" font-size=\"14.00\" fill=\"#000000\">leaf=&#45;0.042857144</text>\n",
       "</g>\n",
       "<!-- 28&#45;&gt;41 -->\n",
       "<g id=\"edge15\" class=\"edge\">\n",
       "<title>28&#45;&gt;41</title>\n",
       "<path fill=\"none\" stroke=\"#0000ff\" d=\"M524.8153,-87.8116C507.8223,-74.6117 484.164,-56.2342 465.3862,-41.6479\"/>\n",
       "<polygon fill=\"#0000ff\" stroke=\"#0000ff\" points=\"467.4523,-38.821 457.4079,-35.4505 463.1581,-44.3491 467.4523,-38.821\"/>\n",
       "<text text-anchor=\"middle\" x=\"532.4429\" y=\"-57.8\" font-family=\"Times,serif\" font-size=\"14.00\" fill=\"#000000\">yes, missing</text>\n",
       "</g>\n",
       "<!-- 42 -->\n",
       "<g id=\"node17\" class=\"node\">\n",
       "<title>42</title>\n",
       "<ellipse fill=\"none\" stroke=\"#000000\" cx=\"611.9429\" cy=\"-18\" rx=\"79.8859\" ry=\"18\"/>\n",
       "<text text-anchor=\"middle\" x=\"611.9429\" y=\"-14.3\" font-family=\"Times,serif\" font-size=\"14.00\" fill=\"#000000\">leaf=0.0333333351</text>\n",
       "</g>\n",
       "<!-- 28&#45;&gt;42 -->\n",
       "<g id=\"edge16\" class=\"edge\">\n",
       "<title>28&#45;&gt;42</title>\n",
       "<path fill=\"none\" stroke=\"#ff0000\" d=\"M560.4109,-86.9735C569.6492,-74.6085 582.0552,-58.0036 592.3796,-44.1847\"/>\n",
       "<polygon fill=\"#ff0000\" stroke=\"#ff0000\" points=\"595.3107,-46.1093 598.4921,-36.0034 589.703,-41.9196 595.3107,-46.1093\"/>\n",
       "<text text-anchor=\"middle\" x=\"590.9429\" y=\"-57.8\" font-family=\"Times,serif\" font-size=\"14.00\" fill=\"#000000\">no</text>\n",
       "</g>\n",
       "<!-- 43 -->\n",
       "<g id=\"node20\" class=\"node\">\n",
       "<title>43</title>\n",
       "<ellipse fill=\"none\" stroke=\"#000000\" cx=\"792.9429\" cy=\"-18\" rx=\"83.3857\" ry=\"18\"/>\n",
       "<text text-anchor=\"middle\" x=\"792.9429\" y=\"-14.3\" font-family=\"Times,serif\" font-size=\"14.00\" fill=\"#000000\">leaf=&#45;0.0636363626</text>\n",
       "</g>\n",
       "<!-- 29&#45;&gt;43 -->\n",
       "<g id=\"edge19\" class=\"edge\">\n",
       "<title>29&#45;&gt;43</title>\n",
       "<path fill=\"none\" stroke=\"#0000ff\" d=\"M943.1945,-89.0429C913.3554,-74.9342 869.6281,-54.2588 837.0313,-38.8461\"/>\n",
       "<polygon fill=\"#0000ff\" stroke=\"#0000ff\" points=\"838.2641,-35.5576 827.7276,-34.4471 835.2719,-41.8858 838.2641,-35.5576\"/>\n",
       "<text text-anchor=\"middle\" x=\"931.4429\" y=\"-57.8\" font-family=\"Times,serif\" font-size=\"14.00\" fill=\"#000000\">yes, missing</text>\n",
       "</g>\n",
       "<!-- 44 -->\n",
       "<g id=\"node21\" class=\"node\">\n",
       "<title>44</title>\n",
       "<ellipse fill=\"none\" stroke=\"#000000\" cx=\"976.9429\" cy=\"-18\" rx=\"83.3857\" ry=\"18\"/>\n",
       "<text text-anchor=\"middle\" x=\"976.9429\" y=\"-14.3\" font-family=\"Times,serif\" font-size=\"14.00\" fill=\"#000000\">leaf=&#45;0.0230769236</text>\n",
       "</g>\n",
       "<!-- 29&#45;&gt;44 -->\n",
       "<g id=\"edge20\" class=\"edge\">\n",
       "<title>29&#45;&gt;44</title>\n",
       "<path fill=\"none\" stroke=\"#ff0000\" d=\"M976.9429,-86.9735C976.9429,-75.1918 976.9429,-59.5607 976.9429,-46.1581\"/>\n",
       "<polygon fill=\"#ff0000\" stroke=\"#ff0000\" points=\"980.443,-46.0033 976.9429,-36.0034 973.443,-46.0034 980.443,-46.0033\"/>\n",
       "<text text-anchor=\"middle\" x=\"983.9429\" y=\"-57.8\" font-family=\"Times,serif\" font-size=\"14.00\" fill=\"#000000\">no</text>\n",
       "</g>\n",
       "<!-- 45 -->\n",
       "<g id=\"node22\" class=\"node\">\n",
       "<title>45</title>\n",
       "<ellipse fill=\"none\" stroke=\"#000000\" cx=\"1160.9429\" cy=\"-18\" rx=\"83.3857\" ry=\"18\"/>\n",
       "<text text-anchor=\"middle\" x=\"1160.9429\" y=\"-14.3\" font-family=\"Times,serif\" font-size=\"14.00\" fill=\"#000000\">leaf=&#45;0.0200000014</text>\n",
       "</g>\n",
       "<!-- 30&#45;&gt;45 -->\n",
       "<g id=\"edge21\" class=\"edge\">\n",
       "<title>30&#45;&gt;45</title>\n",
       "<path fill=\"none\" stroke=\"#0000ff\" d=\"M1160.9429,-86.9735C1160.9429,-75.1918 1160.9429,-59.5607 1160.9429,-46.1581\"/>\n",
       "<polygon fill=\"#0000ff\" stroke=\"#0000ff\" points=\"1164.443,-46.0033 1160.9429,-36.0034 1157.443,-46.0034 1164.443,-46.0033\"/>\n",
       "<text text-anchor=\"middle\" x=\"1195.4429\" y=\"-57.8\" font-family=\"Times,serif\" font-size=\"14.00\" fill=\"#000000\">yes, missing</text>\n",
       "</g>\n",
       "<!-- 46 -->\n",
       "<g id=\"node23\" class=\"node\">\n",
       "<title>46</title>\n",
       "<ellipse fill=\"none\" stroke=\"#000000\" cx=\"1341.9429\" cy=\"-18\" rx=\"79.8859\" ry=\"18\"/>\n",
       "<text text-anchor=\"middle\" x=\"1341.9429\" y=\"-14.3\" font-family=\"Times,serif\" font-size=\"14.00\" fill=\"#000000\">leaf=0.0333333351</text>\n",
       "</g>\n",
       "<!-- 30&#45;&gt;46 -->\n",
       "<g id=\"edge22\" class=\"edge\">\n",
       "<title>30&#45;&gt;46</title>\n",
       "<path fill=\"none\" stroke=\"#ff0000\" d=\"M1194.5634,-88.8399C1223.9669,-74.7067 1266.8417,-54.0984 1298.7749,-38.7492\"/>\n",
       "<polygon fill=\"#ff0000\" stroke=\"#ff0000\" points=\"1300.3916,-41.8556 1307.8882,-34.3688 1297.359,-35.5465 1300.3916,-41.8556\"/>\n",
       "<text text-anchor=\"middle\" x=\"1269.9429\" y=\"-57.8\" font-family=\"Times,serif\" font-size=\"14.00\" fill=\"#000000\">no</text>\n",
       "</g>\n",
       "<!-- 11 -->\n",
       "<g id=\"node28\" class=\"node\">\n",
       "<title>11</title>\n",
       "<ellipse fill=\"none\" stroke=\"#000000\" cx=\"1851.9429\" cy=\"-279\" rx=\"69.5877\" ry=\"18\"/>\n",
       "<text text-anchor=\"middle\" x=\"1851.9429\" y=\"-275.3\" font-family=\"Times,serif\" font-size=\"14.00\" fill=\"#000000\">Fare&lt;7.9000001</text>\n",
       "</g>\n",
       "<!-- 5&#45;&gt;11 -->\n",
       "<g id=\"edge27\" class=\"edge\">\n",
       "<title>5&#45;&gt;11</title>\n",
       "<path fill=\"none\" stroke=\"#0000ff\" d=\"M1897.1325,-347.9735C1889.1077,-335.7252 1878.3572,-319.3165 1869.3551,-305.5766\"/>\n",
       "<polygon fill=\"#0000ff\" stroke=\"#0000ff\" points=\"1872.1461,-303.4499 1863.7382,-297.0034 1866.2909,-307.2861 1872.1461,-303.4499\"/>\n",
       "<text text-anchor=\"middle\" x=\"1918.4429\" y=\"-318.8\" font-family=\"Times,serif\" font-size=\"14.00\" fill=\"#000000\">yes, missing</text>\n",
       "</g>\n",
       "<!-- 12 -->\n",
       "<g id=\"node29\" class=\"node\">\n",
       "<title>12</title>\n",
       "<ellipse fill=\"none\" stroke=\"#000000\" cx=\"1987.9429\" cy=\"-279\" rx=\"48.1917\" ry=\"18\"/>\n",
       "<text text-anchor=\"middle\" x=\"1987.9429\" y=\"-275.3\" font-family=\"Times,serif\" font-size=\"14.00\" fill=\"#000000\">Cabin&lt;0.5</text>\n",
       "</g>\n",
       "<!-- 5&#45;&gt;12 -->\n",
       "<g id=\"edge28\" class=\"edge\">\n",
       "<title>5&#45;&gt;12</title>\n",
       "<path fill=\"none\" stroke=\"#ff0000\" d=\"M1934.1168,-348.7176C1941.2717,-343.1861 1948.7852,-336.7367 1954.9429,-330 1961.6312,-322.6829 1967.857,-313.8631 1973.0583,-305.6307\"/>\n",
       "<polygon fill=\"#ff0000\" stroke=\"#ff0000\" points=\"1976.0828,-307.3931 1978.2735,-297.0272 1970.0967,-303.7645 1976.0828,-307.3931\"/>\n",
       "<text text-anchor=\"middle\" x=\"1973.9429\" y=\"-318.8\" font-family=\"Times,serif\" font-size=\"14.00\" fill=\"#000000\">no</text>\n",
       "</g>\n",
       "<!-- 13 -->\n",
       "<g id=\"node44\" class=\"node\">\n",
       "<title>13</title>\n",
       "<ellipse fill=\"none\" stroke=\"#000000\" cx=\"2376.9429\" cy=\"-279\" rx=\"41.6928\" ry=\"18\"/>\n",
       "<text text-anchor=\"middle\" x=\"2376.9429\" y=\"-275.3\" font-family=\"Times,serif\" font-size=\"14.00\" fill=\"#000000\">SibSp&lt;2</text>\n",
       "</g>\n",
       "<!-- 6&#45;&gt;13 -->\n",
       "<g id=\"edge43\" class=\"edge\">\n",
       "<title>6&#45;&gt;13</title>\n",
       "<path fill=\"none\" stroke=\"#0000ff\" d=\"M2376.9429,-347.9735C2376.9429,-336.1918 2376.9429,-320.5607 2376.9429,-307.1581\"/>\n",
       "<polygon fill=\"#0000ff\" stroke=\"#0000ff\" points=\"2380.443,-307.0033 2376.9429,-297.0034 2373.443,-307.0034 2380.443,-307.0033\"/>\n",
       "<text text-anchor=\"middle\" x=\"2411.4429\" y=\"-318.8\" font-family=\"Times,serif\" font-size=\"14.00\" fill=\"#000000\">yes, missing</text>\n",
       "</g>\n",
       "<!-- 14 -->\n",
       "<g id=\"node45\" class=\"node\">\n",
       "<title>14</title>\n",
       "<ellipse fill=\"none\" stroke=\"#000000\" cx=\"2665.9429\" cy=\"-279\" rx=\"58.4896\" ry=\"18\"/>\n",
       "<text text-anchor=\"middle\" x=\"2665.9429\" y=\"-275.3\" font-family=\"Times,serif\" font-size=\"14.00\" fill=\"#000000\">Ticket&lt;114.5</text>\n",
       "</g>\n",
       "<!-- 6&#45;&gt;14 -->\n",
       "<g id=\"edge44\" class=\"edge\">\n",
       "<title>6&#45;&gt;14</title>\n",
       "<path fill=\"none\" stroke=\"#ff0000\" d=\"M2411.516,-355.5922C2461.7948,-340.4563 2555.4666,-312.2576 2614.0484,-294.6222\"/>\n",
       "<polygon fill=\"#ff0000\" stroke=\"#ff0000\" points=\"2615.2814,-297.9063 2623.848,-291.6722 2613.2635,-291.2034 2615.2814,-297.9063\"/>\n",
       "<text text-anchor=\"middle\" x=\"2545.9429\" y=\"-318.8\" font-family=\"Times,serif\" font-size=\"14.00\" fill=\"#000000\">no</text>\n",
       "</g>\n",
       "<!-- 19 -->\n",
       "<g id=\"node30\" class=\"node\">\n",
       "<title>19</title>\n",
       "<ellipse fill=\"none\" stroke=\"#000000\" cx=\"1702.9429\" cy=\"-192\" rx=\"83.3857\" ry=\"18\"/>\n",
       "<text text-anchor=\"middle\" x=\"1702.9429\" y=\"-188.3\" font-family=\"Times,serif\" font-size=\"14.00\" fill=\"#000000\">leaf=&#45;0.0600000024</text>\n",
       "</g>\n",
       "<!-- 11&#45;&gt;19 -->\n",
       "<g id=\"edge29\" class=\"edge\">\n",
       "<title>11&#45;&gt;19</title>\n",
       "<path fill=\"none\" stroke=\"#0000ff\" d=\"M1820.6946,-262.7372C1809.349,-256.6944 1796.4854,-249.6814 1784.9429,-243 1769.4428,-234.0277 1752.5998,-223.6626 1738.2337,-214.6296\"/>\n",
       "<polygon fill=\"#0000ff\" stroke=\"#0000ff\" points=\"1739.9666,-211.5844 1729.6431,-209.2018 1736.2275,-217.5021 1739.9666,-211.5844\"/>\n",
       "<text text-anchor=\"middle\" x=\"1819.4429\" y=\"-231.8\" font-family=\"Times,serif\" font-size=\"14.00\" fill=\"#000000\">yes, missing</text>\n",
       "</g>\n",
       "<!-- 20 -->\n",
       "<g id=\"node31\" class=\"node\">\n",
       "<title>20</title>\n",
       "<ellipse fill=\"none\" stroke=\"#000000\" cx=\"1864.9429\" cy=\"-192\" rx=\"60.3893\" ry=\"18\"/>\n",
       "<text text-anchor=\"middle\" x=\"1864.9429\" y=\"-188.3\" font-family=\"Times,serif\" font-size=\"14.00\" fill=\"#000000\">Fare&lt;39.5625</text>\n",
       "</g>\n",
       "<!-- 11&#45;&gt;20 -->\n",
       "<g id=\"edge30\" class=\"edge\">\n",
       "<title>11&#45;&gt;20</title>\n",
       "<path fill=\"none\" stroke=\"#ff0000\" d=\"M1854.6365,-260.9735C1856.397,-249.1918 1858.7327,-233.5607 1860.7354,-220.1581\"/>\n",
       "<polygon fill=\"#ff0000\" stroke=\"#ff0000\" points=\"1864.2364,-220.4108 1862.2527,-210.0034 1857.3133,-219.3763 1864.2364,-220.4108\"/>\n",
       "<text text-anchor=\"middle\" x=\"1866.9429\" y=\"-231.8\" font-family=\"Times,serif\" font-size=\"14.00\" fill=\"#000000\">no</text>\n",
       "</g>\n",
       "<!-- 21 -->\n",
       "<g id=\"node38\" class=\"node\">\n",
       "<title>21</title>\n",
       "<ellipse fill=\"none\" stroke=\"#000000\" cx=\"1984.9429\" cy=\"-192\" rx=\"36.2938\" ry=\"18\"/>\n",
       "<text text-anchor=\"middle\" x=\"1984.9429\" y=\"-188.3\" font-family=\"Times,serif\" font-size=\"14.00\" fill=\"#000000\">leaf=&#45;0</text>\n",
       "</g>\n",
       "<!-- 12&#45;&gt;21 -->\n",
       "<g id=\"edge37\" class=\"edge\">\n",
       "<title>12&#45;&gt;21</title>\n",
       "<path fill=\"none\" stroke=\"#0000ff\" d=\"M1987.3213,-260.9735C1986.915,-249.1918 1986.376,-233.5607 1985.9139,-220.1581\"/>\n",
       "<polygon fill=\"#0000ff\" stroke=\"#0000ff\" points=\"1989.4064,-219.8768 1985.5637,-210.0034 1982.4105,-220.1181 1989.4064,-219.8768\"/>\n",
       "<text text-anchor=\"middle\" x=\"2021.4429\" y=\"-231.8\" font-family=\"Times,serif\" font-size=\"14.00\" fill=\"#000000\">yes, missing</text>\n",
       "</g>\n",
       "<!-- 22 -->\n",
       "<g id=\"node39\" class=\"node\">\n",
       "<title>22</title>\n",
       "<ellipse fill=\"none\" stroke=\"#000000\" cx=\"2111.9429\" cy=\"-192\" rx=\"72.5877\" ry=\"18\"/>\n",
       "<text text-anchor=\"middle\" x=\"2111.9429\" y=\"-188.3\" font-family=\"Times,serif\" font-size=\"14.00\" fill=\"#000000\">Age&lt;47.7241287</text>\n",
       "</g>\n",
       "<!-- 12&#45;&gt;22 -->\n",
       "<g id=\"edge38\" class=\"edge\">\n",
       "<title>12&#45;&gt;22</title>\n",
       "<path fill=\"none\" stroke=\"#ff0000\" d=\"M2020.3512,-265.436C2033.1941,-259.3985 2047.7695,-251.6846 2059.9429,-243 2070.2932,-235.616 2080.5347,-226.165 2089.1562,-217.4097\"/>\n",
       "<polygon fill=\"#ff0000\" stroke=\"#ff0000\" points=\"2091.8949,-219.61 2096.2776,-209.9642 2086.8362,-214.7716 2091.8949,-219.61\"/>\n",
       "<text text-anchor=\"middle\" x=\"2084.9429\" y=\"-231.8\" font-family=\"Times,serif\" font-size=\"14.00\" fill=\"#000000\">no</text>\n",
       "</g>\n",
       "<!-- 31 -->\n",
       "<g id=\"node32\" class=\"node\">\n",
       "<title>31</title>\n",
       "<ellipse fill=\"none\" stroke=\"#000000\" cx=\"1697.9429\" cy=\"-105\" rx=\"47.3916\" ry=\"18\"/>\n",
       "<text text-anchor=\"middle\" x=\"1697.9429\" y=\"-101.3\" font-family=\"Times,serif\" font-size=\"14.00\" fill=\"#000000\">Ticket&lt;45</text>\n",
       "</g>\n",
       "<!-- 20&#45;&gt;31 -->\n",
       "<g id=\"edge31\" class=\"edge\">\n",
       "<title>20&#45;&gt;31</title>\n",
       "<path fill=\"none\" stroke=\"#0000ff\" d=\"M1834.7005,-176.245C1806.6756,-161.6452 1764.9139,-139.8891 1734.918,-124.2625\"/>\n",
       "<polygon fill=\"#0000ff\" stroke=\"#0000ff\" points=\"1736.5006,-121.1405 1726.0148,-119.6243 1733.2665,-127.3486 1736.5006,-121.1405\"/>\n",
       "<text text-anchor=\"middle\" x=\"1826.4429\" y=\"-144.8\" font-family=\"Times,serif\" font-size=\"14.00\" fill=\"#000000\">yes, missing</text>\n",
       "</g>\n",
       "<!-- 32 -->\n",
       "<g id=\"node33\" class=\"node\">\n",
       "<title>32</title>\n",
       "<ellipse fill=\"none\" stroke=\"#000000\" cx=\"1878.9429\" cy=\"-105\" rx=\"73.387\" ry=\"18\"/>\n",
       "<text text-anchor=\"middle\" x=\"1878.9429\" y=\"-101.3\" font-family=\"Times,serif\" font-size=\"14.00\" fill=\"#000000\">Fare&lt;52.2770996</text>\n",
       "</g>\n",
       "<!-- 20&#45;&gt;32 -->\n",
       "<g id=\"edge32\" class=\"edge\">\n",
       "<title>20&#45;&gt;32</title>\n",
       "<path fill=\"none\" stroke=\"#ff0000\" d=\"M1867.8437,-173.9735C1869.7396,-162.1918 1872.255,-146.5607 1874.4117,-133.1581\"/>\n",
       "<polygon fill=\"#ff0000\" stroke=\"#ff0000\" points=\"1877.9125,-133.4324 1876.0458,-123.0034 1871.0014,-132.3203 1877.9125,-133.4324\"/>\n",
       "<text text-anchor=\"middle\" x=\"1879.9429\" y=\"-144.8\" font-family=\"Times,serif\" font-size=\"14.00\" fill=\"#000000\">no</text>\n",
       "</g>\n",
       "<!-- 47 -->\n",
       "<g id=\"node34\" class=\"node\">\n",
       "<title>47</title>\n",
       "<ellipse fill=\"none\" stroke=\"#000000\" cx=\"1519.9429\" cy=\"-18\" rx=\"79.8859\" ry=\"18\"/>\n",
       "<text text-anchor=\"middle\" x=\"1519.9429\" y=\"-14.3\" font-family=\"Times,serif\" font-size=\"14.00\" fill=\"#000000\">leaf=0.0111111114</text>\n",
       "</g>\n",
       "<!-- 31&#45;&gt;47 -->\n",
       "<g id=\"edge33\" class=\"edge\">\n",
       "<title>31&#45;&gt;47</title>\n",
       "<path fill=\"none\" stroke=\"#0000ff\" d=\"M1668.5498,-90.6337C1639.7906,-76.5772 1595.6632,-55.0094 1562.9581,-39.0243\"/>\n",
       "<polygon fill=\"#0000ff\" stroke=\"#0000ff\" points=\"1564.1538,-35.7131 1553.6326,-34.4663 1561.08,-42.0021 1564.1538,-35.7131\"/>\n",
       "<text text-anchor=\"middle\" x=\"1654.4429\" y=\"-57.8\" font-family=\"Times,serif\" font-size=\"14.00\" fill=\"#000000\">yes, missing</text>\n",
       "</g>\n",
       "<!-- 48 -->\n",
       "<g id=\"node35\" class=\"node\">\n",
       "<title>48</title>\n",
       "<ellipse fill=\"none\" stroke=\"#000000\" cx=\"1697.9429\" cy=\"-18\" rx=\"79.8859\" ry=\"18\"/>\n",
       "<text text-anchor=\"middle\" x=\"1697.9429\" y=\"-14.3\" font-family=\"Times,serif\" font-size=\"14.00\" fill=\"#000000\">leaf=0.0636363626</text>\n",
       "</g>\n",
       "<!-- 31&#45;&gt;48 -->\n",
       "<g id=\"edge34\" class=\"edge\">\n",
       "<title>31&#45;&gt;48</title>\n",
       "<path fill=\"none\" stroke=\"#ff0000\" d=\"M1697.9429,-86.9735C1697.9429,-75.1918 1697.9429,-59.5607 1697.9429,-46.1581\"/>\n",
       "<polygon fill=\"#ff0000\" stroke=\"#ff0000\" points=\"1701.443,-46.0033 1697.9429,-36.0034 1694.443,-46.0034 1701.443,-46.0033\"/>\n",
       "<text text-anchor=\"middle\" x=\"1704.9429\" y=\"-57.8\" font-family=\"Times,serif\" font-size=\"14.00\" fill=\"#000000\">no</text>\n",
       "</g>\n",
       "<!-- 49 -->\n",
       "<g id=\"node36\" class=\"node\">\n",
       "<title>49</title>\n",
       "<ellipse fill=\"none\" stroke=\"#000000\" cx=\"1878.9429\" cy=\"-18\" rx=\"83.3857\" ry=\"18\"/>\n",
       "<text text-anchor=\"middle\" x=\"1878.9429\" y=\"-14.3\" font-family=\"Times,serif\" font-size=\"14.00\" fill=\"#000000\">leaf=&#45;0.0500000007</text>\n",
       "</g>\n",
       "<!-- 32&#45;&gt;49 -->\n",
       "<g id=\"edge35\" class=\"edge\">\n",
       "<title>32&#45;&gt;49</title>\n",
       "<path fill=\"none\" stroke=\"#0000ff\" d=\"M1878.9429,-86.9735C1878.9429,-75.1918 1878.9429,-59.5607 1878.9429,-46.1581\"/>\n",
       "<polygon fill=\"#0000ff\" stroke=\"#0000ff\" points=\"1882.443,-46.0033 1878.9429,-36.0034 1875.443,-46.0034 1882.443,-46.0033\"/>\n",
       "<text text-anchor=\"middle\" x=\"1913.4429\" y=\"-57.8\" font-family=\"Times,serif\" font-size=\"14.00\" fill=\"#000000\">yes, missing</text>\n",
       "</g>\n",
       "<!-- 50 -->\n",
       "<g id=\"node37\" class=\"node\">\n",
       "<title>50</title>\n",
       "<ellipse fill=\"none\" stroke=\"#000000\" cx=\"2059.9429\" cy=\"-18\" rx=\"79.8859\" ry=\"18\"/>\n",
       "<text text-anchor=\"middle\" x=\"2059.9429\" y=\"-14.3\" font-family=\"Times,serif\" font-size=\"14.00\" fill=\"#000000\">leaf=0.0133333346</text>\n",
       "</g>\n",
       "<!-- 32&#45;&gt;50 -->\n",
       "<g id=\"edge36\" class=\"edge\">\n",
       "<title>32&#45;&gt;50</title>\n",
       "<path fill=\"none\" stroke=\"#ff0000\" d=\"M1912.5634,-88.8399C1941.9669,-74.7067 1984.8417,-54.0984 2016.7749,-38.7492\"/>\n",
       "<polygon fill=\"#ff0000\" stroke=\"#ff0000\" points=\"2018.3916,-41.8556 2025.8882,-34.3688 2015.359,-35.5465 2018.3916,-41.8556\"/>\n",
       "<text text-anchor=\"middle\" x=\"1987.9429\" y=\"-57.8\" font-family=\"Times,serif\" font-size=\"14.00\" fill=\"#000000\">no</text>\n",
       "</g>\n",
       "<!-- 33 -->\n",
       "<g id=\"node40\" class=\"node\">\n",
       "<title>33</title>\n",
       "<ellipse fill=\"none\" stroke=\"#000000\" cx=\"2104.9429\" cy=\"-105\" rx=\"83.3857\" ry=\"18\"/>\n",
       "<text text-anchor=\"middle\" x=\"2104.9429\" y=\"-101.3\" font-family=\"Times,serif\" font-size=\"14.00\" fill=\"#000000\">leaf=&#45;0.0764705911</text>\n",
       "</g>\n",
       "<!-- 22&#45;&gt;33 -->\n",
       "<g id=\"edge39\" class=\"edge\">\n",
       "<title>22&#45;&gt;33</title>\n",
       "<path fill=\"none\" stroke=\"#0000ff\" d=\"M2110.4925,-173.9735C2109.5445,-162.1918 2108.2869,-146.5607 2107.2085,-133.1581\"/>\n",
       "<polygon fill=\"#0000ff\" stroke=\"#0000ff\" points=\"2110.6823,-132.6904 2106.3915,-123.0034 2103.7048,-133.2519 2110.6823,-132.6904\"/>\n",
       "<text text-anchor=\"middle\" x=\"2143.4429\" y=\"-144.8\" font-family=\"Times,serif\" font-size=\"14.00\" fill=\"#000000\">yes, missing</text>\n",
       "</g>\n",
       "<!-- 34 -->\n",
       "<g id=\"node41\" class=\"node\">\n",
       "<title>34</title>\n",
       "<ellipse fill=\"none\" stroke=\"#000000\" cx=\"2245.9429\" cy=\"-105\" rx=\"39.7935\" ry=\"18\"/>\n",
       "<text text-anchor=\"middle\" x=\"2245.9429\" y=\"-101.3\" font-family=\"Times,serif\" font-size=\"14.00\" fill=\"#000000\">Age&lt;53</text>\n",
       "</g>\n",
       "<!-- 22&#45;&gt;34 -->\n",
       "<g id=\"edge40\" class=\"edge\">\n",
       "<title>22&#45;&gt;34</title>\n",
       "<path fill=\"none\" stroke=\"#ff0000\" d=\"M2146.17,-176.0969C2157.8021,-170.251 2170.6962,-163.2711 2181.9429,-156 2195.0001,-147.5584 2208.5895,-137.014 2219.8699,-127.7074\"/>\n",
       "<polygon fill=\"#ff0000\" stroke=\"#ff0000\" points=\"2222.2205,-130.3041 2227.6351,-121.1973 2217.7233,-124.9398 2222.2205,-130.3041\"/>\n",
       "<text text-anchor=\"middle\" x=\"2209.9429\" y=\"-144.8\" font-family=\"Times,serif\" font-size=\"14.00\" fill=\"#000000\">no</text>\n",
       "</g>\n",
       "<!-- 51 -->\n",
       "<g id=\"node42\" class=\"node\">\n",
       "<title>51</title>\n",
       "<ellipse fill=\"none\" stroke=\"#000000\" cx=\"2241.9429\" cy=\"-18\" rx=\"84.485\" ry=\"18\"/>\n",
       "<text text-anchor=\"middle\" x=\"2241.9429\" y=\"-14.3\" font-family=\"Times,serif\" font-size=\"14.00\" fill=\"#000000\">leaf=0.00769230817</text>\n",
       "</g>\n",
       "<!-- 34&#45;&gt;51 -->\n",
       "<g id=\"edge41\" class=\"edge\">\n",
       "<title>34&#45;&gt;51</title>\n",
       "<path fill=\"none\" stroke=\"#0000ff\" d=\"M2245.1141,-86.9735C2244.5724,-75.1918 2243.8537,-59.5607 2243.2375,-46.1581\"/>\n",
       "<polygon fill=\"#0000ff\" stroke=\"#0000ff\" points=\"2246.7263,-45.832 2242.7706,-36.0034 2239.7337,-46.1536 2246.7263,-45.832\"/>\n",
       "<text text-anchor=\"middle\" x=\"2279.4429\" y=\"-57.8\" font-family=\"Times,serif\" font-size=\"14.00\" fill=\"#000000\">yes, missing</text>\n",
       "</g>\n",
       "<!-- 52 -->\n",
       "<g id=\"node43\" class=\"node\">\n",
       "<title>52</title>\n",
       "<ellipse fill=\"none\" stroke=\"#000000\" cx=\"2427.9429\" cy=\"-18\" rx=\"83.3857\" ry=\"18\"/>\n",
       "<text text-anchor=\"middle\" x=\"2427.9429\" y=\"-14.3\" font-family=\"Times,serif\" font-size=\"14.00\" fill=\"#000000\">leaf=&#45;0.0647058859</text>\n",
       "</g>\n",
       "<!-- 34&#45;&gt;52 -->\n",
       "<g id=\"edge42\" class=\"edge\">\n",
       "<title>34&#45;&gt;52</title>\n",
       "<path fill=\"none\" stroke=\"#ff0000\" d=\"M2273.5848,-91.7866C2302.944,-77.7522 2349.7706,-55.3681 2384.1571,-38.9306\"/>\n",
       "<polygon fill=\"#ff0000\" stroke=\"#ff0000\" points=\"2385.9885,-41.9345 2393.5012,-34.4639 2382.9695,-35.619 2385.9885,-41.9345\"/>\n",
       "<text text-anchor=\"middle\" x=\"2354.9429\" y=\"-57.8\" font-family=\"Times,serif\" font-size=\"14.00\" fill=\"#000000\">no</text>\n",
       "</g>\n",
       "<!-- 23 -->\n",
       "<g id=\"node46\" class=\"node\">\n",
       "<title>23</title>\n",
       "<ellipse fill=\"none\" stroke=\"#000000\" cx=\"2310.9429\" cy=\"-192\" rx=\"79.8859\" ry=\"18\"/>\n",
       "<text text-anchor=\"middle\" x=\"2310.9429\" y=\"-188.3\" font-family=\"Times,serif\" font-size=\"14.00\" fill=\"#000000\">leaf=0.0777777806</text>\n",
       "</g>\n",
       "<!-- 13&#45;&gt;23 -->\n",
       "<g id=\"edge45\" class=\"edge\">\n",
       "<title>13&#45;&gt;23</title>\n",
       "<path fill=\"none\" stroke=\"#0000ff\" d=\"M2363.9034,-261.8116C2354.4459,-249.3448 2341.4847,-232.2596 2330.7519,-218.1119\"/>\n",
       "<polygon fill=\"#0000ff\" stroke=\"#0000ff\" points=\"2333.2407,-215.6016 2324.4084,-209.75 2327.6639,-219.8323 2333.2407,-215.6016\"/>\n",
       "<text text-anchor=\"middle\" x=\"2382.4429\" y=\"-231.8\" font-family=\"Times,serif\" font-size=\"14.00\" fill=\"#000000\">yes, missing</text>\n",
       "</g>\n",
       "<!-- 24 -->\n",
       "<g id=\"node47\" class=\"node\">\n",
       "<title>24</title>\n",
       "<ellipse fill=\"none\" stroke=\"#000000\" cx=\"2491.9429\" cy=\"-192\" rx=\"83.3857\" ry=\"18\"/>\n",
       "<text text-anchor=\"middle\" x=\"2491.9429\" y=\"-188.3\" font-family=\"Times,serif\" font-size=\"14.00\" fill=\"#000000\">leaf=&#45;0.0647058859</text>\n",
       "</g>\n",
       "<!-- 13&#45;&gt;24 -->\n",
       "<g id=\"edge46\" class=\"edge\">\n",
       "<title>13&#45;&gt;24</title>\n",
       "<path fill=\"none\" stroke=\"#ff0000\" d=\"M2397.7685,-263.245C2415.3255,-249.9627 2440.7118,-230.7574 2460.7039,-215.633\"/>\n",
       "<polygon fill=\"#ff0000\" stroke=\"#ff0000\" points=\"2463.0398,-218.2546 2468.9031,-209.4301 2458.8165,-212.6721 2463.0398,-218.2546\"/>\n",
       "<text text-anchor=\"middle\" x=\"2448.9429\" y=\"-231.8\" font-family=\"Times,serif\" font-size=\"14.00\" fill=\"#000000\">no</text>\n",
       "</g>\n",
       "<!-- 25 -->\n",
       "<g id=\"node48\" class=\"node\">\n",
       "<title>25</title>\n",
       "<ellipse fill=\"none\" stroke=\"#000000\" cx=\"2665.9429\" cy=\"-192\" rx=\"58.4896\" ry=\"18\"/>\n",
       "<text text-anchor=\"middle\" x=\"2665.9429\" y=\"-188.3\" font-family=\"Times,serif\" font-size=\"14.00\" fill=\"#000000\">Ticket&lt;103.5</text>\n",
       "</g>\n",
       "<!-- 14&#45;&gt;25 -->\n",
       "<g id=\"edge47\" class=\"edge\">\n",
       "<title>14&#45;&gt;25</title>\n",
       "<path fill=\"none\" stroke=\"#0000ff\" d=\"M2665.9429,-260.9735C2665.9429,-249.1918 2665.9429,-233.5607 2665.9429,-220.1581\"/>\n",
       "<polygon fill=\"#0000ff\" stroke=\"#0000ff\" points=\"2669.443,-220.0033 2665.9429,-210.0034 2662.443,-220.0034 2669.443,-220.0033\"/>\n",
       "<text text-anchor=\"middle\" x=\"2700.4429\" y=\"-231.8\" font-family=\"Times,serif\" font-size=\"14.00\" fill=\"#000000\">yes, missing</text>\n",
       "</g>\n",
       "<!-- 26 -->\n",
       "<g id=\"node49\" class=\"node\">\n",
       "<title>26</title>\n",
       "<ellipse fill=\"none\" stroke=\"#000000\" cx=\"2941.9429\" cy=\"-192\" rx=\"58.4896\" ry=\"18\"/>\n",
       "<text text-anchor=\"middle\" x=\"2941.9429\" y=\"-188.3\" font-family=\"Times,serif\" font-size=\"14.00\" fill=\"#000000\">Ticket&lt;894.5</text>\n",
       "</g>\n",
       "<!-- 14&#45;&gt;26 -->\n",
       "<g id=\"edge48\" class=\"edge\">\n",
       "<title>14&#45;&gt;26</title>\n",
       "<path fill=\"none\" stroke=\"#ff0000\" d=\"M2706.9649,-266.0692C2756.0193,-250.6063 2838.1314,-224.7232 2891.1493,-208.011\"/>\n",
       "<polygon fill=\"#ff0000\" stroke=\"#ff0000\" points=\"2892.2106,-211.3463 2900.6958,-205.0018 2890.1061,-204.6702 2892.2106,-211.3463\"/>\n",
       "<text text-anchor=\"middle\" x=\"2827.9429\" y=\"-231.8\" font-family=\"Times,serif\" font-size=\"14.00\" fill=\"#000000\">no</text>\n",
       "</g>\n",
       "<!-- 35 -->\n",
       "<g id=\"node50\" class=\"node\">\n",
       "<title>35</title>\n",
       "<ellipse fill=\"none\" stroke=\"#000000\" cx=\"2608.9429\" cy=\"-105\" rx=\"53.8905\" ry=\"18\"/>\n",
       "<text text-anchor=\"middle\" x=\"2608.9429\" y=\"-101.3\" font-family=\"Times,serif\" font-size=\"14.00\" fill=\"#000000\">Ticket&lt;20.5</text>\n",
       "</g>\n",
       "<!-- 25&#45;&gt;35 -->\n",
       "<g id=\"edge49\" class=\"edge\">\n",
       "<title>25&#45;&gt;35</title>\n",
       "<path fill=\"none\" stroke=\"#0000ff\" d=\"M2654.1325,-173.9735C2646.0542,-161.6435 2635.2137,-145.0975 2626.1753,-131.3021\"/>\n",
       "<polygon fill=\"#0000ff\" stroke=\"#0000ff\" points=\"2628.9511,-129.1522 2620.5432,-122.7057 2623.0959,-132.9884 2628.9511,-129.1522\"/>\n",
       "<text text-anchor=\"middle\" x=\"2675.4429\" y=\"-144.8\" font-family=\"Times,serif\" font-size=\"14.00\" fill=\"#000000\">yes, missing</text>\n",
       "</g>\n",
       "<!-- 36 -->\n",
       "<g id=\"node51\" class=\"node\">\n",
       "<title>36</title>\n",
       "<ellipse fill=\"none\" stroke=\"#000000\" cx=\"2760.9429\" cy=\"-105\" rx=\"79.8859\" ry=\"18\"/>\n",
       "<text text-anchor=\"middle\" x=\"2760.9429\" y=\"-101.3\" font-family=\"Times,serif\" font-size=\"14.00\" fill=\"#000000\">leaf=0.0272727292</text>\n",
       "</g>\n",
       "<!-- 25&#45;&gt;36 -->\n",
       "<g id=\"edge50\" class=\"edge\">\n",
       "<title>25&#45;&gt;36</title>\n",
       "<path fill=\"none\" stroke=\"#ff0000\" d=\"M2690.0609,-175.2477C2697.9187,-169.4434 2706.5236,-162.7047 2713.9429,-156 2722.6976,-148.0885 2731.6371,-138.7605 2739.337,-130.2598\"/>\n",
       "<polygon fill=\"#ff0000\" stroke=\"#ff0000\" points=\"2741.9864,-132.5474 2746.0189,-122.75 2736.7568,-127.8943 2741.9864,-132.5474\"/>\n",
       "<text text-anchor=\"middle\" x=\"2736.9429\" y=\"-144.8\" font-family=\"Times,serif\" font-size=\"14.00\" fill=\"#000000\">no</text>\n",
       "</g>\n",
       "<!-- 37 -->\n",
       "<g id=\"node54\" class=\"node\">\n",
       "<title>37</title>\n",
       "<ellipse fill=\"none\" stroke=\"#000000\" cx=\"2941.9429\" cy=\"-105\" rx=\"83.3857\" ry=\"18\"/>\n",
       "<text text-anchor=\"middle\" x=\"2941.9429\" y=\"-101.3\" font-family=\"Times,serif\" font-size=\"14.00\" fill=\"#000000\">leaf=&#45;0.0825396851</text>\n",
       "</g>\n",
       "<!-- 26&#45;&gt;37 -->\n",
       "<g id=\"edge53\" class=\"edge\">\n",
       "<title>26&#45;&gt;37</title>\n",
       "<path fill=\"none\" stroke=\"#0000ff\" d=\"M2941.9429,-173.9735C2941.9429,-162.1918 2941.9429,-146.5607 2941.9429,-133.1581\"/>\n",
       "<polygon fill=\"#0000ff\" stroke=\"#0000ff\" points=\"2945.443,-133.0033 2941.9429,-123.0034 2938.443,-133.0034 2945.443,-133.0033\"/>\n",
       "<text text-anchor=\"middle\" x=\"2976.4429\" y=\"-144.8\" font-family=\"Times,serif\" font-size=\"14.00\" fill=\"#000000\">yes, missing</text>\n",
       "</g>\n",
       "<!-- 38 -->\n",
       "<g id=\"node55\" class=\"node\">\n",
       "<title>38</title>\n",
       "<ellipse fill=\"none\" stroke=\"#000000\" cx=\"3094.9429\" cy=\"-105\" rx=\"51.9908\" ry=\"18\"/>\n",
       "<text text-anchor=\"middle\" x=\"3094.9429\" y=\"-101.3\" font-family=\"Times,serif\" font-size=\"14.00\" fill=\"#000000\">Ticket&lt;907</text>\n",
       "</g>\n",
       "<!-- 26&#45;&gt;38 -->\n",
       "<g id=\"edge54\" class=\"edge\">\n",
       "<title>26&#45;&gt;38</title>\n",
       "<path fill=\"none\" stroke=\"#ff0000\" d=\"M2974.3175,-176.9748C2987.1322,-170.7848 3001.8911,-163.3495 3014.9429,-156 3030.9881,-146.9649 3048.2763,-136.0949 3062.6617,-126.7156\"/>\n",
       "<polygon fill=\"#ff0000\" stroke=\"#ff0000\" points=\"3064.7732,-129.5161 3071.2065,-121.0981 3060.9278,-123.6669 3064.7732,-129.5161\"/>\n",
       "<text text-anchor=\"middle\" x=\"3046.9429\" y=\"-144.8\" font-family=\"Times,serif\" font-size=\"14.00\" fill=\"#000000\">no</text>\n",
       "</g>\n",
       "<!-- 53 -->\n",
       "<g id=\"node52\" class=\"node\">\n",
       "<title>53</title>\n",
       "<ellipse fill=\"none\" stroke=\"#000000\" cx=\"2608.9429\" cy=\"-18\" rx=\"79.8859\" ry=\"18\"/>\n",
       "<text text-anchor=\"middle\" x=\"2608.9429\" y=\"-14.3\" font-family=\"Times,serif\" font-size=\"14.00\" fill=\"#000000\">leaf=0.0250000004</text>\n",
       "</g>\n",
       "<!-- 35&#45;&gt;53 -->\n",
       "<g id=\"edge51\" class=\"edge\">\n",
       "<title>35&#45;&gt;53</title>\n",
       "<path fill=\"none\" stroke=\"#0000ff\" d=\"M2608.9429,-86.9735C2608.9429,-75.1918 2608.9429,-59.5607 2608.9429,-46.1581\"/>\n",
       "<polygon fill=\"#0000ff\" stroke=\"#0000ff\" points=\"2612.443,-46.0033 2608.9429,-36.0034 2605.443,-46.0034 2612.443,-46.0033\"/>\n",
       "<text text-anchor=\"middle\" x=\"2643.4429\" y=\"-57.8\" font-family=\"Times,serif\" font-size=\"14.00\" fill=\"#000000\">yes, missing</text>\n",
       "</g>\n",
       "<!-- 54 -->\n",
       "<g id=\"node53\" class=\"node\">\n",
       "<title>54</title>\n",
       "<ellipse fill=\"none\" stroke=\"#000000\" cx=\"2789.9429\" cy=\"-18\" rx=\"83.3857\" ry=\"18\"/>\n",
       "<text text-anchor=\"middle\" x=\"2789.9429\" y=\"-14.3\" font-family=\"Times,serif\" font-size=\"14.00\" fill=\"#000000\">leaf=&#45;0.0578947365</text>\n",
       "</g>\n",
       "<!-- 35&#45;&gt;54 -->\n",
       "<g id=\"edge52\" class=\"edge\">\n",
       "<title>35&#45;&gt;54</title>\n",
       "<path fill=\"none\" stroke=\"#ff0000\" d=\"M2640.0579,-90.0442C2669.3121,-75.9828 2713.3885,-54.7969 2746.1811,-39.0347\"/>\n",
       "<polygon fill=\"#ff0000\" stroke=\"#ff0000\" points=\"2748.0405,-42.0243 2755.5372,-34.5376 2745.008,-35.7153 2748.0405,-42.0243\"/>\n",
       "<text text-anchor=\"middle\" x=\"2717.9429\" y=\"-57.8\" font-family=\"Times,serif\" font-size=\"14.00\" fill=\"#000000\">no</text>\n",
       "</g>\n",
       "<!-- 55 -->\n",
       "<g id=\"node56\" class=\"node\">\n",
       "<title>55</title>\n",
       "<ellipse fill=\"none\" stroke=\"#000000\" cx=\"3034.9429\" cy=\"-18\" rx=\"84.485\" ry=\"18\"/>\n",
       "<text text-anchor=\"middle\" x=\"3034.9429\" y=\"-14.3\" font-family=\"Times,serif\" font-size=\"14.00\" fill=\"#000000\">leaf=0.00769230817</text>\n",
       "</g>\n",
       "<!-- 38&#45;&gt;55 -->\n",
       "<g id=\"edge55\" class=\"edge\">\n",
       "<title>38&#45;&gt;55</title>\n",
       "<path fill=\"none\" stroke=\"#0000ff\" d=\"M3082.801,-87.3943C3074.2372,-74.9767 3062.6208,-58.1329 3052.9773,-44.1498\"/>\n",
       "<polygon fill=\"#0000ff\" stroke=\"#0000ff\" points=\"3055.8313,-42.1232 3047.2727,-35.8782 3050.0688,-46.0974 3055.8313,-42.1232\"/>\n",
       "<text text-anchor=\"middle\" x=\"3103.4429\" y=\"-57.8\" font-family=\"Times,serif\" font-size=\"14.00\" fill=\"#000000\">yes, missing</text>\n",
       "</g>\n",
       "<!-- 56 -->\n",
       "<g id=\"node57\" class=\"node\">\n",
       "<title>56</title>\n",
       "<ellipse fill=\"none\" stroke=\"#000000\" cx=\"3220.9429\" cy=\"-18\" rx=\"83.3857\" ry=\"18\"/>\n",
       "<text text-anchor=\"middle\" x=\"3220.9429\" y=\"-14.3\" font-family=\"Times,serif\" font-size=\"14.00\" fill=\"#000000\">leaf=&#45;0.0500000007</text>\n",
       "</g>\n",
       "<!-- 38&#45;&gt;56 -->\n",
       "<g id=\"edge56\" class=\"edge\">\n",
       "<title>38&#45;&gt;56</title>\n",
       "<path fill=\"none\" stroke=\"#ff0000\" d=\"M3118.3472,-88.8399C3137.8241,-75.3916 3165.7918,-56.0805 3187.6088,-41.0164\"/>\n",
       "<polygon fill=\"#ff0000\" stroke=\"#ff0000\" points=\"3189.6973,-43.8277 3195.9376,-35.2656 3185.7199,-38.0674 3189.6973,-43.8277\"/>\n",
       "<text text-anchor=\"middle\" x=\"3171.9429\" y=\"-57.8\" font-family=\"Times,serif\" font-size=\"14.00\" fill=\"#000000\">no</text>\n",
       "</g>\n",
       "</g>\n",
       "</svg>\n"
      ],
      "text/plain": [
       "<graphviz.files.Source at 0x7f5889763ef0>"
      ]
     },
     "execution_count": 24,
     "metadata": {},
     "output_type": "execute_result"
    }
   ],
   "source": [
    "xgb.to_graphviz(modelXGB)"
   ]
  },
  {
   "cell_type": "markdown",
   "metadata": {},
   "source": [
    "##### Feature importance\n",
    "\n",
    "- From my point of view it doesn't look so obvious why our model picked up `Ticket` as the most important feature. My guess here would be that passengers in group has the best chance to escape the sinking ship. But strange that eliminating this feature gives worse accuracy score. So we will keep it as it is.\n",
    "\n",
    "- Secondly, looks like `Age` contributes heavily to survival probability after whether the passenger was in group or alone. This drives to conclusion that passengers of particular age group have higher chances to survive.\n",
    "\n",
    "- `Fare` and `Cabin` sector are the next deciders in this game of dice.\n",
    "\n",
    "- Class and gender don't play so crucial role as it might appeared in the beginning.\n",
    "\n",
    "- Apperantly a particular `Title` or whether the passenger is a parent or children (`Parch`) contribute very little to importance"
   ]
  },
  {
   "cell_type": "code",
   "execution_count": 25,
   "metadata": {
    "scrolled": true
   },
   "outputs": [
    {
     "data": {
      "image/png": "[encoded data removed]",
      "text/plain": [
       "<Figure size 432x288 with 1 Axes>"
      ]
     },
     "metadata": {},
     "output_type": "display_data"
    }
   ],
   "source": [
    "plot_importance(modelXGB)\n",
    "plt.show()"
   ]
  },
  {
   "cell_type": "markdown",
   "metadata": {},
   "source": [
    "#### KNN - K Nearest Neighbours with `scikit-learn`"
   ]
  },
  {
   "cell_type": "code",
   "execution_count": 26,
   "metadata": {
    "scrolled": true
   },
   "outputs": [],
   "source": [
    "modelKNN = KNeighborsClassifier(n_neighbors=10)\n",
    "modelKNN.fit(X_train, y_train)\n",
    "predictions = modelKNN.predict(X_test)"
   ]
  },
  {
   "cell_type": "markdown",
   "metadata": {},
   "source": [
    "##### Model overview\n",
    "\n",
    "Quite a surprise -- KNN and Gradient Boosting ended up predicting with the same rate of accuracy!"
   ]
  },
  {
   "cell_type": "code",
   "execution_count": 27,
   "metadata": {},
   "outputs": [
    {
     "name": "stdout",
     "output_type": "stream",
     "text": [
      "Accuracy: 0.8222222222222222\n",
      "MSE: 0.17777777777777778\n"
     ]
    }
   ],
   "source": [
    "print('Accuracy: %s' % accuracy_score(y_test, predictions.round()))\n",
    "print('MSE: %s' % mean_squared_error(y_test, predictions.round()))"
   ]
  },
  {
   "cell_type": "markdown",
   "metadata": {},
   "source": [
    "#### Neural network with multiple layers (`Keras` & `TF`)"
   ]
  },
  {
   "cell_type": "code",
   "execution_count": 28,
   "metadata": {},
   "outputs": [
    {
     "name": "stdout",
     "output_type": "stream",
     "text": [
      "Train on 846 samples, validate on 45 samples\n",
      "Epoch 1/5\n",
      "846/846 [==============================] - 0s 247us/step - loss: 0.3488 - accuracy: 0.6395 - val_loss: 0.2676 - val_accuracy: 0.7333\n",
      "Epoch 2/5\n",
      "846/846 [==============================] - 0s 120us/step - loss: 0.3361 - accuracy: 0.6430 - val_loss: 0.2851 - val_accuracy: 0.7111\n",
      "Epoch 3/5\n",
      "846/846 [==============================] - 0s 115us/step - loss: 0.3224 - accuracy: 0.6667 - val_loss: 0.2672 - val_accuracy: 0.7333\n",
      "Epoch 4/5\n",
      "846/846 [==============================] - 0s 137us/step - loss: 0.3125 - accuracy: 0.6655 - val_loss: 0.2895 - val_accuracy: 0.6889\n",
      "Epoch 5/5\n",
      "846/846 [==============================] - 0s 133us/step - loss: 0.3108 - accuracy: 0.6690 - val_loss: 0.2221 - val_accuracy: 0.7778\n"
     ]
    },
    {
     "data": {
      "text/plain": [
       "<keras.callbacks.callbacks.History at 0x7f587c501f28>"
      ]
     },
     "execution_count": 28,
     "metadata": {},
     "output_type": "execute_result"
    }
   ],
   "source": [
    "neurons=len(testing_data.columns.values)\n",
    "modelNN = Sequential([\n",
    "    Dense(neurons * 8, input_dim=neurons, activation='relu'),\n",
    "    Dense(neurons * 3, activation='relu'),\n",
    "    Dense(neurons * 1, activation='relu'),\n",
    "    Dense(1, activation='sigmoid'),\n",
    "])\n",
    "\n",
    "modelNN.compile(\n",
    "    loss='mse',\n",
    "    optimizer='adam',\n",
    "    metrics=['accuracy']\n",
    ")\n",
    "\n",
    "modelNN.fit(\n",
    "    X_train, y_train,\n",
    "    epochs=5, batch_size=10,\n",
    "    validation_data=(X_test, y_test),\n",
    "    verbose = 1\n",
    ")"
   ]
  },
  {
   "cell_type": "markdown",
   "metadata": {},
   "source": [
    "##### Model overview"
   ]
  },
  {
   "cell_type": "code",
   "execution_count": 29,
   "metadata": {},
   "outputs": [
    {
     "name": "stdout",
     "output_type": "stream",
     "text": [
      "45/45 [==============================] - 0s 72us/step\n",
      "Accuracy: 0.7777777910232544\n",
      "Loss: 0.22205772731039258\n"
     ]
    }
   ],
   "source": [
    "loss, accuracy = modelNN.evaluate(X_test, y_test)\n",
    "print(\"Accuracy: %s\" % accuracy)\n",
    "print(\"Loss: %s\" % loss)"
   ]
  },
  {
   "cell_type": "markdown",
   "metadata": {},
   "source": [
    "#### Convolutional Neural Network with 1x1 dimension (`Keras` & `TF`)"
   ]
  },
  {
   "cell_type": "code",
   "execution_count": 30,
   "metadata": {},
   "outputs": [
    {
     "name": "stdout",
     "output_type": "stream",
     "text": [
      "Train on 846 samples, validate on 45 samples\n",
      "Epoch 1/5\n",
      "846/846 [==============================] - 0s 350us/step - loss: 0.4001 - accuracy: 0.5969 - val_loss: 0.2889 - val_accuracy: 0.7111\n",
      "Epoch 2/5\n",
      "846/846 [==============================] - 0s 156us/step - loss: 0.3894 - accuracy: 0.6076 - val_loss: 0.3025 - val_accuracy: 0.6889\n",
      "Epoch 3/5\n",
      "846/846 [==============================] - 0s 153us/step - loss: 0.3306 - accuracy: 0.6501 - val_loss: 0.2845 - val_accuracy: 0.7111\n",
      "Epoch 4/5\n",
      "846/846 [==============================] - 0s 160us/step - loss: 0.5733 - accuracy: 0.4196 - val_loss: 0.7111 - val_accuracy: 0.2889\n",
      "Epoch 5/5\n",
      "846/846 [==============================] - 0s 144us/step - loss: 0.5994 - accuracy: 0.3995 - val_loss: 0.7108 - val_accuracy: 0.2889\n"
     ]
    },
    {
     "data": {
      "text/plain": [
       "<keras.callbacks.callbacks.History at 0x7f587c249f60>"
      ]
     },
     "execution_count": 30,
     "metadata": {},
     "output_type": "execute_result"
    }
   ],
   "source": [
    "modelCNN = Sequential([\n",
    "    Conv1D(filters=32, kernel_size=4, input_shape=(neurons,1)),\n",
    "    Conv1D(filters=32, kernel_size=4, activation='relu'),\n",
    "    MaxPooling1D(pool_size=2),\n",
    "    Dropout(0.1),\n",
    "    Flatten(),\n",
    "    Dense(neurons * 4, activation='relu'),\n",
    "    Dense(1, activation='sigmoid'),\n",
    "])\n",
    "\n",
    "modelCNN.compile(\n",
    "   loss = 'mse',\n",
    "   optimizer = 'adam',\n",
    "   metrics = ['accuracy']\n",
    ")\n",
    "\n",
    "X_train_reshaped = X_train.to_numpy().reshape(X_train.shape[0], X_train.shape[1], 1)\n",
    "X_test_reshaped = X_test.to_numpy().reshape(X_test.shape[0], X_test.shape[1], 1)\n",
    "\n",
    "modelCNN.fit(\n",
    "    X_train_reshaped, y_train,\n",
    "    epochs=5, batch_size=10,\n",
    "    validation_data=(X_test_reshaped, y_test),\n",
    "    verbose = 1\n",
    ")"
   ]
  },
  {
   "cell_type": "markdown",
   "metadata": {},
   "source": [
    "##### Model overview\n",
    "\n",
    "Worst result! I know... this domain of problem is not suitable for CNN as the data set isn't large enough, so the model ended up underfitted -- I'm just experimenting :)"
   ]
  },
  {
   "cell_type": "code",
   "execution_count": 31,
   "metadata": {},
   "outputs": [
    {
     "name": "stdout",
     "output_type": "stream",
     "text": [
      "45/45 [==============================] - 0s 83us/step\n",
      "Accuracy: 0.2888889014720917\n",
      "Loss: 0.7108210298750136\n"
     ]
    }
   ],
   "source": [
    "loss, accuracy = modelCNN.evaluate(X_test_reshaped, y_test)\n",
    "print(\"Accuracy: %s\" % accuracy)\n",
    "print(\"Loss: %s\" % loss)"
   ]
  },
  {
   "cell_type": "markdown",
   "metadata": {},
   "source": [
    "### Feed testing data set"
   ]
  },
  {
   "cell_type": "code",
   "execution_count": 32,
   "metadata": {},
   "outputs": [],
   "source": [
    "TestDataReshaped = testing_data.to_numpy().reshape(testing_data.shape[0],testing_data.shape[1],1)\n",
    "OutputCNN = testing_data.copy()\n",
    "OutputCNN[\"Survived\"] = modelCNN.predict_classes(TestDataReshaped)\n",
    "OutputCNN['PassengerId'] = td_merged.PassengerId.astype(int)"
   ]
  },
  {
   "cell_type": "code",
   "execution_count": 33,
   "metadata": {},
   "outputs": [],
   "source": [
    "OutputNN = testing_data.copy()\n",
    "OutputNN[\"Survived\"] = modelNN.predict_classes(testing_data.to_numpy())\n",
    "OutputNN['PassengerId'] = td_merged.PassengerId.astype(int)"
   ]
  },
  {
   "cell_type": "code",
   "execution_count": 34,
   "metadata": {},
   "outputs": [],
   "source": [
    "OutputXGB = testing_data.copy()\n",
    "OutputXGB[\"Survived\"] = np.array(\n",
    "    modelXGB.predict(\n",
    "        xgb.DMatrix(testing_data.to_numpy(), feature_names=testing_data.columns.values)\n",
    "    ).round()\n",
    "    ,dtype=int)\n",
    "OutputXGB['PassengerId'] = td_merged.PassengerId.astype(int)"
   ]
  },
  {
   "cell_type": "code",
   "execution_count": 35,
   "metadata": {},
   "outputs": [],
   "source": [
    "OutputKNN = testing_data.copy()\n",
    "OutputKNN[\"Survived\"] = modelKNN.predict(testing_data.to_numpy())\n",
    "OutputKNN.Survived = OutputKNN.Survived.astype(int)\n",
    "OutputKNN['PassengerId'] = td_merged.PassengerId.astype(int)"
   ]
  },
  {
   "cell_type": "code",
   "execution_count": 36,
   "metadata": {},
   "outputs": [],
   "source": [
    "OutputLGB = testing_data.copy()\n",
    "OutputLGB[\"Survived\"] = np.array(bst.predict(testing_data.to_numpy(), num_iteration=bst.best_iteration).round(),dtype=int)\n",
    "OutputLGB['PassengerId'] = td_merged.PassengerId.astype(int)"
   ]
  },
  {
   "cell_type": "markdown",
   "metadata": {},
   "source": [
    "### Save predictions to file"
   ]
  },
  {
   "cell_type": "code",
   "execution_count": 37,
   "metadata": {},
   "outputs": [],
   "source": [
    "OutputLGB[['PassengerId', 'Survived']].to_csv('output/LGB.csv', index=False)\n",
    "OutputXGB[['PassengerId', 'Survived']].to_csv('output/XGB.csv', index=False)\n",
    "OutputCNN[['PassengerId', 'Survived']].to_csv('output/CNN.csv', index=False)\n",
    "OutputNN[['PassengerId', 'Survived']].to_csv('output/NN.csv', index=False)\n",
    "OutputKNN[['PassengerId', 'Survived']].to_csv('output/KNN.csv', index=False)"
   ]
  }
 ],
 "metadata": {
  "celltoolbar": "Raw Cell Format",
  "kernelspec": {
   "display_name": "Python 3",
   "language": "python",
   "name": "python3"
  },
  "language_info": {
   "codemirror_mode": {
    "name": "ipython",
    "version": 3
   },
   "file_extension": ".py",
   "mimetype": "text/x-python",
   "name": "python",
   "nbconvert_exporter": "python",
   "pygments_lexer": "ipython3",
   "version": "3.7.3"
  }
 },
 "nbformat": 4,
 "nbformat_minor": 4
}
