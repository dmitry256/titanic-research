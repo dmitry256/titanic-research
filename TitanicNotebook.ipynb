{
 "cells": [
  {
   "cell_type": "markdown",
   "metadata": {},
   "source": [
    "# Titanic: Machine Learning from Disaster"
   ]
  },
  {
   "cell_type": "markdown",
   "metadata": {},
   "source": [
    "# The Challenge\n",
    "\n",
    "The sinking of the Titanic is one of the most infamous shipwrecks in history.\n",
    "\n",
    "On April 15, 1912, during her maiden voyage, the widely considered “unsinkable” RMS Titanic sank after colliding with an iceberg. Unfortunately, there weren’t enough lifeboats for everyone onboard, resulting in the death of 1502 out of 2224 passengers and crew.\n",
    "\n",
    "While there was some element of luck involved in surviving, it seems some groups of people were more likely to survive than others.\n",
    "\n",
    "In this challenge, we ask you to build a predictive model that answers the question: “what sorts of people were more likely to survive?” using passenger data (ie name, age, gender, socio-economic class, etc).\n",
    "\n",
    "# Abstract\n",
    "\n",
    "Use various techniques of Feature Engineering, Classification and Regression algorithms to achieve more accurate predictions.\n",
    "\n",
    "We will be utilising ensemble learning by applying several algorithms interchangeably.\n",
    "\n",
    "The best score achived on Kaggle using techniques below is `79.904%`."
   ]
  },
  {
   "cell_type": "markdown",
   "metadata": {},
   "source": [
    "# Tools we would need"
   ]
  },
  {
   "cell_type": "code",
   "execution_count": 1,
   "metadata": {
    "_cell_guid": "b1076dfc-b9ad-4769-8c92-a6c4dae69d19",
    "_uuid": "8f2839f25d086af736a60e9eeb907d3b93b6e0e5"
   },
   "outputs": [
    {
     "name": "stderr",
     "output_type": "stream",
     "text": [
      "Using TensorFlow backend.\n"
     ]
    }
   ],
   "source": [
    "from sklearn.model_selection import train_test_split\n",
    "from sklearn.metrics import accuracy_score, mean_squared_error, r2_score, median_absolute_error, max_error, explained_variance_score\n",
    "from sklearn.neighbors import KNeighborsClassifier\n",
    "from sklearn.preprocessing import LabelEncoder\n",
    "\n",
    "import xgboost as xgb\n",
    "from xgboost import XGBRegressor, plot_importance \n",
    "\n",
    "import lightgbm as lgb\n",
    "\n",
    "from keras.models import Sequential\n",
    "from keras.layers import Conv1D, MaxPooling1D, Dense, Flatten, Dropout\n",
    "from keras.optimizers import RMSprop \n",
    "from keras.callbacks import EarlyStopping \n",
    "import keras\n",
    "\n",
    "import numpy as np # linear algebra\n",
    "import pandas as pd # data processing, CSV file I/O (e.g. pd.read_csv)\n",
    "\n",
    "import matplotlib.pyplot as plt\n",
    "import seaborn as sns\n",
    "\n",
    "import threading\n",
    "import re\n",
    "\n",
    "sns.set()\n",
    "\n",
    "TrainData =  pd.read_csv('input/train.csv')\n",
    "TestData = pd.read_csv('input/test.csv')"
   ]
  },
  {
   "cell_type": "markdown",
   "metadata": {
    "slideshow": {
     "slide_type": "slide"
    }
   },
   "source": [
    "# Feature engineering"
   ]
  },
  {
   "cell_type": "markdown",
   "metadata": {},
   "source": [
    "## Interpolation of missing values\n",
    "\n",
    "One can notice that in traing and testing data sets combined there are:\n",
    "- **1014** passengers with missing `Cabin`\n",
    "- **418** passengers with missing `Survived` value\n",
    "- **263** passengers with missing `Age`\n",
    "- **2** passengers with missing `Embarked` port\n",
    "- **1** record with missing `Fare` value\n",
    "\n",
    "We will try to approximate those values below."
   ]
  },
  {
   "cell_type": "code",
   "execution_count": 2,
   "metadata": {},
   "outputs": [
    {
     "name": "stdout",
     "output_type": "stream",
     "text": [
      "<class 'pandas.core.frame.DataFrame'>\n",
      "RangeIndex: 1309 entries, 0 to 1308\n",
      "Data columns (total 12 columns):\n",
      " #   Column       Non-Null Count  Dtype  \n",
      "---  ------       --------------  -----  \n",
      " 0   PassengerId  1309 non-null   int64  \n",
      " 1   Survived     891 non-null    float64\n",
      " 2   Pclass       1309 non-null   int64  \n",
      " 3   Name         1309 non-null   object \n",
      " 4   Sex          1309 non-null   object \n",
      " 5   Age          1046 non-null   float64\n",
      " 6   SibSp        1309 non-null   int64  \n",
      " 7   Parch        1309 non-null   int64  \n",
      " 8   Ticket       1309 non-null   object \n",
      " 9   Fare         1308 non-null   float64\n",
      " 10  Cabin        295 non-null    object \n",
      " 11  Embarked     1307 non-null   object \n",
      "dtypes: float64(3), int64(4), object(5)\n",
      "memory usage: 122.8+ KB\n"
     ]
    }
   ],
   "source": [
    "traind = TrainData.copy()\n",
    "testd = TestData.copy()\n",
    "td_merged = traind.append(testd, ignore_index=True)\n",
    "td_merged.info() "
   ]
  },
  {
   "cell_type": "markdown",
   "metadata": {},
   "source": [
    "### Retrieve Title from Name"
   ]
  },
  {
   "cell_type": "code",
   "execution_count": 3,
   "metadata": {},
   "outputs": [],
   "source": [
    "# Retrieve title from Name, we will use it as a feature\n",
    "for index, person in td_merged.iterrows():\n",
    "    found = re.match(r\".+ (.+\\.).*\", person.Name)\n",
    "    if found:\n",
    "        td_merged.loc[index, 'Title'] = found.group(1)\n",
    "\n",
    "td_filtered = td_merged.drop(['PassengerId','Name',],axis=1)"
   ]
  },
  {
   "cell_type": "markdown",
   "metadata": {},
   "source": [
    "### Fill missing `Embarked` values"
   ]
  },
  {
   "cell_type": "code",
   "execution_count": 4,
   "metadata": {},
   "outputs": [],
   "source": [
    "# According to publicly available report, those 2 ladies embarked in Southampton\n",
    "td_filtered[['Embarked']] = td_filtered[['Embarked']].fillna('S')"
   ]
  },
  {
   "cell_type": "markdown",
   "metadata": {},
   "source": [
    "### Fill missing `Fare` value"
   ]
  },
  {
   "cell_type": "code",
   "execution_count": 5,
   "metadata": {},
   "outputs": [],
   "source": [
    "# There's only 1 missing fare for a senior citezen, we'll use a median fare\n",
    "# among other people on board of the same age\n",
    "missing_fare = float(td_filtered[['Pclass','Age','Fare']]\n",
    "                     [(td_filtered.Age > 50) & (td_filtered.Pclass == 3)]\n",
    "                     .groupby(['Pclass']).median().Fare)\n",
    "td_filtered[['Fare']] = td_filtered[['Fare']].fillna(missing_fare)"
   ]
  },
  {
   "cell_type": "markdown",
   "metadata": {},
   "source": [
    "### Use `Cabin`'s first letter as sector identifier on the ship"
   ]
  },
  {
   "cell_type": "code",
   "execution_count": 6,
   "metadata": {},
   "outputs": [],
   "source": [
    "# Use first cabin latter to distinguish location on the ship\n",
    "td_filtered.Cabin = td_filtered.Cabin[td_filtered.Cabin.notnull()].apply(lambda c: c[0])"
   ]
  },
  {
   "cell_type": "markdown",
   "metadata": {},
   "source": [
    "### Restore age by title\n",
    "\n",
    "It a known fact that title `Master` belongs to boys.\n",
    "\n",
    ">The abbreviation Mr. has been in use since the fifteenth century, it is a variant of the word master. Master is still occasionally used as a title for a boy, there is no abbreviation.\n",
    "\n",
    "At this point we are going to assign an average kid age to those kids with absent `Age`."
   ]
  },
  {
   "cell_type": "code",
   "execution_count": 7,
   "metadata": {},
   "outputs": [],
   "source": [
    "pd.options.mode.chained_assignment = None\n",
    "masters = td_filtered[(td_filtered.Title == 'Master.')]\n",
    "masters_without_age = masters[(masters.Age.isnull())]\n",
    "master_mean_age = masters[(masters.Age.notnull())]['Age'].mean()\n",
    "masters_without_age['Age'] = master_mean_age\n",
    "td_filtered.update(masters_without_age)"
   ]
  },
  {
   "cell_type": "markdown",
   "metadata": {},
   "source": [
    "\n",
    "\n",
    "### Aggregate redundant titles\n",
    "\n",
    "\n",
    "#### Related to a royalty or possession of a high rank\n",
    "Earl. and Countess. are in the third degree of the U.K. Peerage System known as British nobility (e.g. Prince Edward, Earl of Wessex, of his wife Countess of Wessex).\n",
    "\n",
    "Jonkheer. of person related to the Dutch Nobility System\n",
    "\n",
    "Sir./Dame. of person knighted by the Queen.\n",
    "\n",
    "L.(Lord)/Lady., Don./Dona. - in the U.K., Barons, viscounts, earls, marquesses and their female counterparts can all be referred to as lord or lady instead of their full title, as can their children.\n",
    "\n",
    "#### Military\n",
    "Major., Col., Capt\n",
    "\n",
    "#### Religion\n",
    "Rev. stands for the Reverend, a Christian cleric such as an pastor or priest. \n",
    "\n",
    "#### Academic\n",
    "Dr. of a person who has obtained a doctorate (e.g. PhD).\n",
    "\n",
    "#### Unknown marital status\n",
    "Mr./Ms.\n",
    "\n",
    "#### Unmarried woman\n",
    "Miss. \n",
    "Mlle. stands for Mademoiselle in French\n",
    "\n",
    "#### Married woman\n",
    "Mrs. is a title of married or widowed woman\n",
    "\n",
    "Mme. stands for Madame in French"
   ]
  },
  {
   "cell_type": "code",
   "execution_count": 8,
   "metadata": {},
   "outputs": [
    {
     "data": {
      "text/plain": [
       "Title\n",
       "Academic       8\n",
       "Child         61\n",
       "High rank      7\n",
       "Married      204\n",
       "Religion       8\n",
       "Undefined    759\n",
       "Unmarried    262\n",
       "dtype: int64"
      ]
     },
     "execution_count": 8,
     "metadata": {},
     "output_type": "execute_result"
    }
   ],
   "source": [
    "sorted(td_merged.Title.unique())\n",
    "\n",
    "# Countess., Jonkheer., Sir., Dame., L., Lady., Don., Dona. -> High rank\n",
    "# Major., Col., Capt. -> Military\n",
    "# Rev. -> Religion\n",
    "# Dr. -> Academic\n",
    "# Mrs., Mme. -> Married\n",
    "# Miss., Mlle. -> Unmarried\n",
    "# Master -> Child\n",
    "# Mr., Ms. -> Unknown\n",
    "\n",
    "# of a High rank\n",
    "td_filtered.Title[(td_filtered.Title.isin(['Countess.', 'Jonkheer.', 'Sir.', 'Dame.', 'L.', 'Lady.', 'Don.', 'Dona.']))] = 'High rank'\n",
    "# Married\n",
    "td_filtered.Title[(td_filtered.Title.isin(['Mrs.','Mme.']))] = 'Married'\n",
    "# Unmarried\n",
    "td_filtered.Title[(td_filtered.Title.isin(['Miss.','Mlle.']))] = 'Unmarried'\n",
    "# Academic\n",
    "td_filtered.Title[(td_filtered.Title.isin(['Dr.']))] = 'Academic'\n",
    "# Unknown\n",
    "td_filtered.Title[(td_filtered.Title.isin(['Mr.','Ms.']))] = 'Undefined'\n",
    "# Child\n",
    "td_filtered.Title[(td_filtered.Title.isin(['Master.']))] = 'Child'\n",
    "# Religion\n",
    "td_filtered.Title[(td_filtered.Title.isin(['Rev.']))] = 'Religion'\n",
    "# Military\n",
    "td_filtered.Title[(td_filtered.Title.isin(['Major.', 'Col.', 'Capt.']))] = 'Married'\n",
    "\n",
    "td_filtered.groupby('Title').size()"
   ]
  },
  {
   "cell_type": "markdown",
   "metadata": {},
   "source": [
    "### Setting family category"
   ]
  },
  {
   "cell_type": "code",
   "execution_count": 9,
   "metadata": {},
   "outputs": [
    {
     "data": {
      "text/html": [
       "<div>\n",
       "<style scoped>\n",
       "    .dataframe tbody tr th:only-of-type {\n",
       "        vertical-align: middle;\n",
       "    }\n",
       "\n",
       "    .dataframe tbody tr th {\n",
       "        vertical-align: top;\n",
       "    }\n",
       "\n",
       "    .dataframe thead th {\n",
       "        text-align: right;\n",
       "    }\n",
       "</style>\n",
       "<table border=\"1\" class=\"dataframe\">\n",
       "  <thead>\n",
       "    <tr style=\"text-align: right;\">\n",
       "      <th>Pclass</th>\n",
       "      <th>1.0</th>\n",
       "      <th>2.0</th>\n",
       "      <th>3.0</th>\n",
       "    </tr>\n",
       "    <tr>\n",
       "      <th>FamilyCategory</th>\n",
       "      <th></th>\n",
       "      <th></th>\n",
       "      <th></th>\n",
       "    </tr>\n",
       "  </thead>\n",
       "  <tbody>\n",
       "    <tr>\n",
       "      <th>Single</th>\n",
       "      <td>160</td>\n",
       "      <td>158</td>\n",
       "      <td>472</td>\n",
       "    </tr>\n",
       "    <tr>\n",
       "      <th>Small</th>\n",
       "      <td>104</td>\n",
       "      <td>52</td>\n",
       "      <td>79</td>\n",
       "    </tr>\n",
       "    <tr>\n",
       "      <th>Medium</th>\n",
       "      <td>39</td>\n",
       "      <td>45</td>\n",
       "      <td>75</td>\n",
       "    </tr>\n",
       "    <tr>\n",
       "      <th>Large</th>\n",
       "      <td>9</td>\n",
       "      <td>20</td>\n",
       "      <td>14</td>\n",
       "    </tr>\n",
       "  </tbody>\n",
       "</table>\n",
       "</div>"
      ],
      "text/plain": [
       "Pclass          1.0  2.0  3.0\n",
       "FamilyCategory               \n",
       "Single          160  158  472\n",
       "Small           104   52   79\n",
       "Medium           39   45   75\n",
       "Large             9   20   14"
      ]
     },
     "execution_count": 9,
     "metadata": {},
     "output_type": "execute_result"
    }
   ],
   "source": [
    "td_family_size = td_filtered.copy()\n",
    "td_family_size['FamilySize'] = (td_filtered.SibSp + td_filtered.Parch + 1)\n",
    "td_filtered['FamilyCategory'] = pd.cut(td_family_size.FamilySize,[0,1,2,3,4],labels=['Single','Small','Medium','Large'],duplicates='drop')\n",
    "td_filtered.groupby(['FamilyCategory','Pclass']).size().unstack()"
   ]
  },
  {
   "cell_type": "markdown",
   "metadata": {
    "slideshow": {
     "slide_type": "slide"
    }
   },
   "source": [
    "## Categorical feature encoding\n",
    "* `Sex` - we have discovered only 2 possible genders in the data: _male_ and _female_\n",
    "* `Ticket` - some tickets are reoccurring, perhaps shared among passengers tagging along in group (family members, tourists, friends, etc.)\n",
    "* `Cabin` - Some cabins are also shared among passengers\n",
    "* `Embarked` - this feature has 3 ports, some of the passengers (2 ladies from _Southampton_ ) have this field missing, we will manually populate those entries, as this information is publically available\n",
    "* `Title` - We will extract title (_Mr._ , _Ms._ , _Mrs._ , etc.) from the name. Perhaps, it's worth to have a look at surname, and play around with that feature to predict survival rate of particular family members but for now we will drop it and use title only.\n",
    "\n",
    "Apart from `Name`, we are also dropping `PassengerId` to avoid our models allocating excessive weights to irrelevant features."
   ]
  },
  {
   "cell_type": "code",
   "execution_count": 10,
   "metadata": {},
   "outputs": [],
   "source": [
    "categorical_features = ['Sex','Cabin','Embarked', 'Title','FamilyCategory','Ticket']\n",
    "encoders = dict()\n",
    "for feature in categorical_features:\n",
    "    enc = LabelEncoder()\n",
    "    encoders[feature] = enc\n",
    "    td_filtered.loc[:,feature] = enc.fit_transform(td_filtered[feature].astype(str))"
   ]
  },
  {
   "cell_type": "markdown",
   "metadata": {},
   "source": [
    "## Feature relationship analysis\n",
    "\n",
    "In this step we will discover how different features correlate with each other and prepare a set of important variables to feed to our predictive models later.\n",
    "\n",
    "### Heatmap"
   ]
  },
  {
   "cell_type": "code",
   "execution_count": 11,
   "metadata": {
    "slideshow": {
     "slide_type": "fragment"
    }
   },
   "outputs": [
    {
     "data": {
      "image/png": "[encoded data removed]",
      "text/plain": [
       "<Figure size 720x576 with 2 Axes>"
      ]
     },
     "metadata": {},
     "output_type": "display_data"
    },
    {
     "data": {
      "text/html": [
       "<div>\n",
       "<style scoped>\n",
       "    .dataframe tbody tr th:only-of-type {\n",
       "        vertical-align: middle;\n",
       "    }\n",
       "\n",
       "    .dataframe tbody tr th {\n",
       "        vertical-align: top;\n",
       "    }\n",
       "\n",
       "    .dataframe thead th {\n",
       "        text-align: right;\n",
       "    }\n",
       "</style>\n",
       "<table border=\"1\" class=\"dataframe\">\n",
       "  <thead>\n",
       "    <tr style=\"text-align: right;\">\n",
       "      <th></th>\n",
       "      <th>Survived</th>\n",
       "      <th>Pclass</th>\n",
       "      <th>Sex</th>\n",
       "      <th>Age</th>\n",
       "      <th>SibSp</th>\n",
       "      <th>Parch</th>\n",
       "      <th>Ticket</th>\n",
       "      <th>Fare</th>\n",
       "      <th>Cabin</th>\n",
       "      <th>Embarked</th>\n",
       "      <th>Title</th>\n",
       "      <th>FamilyCategory</th>\n",
       "    </tr>\n",
       "  </thead>\n",
       "  <tbody>\n",
       "    <tr>\n",
       "      <th>Survived</th>\n",
       "      <td>1.00</td>\n",
       "      <td>-3.38e-01</td>\n",
       "      <td>-0.54</td>\n",
       "      <td>-0.08</td>\n",
       "      <td>-3.53e-02</td>\n",
       "      <td>0.08</td>\n",
       "      <td>-0.17</td>\n",
       "      <td>0.26</td>\n",
       "      <td>-3.01e-01</td>\n",
       "      <td>-1.68e-01</td>\n",
       "      <td>-0.14</td>\n",
       "      <td>-1.12e-01</td>\n",
       "    </tr>\n",
       "    <tr>\n",
       "      <th>Pclass</th>\n",
       "      <td>-0.34</td>\n",
       "      <td>1.00e+00</td>\n",
       "      <td>0.12</td>\n",
       "      <td>-0.41</td>\n",
       "      <td>6.08e-02</td>\n",
       "      <td>0.02</td>\n",
       "      <td>0.31</td>\n",
       "      <td>-0.56</td>\n",
       "      <td>7.35e-01</td>\n",
       "      <td>1.85e-01</td>\n",
       "      <td>0.11</td>\n",
       "      <td>-4.59e-04</td>\n",
       "    </tr>\n",
       "    <tr>\n",
       "      <th>Sex</th>\n",
       "      <td>-0.54</td>\n",
       "      <td>1.25e-01</td>\n",
       "      <td>1.00</td>\n",
       "      <td>0.05</td>\n",
       "      <td>-1.10e-01</td>\n",
       "      <td>-0.21</td>\n",
       "      <td>0.02</td>\n",
       "      <td>-0.19</td>\n",
       "      <td>1.25e-01</td>\n",
       "      <td>9.80e-02</td>\n",
       "      <td>-0.02</td>\n",
       "      <td>-2.57e-02</td>\n",
       "    </tr>\n",
       "    <tr>\n",
       "      <th>Age</th>\n",
       "      <td>-0.08</td>\n",
       "      <td>-4.14e-01</td>\n",
       "      <td>0.05</td>\n",
       "      <td>1.00</td>\n",
       "      <td>-2.53e-01</td>\n",
       "      <td>-0.16</td>\n",
       "      <td>-0.09</td>\n",
       "      <td>0.18</td>\n",
       "      <td>-3.16e-01</td>\n",
       "      <td>-7.02e-02</td>\n",
       "      <td>0.03</td>\n",
       "      <td>4.85e-02</td>\n",
       "    </tr>\n",
       "    <tr>\n",
       "      <th>SibSp</th>\n",
       "      <td>-0.04</td>\n",
       "      <td>6.08e-02</td>\n",
       "      <td>-0.11</td>\n",
       "      <td>-0.25</td>\n",
       "      <td>1.00e+00</td>\n",
       "      <td>0.37</td>\n",
       "      <td>0.06</td>\n",
       "      <td>0.16</td>\n",
       "      <td>7.95e-03</td>\n",
       "      <td>6.56e-02</td>\n",
       "      <td>-0.23</td>\n",
       "      <td>3.55e-01</td>\n",
       "    </tr>\n",
       "    <tr>\n",
       "      <th>Parch</th>\n",
       "      <td>0.08</td>\n",
       "      <td>1.83e-02</td>\n",
       "      <td>-0.21</td>\n",
       "      <td>-0.16</td>\n",
       "      <td>3.74e-01</td>\n",
       "      <td>1.00</td>\n",
       "      <td>0.05</td>\n",
       "      <td>0.22</td>\n",
       "      <td>-3.44e-02</td>\n",
       "      <td>4.48e-02</td>\n",
       "      <td>-0.25</td>\n",
       "      <td>8.28e-02</td>\n",
       "    </tr>\n",
       "    <tr>\n",
       "      <th>Ticket</th>\n",
       "      <td>-0.17</td>\n",
       "      <td>3.10e-01</td>\n",
       "      <td>0.02</td>\n",
       "      <td>-0.09</td>\n",
       "      <td>6.39e-02</td>\n",
       "      <td>0.05</td>\n",
       "      <td>1.00</td>\n",
       "      <td>-0.01</td>\n",
       "      <td>2.33e-01</td>\n",
       "      <td>3.15e-02</td>\n",
       "      <td>0.05</td>\n",
       "      <td>6.11e-02</td>\n",
       "    </tr>\n",
       "    <tr>\n",
       "      <th>Fare</th>\n",
       "      <td>0.26</td>\n",
       "      <td>-5.59e-01</td>\n",
       "      <td>-0.19</td>\n",
       "      <td>0.18</td>\n",
       "      <td>1.60e-01</td>\n",
       "      <td>0.22</td>\n",
       "      <td>-0.01</td>\n",
       "      <td>1.00</td>\n",
       "      <td>-5.47e-01</td>\n",
       "      <td>-2.38e-01</td>\n",
       "      <td>-0.08</td>\n",
       "      <td>1.26e-01</td>\n",
       "    </tr>\n",
       "    <tr>\n",
       "      <th>Cabin</th>\n",
       "      <td>-0.30</td>\n",
       "      <td>7.35e-01</td>\n",
       "      <td>0.13</td>\n",
       "      <td>-0.32</td>\n",
       "      <td>7.95e-03</td>\n",
       "      <td>-0.03</td>\n",
       "      <td>0.23</td>\n",
       "      <td>-0.55</td>\n",
       "      <td>1.00e+00</td>\n",
       "      <td>2.31e-01</td>\n",
       "      <td>0.10</td>\n",
       "      <td>-4.70e-02</td>\n",
       "    </tr>\n",
       "    <tr>\n",
       "      <th>Embarked</th>\n",
       "      <td>-0.17</td>\n",
       "      <td>1.85e-01</td>\n",
       "      <td>0.10</td>\n",
       "      <td>-0.07</td>\n",
       "      <td>6.56e-02</td>\n",
       "      <td>0.04</td>\n",
       "      <td>0.03</td>\n",
       "      <td>-0.24</td>\n",
       "      <td>2.31e-01</td>\n",
       "      <td>1.00e+00</td>\n",
       "      <td>0.02</td>\n",
       "      <td>-3.44e-03</td>\n",
       "    </tr>\n",
       "    <tr>\n",
       "      <th>Title</th>\n",
       "      <td>-0.14</td>\n",
       "      <td>1.08e-01</td>\n",
       "      <td>-0.02</td>\n",
       "      <td>0.03</td>\n",
       "      <td>-2.26e-01</td>\n",
       "      <td>-0.25</td>\n",
       "      <td>0.05</td>\n",
       "      <td>-0.08</td>\n",
       "      <td>1.01e-01</td>\n",
       "      <td>2.23e-02</td>\n",
       "      <td>1.00</td>\n",
       "      <td>-4.79e-02</td>\n",
       "    </tr>\n",
       "    <tr>\n",
       "      <th>FamilyCategory</th>\n",
       "      <td>-0.11</td>\n",
       "      <td>-4.59e-04</td>\n",
       "      <td>-0.03</td>\n",
       "      <td>0.05</td>\n",
       "      <td>3.55e-01</td>\n",
       "      <td>0.08</td>\n",
       "      <td>0.06</td>\n",
       "      <td>0.13</td>\n",
       "      <td>-4.70e-02</td>\n",
       "      <td>-3.44e-03</td>\n",
       "      <td>-0.05</td>\n",
       "      <td>1.00e+00</td>\n",
       "    </tr>\n",
       "  </tbody>\n",
       "</table>\n",
       "</div>"
      ],
      "text/plain": [
       "                Survived    Pclass   Sex   Age     SibSp  Parch  Ticket  Fare  \\\n",
       "Survived            1.00 -3.38e-01 -0.54 -0.08 -3.53e-02   0.08   -0.17  0.26   \n",
       "Pclass             -0.34  1.00e+00  0.12 -0.41  6.08e-02   0.02    0.31 -0.56   \n",
       "Sex                -0.54  1.25e-01  1.00  0.05 -1.10e-01  -0.21    0.02 -0.19   \n",
       "Age                -0.08 -4.14e-01  0.05  1.00 -2.53e-01  -0.16   -0.09  0.18   \n",
       "SibSp              -0.04  6.08e-02 -0.11 -0.25  1.00e+00   0.37    0.06  0.16   \n",
       "Parch               0.08  1.83e-02 -0.21 -0.16  3.74e-01   1.00    0.05  0.22   \n",
       "Ticket             -0.17  3.10e-01  0.02 -0.09  6.39e-02   0.05    1.00 -0.01   \n",
       "Fare                0.26 -5.59e-01 -0.19  0.18  1.60e-01   0.22   -0.01  1.00   \n",
       "Cabin              -0.30  7.35e-01  0.13 -0.32  7.95e-03  -0.03    0.23 -0.55   \n",
       "Embarked           -0.17  1.85e-01  0.10 -0.07  6.56e-02   0.04    0.03 -0.24   \n",
       "Title              -0.14  1.08e-01 -0.02  0.03 -2.26e-01  -0.25    0.05 -0.08   \n",
       "FamilyCategory     -0.11 -4.59e-04 -0.03  0.05  3.55e-01   0.08    0.06  0.13   \n",
       "\n",
       "                   Cabin  Embarked  Title  FamilyCategory  \n",
       "Survived       -3.01e-01 -1.68e-01  -0.14       -1.12e-01  \n",
       "Pclass          7.35e-01  1.85e-01   0.11       -4.59e-04  \n",
       "Sex             1.25e-01  9.80e-02  -0.02       -2.57e-02  \n",
       "Age            -3.16e-01 -7.02e-02   0.03        4.85e-02  \n",
       "SibSp           7.95e-03  6.56e-02  -0.23        3.55e-01  \n",
       "Parch          -3.44e-02  4.48e-02  -0.25        8.28e-02  \n",
       "Ticket          2.33e-01  3.15e-02   0.05        6.11e-02  \n",
       "Fare           -5.47e-01 -2.38e-01  -0.08        1.26e-01  \n",
       "Cabin           1.00e+00  2.31e-01   0.10       -4.70e-02  \n",
       "Embarked        2.31e-01  1.00e+00   0.02       -3.44e-03  \n",
       "Title           1.01e-01  2.23e-02   1.00       -4.79e-02  \n",
       "FamilyCategory -4.70e-02 -3.44e-03  -0.05        1.00e+00  "
      ]
     },
     "execution_count": 11,
     "metadata": {},
     "output_type": "execute_result"
    }
   ],
   "source": [
    "pd.set_option('precision',2)\n",
    "plt.figure(figsize=(10, 8))\n",
    "sns.heatmap(td_filtered.corr())\n",
    "plt.suptitle(\"Pearson Correlation Heatmap\")\n",
    "plt.show();\n",
    "td_filtered.corr()"
   ]
  },
  {
   "cell_type": "markdown",
   "metadata": {},
   "source": [
    "### Closer look on `Gender`, `Age` and `Class` "
   ]
  },
  {
   "cell_type": "markdown",
   "metadata": {},
   "source": [
    "From age and gender insights we can observe that passengers of the First class got the best survival rate followed by the Second class and the Third as the last one. Probably because passengers of the 3rd class ended up to be locked in their cabins, that might have been done to reduce sinking rate of the ship so that more lifes could have be saved."
   ]
  },
  {
   "cell_type": "code",
   "execution_count": 12,
   "metadata": {},
   "outputs": [
    {
     "data": {
      "image/png": "[encoded data removed]",
      "text/plain": [
       "<Figure size 1141.55x360 with 3 Axes>"
      ]
     },
     "metadata": {},
     "output_type": "display_data"
    }
   ],
   "source": [
    "ax = sns.catplot(x='Sex', y='Age', hue='Survived', data=td_filtered, kind=\"box\", col='Pclass',\n",
    "               palette=['lightpink','lightgreen'])"
   ]
  },
  {
   "cell_type": "markdown",
   "metadata": {},
   "source": [
    "## Feature recovery"
   ]
  },
  {
   "cell_type": "markdown",
   "metadata": {},
   "source": [
    "### Regression analysis of `Age`\n",
    "\n",
    "For this model we are going to drop `Ticket` feature here, as it reduces error rate of prediction."
   ]
  },
  {
   "cell_type": "code",
   "execution_count": 13,
   "metadata": {},
   "outputs": [],
   "source": [
    "td_with_age = td_filtered[(~td_filtered.Age.isnull())]\n",
    "td_without_age = td_filtered[(td_filtered.Age.isnull())].drop(['Age'], axis=1)\n",
    "\n",
    "X = td_with_age.drop(['Age'], axis=1)\n",
    "Y = td_with_age.Age\n",
    "\n",
    "X_train, X_test, y_train, y_test = train_test_split(X, Y, test_size=0.05, random_state=10)\n"
   ]
  },
  {
   "cell_type": "markdown",
   "metadata": {},
   "source": [
    "#### Gradient boosting with LightGBM"
   ]
  },
  {
   "cell_type": "code",
   "execution_count": 14,
   "metadata": {},
   "outputs": [
    {
     "name": "stdout",
     "output_type": "stream",
     "text": [
      "R2 Score (best is 1.0): 0.413632253065786\n",
      "MedAE (the smaller the better): 7.7251463048737605\n",
      "Max Error: 19.660476886331566\n",
      "ExpVar score (best is 1.0): 0.5105419740928383\n",
      "RMSE: 9.420133527623808\n"
     ]
    },
    {
     "data": {
      "image/png": "[encoded data removed]",
      "text/plain": [
       "<Figure size 432x288 with 1 Axes>"
      ]
     },
     "metadata": {},
     "output_type": "display_data"
    }
   ],
   "source": [
    "params = {\n",
    "    'boosting_type': 'gbdt',\n",
    "    'objective': 'regression',\n",
    "    'metric': {'l2', 'l1'},\n",
    "    'learning_rate': 0.05,\n",
    "    'feature_fraction': 0.8,\n",
    "    'bagging_fraction': 0.9,\n",
    "    'bagging_freq': 5,\n",
    "    'num_threads': threading.active_count(),\n",
    "}\n",
    "\n",
    "# create dataset for lightgbm\n",
    "lgb_train = lgb.Dataset(X_train, y_train)\n",
    "lgb_eval = lgb.Dataset(X_test, y_test, reference=lgb_train)\n",
    "\n",
    "modelLGB = lgb.train(params,\n",
    "                lgb_train,\n",
    "                num_boost_round=50,\n",
    "                valid_sets=lgb_eval,\n",
    "                early_stopping_rounds=10, verbose_eval=0)\n",
    "\n",
    "predictions = modelLGB.predict(X_test, num_iteration=modelLGB.best_iteration)\n",
    "\n",
    "print('R2 Score (best is 1.0): %s' % r2_score(y_test.to_numpy(), predictions))\n",
    "print('MedAE (the smaller the better): %s' % median_absolute_error(y_true=y_test.to_numpy(),y_pred=predictions))\n",
    "print('Max Error: %s' % max_error(y_true=y_test.to_numpy(),y_pred=predictions))\n",
    "print('ExpVar score (best is 1.0): %s' % explained_variance_score(y_true=y_test.to_numpy(),y_pred=predictions))\n",
    "print('RMSE:', mean_squared_error(y_test, predictions) ** 0.5)\n",
    "\n",
    "feature_importance = pd.DataFrame()\n",
    "feature_importance['Score'] = modelLGB.feature_importance()\n",
    "feature_importance['Feature'] = modelLGB.feature_name()\n",
    "feature_importance = feature_importance.sort_values(by='Score',ascending=False)\n",
    "\n",
    "temp = pd.DataFrame()\n",
    "temp['Actual'] = y_test\n",
    "temp['Predicted'] = predictions\n",
    "\n",
    "ax = sns.regplot(x='Actual',y='Predicted',data=temp)"
   ]
  },
  {
   "cell_type": "code",
   "execution_count": 15,
   "metadata": {},
   "outputs": [
    {
     "data": {
      "image/png": "[encoded data removed]",
      "text/plain": [
       "<Figure size 432x288 with 1 Axes>"
      ]
     },
     "metadata": {},
     "output_type": "display_data"
    }
   ],
   "source": [
    "ax = sns.barplot(x='Score',y='Feature',data=feature_importance, palette=\"Purples_d\", orient='h')"
   ]
  },
  {
   "cell_type": "markdown",
   "metadata": {},
   "source": [
    "#### Gradient boosting with XGBoost"
   ]
  },
  {
   "cell_type": "code",
   "execution_count": 16,
   "metadata": {},
   "outputs": [
    {
     "name": "stdout",
     "output_type": "stream",
     "text": [
      "R2 Score (best is 1.0): 0.5605619120471698\n",
      "MedAE (the smaller the better): 5.6801910400390625\n",
      "Max Error: 19.14730453491211\n",
      "ExpVar score (best is 1.0): 0.5630424569042021\n",
      "RMSE: 8.154941876776922\n"
     ]
    },
    {
     "data": {
      "image/png": "[encoded data removed]",
      "text/plain": [
       "<Figure size 432x288 with 1 Axes>"
      ]
     },
     "metadata": {},
     "output_type": "display_data"
    },
    {
     "data": {
      "image/png": "[encoded data removed]",
      "text/plain": [
       "<Figure size 432x288 with 1 Axes>"
      ]
     },
     "metadata": {},
     "output_type": "display_data"
    }
   ],
   "source": [
    "modelXGB = XGBRegressor(n_estimators=100)\n",
    "modelXGB.fit(X_train, y_train, early_stopping_rounds=10, \n",
    "             eval_set=[(X_test, y_test)], verbose=False)\n",
    "predictions = modelXGB.predict(X_test)\n",
    "print('R2 Score (best is 1.0): %s' % r2_score(y_test.to_numpy(), predictions))\n",
    "print('MedAE (the smaller the better): %s' % median_absolute_error(y_true=y_test.to_numpy(),y_pred=predictions))\n",
    "print('Max Error: %s' % max_error(y_true=y_test.to_numpy(),y_pred=predictions))\n",
    "print('ExpVar score (best is 1.0): %s' % explained_variance_score(y_true=y_test.to_numpy(),y_pred=predictions))\n",
    "print('RMSE:', mean_squared_error(y_test, predictions) ** 0.5)\n",
    "\n",
    "temp = pd.DataFrame()\n",
    "temp['Actual'] = y_test\n",
    "temp['Predicted'] = predictions\n",
    "sns.regplot(x='Actual',y='Predicted',data=temp)\n",
    "\n",
    "plot_importance(modelXGB)\n",
    "\n",
    "plt.show()"
   ]
  },
  {
   "cell_type": "markdown",
   "metadata": {},
   "source": [
    "Looks like **XGBoost** does a better job at regression. \n",
    "\n",
    "We will go with the results produced by **XGBoost** in this case as the predictions indicates slightly lower error rates comparing to **LightGBM**"
   ]
  },
  {
   "cell_type": "markdown",
   "metadata": {},
   "source": [
    "#### Populating missing `Age` values with results of our prediction"
   ]
  },
  {
   "cell_type": "code",
   "execution_count": 17,
   "metadata": {},
   "outputs": [
    {
     "name": "stdout",
     "output_type": "stream",
     "text": [
      "<class 'pandas.core.frame.DataFrame'>\n",
      "RangeIndex: 1309 entries, 0 to 1308\n",
      "Data columns (total 12 columns):\n",
      " #   Column          Non-Null Count  Dtype  \n",
      "---  ------          --------------  -----  \n",
      " 0   Survived        891 non-null    float64\n",
      " 1   Pclass          1309 non-null   float64\n",
      " 2   Sex             1309 non-null   int64  \n",
      " 3   Age             1309 non-null   float64\n",
      " 4   SibSp           1309 non-null   float64\n",
      " 5   Parch           1309 non-null   float64\n",
      " 6   Ticket          1309 non-null   int64  \n",
      " 7   Fare            1309 non-null   float64\n",
      " 8   Cabin           1309 non-null   int64  \n",
      " 9   Embarked        1309 non-null   int64  \n",
      " 10  Title           1309 non-null   int64  \n",
      " 11  FamilyCategory  1309 non-null   int64  \n",
      "dtypes: float64(6), int64(6)\n",
      "memory usage: 122.8 KB\n"
     ]
    }
   ],
   "source": [
    "predictions = modelXGB.predict(td_without_age)\n",
    "td_age_restored = td_without_age.copy()\n",
    "td_age_restored.loc[:,'Age'] = predictions\n",
    "td_filtered.update(td_with_age.append(td_age_restored))\n",
    "td_filtered.info()"
   ]
  },
  {
   "cell_type": "markdown",
   "metadata": {},
   "source": [
    "### Classification of missing `Cabin` (sector of the ship) values"
   ]
  },
  {
   "cell_type": "code",
   "execution_count": 18,
   "metadata": {},
   "outputs": [],
   "source": [
    "td_with_cabin = td_filtered[(td_filtered.Cabin.notna())].drop(['Survived'], axis=1)\n",
    "td_without_cabin = td_filtered[(td_filtered.Cabin.isna())].drop(['Cabin','Survived'], axis=1)\n",
    "\n",
    "X = td_with_cabin.drop(['Cabin'], axis=1)\n",
    "\n",
    "input_features = X.columns.values\n",
    "n_input_features = len(input_features)\n",
    "n_output_feature = len(td_with_cabin.Cabin.unique())\n",
    "\n",
    "Y = td_with_cabin.Cabin\n",
    "\n",
    "X_train, X_test, y_train, y_test = train_test_split(X, Y, test_size=0.05, random_state=10)"
   ]
  },
  {
   "cell_type": "markdown",
   "metadata": {},
   "source": [
    "#### Predicting with multiple layer Neural Networks (Keras & TF)"
   ]
  },
  {
   "cell_type": "code",
   "execution_count": 19,
   "metadata": {},
   "outputs": [
    {
     "name": "stdout",
     "output_type": "stream",
     "text": [
      "Model: \"sequential_1\"\n",
      "_________________________________________________________________\n",
      "Layer (type)                 Output Shape              Param #   \n",
      "=================================================================\n",
      "dense_1 (Dense)              (None, 10)                110       \n",
      "_________________________________________________________________\n",
      "dense_2 (Dense)              (None, 40)                440       \n",
      "_________________________________________________________________\n",
      "dense_3 (Dense)              (None, 40)                1640      \n",
      "_________________________________________________________________\n",
      "dropout_1 (Dropout)          (None, 40)                0         \n",
      "_________________________________________________________________\n",
      "dense_4 (Dense)              (None, 9)                 369       \n",
      "=================================================================\n",
      "Total params: 2,559\n",
      "Trainable params: 2,559\n",
      "Non-trainable params: 0\n",
      "_________________________________________________________________\n",
      "Train on 1243 samples, validate on 66 samples\n",
      "Epoch 1/30\n",
      "1243/1243 [==============================] - 0s 176us/step - loss: 15.3115 - accuracy: 0.5237 - val_loss: 2.2682 - val_accuracy: 0.7879\n",
      "Epoch 2/30\n",
      "1243/1243 [==============================] - 0s 46us/step - loss: 4.8624 - accuracy: 0.6613 - val_loss: 0.9225 - val_accuracy: 0.8182\n",
      "Epoch 3/30\n",
      "1243/1243 [==============================] - 0s 50us/step - loss: 3.1765 - accuracy: 0.6251 - val_loss: 0.6677 - val_accuracy: 0.8182\n",
      "Epoch 4/30\n",
      "1243/1243 [==============================] - 0s 48us/step - loss: 2.4985 - accuracy: 0.6734 - val_loss: 0.6739 - val_accuracy: 0.8182\n",
      "Epoch 5/30\n",
      "1243/1243 [==============================] - 0s 71us/step - loss: 1.6571 - accuracy: 0.7112 - val_loss: 0.5252 - val_accuracy: 0.8333\n",
      "Epoch 6/30\n",
      "1243/1243 [==============================] - 0s 72us/step - loss: 1.2223 - accuracy: 0.7353 - val_loss: 0.5227 - val_accuracy: 0.8333\n",
      "Epoch 7/30\n",
      "1243/1243 [==============================] - 0s 78us/step - loss: 0.9672 - accuracy: 0.7667 - val_loss: 0.5950 - val_accuracy: 0.8485\n",
      "Epoch 8/30\n",
      "1243/1243 [==============================] - 0s 44us/step - loss: 0.8947 - accuracy: 0.7892 - val_loss: 0.5801 - val_accuracy: 0.8485\n",
      "Epoch 9/30\n",
      "1243/1243 [==============================] - 0s 52us/step - loss: 0.8623 - accuracy: 0.7924 - val_loss: 0.5259 - val_accuracy: 0.8636\n",
      "Epoch 10/30\n",
      "1243/1243 [==============================] - 0s 57us/step - loss: 0.8661 - accuracy: 0.8085 - val_loss: 0.5609 - val_accuracy: 0.8485\n",
      "Epoch 11/30\n",
      "1243/1243 [==============================] - 0s 50us/step - loss: 0.8340 - accuracy: 0.8069 - val_loss: 0.5419 - val_accuracy: 0.8485\n",
      "Epoch 12/30\n",
      "1243/1243 [==============================] - 0s 49us/step - loss: 0.7949 - accuracy: 0.8053 - val_loss: 0.6117 - val_accuracy: 0.8182\n",
      "Epoch 13/30\n",
      "1243/1243 [==============================] - 0s 53us/step - loss: 0.7937 - accuracy: 0.7973 - val_loss: 0.5681 - val_accuracy: 0.8333\n",
      "Epoch 14/30\n",
      "1243/1243 [==============================] - 0s 53us/step - loss: 0.7776 - accuracy: 0.8069 - val_loss: 0.5813 - val_accuracy: 0.8182\n",
      "Epoch 15/30\n",
      "1243/1243 [==============================] - 0s 62us/step - loss: 0.7690 - accuracy: 0.8061 - val_loss: 0.6481 - val_accuracy: 0.8182\n",
      "Epoch 16/30\n",
      "1243/1243 [==============================] - 0s 46us/step - loss: 0.7738 - accuracy: 0.8053 - val_loss: 0.5151 - val_accuracy: 0.8333\n",
      "Epoch 17/30\n",
      "1243/1243 [==============================] - 0s 51us/step - loss: 0.7101 - accuracy: 0.8117 - val_loss: 0.5577 - val_accuracy: 0.8333\n",
      "Epoch 18/30\n",
      "1243/1243 [==============================] - 0s 51us/step - loss: 0.7303 - accuracy: 0.8109 - val_loss: 0.5786 - val_accuracy: 0.8333\n",
      "Epoch 19/30\n",
      "1243/1243 [==============================] - 0s 48us/step - loss: 0.7356 - accuracy: 0.8053 - val_loss: 0.6230 - val_accuracy: 0.8030\n",
      "Epoch 20/30\n",
      "1243/1243 [==============================] - 0s 52us/step - loss: 0.7096 - accuracy: 0.8069 - val_loss: 0.5526 - val_accuracy: 0.8333\n",
      "Epoch 21/30\n",
      "1243/1243 [==============================] - 0s 42us/step - loss: 0.7062 - accuracy: 0.8134 - val_loss: 0.5744 - val_accuracy: 0.8182\n",
      "Epoch 22/30\n",
      "1243/1243 [==============================] - 0s 52us/step - loss: 0.6736 - accuracy: 0.8117 - val_loss: 0.5431 - val_accuracy: 0.8182\n",
      "Epoch 23/30\n",
      "1243/1243 [==============================] - 0s 50us/step - loss: 0.6741 - accuracy: 0.8077 - val_loss: 0.5908 - val_accuracy: 0.8030\n",
      "Epoch 24/30\n",
      "1243/1243 [==============================] - 0s 41us/step - loss: 0.6802 - accuracy: 0.8109 - val_loss: 0.5689 - val_accuracy: 0.8182\n",
      "Epoch 25/30\n",
      "1243/1243 [==============================] - 0s 50us/step - loss: 0.6778 - accuracy: 0.8029 - val_loss: 0.5114 - val_accuracy: 0.8333\n",
      "Epoch 26/30\n",
      "1243/1243 [==============================] - 0s 41us/step - loss: 0.6865 - accuracy: 0.8077 - val_loss: 0.5872 - val_accuracy: 0.8030\n",
      "Epoch 27/30\n",
      "1243/1243 [==============================] - 0s 56us/step - loss: 0.6604 - accuracy: 0.8117 - val_loss: 0.6628 - val_accuracy: 0.8030\n",
      "Epoch 28/30\n",
      "1243/1243 [==============================] - 0s 48us/step - loss: 0.6612 - accuracy: 0.8085 - val_loss: 0.5356 - val_accuracy: 0.8182\n",
      "Epoch 29/30\n",
      "1243/1243 [==============================] - 0s 60us/step - loss: 0.6276 - accuracy: 0.8174 - val_loss: 0.6542 - val_accuracy: 0.8182\n",
      "Epoch 30/30\n",
      "1243/1243 [==============================] - 0s 50us/step - loss: 0.6818 - accuracy: 0.8150 - val_loss: 0.8077 - val_accuracy: 0.7576\n",
      "66/66 [==============================] - 0s 50us/step\n",
      "Accuracy: 0.7575757503509521\n",
      "Loss: 0.8077030737291683\n"
     ]
    }
   ],
   "source": [
    "modelNN = Sequential([\n",
    "    Dense(n_input_features, input_dim=n_input_features, activation='relu'),\n",
    "    Dense(n_input_features * 4, activation='relu'),\n",
    "    Dense(n_input_features * 4, activation='relu'),\n",
    "    Dropout(0.1),\n",
    "    Dense(n_output_feature, activation='softmax'),\n",
    "])\n",
    "modelNN.compile(\n",
    "    loss='sparse_categorical_crossentropy',\n",
    "    optimizer='adam',\n",
    "    metrics=['accuracy']\n",
    ")\n",
    "modelNN.summary()\n",
    "modelNN.fit(\n",
    "    X_train, y_train,\n",
    "    epochs=30,\n",
    "    validation_data=(X_test, y_test),\n",
    "    verbose = 1\n",
    ")\n",
    "loss, accuracy = modelNN.evaluate(X_test, y_test)\n",
    "print(\"Accuracy: %s\" % accuracy)\n",
    "print(\"Loss: %s\" % loss)"
   ]
  },
  {
   "cell_type": "markdown",
   "metadata": {},
   "source": [
    "##### Model overview"
   ]
  },
  {
   "cell_type": "markdown",
   "metadata": {},
   "source": [
    "The result produced by the model: **74% of accuracy** and **65% of loss** is somewhat not satisfying at all for this task!"
   ]
  },
  {
   "cell_type": "markdown",
   "metadata": {},
   "source": [
    "#### Trying to classify with XGBoost"
   ]
  },
  {
   "cell_type": "code",
   "execution_count": 20,
   "metadata": {},
   "outputs": [],
   "source": [
    "dtrain = xgb.DMatrix(X_train, label=y_train)\n",
    "dtest = xgb.DMatrix(X_test, label=y_test)\n",
    "params = { \n",
    "    'objective': 'multi:softmax',\n",
    "    'learning_rate': 0.3,\n",
    "    'max_depth': 6,\n",
    "    'eta': 0.1,\n",
    "    'nthread': threading.active_count(),\n",
    "    'num_class': n_output_feature,\n",
    "}\n",
    "modelXGB = xgb.train(params=params,dtrain=dtrain,num_boost_round=100)\n",
    "predictions = modelXGB.predict(dtest)"
   ]
  },
  {
   "cell_type": "markdown",
   "metadata": {},
   "source": [
    "##### Model overview\n",
    "\n",
    "Excellent result - 95% of accuracy!"
   ]
  },
  {
   "cell_type": "code",
   "execution_count": 21,
   "metadata": {},
   "outputs": [
    {
     "name": "stdout",
     "output_type": "stream",
     "text": [
      "Accuracy: 0.9545454545454546\n",
      "Error rate: 0.045454545454545456\n",
      "MSE: 1.3333333333333333\n",
      "MedAE: 0.0\n",
      "Max Error: 6.0\n",
      "ExpVar score: 0.7780525502318393\n"
     ]
    }
   ],
   "source": [
    "print('Accuracy: %s' % accuracy_score(y_test, predictions))\n",
    "print('Error rate: %s' % (np.sum(predictions != y_test) / y_test.shape[0]))\n",
    "print('MSE: %s' % mean_squared_error(y_test, predictions))\n",
    "print('MedAE: %s' % median_absolute_error(y_true=y_test,y_pred=predictions))\n",
    "print('Max Error: %s' % max_error(y_true=y_test,y_pred=predictions))\n",
    "print('ExpVar score: %s' % explained_variance_score(y_true=y_test,y_pred=predictions))"
   ]
  },
  {
   "cell_type": "markdown",
   "metadata": {},
   "source": [
    "#### Populating predicted values"
   ]
  },
  {
   "cell_type": "code",
   "execution_count": 22,
   "metadata": {},
   "outputs": [
    {
     "name": "stdout",
     "output_type": "stream",
     "text": [
      "<class 'pandas.core.frame.DataFrame'>\n",
      "RangeIndex: 1309 entries, 0 to 1308\n",
      "Data columns (total 12 columns):\n",
      " #   Column          Non-Null Count  Dtype  \n",
      "---  ------          --------------  -----  \n",
      " 0   Survived        891 non-null    float64\n",
      " 1   Pclass          1309 non-null   float64\n",
      " 2   Sex             1309 non-null   int64  \n",
      " 3   Age             1309 non-null   float64\n",
      " 4   SibSp           1309 non-null   float64\n",
      " 5   Parch           1309 non-null   float64\n",
      " 6   Ticket          1309 non-null   int64  \n",
      " 7   Fare            1309 non-null   float64\n",
      " 8   Cabin           1309 non-null   int64  \n",
      " 9   Embarked        1309 non-null   int64  \n",
      " 10  Title           1309 non-null   int64  \n",
      " 11  FamilyCategory  1309 non-null   int64  \n",
      "dtypes: float64(6), int64(6)\n",
      "memory usage: 122.8 KB\n"
     ]
    }
   ],
   "source": [
    "predictions = modelXGB.predict(xgb.DMatrix(td_without_cabin))\n",
    "missing_cabins = np.array(predictions,dtype=int)\n",
    "td_cabins_restored = td_without_cabin.copy()\n",
    "td_cabins_restored.loc[:,'Cabin'] = missing_cabins\n",
    "td_filtered.update(td_with_cabin.append(td_cabins_restored))\n",
    "td_filtered['Survived'] = TrainData.Survived\n",
    "td_filtered.info()"
   ]
  },
  {
   "cell_type": "markdown",
   "metadata": {},
   "source": [
    "Now we have all of our missing values recovered except the only one `Survived`. \n",
    "\n",
    "Let's jump to our final goal -- guess who survived and who did not."
   ]
  },
  {
   "cell_type": "markdown",
   "metadata": {},
   "source": [
    "### Classification of `Survived` passengers"
   ]
  },
  {
   "cell_type": "code",
   "execution_count": 23,
   "metadata": {},
   "outputs": [],
   "source": [
    "training_data = td_filtered[(~td_filtered.Survived.isnull())].drop(['Fare'],axis=1)\n",
    "testing_data = td_filtered[(td_filtered.Survived.isnull())].drop(['Survived','Fare'],axis=1)\n",
    "\n",
    "X = training_data.drop(['Survived'],axis=1)\n",
    "Y = training_data.Survived\n",
    "\n",
    "X_train, X_test, y_train, y_test = train_test_split(X, Y, test_size=0.05, random_state=10)"
   ]
  },
  {
   "cell_type": "markdown",
   "metadata": {},
   "source": [
    "#### Binary logistic regression with `LightGBM`"
   ]
  },
  {
   "cell_type": "code",
   "execution_count": 24,
   "metadata": {},
   "outputs": [
    {
     "name": "stdout",
     "output_type": "stream",
     "text": [
      "[1]\tvalid_0's auc: 0.850962\tvalid_0's binary_logloss: 0.603757\n",
      "Training until validation scores don't improve for 10 rounds\n",
      "[2]\tvalid_0's auc: 0.824519\tvalid_0's binary_logloss: 0.587699\n",
      "[3]\tvalid_0's auc: 0.838942\tvalid_0's binary_logloss: 0.57104\n",
      "[4]\tvalid_0's auc: 0.862981\tvalid_0's binary_logloss: 0.555134\n",
      "[5]\tvalid_0's auc: 0.867788\tvalid_0's binary_logloss: 0.541185\n",
      "[6]\tvalid_0's auc: 0.860577\tvalid_0's binary_logloss: 0.529578\n",
      "[7]\tvalid_0's auc: 0.862981\tvalid_0's binary_logloss: 0.518851\n",
      "[8]\tvalid_0's auc: 0.867788\tvalid_0's binary_logloss: 0.508994\n",
      "[9]\tvalid_0's auc: 0.867788\tvalid_0's binary_logloss: 0.499373\n",
      "[10]\tvalid_0's auc: 0.870192\tvalid_0's binary_logloss: 0.490179\n",
      "[11]\tvalid_0's auc: 0.875\tvalid_0's binary_logloss: 0.479415\n",
      "[12]\tvalid_0's auc: 0.879808\tvalid_0's binary_logloss: 0.468586\n",
      "[13]\tvalid_0's auc: 0.882212\tvalid_0's binary_logloss: 0.459442\n",
      "[14]\tvalid_0's auc: 0.884615\tvalid_0's binary_logloss: 0.45015\n",
      "[15]\tvalid_0's auc: 0.884615\tvalid_0's binary_logloss: 0.442293\n",
      "[16]\tvalid_0's auc: 0.887019\tvalid_0's binary_logloss: 0.43557\n",
      "[17]\tvalid_0's auc: 0.889423\tvalid_0's binary_logloss: 0.428966\n",
      "[18]\tvalid_0's auc: 0.884615\tvalid_0's binary_logloss: 0.424637\n",
      "[19]\tvalid_0's auc: 0.884615\tvalid_0's binary_logloss: 0.420719\n",
      "[20]\tvalid_0's auc: 0.879808\tvalid_0's binary_logloss: 0.416658\n",
      "[21]\tvalid_0's auc: 0.877404\tvalid_0's binary_logloss: 0.41294\n",
      "[22]\tvalid_0's auc: 0.877404\tvalid_0's binary_logloss: 0.409542\n",
      "[23]\tvalid_0's auc: 0.877404\tvalid_0's binary_logloss: 0.405429\n",
      "[24]\tvalid_0's auc: 0.882212\tvalid_0's binary_logloss: 0.402791\n",
      "[25]\tvalid_0's auc: 0.884615\tvalid_0's binary_logloss: 0.399171\n",
      "[26]\tvalid_0's auc: 0.887019\tvalid_0's binary_logloss: 0.396409\n",
      "[27]\tvalid_0's auc: 0.889423\tvalid_0's binary_logloss: 0.393818\n",
      "Early stopping, best iteration is:\n",
      "[17]\tvalid_0's auc: 0.889423\tvalid_0's binary_logloss: 0.428966\n"
     ]
    }
   ],
   "source": [
    "param = {\n",
    "    'objective': 'binary',\n",
    "    'learning_rate': 0.05,\n",
    "    'feature_fraction': 1,\n",
    "    'bagging_fraction': 0.7,\n",
    "    'bagging_freq': 5,\n",
    "    'num_threads': threading.active_count(),\n",
    "}\n",
    "param['metric'] = ['auc', 'binary_logloss']\n",
    "\n",
    "# create dataset for lightgbm\n",
    "lgb_train = lgb.Dataset(X_train, y_train)\n",
    "lgb_eval = lgb.Dataset(X_test, y_test, reference=lgb_train)\n",
    "\n",
    "modelLGB = lgb.train(param, lgb_train, num_boost_round=50, valid_sets=lgb_eval, early_stopping_rounds=10)"
   ]
  },
  {
   "cell_type": "markdown",
   "metadata": {},
   "source": [
    "##### Model overview"
   ]
  },
  {
   "cell_type": "code",
   "execution_count": 25,
   "metadata": {},
   "outputs": [
    {
     "name": "stdout",
     "output_type": "stream",
     "text": [
      "Accuracy: 0.8894230769230769\n",
      "Binary logloss: 0.42896602264064176\n"
     ]
    },
    {
     "data": {
      "image/png": "[encoded data removed]",
      "text/plain": [
       "<Figure size 432x288 with 1 Axes>"
      ]
     },
     "metadata": {},
     "output_type": "display_data"
    }
   ],
   "source": [
    "print('Accuracy: %s' % modelLGB.best_score['valid_0']['auc'])\n",
    "print('Binary logloss: %s' % modelLGB.best_score['valid_0']['binary_logloss'])\n",
    "\n",
    "feature_importance = pd.DataFrame()\n",
    "feature_importance['Score'] = modelLGB.feature_importance()\n",
    "feature_importance['Feature'] = modelLGB.feature_name()\n",
    "feature_importance = feature_importance.sort_values(by='Score',ascending=False)\n",
    "\n",
    "ax = sns.barplot(x='Score',y='Feature',data=feature_importance, palette=\"Purples_d\", orient='h')"
   ]
  },
  {
   "cell_type": "markdown",
   "metadata": {},
   "source": [
    "#### Binary logistic regression with `XGBoost`\n",
    "\n",
    "Despite the name of the algorithm suggests the word \"regression\" we're going to perform classification underneath.\n",
    "\n",
    "In order to answer to the question like \"Did this passenger survive the disaster?\" -- the possible answer can contain only 2 possible outcomes: `True` or `False`.\n",
    "\n",
    "Let's see what rate of accuracy we can achieve with this model."
   ]
  },
  {
   "cell_type": "code",
   "execution_count": 26,
   "metadata": {},
   "outputs": [],
   "source": [
    "dtrain = xgb.DMatrix(X_train, label=y_train)\n",
    "dtest = xgb.DMatrix(X_test, label=y_test)\n",
    "params = { \n",
    "    'objective': 'binary:logistic',\n",
    "    'learning_rate': 0.05,\n",
    "    'max_depth': 6,\n",
    "    'eta': 0.01,\n",
    "    'nthread': threading.active_count(),\n",
    "}\n",
    "modelXGB = xgb.train(params=params,dtrain=dtrain,num_boost_round=40)\n",
    "predictions = modelXGB.predict(dtest)"
   ]
  },
  {
   "cell_type": "markdown",
   "metadata": {},
   "source": [
    "##### Model overview\n",
    "\n",
    "We achieved quite a good result:\n"
   ]
  },
  {
   "cell_type": "code",
   "execution_count": 27,
   "metadata": {},
   "outputs": [
    {
     "name": "stdout",
     "output_type": "stream",
     "text": [
      "Accuracy: 0.8\n",
      "MSE: 0.2\n"
     ]
    }
   ],
   "source": [
    "print('Accuracy: %s' % accuracy_score(y_test, predictions.round()))\n",
    "print('MSE: %s' % mean_squared_error(y_test, predictions.round()))"
   ]
  },
  {
   "cell_type": "markdown",
   "metadata": {},
   "source": [
    "##### Decision tree"
   ]
  },
  {
   "cell_type": "code",
   "execution_count": 28,
   "metadata": {},
   "outputs": [
    {
     "data": {
      "image/svg+xml": [
       "<?xml version=\"1.0\" encoding=\"UTF-8\" standalone=\"no\"?>\n",
       "<!DOCTYPE svg PUBLIC \"-//W3C//DTD SVG 1.1//EN\"\n",
       " \"http://www.w3.org/Graphics/SVG/1.1/DTD/svg11.dtd\">\n",
       "<!-- Generated by graphviz version 2.40.1 (20161225.0304)\n",
       " -->\n",
       "<!-- Title: %3 Pages: 1 -->\n",
       "<svg width=\"3320pt\" height=\"566pt\"\n",
       " viewBox=\"0.00 0.00 3320.14 566.00\" xmlns=\"http://www.w3.org/2000/svg\" xmlns:xlink=\"http://www.w3.org/1999/xlink\">\n",
       "<g id=\"graph0\" class=\"graph\" transform=\"scale(1 1) rotate(0) translate(4 562)\">\n",
       "<title>%3</title>\n",
       "<polygon fill=\"#ffffff\" stroke=\"transparent\" points=\"-4,4 -4,-562 3316.1355,-562 3316.1355,4 -4,4\"/>\n",
       "<!-- 0 -->\n",
       "<g id=\"node1\" class=\"node\">\n",
       "<title>0</title>\n",
       "<ellipse fill=\"none\" stroke=\"#000000\" cx=\"1078.9429\" cy=\"-540\" rx=\"40.0939\" ry=\"18\"/>\n",
       "<text text-anchor=\"middle\" x=\"1078.9429\" y=\"-536.3\" font-family=\"Times,serif\" font-size=\"14.00\" fill=\"#000000\">Sex&lt;0.5</text>\n",
       "</g>\n",
       "<!-- 1 -->\n",
       "<g id=\"node2\" class=\"node\">\n",
       "<title>1</title>\n",
       "<ellipse fill=\"none\" stroke=\"#000000\" cx=\"831.9429\" cy=\"-453\" rx=\"49.2915\" ry=\"18\"/>\n",
       "<text text-anchor=\"middle\" x=\"831.9429\" y=\"-449.3\" font-family=\"Times,serif\" font-size=\"14.00\" fill=\"#000000\">Pclass&lt;2.5</text>\n",
       "</g>\n",
       "<!-- 0&#45;&gt;1 -->\n",
       "<g id=\"edge1\" class=\"edge\">\n",
       "<title>0&#45;&gt;1</title>\n",
       "<path fill=\"none\" stroke=\"#0000ff\" d=\"M1047.1576,-528.8044C1003.9162,-513.5736 926.3089,-486.2382 877.0553,-468.8898\"/>\n",
       "<polygon fill=\"#0000ff\" stroke=\"#0000ff\" points=\"878.196,-465.5809 867.6012,-465.5598 875.8704,-472.1833 878.196,-465.5809\"/>\n",
       "<text text-anchor=\"middle\" x=\"1005.4429\" y=\"-492.8\" font-family=\"Times,serif\" font-size=\"14.00\" fill=\"#000000\">yes, missing</text>\n",
       "</g>\n",
       "<!-- 2 -->\n",
       "<g id=\"node3\" class=\"node\">\n",
       "<title>2</title>\n",
       "<ellipse fill=\"none\" stroke=\"#000000\" cx=\"1633.9429\" cy=\"-453\" rx=\"41.6928\" ry=\"18\"/>\n",
       "<text text-anchor=\"middle\" x=\"1633.9429\" y=\"-449.3\" font-family=\"Times,serif\" font-size=\"14.00\" fill=\"#000000\">Cabin&lt;6</text>\n",
       "</g>\n",
       "<!-- 0&#45;&gt;2 -->\n",
       "<g id=\"edge2\" class=\"edge\">\n",
       "<title>0&#45;&gt;2</title>\n",
       "<path fill=\"none\" stroke=\"#ff0000\" d=\"M1117.0903,-534.0201C1215.0744,-518.6605 1475.5322,-477.832 1584.7062,-460.7182\"/>\n",
       "<polygon fill=\"#ff0000\" stroke=\"#ff0000\" points=\"1585.4513,-464.1442 1594.7886,-459.1377 1584.3672,-457.2287 1585.4513,-464.1442\"/>\n",
       "<text text-anchor=\"middle\" x=\"1396.9429\" y=\"-492.8\" font-family=\"Times,serif\" font-size=\"14.00\" fill=\"#000000\">no</text>\n",
       "</g>\n",
       "<!-- 3 -->\n",
       "<g id=\"node4\" class=\"node\">\n",
       "<title>3</title>\n",
       "<ellipse fill=\"none\" stroke=\"#000000\" cx=\"578.9429\" cy=\"-366\" rx=\"42.4939\" ry=\"18\"/>\n",
       "<text text-anchor=\"middle\" x=\"578.9429\" y=\"-362.3\" font-family=\"Times,serif\" font-size=\"14.00\" fill=\"#000000\">Age&lt;4.5</text>\n",
       "</g>\n",
       "<!-- 1&#45;&gt;3 -->\n",
       "<g id=\"edge3\" class=\"edge\">\n",
       "<title>1&#45;&gt;3</title>\n",
       "<path fill=\"none\" stroke=\"#0000ff\" d=\"M795.9629,-440.6274C750.0159,-424.8275 670.6108,-397.5222 621.6472,-380.6849\"/>\n",
       "<polygon fill=\"#0000ff\" stroke=\"#0000ff\" points=\"622.5764,-377.3033 611.9817,-377.3612 620.3001,-383.9229 622.5764,-377.3033\"/>\n",
       "<text text-anchor=\"middle\" x=\"755.4429\" y=\"-405.8\" font-family=\"Times,serif\" font-size=\"14.00\" fill=\"#000000\">yes, missing</text>\n",
       "</g>\n",
       "<!-- 4 -->\n",
       "<g id=\"node5\" class=\"node\">\n",
       "<title>4</title>\n",
       "<ellipse fill=\"none\" stroke=\"#000000\" cx=\"831.9429\" cy=\"-366\" rx=\"85.2851\" ry=\"18\"/>\n",
       "<text text-anchor=\"middle\" x=\"831.9429\" y=\"-362.3\" font-family=\"Times,serif\" font-size=\"14.00\" fill=\"#000000\">FamilyCategory&lt;3.5</text>\n",
       "</g>\n",
       "<!-- 1&#45;&gt;4 -->\n",
       "<g id=\"edge4\" class=\"edge\">\n",
       "<title>1&#45;&gt;4</title>\n",
       "<path fill=\"none\" stroke=\"#ff0000\" d=\"M831.9429,-434.9735C831.9429,-423.1918 831.9429,-407.5607 831.9429,-394.1581\"/>\n",
       "<polygon fill=\"#ff0000\" stroke=\"#ff0000\" points=\"835.443,-394.0033 831.9429,-384.0034 828.443,-394.0034 835.443,-394.0033\"/>\n",
       "<text text-anchor=\"middle\" x=\"838.9429\" y=\"-405.8\" font-family=\"Times,serif\" font-size=\"14.00\" fill=\"#000000\">no</text>\n",
       "</g>\n",
       "<!-- 5 -->\n",
       "<g id=\"node22\" class=\"node\">\n",
       "<title>5</title>\n",
       "<ellipse fill=\"none\" stroke=\"#000000\" cx=\"1633.9429\" cy=\"-366\" rx=\"50.8918\" ry=\"18\"/>\n",
       "<text text-anchor=\"middle\" x=\"1633.9429\" y=\"-362.3\" font-family=\"Times,serif\" font-size=\"14.00\" fill=\"#000000\">Age&lt;36.25</text>\n",
       "</g>\n",
       "<!-- 2&#45;&gt;5 -->\n",
       "<g id=\"edge21\" class=\"edge\">\n",
       "<title>2&#45;&gt;5</title>\n",
       "<path fill=\"none\" stroke=\"#0000ff\" d=\"M1633.9429,-434.9735C1633.9429,-423.1918 1633.9429,-407.5607 1633.9429,-394.1581\"/>\n",
       "<polygon fill=\"#0000ff\" stroke=\"#0000ff\" points=\"1637.443,-394.0033 1633.9429,-384.0034 1630.443,-394.0034 1637.443,-394.0033\"/>\n",
       "<text text-anchor=\"middle\" x=\"1668.4429\" y=\"-405.8\" font-family=\"Times,serif\" font-size=\"14.00\" fill=\"#000000\">yes, missing</text>\n",
       "</g>\n",
       "<!-- 6 -->\n",
       "<g id=\"node23\" class=\"node\">\n",
       "<title>6</title>\n",
       "<ellipse fill=\"none\" stroke=\"#000000\" cx=\"2405.9429\" cy=\"-366\" rx=\"39.7935\" ry=\"18\"/>\n",
       "<text text-anchor=\"middle\" x=\"2405.9429\" y=\"-362.3\" font-family=\"Times,serif\" font-size=\"14.00\" fill=\"#000000\">Age&lt;13</text>\n",
       "</g>\n",
       "<!-- 2&#45;&gt;6 -->\n",
       "<g id=\"edge22\" class=\"edge\">\n",
       "<title>2&#45;&gt;6</title>\n",
       "<path fill=\"none\" stroke=\"#ff0000\" d=\"M1674.362,-448.445C1804.9639,-433.7269 2215.3601,-387.4776 2357.17,-371.4964\"/>\n",
       "<polygon fill=\"#ff0000\" stroke=\"#ff0000\" points=\"2357.758,-374.9524 2367.3032,-370.3545 2356.9741,-367.9964 2357.758,-374.9524\"/>\n",
       "<text text-anchor=\"middle\" x=\"2073.9429\" y=\"-405.8\" font-family=\"Times,serif\" font-size=\"14.00\" fill=\"#000000\">no</text>\n",
       "</g>\n",
       "<!-- 7 -->\n",
       "<g id=\"node6\" class=\"node\">\n",
       "<title>7</title>\n",
       "<ellipse fill=\"none\" stroke=\"#000000\" cx=\"405.9429\" cy=\"-279\" rx=\"79.8859\" ry=\"18\"/>\n",
       "<text text-anchor=\"middle\" x=\"405.9429\" y=\"-275.3\" font-family=\"Times,serif\" font-size=\"14.00\" fill=\"#000000\">leaf=0.0250000004</text>\n",
       "</g>\n",
       "<!-- 3&#45;&gt;7 -->\n",
       "<g id=\"edge5\" class=\"edge\">\n",
       "<title>3&#45;&gt;7</title>\n",
       "<path fill=\"none\" stroke=\"#0000ff\" d=\"M551.1678,-352.4118C537.5221,-345.7082 520.8478,-337.4755 505.9429,-330 486.6581,-320.3278 465.3522,-309.4838 447.3794,-300.2901\"/>\n",
       "<polygon fill=\"#0000ff\" stroke=\"#0000ff\" points=\"448.8092,-297.0901 438.3129,-295.6478 445.6188,-303.3209 448.8092,-297.0901\"/>\n",
       "<text text-anchor=\"middle\" x=\"540.4429\" y=\"-318.8\" font-family=\"Times,serif\" font-size=\"14.00\" fill=\"#000000\">yes, missing</text>\n",
       "</g>\n",
       "<!-- 8 -->\n",
       "<g id=\"node7\" class=\"node\">\n",
       "<title>8</title>\n",
       "<ellipse fill=\"none\" stroke=\"#000000\" cx=\"578.9429\" cy=\"-279\" rx=\"75.2868\" ry=\"18\"/>\n",
       "<text text-anchor=\"middle\" x=\"578.9429\" y=\"-275.3\" font-family=\"Times,serif\" font-size=\"14.00\" fill=\"#000000\">leaf=0.087730065</text>\n",
       "</g>\n",
       "<!-- 3&#45;&gt;8 -->\n",
       "<g id=\"edge6\" class=\"edge\">\n",
       "<title>3&#45;&gt;8</title>\n",
       "<path fill=\"none\" stroke=\"#ff0000\" d=\"M578.9429,-347.9735C578.9429,-336.1918 578.9429,-320.5607 578.9429,-307.1581\"/>\n",
       "<polygon fill=\"#ff0000\" stroke=\"#ff0000\" points=\"582.443,-307.0033 578.9429,-297.0034 575.443,-307.0034 582.443,-307.0033\"/>\n",
       "<text text-anchor=\"middle\" x=\"585.9429\" y=\"-318.8\" font-family=\"Times,serif\" font-size=\"14.00\" fill=\"#000000\">no</text>\n",
       "</g>\n",
       "<!-- 9 -->\n",
       "<g id=\"node8\" class=\"node\">\n",
       "<title>9</title>\n",
       "<ellipse fill=\"none\" stroke=\"#000000\" cx=\"744.9429\" cy=\"-279\" rx=\"72.5877\" ry=\"18\"/>\n",
       "<text text-anchor=\"middle\" x=\"744.9429\" y=\"-275.3\" font-family=\"Times,serif\" font-size=\"14.00\" fill=\"#000000\">Age&lt;19.2337265</text>\n",
       "</g>\n",
       "<!-- 4&#45;&gt;9 -->\n",
       "<g id=\"edge7\" class=\"edge\">\n",
       "<title>4&#45;&gt;9</title>\n",
       "<path fill=\"none\" stroke=\"#0000ff\" d=\"M813.9165,-347.9735C801.2341,-335.2912 784.0915,-318.1486 770.0695,-304.1265\"/>\n",
       "<polygon fill=\"#0000ff\" stroke=\"#0000ff\" points=\"772.1946,-301.3019 762.6486,-296.7057 767.2448,-306.2517 772.1946,-301.3019\"/>\n",
       "<text text-anchor=\"middle\" x=\"828.4429\" y=\"-318.8\" font-family=\"Times,serif\" font-size=\"14.00\" fill=\"#000000\">yes, missing</text>\n",
       "</g>\n",
       "<!-- 10 -->\n",
       "<g id=\"node9\" class=\"node\">\n",
       "<title>10</title>\n",
       "<ellipse fill=\"none\" stroke=\"#000000\" cx=\"918.9429\" cy=\"-279\" rx=\"83.3857\" ry=\"18\"/>\n",
       "<text text-anchor=\"middle\" x=\"918.9429\" y=\"-275.3\" font-family=\"Times,serif\" font-size=\"14.00\" fill=\"#000000\">leaf=&#45;0.0733333379</text>\n",
       "</g>\n",
       "<!-- 4&#45;&gt;10 -->\n",
       "<g id=\"edge8\" class=\"edge\">\n",
       "<title>4&#45;&gt;10</title>\n",
       "<path fill=\"none\" stroke=\"#ff0000\" d=\"M849.9694,-347.9735C862.6517,-335.2912 879.7943,-318.1486 893.8164,-304.1265\"/>\n",
       "<polygon fill=\"#ff0000\" stroke=\"#ff0000\" points=\"896.641,-306.2517 901.2372,-296.7057 891.6912,-301.3019 896.641,-306.2517\"/>\n",
       "<text text-anchor=\"middle\" x=\"887.9429\" y=\"-318.8\" font-family=\"Times,serif\" font-size=\"14.00\" fill=\"#000000\">no</text>\n",
       "</g>\n",
       "<!-- 15 -->\n",
       "<g id=\"node10\" class=\"node\">\n",
       "<title>15</title>\n",
       "<ellipse fill=\"none\" stroke=\"#000000\" cx=\"465.9429\" cy=\"-192\" rx=\"63.8893\" ry=\"18\"/>\n",
       "<text text-anchor=\"middle\" x=\"465.9429\" y=\"-188.3\" font-family=\"Times,serif\" font-size=\"14.00\" fill=\"#000000\">Embarked&lt;1.5</text>\n",
       "</g>\n",
       "<!-- 9&#45;&gt;15 -->\n",
       "<g id=\"edge9\" class=\"edge\">\n",
       "<title>9&#45;&gt;15</title>\n",
       "<path fill=\"none\" stroke=\"#0000ff\" d=\"M699.4958,-264.8283C650.03,-249.4035 571.0315,-224.7695 518.8222,-208.4892\"/>\n",
       "<polygon fill=\"#0000ff\" stroke=\"#0000ff\" points=\"519.6652,-205.0859 509.0766,-205.4503 517.5813,-211.7686 519.6652,-205.0859\"/>\n",
       "<text text-anchor=\"middle\" x=\"657.4429\" y=\"-231.8\" font-family=\"Times,serif\" font-size=\"14.00\" fill=\"#000000\">yes, missing</text>\n",
       "</g>\n",
       "<!-- 16 -->\n",
       "<g id=\"node11\" class=\"node\">\n",
       "<title>16</title>\n",
       "<ellipse fill=\"none\" stroke=\"#000000\" cx=\"744.9429\" cy=\"-192\" rx=\"58.4896\" ry=\"18\"/>\n",
       "<text text-anchor=\"middle\" x=\"744.9429\" y=\"-188.3\" font-family=\"Times,serif\" font-size=\"14.00\" fill=\"#000000\">Ticket&lt;267.5</text>\n",
       "</g>\n",
       "<!-- 9&#45;&gt;16 -->\n",
       "<g id=\"edge10\" class=\"edge\">\n",
       "<title>9&#45;&gt;16</title>\n",
       "<path fill=\"none\" stroke=\"#ff0000\" d=\"M744.9429,-260.9735C744.9429,-249.1918 744.9429,-233.5607 744.9429,-220.1581\"/>\n",
       "<polygon fill=\"#ff0000\" stroke=\"#ff0000\" points=\"748.443,-220.0033 744.9429,-210.0034 741.443,-220.0034 748.443,-220.0033\"/>\n",
       "<text text-anchor=\"middle\" x=\"751.9429\" y=\"-231.8\" font-family=\"Times,serif\" font-size=\"14.00\" fill=\"#000000\">no</text>\n",
       "</g>\n",
       "<!-- 25 -->\n",
       "<g id=\"node12\" class=\"node\">\n",
       "<title>25</title>\n",
       "<ellipse fill=\"none\" stroke=\"#000000\" cx=\"257.9429\" cy=\"-105\" rx=\"63.8893\" ry=\"18\"/>\n",
       "<text text-anchor=\"middle\" x=\"257.9429\" y=\"-101.3\" font-family=\"Times,serif\" font-size=\"14.00\" fill=\"#000000\">Embarked&lt;0.5</text>\n",
       "</g>\n",
       "<!-- 15&#45;&gt;25 -->\n",
       "<g id=\"edge11\" class=\"edge\">\n",
       "<title>15&#45;&gt;25</title>\n",
       "<path fill=\"none\" stroke=\"#0000ff\" d=\"M430.1864,-177.0442C395.0647,-162.3538 341.352,-139.8874 303.2568,-123.9534\"/>\n",
       "<polygon fill=\"#0000ff\" stroke=\"#0000ff\" points=\"304.505,-120.6817 293.9289,-120.0518 301.8038,-127.1396 304.505,-120.6817\"/>\n",
       "<text text-anchor=\"middle\" x=\"409.4429\" y=\"-144.8\" font-family=\"Times,serif\" font-size=\"14.00\" fill=\"#000000\">yes, missing</text>\n",
       "</g>\n",
       "<!-- 26 -->\n",
       "<g id=\"node13\" class=\"node\">\n",
       "<title>26</title>\n",
       "<ellipse fill=\"none\" stroke=\"#000000\" cx=\"465.9429\" cy=\"-105\" rx=\"72.5877\" ry=\"18\"/>\n",
       "<text text-anchor=\"middle\" x=\"465.9429\" y=\"-101.3\" font-family=\"Times,serif\" font-size=\"14.00\" fill=\"#000000\">Age&lt;5.96372509</text>\n",
       "</g>\n",
       "<!-- 15&#45;&gt;26 -->\n",
       "<g id=\"edge12\" class=\"edge\">\n",
       "<title>15&#45;&gt;26</title>\n",
       "<path fill=\"none\" stroke=\"#ff0000\" d=\"M465.9429,-173.9735C465.9429,-162.1918 465.9429,-146.5607 465.9429,-133.1581\"/>\n",
       "<polygon fill=\"#ff0000\" stroke=\"#ff0000\" points=\"469.443,-133.0033 465.9429,-123.0034 462.443,-133.0034 469.443,-133.0033\"/>\n",
       "<text text-anchor=\"middle\" x=\"472.9429\" y=\"-144.8\" font-family=\"Times,serif\" font-size=\"14.00\" fill=\"#000000\">no</text>\n",
       "</g>\n",
       "<!-- 27 -->\n",
       "<g id=\"node18\" class=\"node\">\n",
       "<title>27</title>\n",
       "<ellipse fill=\"none\" stroke=\"#000000\" cx=\"667.9429\" cy=\"-105\" rx=\"79.8859\" ry=\"18\"/>\n",
       "<text text-anchor=\"middle\" x=\"667.9429\" y=\"-101.3\" font-family=\"Times,serif\" font-size=\"14.00\" fill=\"#000000\">leaf=0.0555555597</text>\n",
       "</g>\n",
       "<!-- 16&#45;&gt;27 -->\n",
       "<g id=\"edge17\" class=\"edge\">\n",
       "<title>16&#45;&gt;27</title>\n",
       "<path fill=\"none\" stroke=\"#0000ff\" d=\"M721.8136,-175.3047C714.703,-169.6061 707.1278,-162.9155 700.9429,-156 694.3343,-148.6108 688.1297,-139.7719 682.9233,-131.5441\"/>\n",
       "<polygon fill=\"#0000ff\" stroke=\"#0000ff\" points=\"685.8832,-129.6754 677.6937,-122.9536 679.904,-133.3153 685.8832,-129.6754\"/>\n",
       "<text text-anchor=\"middle\" x=\"735.4429\" y=\"-144.8\" font-family=\"Times,serif\" font-size=\"14.00\" fill=\"#000000\">yes, missing</text>\n",
       "</g>\n",
       "<!-- 28 -->\n",
       "<g id=\"node19\" class=\"node\">\n",
       "<title>28</title>\n",
       "<ellipse fill=\"none\" stroke=\"#000000\" cx=\"823.9429\" cy=\"-105\" rx=\"58.4896\" ry=\"18\"/>\n",
       "<text text-anchor=\"middle\" x=\"823.9429\" y=\"-101.3\" font-family=\"Times,serif\" font-size=\"14.00\" fill=\"#000000\">Ticket&lt;457.5</text>\n",
       "</g>\n",
       "<!-- 16&#45;&gt;28 -->\n",
       "<g id=\"edge18\" class=\"edge\">\n",
       "<title>16&#45;&gt;28</title>\n",
       "<path fill=\"none\" stroke=\"#ff0000\" d=\"M760.9297,-174.3943C772.4943,-161.6586 788.2866,-144.2671 801.1682,-130.081\"/>\n",
       "<polygon fill=\"#ff0000\" stroke=\"#ff0000\" points=\"803.8485,-132.3357 807.9799,-122.5796 798.6662,-127.63 803.8485,-132.3357\"/>\n",
       "<text text-anchor=\"middle\" x=\"796.9429\" y=\"-144.8\" font-family=\"Times,serif\" font-size=\"14.00\" fill=\"#000000\">no</text>\n",
       "</g>\n",
       "<!-- 39 -->\n",
       "<g id=\"node14\" class=\"node\">\n",
       "<title>39</title>\n",
       "<ellipse fill=\"none\" stroke=\"#000000\" cx=\"79.9429\" cy=\"-18\" rx=\"79.8859\" ry=\"18\"/>\n",
       "<text text-anchor=\"middle\" x=\"79.9429\" y=\"-14.3\" font-family=\"Times,serif\" font-size=\"14.00\" fill=\"#000000\">leaf=0.0263157915</text>\n",
       "</g>\n",
       "<!-- 25&#45;&gt;39 -->\n",
       "<g id=\"edge13\" class=\"edge\">\n",
       "<title>25&#45;&gt;39</title>\n",
       "<path fill=\"none\" stroke=\"#0000ff\" d=\"M225.7084,-89.245C196.8031,-75.1171 154.1873,-54.288 122.4919,-38.7964\"/>\n",
       "<polygon fill=\"#0000ff\" stroke=\"#0000ff\" points=\"123.9699,-35.6232 113.4487,-34.3764 120.896,-41.9122 123.9699,-35.6232\"/>\n",
       "<text text-anchor=\"middle\" x=\"214.4429\" y=\"-57.8\" font-family=\"Times,serif\" font-size=\"14.00\" fill=\"#000000\">yes, missing</text>\n",
       "</g>\n",
       "<!-- 40 -->\n",
       "<g id=\"node15\" class=\"node\">\n",
       "<title>40</title>\n",
       "<ellipse fill=\"none\" stroke=\"#000000\" cx=\"257.9429\" cy=\"-18\" rx=\"79.8859\" ry=\"18\"/>\n",
       "<text text-anchor=\"middle\" x=\"257.9429\" y=\"-14.3\" font-family=\"Times,serif\" font-size=\"14.00\" fill=\"#000000\">leaf=0.0703703687</text>\n",
       "</g>\n",
       "<!-- 25&#45;&gt;40 -->\n",
       "<g id=\"edge14\" class=\"edge\">\n",
       "<title>25&#45;&gt;40</title>\n",
       "<path fill=\"none\" stroke=\"#ff0000\" d=\"M257.9429,-86.9735C257.9429,-75.1918 257.9429,-59.5607 257.9429,-46.1581\"/>\n",
       "<polygon fill=\"#ff0000\" stroke=\"#ff0000\" points=\"261.443,-46.0033 257.9429,-36.0034 254.443,-46.0034 261.443,-46.0033\"/>\n",
       "<text text-anchor=\"middle\" x=\"264.9429\" y=\"-57.8\" font-family=\"Times,serif\" font-size=\"14.00\" fill=\"#000000\">no</text>\n",
       "</g>\n",
       "<!-- 41 -->\n",
       "<g id=\"node16\" class=\"node\">\n",
       "<title>41</title>\n",
       "<ellipse fill=\"none\" stroke=\"#000000\" cx=\"435.9429\" cy=\"-18\" rx=\"79.8859\" ry=\"18\"/>\n",
       "<text text-anchor=\"middle\" x=\"435.9429\" y=\"-14.3\" font-family=\"Times,serif\" font-size=\"14.00\" fill=\"#000000\">leaf=0.0400000028</text>\n",
       "</g>\n",
       "<!-- 26&#45;&gt;41 -->\n",
       "<g id=\"edge15\" class=\"edge\">\n",
       "<title>26&#45;&gt;41</title>\n",
       "<path fill=\"none\" stroke=\"#0000ff\" d=\"M459.7269,-86.9735C455.624,-75.0751 450.1673,-59.2508 445.5155,-45.7606\"/>\n",
       "<polygon fill=\"#0000ff\" stroke=\"#0000ff\" points=\"448.7197,-44.3161 442.151,-36.0034 442.1021,-46.5981 448.7197,-44.3161\"/>\n",
       "<text text-anchor=\"middle\" x=\"487.4429\" y=\"-57.8\" font-family=\"Times,serif\" font-size=\"14.00\" fill=\"#000000\">yes, missing</text>\n",
       "</g>\n",
       "<!-- 42 -->\n",
       "<g id=\"node17\" class=\"node\">\n",
       "<title>42</title>\n",
       "<ellipse fill=\"none\" stroke=\"#000000\" cx=\"620.9429\" cy=\"-18\" rx=\"87.1846\" ry=\"18\"/>\n",
       "<text text-anchor=\"middle\" x=\"620.9429\" y=\"-14.3\" font-family=\"Times,serif\" font-size=\"14.00\" fill=\"#000000\">leaf=&#45;0.00769230817</text>\n",
       "</g>\n",
       "<!-- 26&#45;&gt;42 -->\n",
       "<g id=\"edge16\" class=\"edge\">\n",
       "<title>26&#45;&gt;42</title>\n",
       "<path fill=\"none\" stroke=\"#ff0000\" d=\"M495.4621,-88.4312C520.0046,-74.6557 555.1308,-54.9397 581.9798,-39.8696\"/>\n",
       "<polygon fill=\"#ff0000\" stroke=\"#ff0000\" points=\"583.7334,-42.8991 590.7405,-34.9523 580.3071,-36.7949 583.7334,-42.8991\"/>\n",
       "<text text-anchor=\"middle\" x=\"559.9429\" y=\"-57.8\" font-family=\"Times,serif\" font-size=\"14.00\" fill=\"#000000\">no</text>\n",
       "</g>\n",
       "<!-- 43 -->\n",
       "<g id=\"node20\" class=\"node\">\n",
       "<title>43</title>\n",
       "<ellipse fill=\"none\" stroke=\"#000000\" cx=\"808.9429\" cy=\"-18\" rx=\"83.3857\" ry=\"18\"/>\n",
       "<text text-anchor=\"middle\" x=\"808.9429\" y=\"-14.3\" font-family=\"Times,serif\" font-size=\"14.00\" fill=\"#000000\">leaf=&#45;0.0523809567</text>\n",
       "</g>\n",
       "<!-- 28&#45;&gt;43 -->\n",
       "<g id=\"edge19\" class=\"edge\">\n",
       "<title>28&#45;&gt;43</title>\n",
       "<path fill=\"none\" stroke=\"#0000ff\" d=\"M820.8349,-86.9735C818.8036,-75.1918 816.1085,-59.5607 813.7977,-46.1581\"/>\n",
       "<polygon fill=\"#0000ff\" stroke=\"#0000ff\" points=\"817.1952,-45.2633 812.0469,-36.0034 810.297,-46.4527 817.1952,-45.2633\"/>\n",
       "<text text-anchor=\"middle\" x=\"852.4429\" y=\"-57.8\" font-family=\"Times,serif\" font-size=\"14.00\" fill=\"#000000\">yes, missing</text>\n",
       "</g>\n",
       "<!-- 44 -->\n",
       "<g id=\"node21\" class=\"node\">\n",
       "<title>44</title>\n",
       "<ellipse fill=\"none\" stroke=\"#000000\" cx=\"994.9429\" cy=\"-18\" rx=\"84.485\" ry=\"18\"/>\n",
       "<text text-anchor=\"middle\" x=\"994.9429\" y=\"-14.3\" font-family=\"Times,serif\" font-size=\"14.00\" fill=\"#000000\">leaf=0.00476190494</text>\n",
       "</g>\n",
       "<!-- 28&#45;&gt;44 -->\n",
       "<g id=\"edge20\" class=\"edge\">\n",
       "<title>28&#45;&gt;44</title>\n",
       "<path fill=\"none\" stroke=\"#ff0000\" d=\"M854.5143,-89.4461C882.0251,-75.4494 922.6934,-54.7585 953.1939,-39.2407\"/>\n",
       "<polygon fill=\"#ff0000\" stroke=\"#ff0000\" points=\"954.9816,-42.2582 962.3073,-34.6041 951.8074,-36.0192 954.9816,-42.2582\"/>\n",
       "<text text-anchor=\"middle\" x=\"926.9429\" y=\"-57.8\" font-family=\"Times,serif\" font-size=\"14.00\" fill=\"#000000\">no</text>\n",
       "</g>\n",
       "<!-- 11 -->\n",
       "<g id=\"node24\" class=\"node\">\n",
       "<title>11</title>\n",
       "<ellipse fill=\"none\" stroke=\"#000000\" cx=\"1421.9429\" cy=\"-279\" rx=\"53.8905\" ry=\"18\"/>\n",
       "<text text-anchor=\"middle\" x=\"1421.9429\" y=\"-275.3\" font-family=\"Times,serif\" font-size=\"14.00\" fill=\"#000000\">Ticket&lt;47.5</text>\n",
       "</g>\n",
       "<!-- 5&#45;&gt;11 -->\n",
       "<g id=\"edge23\" class=\"edge\">\n",
       "<title>5&#45;&gt;11</title>\n",
       "<path fill=\"none\" stroke=\"#0000ff\" d=\"M1600.3509,-352.2146C1563.8939,-337.2535 1505.5475,-313.3094 1465.571,-296.904\"/>\n",
       "<polygon fill=\"#0000ff\" stroke=\"#0000ff\" points=\"1466.6599,-293.5676 1456.0798,-293.009 1464.0023,-300.0435 1466.6599,-293.5676\"/>\n",
       "<text text-anchor=\"middle\" x=\"1575.4429\" y=\"-318.8\" font-family=\"Times,serif\" font-size=\"14.00\" fill=\"#000000\">yes, missing</text>\n",
       "</g>\n",
       "<!-- 12 -->\n",
       "<g id=\"node25\" class=\"node\">\n",
       "<title>12</title>\n",
       "<ellipse fill=\"none\" stroke=\"#000000\" cx=\"1729.9429\" cy=\"-279\" rx=\"48.1917\" ry=\"18\"/>\n",
       "<text text-anchor=\"middle\" x=\"1729.9429\" y=\"-275.3\" font-family=\"Times,serif\" font-size=\"14.00\" fill=\"#000000\">Cabin&lt;0.5</text>\n",
       "</g>\n",
       "<!-- 5&#45;&gt;12 -->\n",
       "<g id=\"edge24\" class=\"edge\">\n",
       "<title>5&#45;&gt;12</title>\n",
       "<path fill=\"none\" stroke=\"#ff0000\" d=\"M1652.4527,-349.2255C1667.0615,-335.9862 1687.6207,-317.3545 1703.8917,-302.6089\"/>\n",
       "<polygon fill=\"#ff0000\" stroke=\"#ff0000\" points=\"1706.4304,-305.0317 1711.49,-295.723 1701.7297,-299.8447 1706.4304,-305.0317\"/>\n",
       "<text text-anchor=\"middle\" x=\"1694.9429\" y=\"-318.8\" font-family=\"Times,serif\" font-size=\"14.00\" fill=\"#000000\">no</text>\n",
       "</g>\n",
       "<!-- 13 -->\n",
       "<g id=\"node44\" class=\"node\">\n",
       "<title>13</title>\n",
       "<ellipse fill=\"none\" stroke=\"#000000\" cx=\"2405.9429\" cy=\"-279\" rx=\"41.6928\" ry=\"18\"/>\n",
       "<text text-anchor=\"middle\" x=\"2405.9429\" y=\"-275.3\" font-family=\"Times,serif\" font-size=\"14.00\" fill=\"#000000\">SibSp&lt;2</text>\n",
       "</g>\n",
       "<!-- 6&#45;&gt;13 -->\n",
       "<g id=\"edge43\" class=\"edge\">\n",
       "<title>6&#45;&gt;13</title>\n",
       "<path fill=\"none\" stroke=\"#0000ff\" d=\"M2405.9429,-347.9735C2405.9429,-336.1918 2405.9429,-320.5607 2405.9429,-307.1581\"/>\n",
       "<polygon fill=\"#0000ff\" stroke=\"#0000ff\" points=\"2409.443,-307.0033 2405.9429,-297.0034 2402.443,-307.0034 2409.443,-307.0033\"/>\n",
       "<text text-anchor=\"middle\" x=\"2440.4429\" y=\"-318.8\" font-family=\"Times,serif\" font-size=\"14.00\" fill=\"#000000\">yes, missing</text>\n",
       "</g>\n",
       "<!-- 14 -->\n",
       "<g id=\"node45\" class=\"node\">\n",
       "<title>14</title>\n",
       "<ellipse fill=\"none\" stroke=\"#000000\" cx=\"2705.9429\" cy=\"-279\" rx=\"58.4896\" ry=\"18\"/>\n",
       "<text text-anchor=\"middle\" x=\"2705.9429\" y=\"-275.3\" font-family=\"Times,serif\" font-size=\"14.00\" fill=\"#000000\">Ticket&lt;114.5</text>\n",
       "</g>\n",
       "<!-- 6&#45;&gt;14 -->\n",
       "<g id=\"edge44\" class=\"edge\">\n",
       "<title>6&#45;&gt;14</title>\n",
       "<path fill=\"none\" stroke=\"#ff0000\" d=\"M2439.4835,-356.2732C2491.4069,-341.2154 2591.6748,-312.1377 2653.3136,-294.2625\"/>\n",
       "<polygon fill=\"#ff0000\" stroke=\"#ff0000\" points=\"2654.6043,-297.5325 2663.2338,-291.3857 2652.6546,-290.8095 2654.6043,-297.5325\"/>\n",
       "<text text-anchor=\"middle\" x=\"2580.9429\" y=\"-318.8\" font-family=\"Times,serif\" font-size=\"14.00\" fill=\"#000000\">no</text>\n",
       "</g>\n",
       "<!-- 17 -->\n",
       "<g id=\"node26\" class=\"node\">\n",
       "<title>17</title>\n",
       "<ellipse fill=\"none\" stroke=\"#000000\" cx=\"1187.9429\" cy=\"-192\" rx=\"46.2923\" ry=\"18\"/>\n",
       "<text text-anchor=\"middle\" x=\"1187.9429\" y=\"-188.3\" font-family=\"Times,serif\" font-size=\"14.00\" fill=\"#000000\">Age&lt;28.5</text>\n",
       "</g>\n",
       "<!-- 11&#45;&gt;17 -->\n",
       "<g id=\"edge25\" class=\"edge\">\n",
       "<title>11&#45;&gt;17</title>\n",
       "<path fill=\"none\" stroke=\"#0000ff\" d=\"M1385.8932,-265.5969C1344.0902,-250.0548 1275.2451,-224.4585 1230.7573,-207.9182\"/>\n",
       "<polygon fill=\"#0000ff\" stroke=\"#0000ff\" points=\"1231.9709,-204.6354 1221.3781,-204.431 1229.5315,-211.1966 1231.9709,-204.6354\"/>\n",
       "<text text-anchor=\"middle\" x=\"1354.4429\" y=\"-231.8\" font-family=\"Times,serif\" font-size=\"14.00\" fill=\"#000000\">yes, missing</text>\n",
       "</g>\n",
       "<!-- 18 -->\n",
       "<g id=\"node27\" class=\"node\">\n",
       "<title>18</title>\n",
       "<ellipse fill=\"none\" stroke=\"#000000\" cx=\"1421.9429\" cy=\"-192\" rx=\"58.4896\" ry=\"18\"/>\n",
       "<text text-anchor=\"middle\" x=\"1421.9429\" y=\"-188.3\" font-family=\"Times,serif\" font-size=\"14.00\" fill=\"#000000\">Ticket&lt;342.5</text>\n",
       "</g>\n",
       "<!-- 11&#45;&gt;18 -->\n",
       "<g id=\"edge26\" class=\"edge\">\n",
       "<title>11&#45;&gt;18</title>\n",
       "<path fill=\"none\" stroke=\"#ff0000\" d=\"M1421.9429,-260.9735C1421.9429,-249.1918 1421.9429,-233.5607 1421.9429,-220.1581\"/>\n",
       "<polygon fill=\"#ff0000\" stroke=\"#ff0000\" points=\"1425.443,-220.0033 1421.9429,-210.0034 1418.443,-220.0034 1425.443,-220.0033\"/>\n",
       "<text text-anchor=\"middle\" x=\"1428.9429\" y=\"-231.8\" font-family=\"Times,serif\" font-size=\"14.00\" fill=\"#000000\">no</text>\n",
       "</g>\n",
       "<!-- 19 -->\n",
       "<g id=\"node36\" class=\"node\">\n",
       "<title>19</title>\n",
       "<ellipse fill=\"none\" stroke=\"#000000\" cx=\"1729.9429\" cy=\"-192\" rx=\"36.2938\" ry=\"18\"/>\n",
       "<text text-anchor=\"middle\" x=\"1729.9429\" y=\"-188.3\" font-family=\"Times,serif\" font-size=\"14.00\" fill=\"#000000\">leaf=&#45;0</text>\n",
       "</g>\n",
       "<!-- 12&#45;&gt;19 -->\n",
       "<g id=\"edge35\" class=\"edge\">\n",
       "<title>12&#45;&gt;19</title>\n",
       "<path fill=\"none\" stroke=\"#0000ff\" d=\"M1729.9429,-260.9735C1729.9429,-249.1918 1729.9429,-233.5607 1729.9429,-220.1581\"/>\n",
       "<polygon fill=\"#0000ff\" stroke=\"#0000ff\" points=\"1733.443,-220.0033 1729.9429,-210.0034 1726.443,-220.0034 1733.443,-220.0033\"/>\n",
       "<text text-anchor=\"middle\" x=\"1764.4429\" y=\"-231.8\" font-family=\"Times,serif\" font-size=\"14.00\" fill=\"#000000\">yes, missing</text>\n",
       "</g>\n",
       "<!-- 20 -->\n",
       "<g id=\"node37\" class=\"node\">\n",
       "<title>20</title>\n",
       "<ellipse fill=\"none\" stroke=\"#000000\" cx=\"2061.9429\" cy=\"-192\" rx=\"48.1917\" ry=\"18\"/>\n",
       "<text text-anchor=\"middle\" x=\"2061.9429\" y=\"-188.3\" font-family=\"Times,serif\" font-size=\"14.00\" fill=\"#000000\">SibSp&lt;0.5</text>\n",
       "</g>\n",
       "<!-- 12&#45;&gt;20 -->\n",
       "<g id=\"edge36\" class=\"edge\">\n",
       "<title>12&#45;&gt;20</title>\n",
       "<path fill=\"none\" stroke=\"#ff0000\" d=\"M1769.6601,-268.5922C1830.4791,-252.6547 1946.568,-222.2338 2012.6678,-204.9125\"/>\n",
       "<polygon fill=\"#ff0000\" stroke=\"#ff0000\" points=\"2013.6519,-208.2728 2022.438,-202.3522 2011.8774,-201.5015 2013.6519,-208.2728\"/>\n",
       "<text text-anchor=\"middle\" x=\"1922.9429\" y=\"-231.8\" font-family=\"Times,serif\" font-size=\"14.00\" fill=\"#000000\">no</text>\n",
       "</g>\n",
       "<!-- 29 -->\n",
       "<g id=\"node28\" class=\"node\">\n",
       "<title>29</title>\n",
       "<ellipse fill=\"none\" stroke=\"#000000\" cx=\"1006.9429\" cy=\"-105\" rx=\"79.8859\" ry=\"18\"/>\n",
       "<text text-anchor=\"middle\" x=\"1006.9429\" y=\"-101.3\" font-family=\"Times,serif\" font-size=\"14.00\" fill=\"#000000\">leaf=0.0111111114</text>\n",
       "</g>\n",
       "<!-- 17&#45;&gt;29 -->\n",
       "<g id=\"edge27\" class=\"edge\">\n",
       "<title>17&#45;&gt;29</title>\n",
       "<path fill=\"none\" stroke=\"#0000ff\" d=\"M1158.8621,-178.0219C1129.4497,-163.8845 1083.6496,-141.87 1050.0227,-125.7069\"/>\n",
       "<polygon fill=\"#0000ff\" stroke=\"#0000ff\" points=\"1051.4139,-122.4923 1040.8847,-121.3146 1048.3813,-128.8013 1051.4139,-122.4923\"/>\n",
       "<text text-anchor=\"middle\" x=\"1143.4429\" y=\"-144.8\" font-family=\"Times,serif\" font-size=\"14.00\" fill=\"#000000\">yes, missing</text>\n",
       "</g>\n",
       "<!-- 30 -->\n",
       "<g id=\"node29\" class=\"node\">\n",
       "<title>30</title>\n",
       "<ellipse fill=\"none\" stroke=\"#000000\" cx=\"1187.9429\" cy=\"-105\" rx=\"83.3857\" ry=\"18\"/>\n",
       "<text text-anchor=\"middle\" x=\"1187.9429\" y=\"-101.3\" font-family=\"Times,serif\" font-size=\"14.00\" fill=\"#000000\">leaf=&#45;0.0400000028</text>\n",
       "</g>\n",
       "<!-- 17&#45;&gt;30 -->\n",
       "<g id=\"edge28\" class=\"edge\">\n",
       "<title>17&#45;&gt;30</title>\n",
       "<path fill=\"none\" stroke=\"#ff0000\" d=\"M1187.9429,-173.9735C1187.9429,-162.1918 1187.9429,-146.5607 1187.9429,-133.1581\"/>\n",
       "<polygon fill=\"#ff0000\" stroke=\"#ff0000\" points=\"1191.443,-133.0033 1187.9429,-123.0034 1184.443,-133.0034 1191.443,-133.0033\"/>\n",
       "<text text-anchor=\"middle\" x=\"1194.9429\" y=\"-144.8\" font-family=\"Times,serif\" font-size=\"14.00\" fill=\"#000000\">no</text>\n",
       "</g>\n",
       "<!-- 31 -->\n",
       "<g id=\"node30\" class=\"node\">\n",
       "<title>31</title>\n",
       "<ellipse fill=\"none\" stroke=\"#000000\" cx=\"1356.9429\" cy=\"-105\" rx=\"68.4888\" ry=\"18\"/>\n",
       "<text text-anchor=\"middle\" x=\"1356.9429\" y=\"-101.3\" font-family=\"Times,serif\" font-size=\"14.00\" fill=\"#000000\">Age&lt;34.069973</text>\n",
       "</g>\n",
       "<!-- 18&#45;&gt;31 -->\n",
       "<g id=\"edge29\" class=\"edge\">\n",
       "<title>18&#45;&gt;31</title>\n",
       "<path fill=\"none\" stroke=\"#0000ff\" d=\"M1408.7892,-174.3943C1399.5117,-161.9767 1386.9273,-145.1329 1376.4801,-131.1498\"/>\n",
       "<polygon fill=\"#0000ff\" stroke=\"#0000ff\" points=\"1379.0893,-128.7944 1370.3002,-122.8782 1373.4816,-132.9841 1379.0893,-128.7944\"/>\n",
       "<text text-anchor=\"middle\" x=\"1428.4429\" y=\"-144.8\" font-family=\"Times,serif\" font-size=\"14.00\" fill=\"#000000\">yes, missing</text>\n",
       "</g>\n",
       "<!-- 32 -->\n",
       "<g id=\"node31\" class=\"node\">\n",
       "<title>32</title>\n",
       "<ellipse fill=\"none\" stroke=\"#000000\" cx=\"1526.9429\" cy=\"-105\" rx=\"39.7935\" ry=\"18\"/>\n",
       "<text text-anchor=\"middle\" x=\"1526.9429\" y=\"-101.3\" font-family=\"Times,serif\" font-size=\"14.00\" fill=\"#000000\">Age&lt;34</text>\n",
       "</g>\n",
       "<!-- 18&#45;&gt;32 -->\n",
       "<g id=\"edge30\" class=\"edge\">\n",
       "<title>18&#45;&gt;32</title>\n",
       "<path fill=\"none\" stroke=\"#ff0000\" d=\"M1443.564,-174.9165C1451.0112,-168.9759 1459.3786,-162.2382 1466.9429,-156 1478.1213,-146.7812 1490.3278,-136.4544 1500.7952,-127.517\"/>\n",
       "<polygon fill=\"#ff0000\" stroke=\"#ff0000\" points=\"1503.0938,-130.1565 1508.4148,-120.9947 1498.5418,-124.8387 1503.0938,-130.1565\"/>\n",
       "<text text-anchor=\"middle\" x=\"1490.9429\" y=\"-144.8\" font-family=\"Times,serif\" font-size=\"14.00\" fill=\"#000000\">no</text>\n",
       "</g>\n",
       "<!-- 45 -->\n",
       "<g id=\"node32\" class=\"node\">\n",
       "<title>45</title>\n",
       "<ellipse fill=\"none\" stroke=\"#000000\" cx=\"1172.9429\" cy=\"-18\" rx=\"75.2868\" ry=\"18\"/>\n",
       "<text text-anchor=\"middle\" x=\"1172.9429\" y=\"-14.3\" font-family=\"Times,serif\" font-size=\"14.00\" fill=\"#000000\">leaf=0.075000003</text>\n",
       "</g>\n",
       "<!-- 31&#45;&gt;45 -->\n",
       "<g id=\"edge31\" class=\"edge\">\n",
       "<title>31&#45;&gt;45</title>\n",
       "<path fill=\"none\" stroke=\"#0000ff\" d=\"M1322.2485,-89.4121C1308.4276,-83.1445 1292.3986,-75.8031 1277.9429,-69 1257.1424,-59.2109 1234.159,-48.0833 1215.0116,-38.7255\"/>\n",
       "<polygon fill=\"#0000ff\" stroke=\"#0000ff\" points=\"1216.4668,-35.541 1205.9464,-34.2875 1213.3889,-41.8281 1216.4668,-35.541\"/>\n",
       "<text text-anchor=\"middle\" x=\"1312.4429\" y=\"-57.8\" font-family=\"Times,serif\" font-size=\"14.00\" fill=\"#000000\">yes, missing</text>\n",
       "</g>\n",
       "<!-- 46 -->\n",
       "<g id=\"node33\" class=\"node\">\n",
       "<title>46</title>\n",
       "<ellipse fill=\"none\" stroke=\"#000000\" cx=\"1345.9429\" cy=\"-18\" rx=\"79.8859\" ry=\"18\"/>\n",
       "<text text-anchor=\"middle\" x=\"1345.9429\" y=\"-14.3\" font-family=\"Times,serif\" font-size=\"14.00\" fill=\"#000000\">leaf=0.0200000014</text>\n",
       "</g>\n",
       "<!-- 31&#45;&gt;46 -->\n",
       "<g id=\"edge32\" class=\"edge\">\n",
       "<title>31&#45;&gt;46</title>\n",
       "<path fill=\"none\" stroke=\"#ff0000\" d=\"M1354.6637,-86.9735C1353.1741,-75.1918 1351.1977,-59.5607 1349.5031,-46.1581\"/>\n",
       "<polygon fill=\"#ff0000\" stroke=\"#ff0000\" points=\"1352.946,-45.4853 1348.2192,-36.0034 1346.0013,-46.3634 1352.946,-45.4853\"/>\n",
       "<text text-anchor=\"middle\" x=\"1359.9429\" y=\"-57.8\" font-family=\"Times,serif\" font-size=\"14.00\" fill=\"#000000\">no</text>\n",
       "</g>\n",
       "<!-- 47 -->\n",
       "<g id=\"node34\" class=\"node\">\n",
       "<title>47</title>\n",
       "<ellipse fill=\"none\" stroke=\"#000000\" cx=\"1526.9429\" cy=\"-18\" rx=\"83.3857\" ry=\"18\"/>\n",
       "<text text-anchor=\"middle\" x=\"1526.9429\" y=\"-14.3\" font-family=\"Times,serif\" font-size=\"14.00\" fill=\"#000000\">leaf=&#45;0.0294117667</text>\n",
       "</g>\n",
       "<!-- 32&#45;&gt;47 -->\n",
       "<g id=\"edge33\" class=\"edge\">\n",
       "<title>32&#45;&gt;47</title>\n",
       "<path fill=\"none\" stroke=\"#0000ff\" d=\"M1526.9429,-86.9735C1526.9429,-75.1918 1526.9429,-59.5607 1526.9429,-46.1581\"/>\n",
       "<polygon fill=\"#0000ff\" stroke=\"#0000ff\" points=\"1530.443,-46.0033 1526.9429,-36.0034 1523.443,-46.0034 1530.443,-46.0033\"/>\n",
       "<text text-anchor=\"middle\" x=\"1561.4429\" y=\"-57.8\" font-family=\"Times,serif\" font-size=\"14.00\" fill=\"#000000\">yes, missing</text>\n",
       "</g>\n",
       "<!-- 48 -->\n",
       "<g id=\"node35\" class=\"node\">\n",
       "<title>48</title>\n",
       "<ellipse fill=\"none\" stroke=\"#000000\" cx=\"1707.9429\" cy=\"-18\" rx=\"79.8859\" ry=\"18\"/>\n",
       "<text text-anchor=\"middle\" x=\"1707.9429\" y=\"-14.3\" font-family=\"Times,serif\" font-size=\"14.00\" fill=\"#000000\">leaf=0.0400000028</text>\n",
       "</g>\n",
       "<!-- 32&#45;&gt;48 -->\n",
       "<g id=\"edge34\" class=\"edge\">\n",
       "<title>32&#45;&gt;48</title>\n",
       "<path fill=\"none\" stroke=\"#ff0000\" d=\"M1554.4329,-91.7866C1583.7213,-77.7088 1630.4887,-55.2294 1664.715,-38.7781\"/>\n",
       "<polygon fill=\"#ff0000\" stroke=\"#ff0000\" points=\"1666.5144,-41.7965 1674.011,-34.3098 1663.4819,-35.4875 1666.5144,-41.7965\"/>\n",
       "<text text-anchor=\"middle\" x=\"1635.9429\" y=\"-57.8\" font-family=\"Times,serif\" font-size=\"14.00\" fill=\"#000000\">no</text>\n",
       "</g>\n",
       "<!-- 33 -->\n",
       "<g id=\"node38\" class=\"node\">\n",
       "<title>33</title>\n",
       "<ellipse fill=\"none\" stroke=\"#000000\" cx=\"2061.9429\" cy=\"-105\" rx=\"48.1917\" ry=\"18\"/>\n",
       "<text text-anchor=\"middle\" x=\"2061.9429\" y=\"-101.3\" font-family=\"Times,serif\" font-size=\"14.00\" fill=\"#000000\">Cabin&lt;3.5</text>\n",
       "</g>\n",
       "<!-- 20&#45;&gt;33 -->\n",
       "<g id=\"edge37\" class=\"edge\">\n",
       "<title>20&#45;&gt;33</title>\n",
       "<path fill=\"none\" stroke=\"#0000ff\" d=\"M2061.9429,-173.9735C2061.9429,-162.1918 2061.9429,-146.5607 2061.9429,-133.1581\"/>\n",
       "<polygon fill=\"#0000ff\" stroke=\"#0000ff\" points=\"2065.443,-133.0033 2061.9429,-123.0034 2058.443,-133.0034 2065.443,-133.0033\"/>\n",
       "<text text-anchor=\"middle\" x=\"2096.4429\" y=\"-144.8\" font-family=\"Times,serif\" font-size=\"14.00\" fill=\"#000000\">yes, missing</text>\n",
       "</g>\n",
       "<!-- 34 -->\n",
       "<g id=\"node39\" class=\"node\">\n",
       "<title>34</title>\n",
       "<ellipse fill=\"none\" stroke=\"#000000\" cx=\"2253.9429\" cy=\"-105\" rx=\"39.7935\" ry=\"18\"/>\n",
       "<text text-anchor=\"middle\" x=\"2253.9429\" y=\"-101.3\" font-family=\"Times,serif\" font-size=\"14.00\" fill=\"#000000\">Age&lt;43</text>\n",
       "</g>\n",
       "<!-- 20&#45;&gt;34 -->\n",
       "<g id=\"edge38\" class=\"edge\">\n",
       "<title>20&#45;&gt;34</title>\n",
       "<path fill=\"none\" stroke=\"#ff0000\" d=\"M2092.791,-178.0219C2126.4597,-162.7658 2180.3718,-138.3369 2216.4549,-121.9868\"/>\n",
       "<polygon fill=\"#ff0000\" stroke=\"#ff0000\" points=\"2218.01,-125.1247 2225.6739,-117.8094 2215.1208,-118.7488 2218.01,-125.1247\"/>\n",
       "<text text-anchor=\"middle\" x=\"2176.9429\" y=\"-144.8\" font-family=\"Times,serif\" font-size=\"14.00\" fill=\"#000000\">no</text>\n",
       "</g>\n",
       "<!-- 49 -->\n",
       "<g id=\"node40\" class=\"node\">\n",
       "<title>49</title>\n",
       "<ellipse fill=\"none\" stroke=\"#000000\" cx=\"1888.9429\" cy=\"-18\" rx=\"83.3857\" ry=\"18\"/>\n",
       "<text text-anchor=\"middle\" x=\"1888.9429\" y=\"-14.3\" font-family=\"Times,serif\" font-size=\"14.00\" fill=\"#000000\">leaf=&#45;0.0739130452</text>\n",
       "</g>\n",
       "<!-- 33&#45;&gt;49 -->\n",
       "<g id=\"edge39\" class=\"edge\">\n",
       "<title>33&#45;&gt;49</title>\n",
       "<path fill=\"none\" stroke=\"#0000ff\" d=\"M2032.9866,-90.4382C2005.059,-76.3937 1962.4853,-54.9838 1930.8569,-39.0781\"/>\n",
       "<polygon fill=\"#0000ff\" stroke=\"#0000ff\" points=\"1932.3415,-35.9071 1921.8351,-34.5412 1929.1965,-42.1609 1932.3415,-35.9071\"/>\n",
       "<text text-anchor=\"middle\" x=\"2020.4429\" y=\"-57.8\" font-family=\"Times,serif\" font-size=\"14.00\" fill=\"#000000\">yes, missing</text>\n",
       "</g>\n",
       "<!-- 50 -->\n",
       "<g id=\"node41\" class=\"node\">\n",
       "<title>50</title>\n",
       "<ellipse fill=\"none\" stroke=\"#000000\" cx=\"2072.9429\" cy=\"-18\" rx=\"83.3857\" ry=\"18\"/>\n",
       "<text text-anchor=\"middle\" x=\"2072.9429\" y=\"-14.3\" font-family=\"Times,serif\" font-size=\"14.00\" fill=\"#000000\">leaf=&#45;0.0230769236</text>\n",
       "</g>\n",
       "<!-- 33&#45;&gt;50 -->\n",
       "<g id=\"edge40\" class=\"edge\">\n",
       "<title>33&#45;&gt;50</title>\n",
       "<path fill=\"none\" stroke=\"#ff0000\" d=\"M2064.2221,-86.9735C2065.7118,-75.1918 2067.6881,-59.5607 2069.3827,-46.1581\"/>\n",
       "<polygon fill=\"#ff0000\" stroke=\"#ff0000\" points=\"2072.8845,-46.3634 2070.6666,-36.0034 2065.9398,-45.4853 2072.8845,-46.3634\"/>\n",
       "<text text-anchor=\"middle\" x=\"2075.9429\" y=\"-57.8\" font-family=\"Times,serif\" font-size=\"14.00\" fill=\"#000000\">no</text>\n",
       "</g>\n",
       "<!-- 51 -->\n",
       "<g id=\"node42\" class=\"node\">\n",
       "<title>51</title>\n",
       "<ellipse fill=\"none\" stroke=\"#000000\" cx=\"2253.9429\" cy=\"-18\" rx=\"79.8859\" ry=\"18\"/>\n",
       "<text text-anchor=\"middle\" x=\"2253.9429\" y=\"-14.3\" font-family=\"Times,serif\" font-size=\"14.00\" fill=\"#000000\">leaf=0.0250000004</text>\n",
       "</g>\n",
       "<!-- 34&#45;&gt;51 -->\n",
       "<g id=\"edge41\" class=\"edge\">\n",
       "<title>34&#45;&gt;51</title>\n",
       "<path fill=\"none\" stroke=\"#0000ff\" d=\"M2253.9429,-86.9735C2253.9429,-75.1918 2253.9429,-59.5607 2253.9429,-46.1581\"/>\n",
       "<polygon fill=\"#0000ff\" stroke=\"#0000ff\" points=\"2257.443,-46.0033 2253.9429,-36.0034 2250.443,-46.0034 2257.443,-46.0033\"/>\n",
       "<text text-anchor=\"middle\" x=\"2288.4429\" y=\"-57.8\" font-family=\"Times,serif\" font-size=\"14.00\" fill=\"#000000\">yes, missing</text>\n",
       "</g>\n",
       "<!-- 52 -->\n",
       "<g id=\"node43\" class=\"node\">\n",
       "<title>52</title>\n",
       "<ellipse fill=\"none\" stroke=\"#000000\" cx=\"2434.9429\" cy=\"-18\" rx=\"83.3857\" ry=\"18\"/>\n",
       "<text text-anchor=\"middle\" x=\"2434.9429\" y=\"-14.3\" font-family=\"Times,serif\" font-size=\"14.00\" fill=\"#000000\">leaf=&#45;0.0375000015</text>\n",
       "</g>\n",
       "<!-- 34&#45;&gt;52 -->\n",
       "<g id=\"edge42\" class=\"edge\">\n",
       "<title>34&#45;&gt;52</title>\n",
       "<path fill=\"none\" stroke=\"#ff0000\" d=\"M2281.4329,-91.7866C2310.6309,-77.7522 2357.2002,-55.3681 2391.3977,-38.9306\"/>\n",
       "<polygon fill=\"#ff0000\" stroke=\"#ff0000\" points=\"2393.1938,-41.9507 2400.6904,-34.4639 2390.1612,-35.6416 2393.1938,-41.9507\"/>\n",
       "<text text-anchor=\"middle\" x=\"2362.9429\" y=\"-57.8\" font-family=\"Times,serif\" font-size=\"14.00\" fill=\"#000000\">no</text>\n",
       "</g>\n",
       "<!-- 21 -->\n",
       "<g id=\"node46\" class=\"node\">\n",
       "<title>21</title>\n",
       "<ellipse fill=\"none\" stroke=\"#000000\" cx=\"2336.9429\" cy=\"-192\" rx=\"79.8859\" ry=\"18\"/>\n",
       "<text text-anchor=\"middle\" x=\"2336.9429\" y=\"-188.3\" font-family=\"Times,serif\" font-size=\"14.00\" fill=\"#000000\">leaf=0.0789473727</text>\n",
       "</g>\n",
       "<!-- 13&#45;&gt;21 -->\n",
       "<g id=\"edge45\" class=\"edge\">\n",
       "<title>13&#45;&gt;21</title>\n",
       "<path fill=\"none\" stroke=\"#0000ff\" d=\"M2392.3107,-261.8116C2382.33,-249.2272 2368.617,-231.9369 2357.3354,-217.7122\"/>\n",
       "<polygon fill=\"#0000ff\" stroke=\"#0000ff\" points=\"2359.9767,-215.4101 2351.0205,-209.75 2354.4922,-219.7599 2359.9767,-215.4101\"/>\n",
       "<text text-anchor=\"middle\" x=\"2410.4429\" y=\"-231.8\" font-family=\"Times,serif\" font-size=\"14.00\" fill=\"#000000\">yes, missing</text>\n",
       "</g>\n",
       "<!-- 22 -->\n",
       "<g id=\"node47\" class=\"node\">\n",
       "<title>22</title>\n",
       "<ellipse fill=\"none\" stroke=\"#000000\" cx=\"2517.9429\" cy=\"-192\" rx=\"83.3857\" ry=\"18\"/>\n",
       "<text text-anchor=\"middle\" x=\"2517.9429\" y=\"-188.3\" font-family=\"Times,serif\" font-size=\"14.00\" fill=\"#000000\">leaf=&#45;0.0700000003</text>\n",
       "</g>\n",
       "<!-- 13&#45;&gt;22 -->\n",
       "<g id=\"edge46\" class=\"edge\">\n",
       "<title>13&#45;&gt;22</title>\n",
       "<path fill=\"none\" stroke=\"#ff0000\" d=\"M2426.2253,-263.245C2443.3242,-249.9627 2468.0483,-230.7574 2487.5188,-215.633\"/>\n",
       "<polygon fill=\"#ff0000\" stroke=\"#ff0000\" points=\"2489.7539,-218.3287 2495.5042,-209.4301 2485.4597,-212.8006 2489.7539,-218.3287\"/>\n",
       "<text text-anchor=\"middle\" x=\"2475.9429\" y=\"-231.8\" font-family=\"Times,serif\" font-size=\"14.00\" fill=\"#000000\">no</text>\n",
       "</g>\n",
       "<!-- 23 -->\n",
       "<g id=\"node48\" class=\"node\">\n",
       "<title>23</title>\n",
       "<ellipse fill=\"none\" stroke=\"#000000\" cx=\"2705.9429\" cy=\"-192\" rx=\"58.4896\" ry=\"18\"/>\n",
       "<text text-anchor=\"middle\" x=\"2705.9429\" y=\"-188.3\" font-family=\"Times,serif\" font-size=\"14.00\" fill=\"#000000\">Ticket&lt;103.5</text>\n",
       "</g>\n",
       "<!-- 14&#45;&gt;23 -->\n",
       "<g id=\"edge47\" class=\"edge\">\n",
       "<title>14&#45;&gt;23</title>\n",
       "<path fill=\"none\" stroke=\"#0000ff\" d=\"M2705.9429,-260.9735C2705.9429,-249.1918 2705.9429,-233.5607 2705.9429,-220.1581\"/>\n",
       "<polygon fill=\"#0000ff\" stroke=\"#0000ff\" points=\"2709.443,-220.0033 2705.9429,-210.0034 2702.443,-220.0034 2709.443,-220.0033\"/>\n",
       "<text text-anchor=\"middle\" x=\"2740.4429\" y=\"-231.8\" font-family=\"Times,serif\" font-size=\"14.00\" fill=\"#000000\">yes, missing</text>\n",
       "</g>\n",
       "<!-- 24 -->\n",
       "<g id=\"node49\" class=\"node\">\n",
       "<title>24</title>\n",
       "<ellipse fill=\"none\" stroke=\"#000000\" cx=\"2948.9429\" cy=\"-192\" rx=\"58.4896\" ry=\"18\"/>\n",
       "<text text-anchor=\"middle\" x=\"2948.9429\" y=\"-188.3\" font-family=\"Times,serif\" font-size=\"14.00\" fill=\"#000000\">Ticket&lt;894.5</text>\n",
       "</g>\n",
       "<!-- 14&#45;&gt;24 -->\n",
       "<g id=\"edge48\" class=\"edge\">\n",
       "<title>14&#45;&gt;24</title>\n",
       "<path fill=\"none\" stroke=\"#ff0000\" d=\"M2744.179,-265.3105C2786.6045,-250.1212 2855.1276,-225.5882 2901.0827,-209.1351\"/>\n",
       "<polygon fill=\"#ff0000\" stroke=\"#ff0000\" points=\"2902.2939,-212.4191 2910.5289,-205.7531 2899.9344,-205.8288 2902.2939,-212.4191\"/>\n",
       "<text text-anchor=\"middle\" x=\"2849.9429\" y=\"-231.8\" font-family=\"Times,serif\" font-size=\"14.00\" fill=\"#000000\">no</text>\n",
       "</g>\n",
       "<!-- 35 -->\n",
       "<g id=\"node50\" class=\"node\">\n",
       "<title>35</title>\n",
       "<ellipse fill=\"none\" stroke=\"#000000\" cx=\"2615.9429\" cy=\"-105\" rx=\"53.8905\" ry=\"18\"/>\n",
       "<text text-anchor=\"middle\" x=\"2615.9429\" y=\"-101.3\" font-family=\"Times,serif\" font-size=\"14.00\" fill=\"#000000\">Ticket&lt;20.5</text>\n",
       "</g>\n",
       "<!-- 23&#45;&gt;35 -->\n",
       "<g id=\"edge49\" class=\"edge\">\n",
       "<title>23&#45;&gt;35</title>\n",
       "<path fill=\"none\" stroke=\"#0000ff\" d=\"M2683.3296,-175.1552C2675.9627,-169.3447 2667.8963,-162.6258 2660.9429,-156 2652.6508,-148.0986 2644.1819,-138.8629 2636.8607,-130.4385\"/>\n",
       "<polygon fill=\"#0000ff\" stroke=\"#0000ff\" points=\"2639.3915,-128.0123 2630.2363,-122.68 2634.068,-132.5577 2639.3915,-128.0123\"/>\n",
       "<text text-anchor=\"middle\" x=\"2695.4429\" y=\"-144.8\" font-family=\"Times,serif\" font-size=\"14.00\" fill=\"#000000\">yes, missing</text>\n",
       "</g>\n",
       "<!-- 36 -->\n",
       "<g id=\"node51\" class=\"node\">\n",
       "<title>36</title>\n",
       "<ellipse fill=\"none\" stroke=\"#000000\" cx=\"2767.9429\" cy=\"-105\" rx=\"79.8859\" ry=\"18\"/>\n",
       "<text text-anchor=\"middle\" x=\"2767.9429\" y=\"-101.3\" font-family=\"Times,serif\" font-size=\"14.00\" fill=\"#000000\">leaf=0.0272727292</text>\n",
       "</g>\n",
       "<!-- 23&#45;&gt;36 -->\n",
       "<g id=\"edge50\" class=\"edge\">\n",
       "<title>23&#45;&gt;36</title>\n",
       "<path fill=\"none\" stroke=\"#ff0000\" d=\"M2718.4895,-174.3943C2727.3388,-161.9767 2739.3424,-145.1329 2749.3074,-131.1498\"/>\n",
       "<polygon fill=\"#ff0000\" stroke=\"#ff0000\" points=\"2752.2489,-133.0531 2755.2021,-122.8782 2746.5483,-128.9906 2752.2489,-133.0531\"/>\n",
       "<text text-anchor=\"middle\" x=\"2747.9429\" y=\"-144.8\" font-family=\"Times,serif\" font-size=\"14.00\" fill=\"#000000\">no</text>\n",
       "</g>\n",
       "<!-- 37 -->\n",
       "<g id=\"node54\" class=\"node\">\n",
       "<title>37</title>\n",
       "<ellipse fill=\"none\" stroke=\"#000000\" cx=\"2948.9429\" cy=\"-105\" rx=\"83.3857\" ry=\"18\"/>\n",
       "<text text-anchor=\"middle\" x=\"2948.9429\" y=\"-101.3\" font-family=\"Times,serif\" font-size=\"14.00\" fill=\"#000000\">leaf=&#45;0.0828877017</text>\n",
       "</g>\n",
       "<!-- 24&#45;&gt;37 -->\n",
       "<g id=\"edge53\" class=\"edge\">\n",
       "<title>24&#45;&gt;37</title>\n",
       "<path fill=\"none\" stroke=\"#0000ff\" d=\"M2948.9429,-173.9735C2948.9429,-162.1918 2948.9429,-146.5607 2948.9429,-133.1581\"/>\n",
       "<polygon fill=\"#0000ff\" stroke=\"#0000ff\" points=\"2952.443,-133.0033 2948.9429,-123.0034 2945.443,-133.0034 2952.443,-133.0033\"/>\n",
       "<text text-anchor=\"middle\" x=\"2983.4429\" y=\"-144.8\" font-family=\"Times,serif\" font-size=\"14.00\" fill=\"#000000\">yes, missing</text>\n",
       "</g>\n",
       "<!-- 38 -->\n",
       "<g id=\"node55\" class=\"node\">\n",
       "<title>38</title>\n",
       "<ellipse fill=\"none\" stroke=\"#000000\" cx=\"3101.9429\" cy=\"-105\" rx=\"51.9908\" ry=\"18\"/>\n",
       "<text text-anchor=\"middle\" x=\"3101.9429\" y=\"-101.3\" font-family=\"Times,serif\" font-size=\"14.00\" fill=\"#000000\">Ticket&lt;907</text>\n",
       "</g>\n",
       "<!-- 24&#45;&gt;38 -->\n",
       "<g id=\"edge54\" class=\"edge\">\n",
       "<title>24&#45;&gt;38</title>\n",
       "<path fill=\"none\" stroke=\"#ff0000\" d=\"M2981.3175,-176.9748C2994.1322,-170.7848 3008.8911,-163.3495 3021.9429,-156 3037.9881,-146.9649 3055.2763,-136.0949 3069.6617,-126.7156\"/>\n",
       "<polygon fill=\"#ff0000\" stroke=\"#ff0000\" points=\"3071.7732,-129.5161 3078.2065,-121.0981 3067.9278,-123.6669 3071.7732,-129.5161\"/>\n",
       "<text text-anchor=\"middle\" x=\"3053.9429\" y=\"-144.8\" font-family=\"Times,serif\" font-size=\"14.00\" fill=\"#000000\">no</text>\n",
       "</g>\n",
       "<!-- 53 -->\n",
       "<g id=\"node52\" class=\"node\">\n",
       "<title>53</title>\n",
       "<ellipse fill=\"none\" stroke=\"#000000\" cx=\"2615.9429\" cy=\"-18\" rx=\"79.8859\" ry=\"18\"/>\n",
       "<text text-anchor=\"middle\" x=\"2615.9429\" y=\"-14.3\" font-family=\"Times,serif\" font-size=\"14.00\" fill=\"#000000\">leaf=0.0250000004</text>\n",
       "</g>\n",
       "<!-- 35&#45;&gt;53 -->\n",
       "<g id=\"edge51\" class=\"edge\">\n",
       "<title>35&#45;&gt;53</title>\n",
       "<path fill=\"none\" stroke=\"#0000ff\" d=\"M2615.9429,-86.9735C2615.9429,-75.1918 2615.9429,-59.5607 2615.9429,-46.1581\"/>\n",
       "<polygon fill=\"#0000ff\" stroke=\"#0000ff\" points=\"2619.443,-46.0033 2615.9429,-36.0034 2612.443,-46.0034 2619.443,-46.0033\"/>\n",
       "<text text-anchor=\"middle\" x=\"2650.4429\" y=\"-57.8\" font-family=\"Times,serif\" font-size=\"14.00\" fill=\"#000000\">yes, missing</text>\n",
       "</g>\n",
       "<!-- 54 -->\n",
       "<g id=\"node53\" class=\"node\">\n",
       "<title>54</title>\n",
       "<ellipse fill=\"none\" stroke=\"#000000\" cx=\"2796.9429\" cy=\"-18\" rx=\"83.3857\" ry=\"18\"/>\n",
       "<text text-anchor=\"middle\" x=\"2796.9429\" y=\"-14.3\" font-family=\"Times,serif\" font-size=\"14.00\" fill=\"#000000\">leaf=&#45;0.0578947365</text>\n",
       "</g>\n",
       "<!-- 35&#45;&gt;54 -->\n",
       "<g id=\"edge52\" class=\"edge\">\n",
       "<title>35&#45;&gt;54</title>\n",
       "<path fill=\"none\" stroke=\"#ff0000\" d=\"M2647.0579,-90.0442C2676.3121,-75.9828 2720.3885,-54.7969 2753.1811,-39.0347\"/>\n",
       "<polygon fill=\"#ff0000\" stroke=\"#ff0000\" points=\"2755.0405,-42.0243 2762.5372,-34.5376 2752.008,-35.7153 2755.0405,-42.0243\"/>\n",
       "<text text-anchor=\"middle\" x=\"2724.9429\" y=\"-57.8\" font-family=\"Times,serif\" font-size=\"14.00\" fill=\"#000000\">no</text>\n",
       "</g>\n",
       "<!-- 55 -->\n",
       "<g id=\"node56\" class=\"node\">\n",
       "<title>55</title>\n",
       "<ellipse fill=\"none\" stroke=\"#000000\" cx=\"3042.9429\" cy=\"-18\" rx=\"84.485\" ry=\"18\"/>\n",
       "<text text-anchor=\"middle\" x=\"3042.9429\" y=\"-14.3\" font-family=\"Times,serif\" font-size=\"14.00\" fill=\"#000000\">leaf=0.00769230817</text>\n",
       "</g>\n",
       "<!-- 38&#45;&gt;55 -->\n",
       "<g id=\"edge55\" class=\"edge\">\n",
       "<title>38&#45;&gt;55</title>\n",
       "<path fill=\"none\" stroke=\"#0000ff\" d=\"M3090.0034,-87.3943C3081.6617,-75.0938 3070.3747,-58.4503 3060.9456,-44.5463\"/>\n",
       "<polygon fill=\"#0000ff\" stroke=\"#0000ff\" points=\"3063.5766,-42.1901 3055.0672,-35.8782 3057.7832,-46.119 3063.5766,-42.1901\"/>\n",
       "<text text-anchor=\"middle\" x=\"3111.4429\" y=\"-57.8\" font-family=\"Times,serif\" font-size=\"14.00\" fill=\"#000000\">yes, missing</text>\n",
       "</g>\n",
       "<!-- 56 -->\n",
       "<g id=\"node57\" class=\"node\">\n",
       "<title>56</title>\n",
       "<ellipse fill=\"none\" stroke=\"#000000\" cx=\"3228.9429\" cy=\"-18\" rx=\"83.3857\" ry=\"18\"/>\n",
       "<text text-anchor=\"middle\" x=\"3228.9429\" y=\"-14.3\" font-family=\"Times,serif\" font-size=\"14.00\" fill=\"#000000\">leaf=&#45;0.0500000007</text>\n",
       "</g>\n",
       "<!-- 38&#45;&gt;56 -->\n",
       "<g id=\"edge56\" class=\"edge\">\n",
       "<title>38&#45;&gt;56</title>\n",
       "<path fill=\"none\" stroke=\"#ff0000\" d=\"M3125.533,-88.8399C3145.1644,-75.3916 3173.3541,-56.0805 3195.3442,-41.0164\"/>\n",
       "<polygon fill=\"#ff0000\" stroke=\"#ff0000\" points=\"3197.4673,-43.8046 3203.7391,-35.2656 3193.5112,-38.0297 3197.4673,-43.8046\"/>\n",
       "<text text-anchor=\"middle\" x=\"3179.9429\" y=\"-57.8\" font-family=\"Times,serif\" font-size=\"14.00\" fill=\"#000000\">no</text>\n",
       "</g>\n",
       "</g>\n",
       "</svg>\n"
      ],
      "text/plain": [
       "<graphviz.files.Source at 0x7f28dc342630>"
      ]
     },
     "execution_count": 28,
     "metadata": {},
     "output_type": "execute_result"
    }
   ],
   "source": [
    "xgb.to_graphviz(modelXGB)"
   ]
  },
  {
   "cell_type": "markdown",
   "metadata": {},
   "source": [
    "##### Feature importance\n",
    "\n",
    "- From my point of view it doesn't look so obvious why our model picked up `Ticket` as the most important feature. My guess here would be that passengers in group has the best chance to escape the sinking ship. But strange that eliminating this feature gives worse accuracy score. So we will keep it as it is.\n",
    "\n",
    "- Secondly, looks like `Age` contributes heavily to survival probability after whether the passenger was in group or alone. This drives to conclusion that passengers of particular age group have higher chances to survive.\n",
    "\n",
    "- `Fare` and `Cabin` sector are the next deciders in this game of dice.\n",
    "\n",
    "- Class and gender don't play so crucial role as it might appeared in the beginning.\n",
    "\n",
    "- Apperantly a particular `Title` or whether the passenger is a parent or children (`Parch`) contribute very little to importance"
   ]
  },
  {
   "cell_type": "code",
   "execution_count": 29,
   "metadata": {
    "scrolled": true
   },
   "outputs": [
    {
     "data": {
      "image/png": "[encoded data removed]",
      "text/plain": [
       "<Figure size 432x288 with 1 Axes>"
      ]
     },
     "metadata": {},
     "output_type": "display_data"
    }
   ],
   "source": [
    "plot_importance(modelXGB)\n",
    "plt.show()"
   ]
  },
  {
   "cell_type": "markdown",
   "metadata": {},
   "source": [
    "#### KNN - K Nearest Neighbours with `scikit-learn`"
   ]
  },
  {
   "cell_type": "code",
   "execution_count": 30,
   "metadata": {
    "scrolled": true
   },
   "outputs": [],
   "source": [
    "modelKNN = KNeighborsClassifier(n_neighbors=10)\n",
    "modelKNN.fit(X_train, y_train)\n",
    "predictions = modelKNN.predict(X_test)"
   ]
  },
  {
   "cell_type": "markdown",
   "metadata": {},
   "source": [
    "##### Model overview\n",
    "\n",
    "Quite a surprise -- KNN and Gradient Boosting ended up predicting with the same rate of accuracy!"
   ]
  },
  {
   "cell_type": "code",
   "execution_count": 31,
   "metadata": {},
   "outputs": [
    {
     "name": "stdout",
     "output_type": "stream",
     "text": [
      "Accuracy: 0.7333333333333333\n",
      "MSE: 0.26666666666666666\n"
     ]
    }
   ],
   "source": [
    "print('Accuracy: %s' % accuracy_score(y_test, predictions.round()))\n",
    "print('MSE: %s' % mean_squared_error(y_test, predictions.round()))"
   ]
  },
  {
   "cell_type": "markdown",
   "metadata": {},
   "source": [
    "#### Neural network with multiple layers (`Keras` & `TF`)"
   ]
  },
  {
   "cell_type": "code",
   "execution_count": 32,
   "metadata": {},
   "outputs": [
    {
     "name": "stdout",
     "output_type": "stream",
     "text": [
      "Train on 846 samples, validate on 45 samples\n",
      "Epoch 1/5\n",
      "846/846 [==============================] - 0s 263us/step - loss: 0.2442 - accuracy: 0.6111 - val_loss: 0.2558 - val_accuracy: 0.3111\n",
      "Epoch 2/5\n",
      "846/846 [==============================] - 0s 133us/step - loss: 0.2378 - accuracy: 0.5827 - val_loss: 0.2177 - val_accuracy: 0.7333\n",
      "Epoch 3/5\n",
      "846/846 [==============================] - 0s 122us/step - loss: 0.2362 - accuracy: 0.6017 - val_loss: 0.2162 - val_accuracy: 0.7333\n",
      "Epoch 4/5\n",
      "846/846 [==============================] - 0s 111us/step - loss: 0.2325 - accuracy: 0.6064 - val_loss: 0.2110 - val_accuracy: 0.7111\n",
      "Epoch 5/5\n",
      "846/846 [==============================] - 0s 108us/step - loss: 0.2325 - accuracy: 0.6158 - val_loss: 0.2182 - val_accuracy: 0.7333\n"
     ]
    },
    {
     "data": {
      "text/plain": [
       "<keras.callbacks.callbacks.History at 0x7f28dc159da0>"
      ]
     },
     "execution_count": 32,
     "metadata": {},
     "output_type": "execute_result"
    }
   ],
   "source": [
    "neurons=len(testing_data.columns.values)\n",
    "modelNN = Sequential([\n",
    "    Dense(neurons * 8, input_dim=neurons, activation='relu'),\n",
    "    Dense(neurons * 3, activation='relu'),\n",
    "    Dense(neurons * 1, activation='relu'),\n",
    "    Dense(1, activation='sigmoid'),\n",
    "])\n",
    "\n",
    "modelNN.compile(\n",
    "    loss='mse',\n",
    "    optimizer='adam',\n",
    "    metrics=['accuracy']\n",
    ")\n",
    "\n",
    "modelNN.fit(\n",
    "    X_train, y_train,\n",
    "    epochs=5, batch_size=10,\n",
    "    validation_data=(X_test, y_test),\n",
    "    verbose = 1\n",
    ")"
   ]
  },
  {
   "cell_type": "markdown",
   "metadata": {},
   "source": [
    "##### Model overview"
   ]
  },
  {
   "cell_type": "code",
   "execution_count": 33,
   "metadata": {},
   "outputs": [
    {
     "name": "stdout",
     "output_type": "stream",
     "text": [
      "45/45 [==============================] - 0s 84us/step\n",
      "Accuracy: 0.7333333492279053\n",
      "Loss: 0.2181989785697725\n"
     ]
    }
   ],
   "source": [
    "loss, accuracy = modelNN.evaluate(X_test, y_test)\n",
    "print(\"Accuracy: %s\" % accuracy)\n",
    "print(\"Loss: %s\" % loss)"
   ]
  },
  {
   "cell_type": "markdown",
   "metadata": {},
   "source": [
    "#### Convolutional Neural Network with 1x1 dimension (`Keras` & `TF`)"
   ]
  },
  {
   "cell_type": "code",
   "execution_count": 34,
   "metadata": {},
   "outputs": [
    {
     "name": "stdout",
     "output_type": "stream",
     "text": [
      "Train on 846 samples, validate on 45 samples\n",
      "Epoch 1/5\n",
      "846/846 [==============================] - 0s 402us/step - loss: 0.3929 - accuracy: 0.5768 - val_loss: 0.2769 - val_accuracy: 0.7111\n",
      "Epoch 2/5\n",
      "846/846 [==============================] - 0s 80us/step - loss: 0.3886 - accuracy: 0.5875 - val_loss: 0.2626 - val_accuracy: 0.6889\n",
      "Epoch 3/5\n",
      "846/846 [==============================] - 0s 48us/step - loss: 0.3973 - accuracy: 0.5780 - val_loss: 0.2851 - val_accuracy: 0.7111\n",
      "Epoch 4/5\n",
      "846/846 [==============================] - 0s 43us/step - loss: 0.3784 - accuracy: 0.5887 - val_loss: 0.2823 - val_accuracy: 0.6889\n",
      "Epoch 5/5\n",
      "846/846 [==============================] - 0s 42us/step - loss: 0.4029 - accuracy: 0.5686 - val_loss: 0.2663 - val_accuracy: 0.7111\n"
     ]
    },
    {
     "data": {
      "text/plain": [
       "<keras.callbacks.callbacks.History at 0x7f28bcec4fd0>"
      ]
     },
     "execution_count": 34,
     "metadata": {},
     "output_type": "execute_result"
    }
   ],
   "source": [
    "modelCNN = Sequential([\n",
    "    Conv1D(filters=neurons, kernel_size=2, input_shape=(neurons,1)),\n",
    "    MaxPooling1D(pool_size=2),\n",
    "    Dropout(0.1),\n",
    "    Flatten(),\n",
    "    Dense(neurons * 2, activation='relu'),\n",
    "    Dense(1, activation='sigmoid'),\n",
    "])\n",
    "\n",
    "modelCNN.compile(\n",
    "   loss = 'mse',\n",
    "   optimizer = 'adam',\n",
    "   metrics = ['accuracy']\n",
    ")\n",
    "\n",
    "X_train_reshaped = X_train.to_numpy().reshape(X_train.shape[0], X_train.shape[1], 1)\n",
    "X_test_reshaped = X_test.to_numpy().reshape(X_test.shape[0], X_test.shape[1], 1)\n",
    "\n",
    "modelCNN.fit(\n",
    "    X_train_reshaped, y_train,\n",
    "    epochs=5,\n",
    "    validation_data=(X_test_reshaped, y_test),\n",
    "    verbose = 1\n",
    ")"
   ]
  },
  {
   "cell_type": "markdown",
   "metadata": {},
   "source": [
    "##### Model overview\n",
    "\n",
    "Worst result! I know... this domain of problem is not suitable for CNN as the data set isn't large enough, so the model ended up underfitted -- I'm just experimenting :)"
   ]
  },
  {
   "cell_type": "code",
   "execution_count": 35,
   "metadata": {},
   "outputs": [
    {
     "name": "stdout",
     "output_type": "stream",
     "text": [
      "45/45 [==============================] - 0s 143us/step\n",
      "Accuracy: 0.7111111283302307\n",
      "Loss: 0.26629787915282777\n"
     ]
    }
   ],
   "source": [
    "loss, accuracy = modelCNN.evaluate(X_test_reshaped, y_test)\n",
    "print(\"Accuracy: %s\" % accuracy)\n",
    "print(\"Loss: %s\" % loss)"
   ]
  },
  {
   "cell_type": "markdown",
   "metadata": {},
   "source": [
    "### Feed testing data set"
   ]
  },
  {
   "cell_type": "code",
   "execution_count": 36,
   "metadata": {},
   "outputs": [],
   "source": [
    "TestDataReshaped = testing_data.to_numpy().reshape(testing_data.shape[0],testing_data.shape[1],1)\n",
    "OutputCNN = testing_data.copy()\n",
    "OutputCNN[\"Survived\"] = modelCNN.predict_classes(TestDataReshaped)\n",
    "OutputCNN['PassengerId'] = td_merged.PassengerId.astype(int)"
   ]
  },
  {
   "cell_type": "code",
   "execution_count": 37,
   "metadata": {},
   "outputs": [],
   "source": [
    "OutputNN = testing_data.copy()\n",
    "OutputNN[\"Survived\"] = modelNN.predict_classes(testing_data.to_numpy())\n",
    "OutputNN['PassengerId'] = td_merged.PassengerId.astype(int)"
   ]
  },
  {
   "cell_type": "code",
   "execution_count": 38,
   "metadata": {},
   "outputs": [],
   "source": [
    "OutputXGB = testing_data.copy()\n",
    "OutputXGB[\"Survived\"] = np.array(\n",
    "    modelXGB.predict(\n",
    "        xgb.DMatrix(testing_data.to_numpy(), feature_names=testing_data.columns.values)\n",
    "    ).round()\n",
    "    ,dtype=int)\n",
    "OutputXGB['PassengerId'] = td_merged.PassengerId.astype(int)"
   ]
  },
  {
   "cell_type": "code",
   "execution_count": 39,
   "metadata": {},
   "outputs": [],
   "source": [
    "OutputKNN = testing_data.copy()\n",
    "OutputKNN[\"Survived\"] = modelKNN.predict(testing_data.to_numpy())\n",
    "OutputKNN.Survived = OutputKNN.Survived.astype(int)\n",
    "OutputKNN['PassengerId'] = td_merged.PassengerId.astype(int)"
   ]
  },
  {
   "cell_type": "code",
   "execution_count": 40,
   "metadata": {},
   "outputs": [],
   "source": [
    "OutputLGB = testing_data.copy()\n",
    "OutputLGB[\"Survived\"] = np.array(modelLGB.predict(testing_data.to_numpy(), num_iteration=modelLGB.best_iteration).round(),dtype=int)\n",
    "OutputLGB['PassengerId'] = td_merged.PassengerId.astype(int)"
   ]
  },
  {
   "cell_type": "markdown",
   "metadata": {},
   "source": [
    "### Save predictions to file"
   ]
  },
  {
   "cell_type": "code",
   "execution_count": 41,
   "metadata": {},
   "outputs": [],
   "source": [
    "OutputLGB[['PassengerId', 'Survived']].to_csv('output/LGB.csv', index=False)\n",
    "OutputXGB[['PassengerId', 'Survived']].to_csv('output/XGB.csv', index=False)\n",
    "OutputCNN[['PassengerId', 'Survived']].to_csv('output/CNN.csv', index=False)\n",
    "OutputNN[['PassengerId', 'Survived']].to_csv('output/NN.csv', index=False)\n",
    "OutputKNN[['PassengerId', 'Survived']].to_csv('output/KNN.csv', index=False)"
   ]
  }
 ],
 "metadata": {
  "celltoolbar": "Raw Cell Format",
  "kernelspec": {
   "display_name": "Python 3",
   "language": "python",
   "name": "python3"
  },
  "language_info": {
   "codemirror_mode": {
    "name": "ipython",
    "version": 3
   },
   "file_extension": ".py",
   "mimetype": "text/x-python",
   "name": "python",
   "nbconvert_exporter": "python",
   "pygments_lexer": "ipython3",
   "version": "3.7.3"
  }
 },
 "nbformat": 4,
 "nbformat_minor": 4
}
