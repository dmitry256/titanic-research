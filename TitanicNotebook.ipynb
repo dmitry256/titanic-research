{
 "cells": [
  {
   "cell_type": "markdown",
   "metadata": {},
   "source": [
    "# Titanic: Machine Learning from Disaster"
   ]
  },
  {
   "cell_type": "markdown",
   "metadata": {},
   "source": [
    "# The Challenge\n",
    "\n",
    "The sinking of the Titanic is one of the most infamous shipwrecks in history.\n",
    "\n",
    "On April 15, 1912, during her maiden voyage, the widely considered “unsinkable” RMS Titanic sank after colliding with an iceberg. Unfortunately, there weren’t enough lifeboats for everyone onboard, resulting in the death of 1502 out of 2224 passengers and crew.\n",
    "\n",
    "While there was some element of luck involved in surviving, it seems some groups of people were more likely to survive than others.\n",
    "\n",
    "In this challenge, we ask you to build a predictive model that answers the question: “what sorts of people were more likely to survive?” using passenger data (ie name, age, gender, socio-economic class, etc). "
   ]
  },
  {
   "cell_type": "markdown",
   "metadata": {},
   "source": [
    "# Tools we would need"
   ]
  },
  {
   "cell_type": "code",
   "execution_count": 1,
   "metadata": {
    "_cell_guid": "b1076dfc-b9ad-4769-8c92-a6c4dae69d19",
    "_uuid": "8f2839f25d086af736a60e9eeb907d3b93b6e0e5"
   },
   "outputs": [
    {
     "name": "stderr",
     "output_type": "stream",
     "text": [
      "Using TensorFlow backend.\n"
     ]
    }
   ],
   "source": [
    "from sklearn.model_selection import train_test_split\n",
    "from sklearn.metrics import accuracy_score, mean_squared_error, r2_score, median_absolute_error, max_error, explained_variance_score\n",
    "from sklearn.neighbors import KNeighborsClassifier\n",
    "from sklearn.preprocessing import LabelEncoder\n",
    "\n",
    "import xgboost as xgb\n",
    "from xgboost import XGBRegressor, plot_importance \n",
    "\n",
    "from keras.models import Sequential\n",
    "from keras.layers import Conv1D, MaxPooling1D, Dense, Flatten, Dropout\n",
    "from keras.optimizers import RMSprop \n",
    "from keras.callbacks import EarlyStopping \n",
    "import keras\n",
    "\n",
    "import numpy as np # linear algebra\n",
    "import pandas as pd # data processing, CSV file I/O (e.g. pd.read_csv)\n",
    "\n",
    "import matplotlib.pyplot as plt\n",
    "import seaborn as sns\n",
    "\n",
    "import threading\n",
    "import re\n",
    "\n",
    "sns.set()\n",
    "\n",
    "TrainData =  pd.read_csv('input/train.csv')\n",
    "TestData = pd.read_csv('input/test.csv')"
   ]
  },
  {
   "cell_type": "markdown",
   "metadata": {
    "slideshow": {
     "slide_type": "slide"
    }
   },
   "source": [
    "# Feature engineering"
   ]
  },
  {
   "cell_type": "markdown",
   "metadata": {},
   "source": [
    "## Interpolation of missing values\n",
    "\n",
    "One can notice that in traing and testing data sets combined there are:\n",
    "- **1014** passengers with missing `Cabin`\n",
    "- **418** passengers with missing `Survived` value\n",
    "- **263** passengers with missing `Age`\n",
    "- **2** passengers with missing `Embarked` port\n",
    "- **1** record with missing `Fare` value\n",
    "\n",
    "We will try to approximate those values below."
   ]
  },
  {
   "cell_type": "code",
   "execution_count": 2,
   "metadata": {},
   "outputs": [
    {
     "name": "stdout",
     "output_type": "stream",
     "text": [
      "<class 'pandas.core.frame.DataFrame'>\n",
      "RangeIndex: 1309 entries, 0 to 1308\n",
      "Data columns (total 12 columns):\n",
      " #   Column       Non-Null Count  Dtype  \n",
      "---  ------       --------------  -----  \n",
      " 0   PassengerId  1309 non-null   int64  \n",
      " 1   Survived     891 non-null    float64\n",
      " 2   Pclass       1309 non-null   int64  \n",
      " 3   Name         1309 non-null   object \n",
      " 4   Sex          1309 non-null   object \n",
      " 5   Age          1046 non-null   float64\n",
      " 6   SibSp        1309 non-null   int64  \n",
      " 7   Parch        1309 non-null   int64  \n",
      " 8   Ticket       1309 non-null   object \n",
      " 9   Fare         1308 non-null   float64\n",
      " 10  Cabin        295 non-null    object \n",
      " 11  Embarked     1307 non-null   object \n",
      "dtypes: float64(3), int64(4), object(5)\n",
      "memory usage: 122.8+ KB\n"
     ]
    }
   ],
   "source": [
    "traind = TrainData.copy()\n",
    "testd = TestData.copy()\n",
    "td_merged = traind.append(testd, ignore_index=True)\n",
    "td_merged.info() "
   ]
  },
  {
   "cell_type": "markdown",
   "metadata": {},
   "source": [
    "### Retrieve Title from Name"
   ]
  },
  {
   "cell_type": "code",
   "execution_count": 3,
   "metadata": {},
   "outputs": [],
   "source": [
    "# Retrieve title from Name, we will use it as a feature\n",
    "for index, person in td_merged.iterrows():\n",
    "    found = re.match(r\".+ (.+\\.).*\", person.Name)\n",
    "    if found:\n",
    "        td_merged.loc[index, 'Title'] = found.group(1)\n",
    "\n",
    "td_filtered = td_merged.drop(['PassengerId','Name'],axis=1)"
   ]
  },
  {
   "cell_type": "markdown",
   "metadata": {},
   "source": [
    "### Fill missing `Embarked` values"
   ]
  },
  {
   "cell_type": "code",
   "execution_count": 4,
   "metadata": {},
   "outputs": [],
   "source": [
    "# According to publicly available report, those 2 ladies embarked in Southampton\n",
    "td_filtered[['Embarked']] = td_filtered[['Embarked']].fillna('S')"
   ]
  },
  {
   "cell_type": "markdown",
   "metadata": {},
   "source": [
    "### Fill missing `Fare` value"
   ]
  },
  {
   "cell_type": "code",
   "execution_count": 5,
   "metadata": {},
   "outputs": [],
   "source": [
    "# There's only 1 missing fare for a senior citezen, we'll use a median fare\n",
    "# among other people on board of the same age\n",
    "missing_fare = float(td_filtered[['Pclass','Age','Fare']]\n",
    "                     [(td_filtered.Age > 50) & (td_filtered.Pclass == 3)]\n",
    "                     .groupby(['Pclass']).median().Fare)\n",
    "td_filtered[['Fare']] = td_filtered[['Fare']].fillna(missing_fare)"
   ]
  },
  {
   "cell_type": "markdown",
   "metadata": {},
   "source": [
    "### Use `Cabin`'s first letter as sector identifier on the ship"
   ]
  },
  {
   "cell_type": "code",
   "execution_count": 6,
   "metadata": {},
   "outputs": [],
   "source": [
    "# Use first cabin latter to distinguish location on the ship\n",
    "td_filtered.Cabin = td_filtered.Cabin[td_filtered.Cabin.notnull()].apply(lambda c: c[0])"
   ]
  },
  {
   "cell_type": "markdown",
   "metadata": {
    "slideshow": {
     "slide_type": "slide"
    }
   },
   "source": [
    "## Categorical feature encoding\n",
    "* `Sex` - we have discovered only 2 possible genders in the data: _male_ and _female_\n",
    "* `Ticket` - some tickets are reoccurring, perhaps shared among passengers tagging along in group (family members, tourists, friends, etc.)\n",
    "* `Cabin` - Some cabins are also shared among passengers\n",
    "* `Embarked` - this feature has 3 ports, some of the passengers (2 ladies from _Southampton_ ) have this field missing, we will manually populate those entries, as this information is publically available\n",
    "* `Title` - We will extract title (_Mr._ , _Ms._ , _Mrs._ , etc.) from the name. Perhaps, it's worth to have a look at surname, and play around with that feature to predict survival rate of particular family members but for now we will drop it and use title only.\n",
    "\n",
    "Apart from `Name`, we are also dropping `PassengerId` to avoid our models allocating excessive weights to irrelevant features."
   ]
  },
  {
   "cell_type": "code",
   "execution_count": 7,
   "metadata": {},
   "outputs": [],
   "source": [
    "categorical_features = ['Sex','Cabin','Embarked', 'Ticket', 'Title']\n",
    "encoders = dict()\n",
    "for feature in categorical_features:\n",
    "    enc = LabelEncoder()\n",
    "    encoders[feature] = enc\n",
    "    td_filtered.loc[:,feature] = enc.fit_transform(td_filtered[feature].astype(str))"
   ]
  },
  {
   "cell_type": "markdown",
   "metadata": {},
   "source": [
    "## Feature relationship analysis\n",
    "\n",
    "In this step we will discover how different features correlate with each other and prepare a set of important variables to feed to our predictive models later.\n",
    "\n",
    "### Heatmap"
   ]
  },
  {
   "cell_type": "code",
   "execution_count": 8,
   "metadata": {
    "slideshow": {
     "slide_type": "fragment"
    }
   },
   "outputs": [
    {
     "data": {
      "image/png": "[encoded data removed]",
      "text/plain": [
       "<Figure size 720x576 with 2 Axes>"
      ]
     },
     "metadata": {},
     "output_type": "display_data"
    },
    {
     "data": {
      "text/html": [
       "<div>\n",
       "<style scoped>\n",
       "    .dataframe tbody tr th:only-of-type {\n",
       "        vertical-align: middle;\n",
       "    }\n",
       "\n",
       "    .dataframe tbody tr th {\n",
       "        vertical-align: top;\n",
       "    }\n",
       "\n",
       "    .dataframe thead th {\n",
       "        text-align: right;\n",
       "    }\n",
       "</style>\n",
       "<table border=\"1\" class=\"dataframe\">\n",
       "  <thead>\n",
       "    <tr style=\"text-align: right;\">\n",
       "      <th></th>\n",
       "      <th>Survived</th>\n",
       "      <th>Pclass</th>\n",
       "      <th>Sex</th>\n",
       "      <th>Age</th>\n",
       "      <th>SibSp</th>\n",
       "      <th>Parch</th>\n",
       "      <th>Ticket</th>\n",
       "      <th>Fare</th>\n",
       "      <th>Cabin</th>\n",
       "      <th>Embarked</th>\n",
       "      <th>Title</th>\n",
       "    </tr>\n",
       "  </thead>\n",
       "  <tbody>\n",
       "    <tr>\n",
       "      <th>Survived</th>\n",
       "      <td>1.00</td>\n",
       "      <td>-0.34</td>\n",
       "      <td>-0.54</td>\n",
       "      <td>-0.08</td>\n",
       "      <td>-3.53e-02</td>\n",
       "      <td>0.08</td>\n",
       "      <td>-0.17</td>\n",
       "      <td>0.26</td>\n",
       "      <td>-3.01e-01</td>\n",
       "      <td>-0.17</td>\n",
       "      <td>-0.20</td>\n",
       "    </tr>\n",
       "    <tr>\n",
       "      <th>Pclass</th>\n",
       "      <td>-0.34</td>\n",
       "      <td>1.00</td>\n",
       "      <td>0.12</td>\n",
       "      <td>-0.41</td>\n",
       "      <td>6.08e-02</td>\n",
       "      <td>0.02</td>\n",
       "      <td>0.31</td>\n",
       "      <td>-0.56</td>\n",
       "      <td>7.35e-01</td>\n",
       "      <td>0.19</td>\n",
       "      <td>0.02</td>\n",
       "    </tr>\n",
       "    <tr>\n",
       "      <th>Sex</th>\n",
       "      <td>-0.54</td>\n",
       "      <td>0.12</td>\n",
       "      <td>1.00</td>\n",
       "      <td>0.06</td>\n",
       "      <td>-1.10e-01</td>\n",
       "      <td>-0.21</td>\n",
       "      <td>0.02</td>\n",
       "      <td>-0.19</td>\n",
       "      <td>1.25e-01</td>\n",
       "      <td>0.10</td>\n",
       "      <td>0.22</td>\n",
       "    </tr>\n",
       "    <tr>\n",
       "      <th>Age</th>\n",
       "      <td>-0.08</td>\n",
       "      <td>-0.41</td>\n",
       "      <td>0.06</td>\n",
       "      <td>1.00</td>\n",
       "      <td>-2.44e-01</td>\n",
       "      <td>-0.15</td>\n",
       "      <td>-0.09</td>\n",
       "      <td>0.18</td>\n",
       "      <td>-3.12e-01</td>\n",
       "      <td>-0.08</td>\n",
       "      <td>0.27</td>\n",
       "    </tr>\n",
       "    <tr>\n",
       "      <th>SibSp</th>\n",
       "      <td>-0.04</td>\n",
       "      <td>0.06</td>\n",
       "      <td>-0.11</td>\n",
       "      <td>-0.24</td>\n",
       "      <td>1.00e+00</td>\n",
       "      <td>0.37</td>\n",
       "      <td>0.06</td>\n",
       "      <td>0.16</td>\n",
       "      <td>7.95e-03</td>\n",
       "      <td>0.07</td>\n",
       "      <td>-0.18</td>\n",
       "    </tr>\n",
       "    <tr>\n",
       "      <th>Parch</th>\n",
       "      <td>0.08</td>\n",
       "      <td>0.02</td>\n",
       "      <td>-0.21</td>\n",
       "      <td>-0.15</td>\n",
       "      <td>3.74e-01</td>\n",
       "      <td>1.00</td>\n",
       "      <td>0.05</td>\n",
       "      <td>0.22</td>\n",
       "      <td>-3.44e-02</td>\n",
       "      <td>0.04</td>\n",
       "      <td>-0.09</td>\n",
       "    </tr>\n",
       "    <tr>\n",
       "      <th>Ticket</th>\n",
       "      <td>-0.17</td>\n",
       "      <td>0.31</td>\n",
       "      <td>0.02</td>\n",
       "      <td>-0.09</td>\n",
       "      <td>6.39e-02</td>\n",
       "      <td>0.05</td>\n",
       "      <td>1.00</td>\n",
       "      <td>-0.01</td>\n",
       "      <td>2.33e-01</td>\n",
       "      <td>0.03</td>\n",
       "      <td>-0.01</td>\n",
       "    </tr>\n",
       "    <tr>\n",
       "      <th>Fare</th>\n",
       "      <td>0.26</td>\n",
       "      <td>-0.56</td>\n",
       "      <td>-0.19</td>\n",
       "      <td>0.18</td>\n",
       "      <td>1.60e-01</td>\n",
       "      <td>0.22</td>\n",
       "      <td>-0.01</td>\n",
       "      <td>1.00</td>\n",
       "      <td>-5.47e-01</td>\n",
       "      <td>-0.24</td>\n",
       "      <td>-0.08</td>\n",
       "    </tr>\n",
       "    <tr>\n",
       "      <th>Cabin</th>\n",
       "      <td>-0.30</td>\n",
       "      <td>0.73</td>\n",
       "      <td>0.13</td>\n",
       "      <td>-0.31</td>\n",
       "      <td>7.95e-03</td>\n",
       "      <td>-0.03</td>\n",
       "      <td>0.23</td>\n",
       "      <td>-0.55</td>\n",
       "      <td>1.00e+00</td>\n",
       "      <td>0.23</td>\n",
       "      <td>0.05</td>\n",
       "    </tr>\n",
       "    <tr>\n",
       "      <th>Embarked</th>\n",
       "      <td>-0.17</td>\n",
       "      <td>0.19</td>\n",
       "      <td>0.10</td>\n",
       "      <td>-0.08</td>\n",
       "      <td>6.56e-02</td>\n",
       "      <td>0.04</td>\n",
       "      <td>0.03</td>\n",
       "      <td>-0.24</td>\n",
       "      <td>2.31e-01</td>\n",
       "      <td>1.00</td>\n",
       "      <td>0.06</td>\n",
       "    </tr>\n",
       "    <tr>\n",
       "      <th>Title</th>\n",
       "      <td>-0.20</td>\n",
       "      <td>0.02</td>\n",
       "      <td>0.22</td>\n",
       "      <td>0.27</td>\n",
       "      <td>-1.76e-01</td>\n",
       "      <td>-0.09</td>\n",
       "      <td>-0.01</td>\n",
       "      <td>-0.08</td>\n",
       "      <td>4.63e-02</td>\n",
       "      <td>0.06</td>\n",
       "      <td>1.00</td>\n",
       "    </tr>\n",
       "  </tbody>\n",
       "</table>\n",
       "</div>"
      ],
      "text/plain": [
       "          Survived  Pclass   Sex   Age     SibSp  Parch  Ticket  Fare  \\\n",
       "Survived      1.00   -0.34 -0.54 -0.08 -3.53e-02   0.08   -0.17  0.26   \n",
       "Pclass       -0.34    1.00  0.12 -0.41  6.08e-02   0.02    0.31 -0.56   \n",
       "Sex          -0.54    0.12  1.00  0.06 -1.10e-01  -0.21    0.02 -0.19   \n",
       "Age          -0.08   -0.41  0.06  1.00 -2.44e-01  -0.15   -0.09  0.18   \n",
       "SibSp        -0.04    0.06 -0.11 -0.24  1.00e+00   0.37    0.06  0.16   \n",
       "Parch         0.08    0.02 -0.21 -0.15  3.74e-01   1.00    0.05  0.22   \n",
       "Ticket       -0.17    0.31  0.02 -0.09  6.39e-02   0.05    1.00 -0.01   \n",
       "Fare          0.26   -0.56 -0.19  0.18  1.60e-01   0.22   -0.01  1.00   \n",
       "Cabin        -0.30    0.73  0.13 -0.31  7.95e-03  -0.03    0.23 -0.55   \n",
       "Embarked     -0.17    0.19  0.10 -0.08  6.56e-02   0.04    0.03 -0.24   \n",
       "Title        -0.20    0.02  0.22  0.27 -1.76e-01  -0.09   -0.01 -0.08   \n",
       "\n",
       "             Cabin  Embarked  Title  \n",
       "Survived -3.01e-01     -0.17  -0.20  \n",
       "Pclass    7.35e-01      0.19   0.02  \n",
       "Sex       1.25e-01      0.10   0.22  \n",
       "Age      -3.12e-01     -0.08   0.27  \n",
       "SibSp     7.95e-03      0.07  -0.18  \n",
       "Parch    -3.44e-02      0.04  -0.09  \n",
       "Ticket    2.33e-01      0.03  -0.01  \n",
       "Fare     -5.47e-01     -0.24  -0.08  \n",
       "Cabin     1.00e+00      0.23   0.05  \n",
       "Embarked  2.31e-01      1.00   0.06  \n",
       "Title     4.63e-02      0.06   1.00  "
      ]
     },
     "execution_count": 8,
     "metadata": {},
     "output_type": "execute_result"
    }
   ],
   "source": [
    "pd.set_option('precision',2)\n",
    "plt.figure(figsize=(10, 8))\n",
    "sns.heatmap(td_filtered.corr())\n",
    "plt.suptitle(\"Pearson Correlation Heatmap\")\n",
    "plt.show();\n",
    "td_filtered.corr()"
   ]
  },
  {
   "cell_type": "markdown",
   "metadata": {},
   "source": [
    "### Closer look on `Gender`, `Age` and `Class` "
   ]
  },
  {
   "cell_type": "markdown",
   "metadata": {},
   "source": [
    "From age and gender insights we can observe that passengers of the First class got the best survival rate followed by the Second class and the Third as the last one. Probably because passengers of the 3rd class ended up to be locked in their cabins, that might have been done to reduce sinking rate of the ship so that more lifes could have be saved."
   ]
  },
  {
   "cell_type": "code",
   "execution_count": 9,
   "metadata": {},
   "outputs": [
    {
     "data": {
      "text/plain": [
       "<seaborn.axisgrid.FacetGrid at 0x7f0d4d8482e8>"
      ]
     },
     "execution_count": 9,
     "metadata": {},
     "output_type": "execute_result"
    },
    {
     "data": {
      "image/png": "[encoded data removed]",
      "text/plain": [
       "<Figure size 1141.55x360 with 3 Axes>"
      ]
     },
     "metadata": {},
     "output_type": "display_data"
    }
   ],
   "source": [
    "sns.catplot(x='Sex', y='Age', hue='Survived', data=td_filtered, kind=\"box\", col='Pclass',\n",
    "               palette=['lightpink','lightgreen'])"
   ]
  },
  {
   "cell_type": "markdown",
   "metadata": {},
   "source": [
    "## Feature recovery"
   ]
  },
  {
   "cell_type": "markdown",
   "metadata": {},
   "source": [
    "### Regression analysis of `Age`\n",
    "\n",
    "For this model we are going to drop `Ticket` feature here, as it reduces error rate of prediction."
   ]
  },
  {
   "cell_type": "code",
   "execution_count": 10,
   "metadata": {},
   "outputs": [],
   "source": [
    "td_with_age = td_filtered[(~td_filtered.Age.isnull())].drop(['Ticket'], axis=1)\n",
    "td_without_age = td_filtered[(td_filtered.Age.isnull())].drop(['Ticket','Age'], axis=1)\n",
    "\n",
    "X = td_with_age.drop(['Age'], axis=1)\n",
    "Y = td_with_age.Age\n",
    "\n",
    "X_train, X_test, y_train, y_test = train_test_split(X, Y, test_size=0.05, random_state=10)\n"
   ]
  },
  {
   "cell_type": "markdown",
   "metadata": {},
   "source": [
    "#### Gradient boosting with XGBoost"
   ]
  },
  {
   "cell_type": "code",
   "execution_count": 11,
   "metadata": {},
   "outputs": [
    {
     "name": "stdout",
     "output_type": "stream",
     "text": [
      "R2 Score: 0.4536080662839158\n",
      "MedAE: 4.405479431152344\n",
      "Max Error: 29.71544647216797\n",
      "ExpVar score: 0.4565557544127046\n"
     ]
    },
    {
     "data": {
      "image/png": "[encoded data removed]",
      "text/plain": [
       "<Figure size 432x288 with 1 Axes>"
      ]
     },
     "metadata": {},
     "output_type": "display_data"
    },
    {
     "data": {
      "image/png": "[encoded data removed]",
      "text/plain": [
       "<Figure size 432x288 with 1 Axes>"
      ]
     },
     "metadata": {},
     "output_type": "display_data"
    }
   ],
   "source": [
    "modelXGB = XGBRegressor(n_estimators=10000)\n",
    "modelXGB.fit(X_train, y_train, early_stopping_rounds=10, \n",
    "             eval_set=[(X_test, y_test)], verbose=False)\n",
    "predictions = modelXGB.predict(X_test)\n",
    "print('R2 Score: %s' % r2_score(y_test.to_numpy(), predictions))\n",
    "print('MedAE: %s' % median_absolute_error(y_true=y_test.to_numpy(),y_pred=predictions))\n",
    "print('Max Error: %s' % max_error(y_true=y_test.to_numpy(),y_pred=predictions))\n",
    "print('ExpVar score: %s' % explained_variance_score(y_true=y_test.to_numpy(),y_pred=predictions))\n",
    "\n",
    "temp = pd.DataFrame()\n",
    "temp['Actual'] = y_test\n",
    "temp['Predicted'] = predictions\n",
    "sns.regplot(x='Actual',y='Predicted',data=temp)\n",
    "\n",
    "plot_importance(modelXGB)\n",
    "\n",
    "plt.show()"
   ]
  },
  {
   "cell_type": "markdown",
   "metadata": {},
   "source": [
    "**48%** - So far this is the closest our model achieved, but the variance yet asks for attention..."
   ]
  },
  {
   "cell_type": "markdown",
   "metadata": {},
   "source": [
    "#### Populating missing `Age` values with results of our prediction"
   ]
  },
  {
   "cell_type": "code",
   "execution_count": 12,
   "metadata": {},
   "outputs": [
    {
     "name": "stdout",
     "output_type": "stream",
     "text": [
      "<class 'pandas.core.frame.DataFrame'>\n",
      "RangeIndex: 1309 entries, 0 to 1308\n",
      "Data columns (total 11 columns):\n",
      " #   Column    Non-Null Count  Dtype  \n",
      "---  ------    --------------  -----  \n",
      " 0   Survived  891 non-null    float64\n",
      " 1   Pclass    1309 non-null   int64  \n",
      " 2   Sex       1309 non-null   int64  \n",
      " 3   Age       1309 non-null   float64\n",
      " 4   SibSp     1309 non-null   int64  \n",
      " 5   Parch     1309 non-null   int64  \n",
      " 6   Ticket    1309 non-null   int64  \n",
      " 7   Fare      1309 non-null   float64\n",
      " 8   Cabin     1309 non-null   int64  \n",
      " 9   Embarked  1309 non-null   int64  \n",
      " 10  Title     1309 non-null   int64  \n",
      "dtypes: float64(3), int64(8)\n",
      "memory usage: 112.6 KB\n"
     ]
    }
   ],
   "source": [
    "predictions = modelXGB.predict(td_without_age)\n",
    "td_age_restored = td_without_age.copy()\n",
    "td_age_restored.loc[:,'Age'] = predictions\n",
    "td_filtered.update(td_with_age.append(td_age_restored))\n",
    "td_filtered.info()"
   ]
  },
  {
   "cell_type": "markdown",
   "metadata": {},
   "source": [
    "### Classification of missing `Cabin` (sector of the ship) values"
   ]
  },
  {
   "cell_type": "code",
   "execution_count": 13,
   "metadata": {},
   "outputs": [],
   "source": [
    "td_with_cabin = td_filtered[(td_filtered.Cabin.notna())].drop(['Survived'], axis=1)\n",
    "td_without_cabin = td_filtered[(td_filtered.Cabin.isna())].drop(['Cabin', 'Survived'], axis=1)\n",
    "\n",
    "X = td_with_cabin.drop(['Cabin'], axis=1)\n",
    "\n",
    "input_features = X.columns.values\n",
    "n_input_features = len(input_features)\n",
    "n_output_feature = len(td_with_cabin.Cabin.unique())\n",
    "\n",
    "Y = td_with_cabin.Cabin\n",
    "\n",
    "X_train, X_test, y_train, y_test = train_test_split(X, Y, test_size=0.05, random_state=10)"
   ]
  },
  {
   "cell_type": "markdown",
   "metadata": {},
   "source": [
    "#### Predicting with multiple layer Neural Networks (Keras & TF)"
   ]
  },
  {
   "cell_type": "code",
   "execution_count": 14,
   "metadata": {},
   "outputs": [
    {
     "name": "stdout",
     "output_type": "stream",
     "text": [
      "Model: \"sequential_1\"\n",
      "_________________________________________________________________\n",
      "Layer (type)                 Output Shape              Param #   \n",
      "=================================================================\n",
      "dense_1 (Dense)              (None, 9)                 90        \n",
      "_________________________________________________________________\n",
      "dense_2 (Dense)              (None, 72)                720       \n",
      "_________________________________________________________________\n",
      "dense_3 (Dense)              (None, 72)                5256      \n",
      "_________________________________________________________________\n",
      "dropout_1 (Dropout)          (None, 72)                0         \n",
      "_________________________________________________________________\n",
      "dense_4 (Dense)              (None, 9)                 657       \n",
      "=================================================================\n",
      "Total params: 6,723\n",
      "Trainable params: 6,723\n",
      "Non-trainable params: 0\n",
      "_________________________________________________________________\n",
      "Train on 1243 samples, validate on 66 samples\n",
      "Epoch 1/30\n",
      "1243/1243 [==============================] - 0s 181us/step - loss: 7.8111 - accuracy: 0.6331 - val_loss: 2.1984 - val_accuracy: 0.8030\n",
      "Epoch 2/30\n",
      "1243/1243 [==============================] - 0s 48us/step - loss: 3.7936 - accuracy: 0.6661 - val_loss: 1.0788 - val_accuracy: 0.7727\n",
      "Epoch 3/30\n",
      "1243/1243 [==============================] - 0s 49us/step - loss: 2.3250 - accuracy: 0.6774 - val_loss: 0.6747 - val_accuracy: 0.7727\n",
      "Epoch 4/30\n",
      "1243/1243 [==============================] - 0s 47us/step - loss: 1.2933 - accuracy: 0.7466 - val_loss: 0.7059 - val_accuracy: 0.7879\n",
      "Epoch 5/30\n",
      "1243/1243 [==============================] - 0s 45us/step - loss: 0.9691 - accuracy: 0.7932 - val_loss: 0.6259 - val_accuracy: 0.8030\n",
      "Epoch 6/30\n",
      "1243/1243 [==============================] - 0s 47us/step - loss: 0.8558 - accuracy: 0.7932 - val_loss: 0.5940 - val_accuracy: 0.8030\n",
      "Epoch 7/30\n",
      "1243/1243 [==============================] - 0s 48us/step - loss: 0.8942 - accuracy: 0.7860 - val_loss: 0.5840 - val_accuracy: 0.8182\n",
      "Epoch 8/30\n",
      "1243/1243 [==============================] - 0s 53us/step - loss: 0.8406 - accuracy: 0.7892 - val_loss: 0.5643 - val_accuracy: 0.8182\n",
      "Epoch 9/30\n",
      "1243/1243 [==============================] - 0s 75us/step - loss: 0.8056 - accuracy: 0.7932 - val_loss: 0.5635 - val_accuracy: 0.8333\n",
      "Epoch 10/30\n",
      "1243/1243 [==============================] - 0s 88us/step - loss: 0.8082 - accuracy: 0.7924 - val_loss: 0.5379 - val_accuracy: 0.7879\n",
      "Epoch 11/30\n",
      "1243/1243 [==============================] - 0s 118us/step - loss: 0.8200 - accuracy: 0.7884 - val_loss: 0.6046 - val_accuracy: 0.8333\n",
      "Epoch 12/30\n",
      "1243/1243 [==============================] - 0s 103us/step - loss: 0.7622 - accuracy: 0.7997 - val_loss: 0.5129 - val_accuracy: 0.8333\n",
      "Epoch 13/30\n",
      "1243/1243 [==============================] - 0s 49us/step - loss: 0.7765 - accuracy: 0.7916 - val_loss: 0.5327 - val_accuracy: 0.8333\n",
      "Epoch 14/30\n",
      "1243/1243 [==============================] - 0s 53us/step - loss: 0.7721 - accuracy: 0.7973 - val_loss: 0.4961 - val_accuracy: 0.8333\n",
      "Epoch 15/30\n",
      "1243/1243 [==============================] - 0s 49us/step - loss: 0.7308 - accuracy: 0.7973 - val_loss: 0.5787 - val_accuracy: 0.7727\n",
      "Epoch 16/30\n",
      "1243/1243 [==============================] - 0s 48us/step - loss: 0.7118 - accuracy: 0.7957 - val_loss: 0.6177 - val_accuracy: 0.8333\n",
      "Epoch 17/30\n",
      "1243/1243 [==============================] - 0s 46us/step - loss: 0.7196 - accuracy: 0.8005 - val_loss: 0.4809 - val_accuracy: 0.8333\n",
      "Epoch 18/30\n",
      "1243/1243 [==============================] - 0s 48us/step - loss: 0.7084 - accuracy: 0.7981 - val_loss: 0.5303 - val_accuracy: 0.8030\n",
      "Epoch 19/30\n",
      "1243/1243 [==============================] - 0s 55us/step - loss: 0.6857 - accuracy: 0.7965 - val_loss: 0.5352 - val_accuracy: 0.8182\n",
      "Epoch 20/30\n",
      "1243/1243 [==============================] - 0s 48us/step - loss: 0.7139 - accuracy: 0.7932 - val_loss: 0.5804 - val_accuracy: 0.8333\n",
      "Epoch 21/30\n",
      "1243/1243 [==============================] - 0s 59us/step - loss: 0.6941 - accuracy: 0.7916 - val_loss: 0.6079 - val_accuracy: 0.8182\n",
      "Epoch 22/30\n",
      "1243/1243 [==============================] - 0s 44us/step - loss: 0.6864 - accuracy: 0.8053 - val_loss: 0.5169 - val_accuracy: 0.8333\n",
      "Epoch 23/30\n",
      "1243/1243 [==============================] - 0s 44us/step - loss: 0.7159 - accuracy: 0.8021 - val_loss: 0.5141 - val_accuracy: 0.8333\n",
      "Epoch 24/30\n",
      "1243/1243 [==============================] - 0s 54us/step - loss: 0.7019 - accuracy: 0.7997 - val_loss: 0.5499 - val_accuracy: 0.8030\n",
      "Epoch 25/30\n",
      "1243/1243 [==============================] - 0s 43us/step - loss: 0.6817 - accuracy: 0.8093 - val_loss: 0.4874 - val_accuracy: 0.8636\n",
      "Epoch 26/30\n",
      "1243/1243 [==============================] - 0s 47us/step - loss: 0.6609 - accuracy: 0.8101 - val_loss: 0.7137 - val_accuracy: 0.7576\n",
      "Epoch 27/30\n",
      "1243/1243 [==============================] - 0s 55us/step - loss: 0.6684 - accuracy: 0.7957 - val_loss: 0.5082 - val_accuracy: 0.8182\n",
      "Epoch 28/30\n",
      "1243/1243 [==============================] - 0s 48us/step - loss: 0.6639 - accuracy: 0.8021 - val_loss: 0.5297 - val_accuracy: 0.8182\n",
      "Epoch 29/30\n",
      "1243/1243 [==============================] - 0s 56us/step - loss: 0.6704 - accuracy: 0.8045 - val_loss: 0.5616 - val_accuracy: 0.8333\n",
      "Epoch 30/30\n",
      "1243/1243 [==============================] - 0s 58us/step - loss: 0.6437 - accuracy: 0.8029 - val_loss: 0.5175 - val_accuracy: 0.8333\n",
      "66/66 [==============================] - 0s 68us/step\n",
      "Accuracy: 0.8333333134651184\n",
      "Loss: 0.5175050135814783\n"
     ]
    }
   ],
   "source": [
    "modelNN = Sequential([\n",
    "    Dense(n_input_features, input_dim=n_input_features, activation='relu'),\n",
    "    Dense(n_input_features * 8, activation='relu'),\n",
    "    Dense(n_input_features * 8, activation='relu'),\n",
    "    Dropout(0.1),\n",
    "    Dense(n_output_feature, activation='softmax'),\n",
    "])\n",
    "modelNN.compile(\n",
    "    loss='sparse_categorical_crossentropy',\n",
    "    optimizer='adam',\n",
    "    metrics=['accuracy']\n",
    ")\n",
    "modelNN.summary()\n",
    "modelNN.fit(\n",
    "    X_train, y_train,\n",
    "    epochs=30,\n",
    "    validation_data=(X_test, y_test),\n",
    "    verbose = 1\n",
    ")\n",
    "loss, accuracy = modelNN.evaluate(X_test, y_test)\n",
    "print(\"Accuracy: %s\" % accuracy)\n",
    "print(\"Loss: %s\" % loss)"
   ]
  },
  {
   "cell_type": "markdown",
   "metadata": {},
   "source": [
    "##### Model overview"
   ]
  },
  {
   "cell_type": "markdown",
   "metadata": {},
   "source": [
    "The result produced by the model: **74% of accuracy** and **65% of loss** is somewhat not satisfying at all for this task!"
   ]
  },
  {
   "cell_type": "markdown",
   "metadata": {},
   "source": [
    "#### Trying to classify with XGBoost"
   ]
  },
  {
   "cell_type": "code",
   "execution_count": 15,
   "metadata": {},
   "outputs": [],
   "source": [
    "dtrain = xgb.DMatrix(X_train, label=y_train)\n",
    "dtest = xgb.DMatrix(X_test, label=y_test)\n",
    "params = { \n",
    "    'objective': 'multi:softmax',\n",
    "    'learning_rate': 0.3,\n",
    "    'max_depth': 6,\n",
    "    'eta': 0.1,\n",
    "    'nthread': threading.active_count(),\n",
    "    'num_class': n_output_feature,\n",
    "}\n",
    "modelXGB = xgb.train(params=params,dtrain=dtrain,num_boost_round=100)\n",
    "predictions = modelXGB.predict(dtest)"
   ]
  },
  {
   "cell_type": "markdown",
   "metadata": {},
   "source": [
    "##### Model overview\n",
    "\n",
    "Excellent result - 95% of accuracy!"
   ]
  },
  {
   "cell_type": "code",
   "execution_count": 16,
   "metadata": {},
   "outputs": [
    {
     "name": "stdout",
     "output_type": "stream",
     "text": [
      "Accuracy: 0.9393939393939394\n",
      "Error rate: 0.06060606060606061\n",
      "MSE: 2.0757575757575757\n",
      "MedAE: 0.0\n",
      "Max Error: 7.0\n",
      "ExpVar score: 0.6593122102009275\n"
     ]
    }
   ],
   "source": [
    "print('Accuracy: %s' % accuracy_score(y_test, predictions))\n",
    "print('Error rate: %s' % (np.sum(predictions != y_test) / y_test.shape[0]))\n",
    "print('MSE: %s' % mean_squared_error(y_test, predictions))\n",
    "print('MedAE: %s' % median_absolute_error(y_true=y_test,y_pred=predictions))\n",
    "print('Max Error: %s' % max_error(y_true=y_test,y_pred=predictions))\n",
    "print('ExpVar score: %s' % explained_variance_score(y_true=y_test,y_pred=predictions))"
   ]
  },
  {
   "cell_type": "markdown",
   "metadata": {},
   "source": [
    "#### Populating predicted values"
   ]
  },
  {
   "cell_type": "code",
   "execution_count": 17,
   "metadata": {},
   "outputs": [
    {
     "name": "stdout",
     "output_type": "stream",
     "text": [
      "<class 'pandas.core.frame.DataFrame'>\n",
      "RangeIndex: 1309 entries, 0 to 1308\n",
      "Data columns (total 11 columns):\n",
      " #   Column    Non-Null Count  Dtype  \n",
      "---  ------    --------------  -----  \n",
      " 0   Survived  891 non-null    float64\n",
      " 1   Pclass    1309 non-null   int64  \n",
      " 2   Sex       1309 non-null   int64  \n",
      " 3   Age       1309 non-null   float64\n",
      " 4   SibSp     1309 non-null   int64  \n",
      " 5   Parch     1309 non-null   int64  \n",
      " 6   Ticket    1309 non-null   int64  \n",
      " 7   Fare      1309 non-null   float64\n",
      " 8   Cabin     1309 non-null   int64  \n",
      " 9   Embarked  1309 non-null   int64  \n",
      " 10  Title     1309 non-null   int64  \n",
      "dtypes: float64(3), int64(8)\n",
      "memory usage: 112.6 KB\n"
     ]
    }
   ],
   "source": [
    "predictions = modelXGB.predict(xgb.DMatrix(td_without_cabin))\n",
    "missing_cabins = np.array(predictions,dtype=int)\n",
    "td_cabins_restored = td_without_cabin.copy()\n",
    "td_cabins_restored.loc[:,'Cabin'] = missing_cabins\n",
    "td_filtered.update(td_with_cabin.append(td_cabins_restored))\n",
    "td_filtered['Survived'] = TrainData.Survived\n",
    "td_filtered.info()"
   ]
  },
  {
   "cell_type": "markdown",
   "metadata": {},
   "source": [
    "Now we have all of our missing values recovered except the only one `Survived`. \n",
    "\n",
    "Let's jump to our final goal -- guess who survived and who did not."
   ]
  },
  {
   "cell_type": "code",
   "execution_count": 18,
   "metadata": {},
   "outputs": [],
   "source": [
    "training_data = td_filtered[(~td_filtered.Survived.isnull())].drop(['Embarked'],axis=1)\n",
    "testing_data = td_filtered[(td_filtered.Survived.isnull())].drop(['Embarked','Survived'],axis=1)\n",
    "\n",
    "X = training_data.drop(['Survived'],axis=1)\n",
    "Y = training_data.Survived\n",
    "\n",
    "X_train, X_test, y_train, y_test = train_test_split(X, Y, test_size=0.05, random_state=10)"
   ]
  },
  {
   "cell_type": "markdown",
   "metadata": {},
   "source": [
    "### Classification of `Survived` passengers"
   ]
  },
  {
   "cell_type": "markdown",
   "metadata": {},
   "source": [
    "#### Binary logistic regression with XGBoost\n",
    "\n",
    "Despite the name of the algorithm suggests the word \"regression\" we're going to perform classification underneath.\n",
    "\n",
    "In order to answer to the question like \"Did this passenger survive the disaster?\" -- the possible answer can contain only 2 possible outcomes: `True` or `False`.\n",
    "\n",
    "Let's see what rate of accuracy we can achieve with this model."
   ]
  },
  {
   "cell_type": "code",
   "execution_count": 19,
   "metadata": {},
   "outputs": [],
   "source": [
    "dtrain = xgb.DMatrix(X_train, label=y_train)\n",
    "dtest = xgb.DMatrix(X_test, label=y_test)\n",
    "params = { \n",
    "    'objective': 'binary:logistic',\n",
    "#     'colsample_bytree': 0.2,\n",
    "#     'learning_rate': 0.5,\n",
    "    'max_depth': 6,\n",
    "    'eta': 0.01,\n",
    "    'nthread': threading.active_count(),\n",
    "#     'alpha': 10,\n",
    "}\n",
    "modelXGB = xgb.train(params=params,dtrain=dtrain,num_boost_round=40)\n",
    "predictions = modelXGB.predict(dtest)"
   ]
  },
  {
   "cell_type": "markdown",
   "metadata": {},
   "source": [
    "##### Model overview\n",
    "\n",
    "We achieved quite a good result:\n"
   ]
  },
  {
   "cell_type": "code",
   "execution_count": 20,
   "metadata": {},
   "outputs": [
    {
     "name": "stdout",
     "output_type": "stream",
     "text": [
      "Accuracy: 0.8222222222222222\n",
      "MSE: 0.17777777777777778\n"
     ]
    }
   ],
   "source": [
    "print('Accuracy: %s' % accuracy_score(y_test, predictions.round()))\n",
    "print('MSE: %s' % mean_squared_error(y_test, predictions.round()))"
   ]
  },
  {
   "cell_type": "markdown",
   "metadata": {},
   "source": [
    "##### Decision tree"
   ]
  },
  {
   "cell_type": "code",
   "execution_count": 21,
   "metadata": {},
   "outputs": [
    {
     "data": {
      "image/svg+xml": [
       "<?xml version=\"1.0\" encoding=\"UTF-8\" standalone=\"no\"?>\n",
       "<!DOCTYPE svg PUBLIC \"-//W3C//DTD SVG 1.1//EN\"\n",
       " \"http://www.w3.org/Graphics/SVG/1.1/DTD/svg11.dtd\">\n",
       "<!-- Generated by graphviz version 2.40.1 (20161225.0304)\n",
       " -->\n",
       "<!-- Title: %3 Pages: 1 -->\n",
       "<svg width=\"2738pt\" height=\"566pt\"\n",
       " viewBox=\"0.00 0.00 2737.58 566.00\" xmlns=\"http://www.w3.org/2000/svg\" xmlns:xlink=\"http://www.w3.org/1999/xlink\">\n",
       "<g id=\"graph0\" class=\"graph\" transform=\"scale(1 1) rotate(0) translate(4 562)\">\n",
       "<title>%3</title>\n",
       "<polygon fill=\"#ffffff\" stroke=\"transparent\" points=\"-4,4 -4,-562 2733.5848,-562 2733.5848,4 -4,4\"/>\n",
       "<!-- 0 -->\n",
       "<g id=\"node1\" class=\"node\">\n",
       "<title>0</title>\n",
       "<ellipse fill=\"none\" stroke=\"#000000\" cx=\"1010.4925\" cy=\"-540\" rx=\"40.0939\" ry=\"18\"/>\n",
       "<text text-anchor=\"middle\" x=\"1010.4925\" y=\"-536.3\" font-family=\"Times,serif\" font-size=\"14.00\" fill=\"#000000\">Sex&lt;0.5</text>\n",
       "</g>\n",
       "<!-- 1 -->\n",
       "<g id=\"node2\" class=\"node\">\n",
       "<title>1</title>\n",
       "<ellipse fill=\"none\" stroke=\"#000000\" cx=\"722.4925\" cy=\"-453\" rx=\"49.2915\" ry=\"18\"/>\n",
       "<text text-anchor=\"middle\" x=\"722.4925\" y=\"-449.3\" font-family=\"Times,serif\" font-size=\"14.00\" fill=\"#000000\">Pclass&lt;2.5</text>\n",
       "</g>\n",
       "<!-- 0&#45;&gt;1 -->\n",
       "<g id=\"edge1\" class=\"edge\">\n",
       "<title>0&#45;&gt;1</title>\n",
       "<path fill=\"none\" stroke=\"#0000ff\" d=\"M976.8916,-529.8497C925.9748,-514.4686 829.0361,-485.185 770.6354,-467.5432\"/>\n",
       "<polygon fill=\"#0000ff\" stroke=\"#0000ff\" points=\"771.4879,-464.1445 760.903,-464.6032 769.4636,-470.8455 771.4879,-464.1445\"/>\n",
       "<text text-anchor=\"middle\" x=\"918.9925\" y=\"-492.8\" font-family=\"Times,serif\" font-size=\"14.00\" fill=\"#000000\">yes, missing</text>\n",
       "</g>\n",
       "<!-- 2 -->\n",
       "<g id=\"node3\" class=\"node\">\n",
       "<title>2</title>\n",
       "<ellipse fill=\"none\" stroke=\"#000000\" cx=\"1401.4925\" cy=\"-453\" rx=\"41.6928\" ry=\"18\"/>\n",
       "<text text-anchor=\"middle\" x=\"1401.4925\" y=\"-449.3\" font-family=\"Times,serif\" font-size=\"14.00\" fill=\"#000000\">Cabin&lt;6</text>\n",
       "</g>\n",
       "<!-- 0&#45;&gt;2 -->\n",
       "<g id=\"edge2\" class=\"edge\">\n",
       "<title>0&#45;&gt;2</title>\n",
       "<path fill=\"none\" stroke=\"#ff0000\" d=\"M1046.576,-531.9712C1117.5006,-516.19 1275.0392,-481.1367 1354.1843,-463.5264\"/>\n",
       "<polygon fill=\"#ff0000\" stroke=\"#ff0000\" points=\"1355.3546,-466.8517 1364.3557,-461.2632 1353.8342,-460.0188 1355.3546,-466.8517\"/>\n",
       "<text text-anchor=\"middle\" x=\"1236.4925\" y=\"-492.8\" font-family=\"Times,serif\" font-size=\"14.00\" fill=\"#000000\">no</text>\n",
       "</g>\n",
       "<!-- 3 -->\n",
       "<g id=\"node4\" class=\"node\">\n",
       "<title>3</title>\n",
       "<ellipse fill=\"none\" stroke=\"#000000\" cx=\"477.4925\" cy=\"-366\" rx=\"42.4939\" ry=\"18\"/>\n",
       "<text text-anchor=\"middle\" x=\"477.4925\" y=\"-362.3\" font-family=\"Times,serif\" font-size=\"14.00\" fill=\"#000000\">Age&lt;4.5</text>\n",
       "</g>\n",
       "<!-- 1&#45;&gt;3 -->\n",
       "<g id=\"edge3\" class=\"edge\">\n",
       "<title>1&#45;&gt;3</title>\n",
       "<path fill=\"none\" stroke=\"#0000ff\" d=\"M686.8674,-440.3495C642.5105,-424.5982 566.8438,-397.7288 519.6464,-380.9689\"/>\n",
       "<polygon fill=\"#0000ff\" stroke=\"#0000ff\" points=\"520.6233,-377.6018 510.0286,-377.5536 518.2809,-384.1982 520.6233,-377.6018\"/>\n",
       "<text text-anchor=\"middle\" x=\"649.9925\" y=\"-405.8\" font-family=\"Times,serif\" font-size=\"14.00\" fill=\"#000000\">yes, missing</text>\n",
       "</g>\n",
       "<!-- 4 -->\n",
       "<g id=\"node5\" class=\"node\">\n",
       "<title>4</title>\n",
       "<ellipse fill=\"none\" stroke=\"#000000\" cx=\"722.4925\" cy=\"-366\" rx=\"73.387\" ry=\"18\"/>\n",
       "<text text-anchor=\"middle\" x=\"722.4925\" y=\"-362.3\" font-family=\"Times,serif\" font-size=\"14.00\" fill=\"#000000\">Fare&lt;23.3500004</text>\n",
       "</g>\n",
       "<!-- 1&#45;&gt;4 -->\n",
       "<g id=\"edge4\" class=\"edge\">\n",
       "<title>1&#45;&gt;4</title>\n",
       "<path fill=\"none\" stroke=\"#ff0000\" d=\"M722.4925,-434.9735C722.4925,-423.1918 722.4925,-407.5607 722.4925,-394.1581\"/>\n",
       "<polygon fill=\"#ff0000\" stroke=\"#ff0000\" points=\"725.9926,-394.0033 722.4925,-384.0034 718.9926,-394.0034 725.9926,-394.0033\"/>\n",
       "<text text-anchor=\"middle\" x=\"729.4925\" y=\"-405.8\" font-family=\"Times,serif\" font-size=\"14.00\" fill=\"#000000\">no</text>\n",
       "</g>\n",
       "<!-- 5 -->\n",
       "<g id=\"node24\" class=\"node\">\n",
       "<title>5</title>\n",
       "<ellipse fill=\"none\" stroke=\"#000000\" cx=\"1401.4925\" cy=\"-366\" rx=\"68.4888\" ry=\"18\"/>\n",
       "<text text-anchor=\"middle\" x=\"1401.4925\" y=\"-362.3\" font-family=\"Times,serif\" font-size=\"14.00\" fill=\"#000000\">Age&lt;38.893322</text>\n",
       "</g>\n",
       "<!-- 2&#45;&gt;5 -->\n",
       "<g id=\"edge23\" class=\"edge\">\n",
       "<title>2&#45;&gt;5</title>\n",
       "<path fill=\"none\" stroke=\"#0000ff\" d=\"M1401.4925,-434.9735C1401.4925,-423.1918 1401.4925,-407.5607 1401.4925,-394.1581\"/>\n",
       "<polygon fill=\"#0000ff\" stroke=\"#0000ff\" points=\"1404.9926,-394.0033 1401.4925,-384.0034 1397.9926,-394.0034 1404.9926,-394.0033\"/>\n",
       "<text text-anchor=\"middle\" x=\"1435.9925\" y=\"-405.8\" font-family=\"Times,serif\" font-size=\"14.00\" fill=\"#000000\">yes, missing</text>\n",
       "</g>\n",
       "<!-- 6 -->\n",
       "<g id=\"node25\" class=\"node\">\n",
       "<title>6</title>\n",
       "<ellipse fill=\"none\" stroke=\"#000000\" cx=\"1938.4925\" cy=\"-366\" rx=\"42.4939\" ry=\"18\"/>\n",
       "<text text-anchor=\"middle\" x=\"1938.4925\" y=\"-362.3\" font-family=\"Times,serif\" font-size=\"14.00\" fill=\"#000000\">Age&lt;9.5</text>\n",
       "</g>\n",
       "<!-- 2&#45;&gt;6 -->\n",
       "<g id=\"edge24\" class=\"edge\">\n",
       "<title>2&#45;&gt;6</title>\n",
       "<path fill=\"none\" stroke=\"#ff0000\" d=\"M1440.5448,-446.6731C1536.3107,-431.1579 1782.7047,-391.2394 1888.7451,-374.0596\"/>\n",
       "<polygon fill=\"#ff0000\" stroke=\"#ff0000\" points=\"1889.5493,-377.4751 1898.8609,-372.4208 1888.4298,-370.5652 1889.5493,-377.4751\"/>\n",
       "<text text-anchor=\"middle\" x=\"1709.4925\" y=\"-405.8\" font-family=\"Times,serif\" font-size=\"14.00\" fill=\"#000000\">no</text>\n",
       "</g>\n",
       "<!-- 7 -->\n",
       "<g id=\"node6\" class=\"node\">\n",
       "<title>7</title>\n",
       "<ellipse fill=\"none\" stroke=\"#000000\" cx=\"295.4925\" cy=\"-279\" rx=\"84.485\" ry=\"18\"/>\n",
       "<text text-anchor=\"middle\" x=\"295.4925\" y=\"-275.3\" font-family=\"Times,serif\" font-size=\"14.00\" fill=\"#000000\">leaf=0.00499999989</text>\n",
       "</g>\n",
       "<!-- 3&#45;&gt;7 -->\n",
       "<g id=\"edge5\" class=\"edge\">\n",
       "<title>3&#45;&gt;7</title>\n",
       "<path fill=\"none\" stroke=\"#0000ff\" d=\"M449.055,-352.4063C419.6294,-338.3402 373.2881,-316.188 339.2036,-299.8949\"/>\n",
       "<polygon fill=\"#0000ff\" stroke=\"#0000ff\" points=\"340.471,-296.6214 329.9393,-295.4663 337.452,-302.9369 340.471,-296.6214\"/>\n",
       "<text text-anchor=\"middle\" x=\"431.9925\" y=\"-318.8\" font-family=\"Times,serif\" font-size=\"14.00\" fill=\"#000000\">yes, missing</text>\n",
       "</g>\n",
       "<!-- 8 -->\n",
       "<g id=\"node7\" class=\"node\">\n",
       "<title>8</title>\n",
       "<ellipse fill=\"none\" stroke=\"#000000\" cx=\"477.4925\" cy=\"-279\" rx=\"79.8859\" ry=\"18\"/>\n",
       "<text text-anchor=\"middle\" x=\"477.4925\" y=\"-275.3\" font-family=\"Times,serif\" font-size=\"14.00\" fill=\"#000000\">leaf=0.0175460111</text>\n",
       "</g>\n",
       "<!-- 3&#45;&gt;8 -->\n",
       "<g id=\"edge6\" class=\"edge\">\n",
       "<title>3&#45;&gt;8</title>\n",
       "<path fill=\"none\" stroke=\"#ff0000\" d=\"M477.4925,-347.9735C477.4925,-336.1918 477.4925,-320.5607 477.4925,-307.1581\"/>\n",
       "<polygon fill=\"#ff0000\" stroke=\"#ff0000\" points=\"480.9926,-307.0033 477.4925,-297.0034 473.9926,-307.0034 480.9926,-307.0033\"/>\n",
       "<text text-anchor=\"middle\" x=\"484.4925\" y=\"-318.8\" font-family=\"Times,serif\" font-size=\"14.00\" fill=\"#000000\">no</text>\n",
       "</g>\n",
       "<!-- 9 -->\n",
       "<g id=\"node8\" class=\"node\">\n",
       "<title>9</title>\n",
       "<ellipse fill=\"none\" stroke=\"#000000\" cx=\"648.4925\" cy=\"-279\" rx=\"72.5877\" ry=\"18\"/>\n",
       "<text text-anchor=\"middle\" x=\"648.4925\" y=\"-275.3\" font-family=\"Times,serif\" font-size=\"14.00\" fill=\"#000000\">Age&lt;24.0625248</text>\n",
       "</g>\n",
       "<!-- 4&#45;&gt;9 -->\n",
       "<g id=\"edge7\" class=\"edge\">\n",
       "<title>4&#45;&gt;9</title>\n",
       "<path fill=\"none\" stroke=\"#0000ff\" d=\"M707.0028,-348.0863C702.0362,-342.3225 696.5209,-335.9013 691.4925,-330 684.507,-321.8019 676.9221,-312.8296 670.0951,-304.7275\"/>\n",
       "<polygon fill=\"#0000ff\" stroke=\"#0000ff\" points=\"672.6884,-302.3733 663.5711,-296.9764 667.3329,-306.881 672.6884,-302.3733\"/>\n",
       "<text text-anchor=\"middle\" x=\"725.9925\" y=\"-318.8\" font-family=\"Times,serif\" font-size=\"14.00\" fill=\"#000000\">yes, missing</text>\n",
       "</g>\n",
       "<!-- 10 -->\n",
       "<g id=\"node9\" class=\"node\">\n",
       "<title>10</title>\n",
       "<ellipse fill=\"none\" stroke=\"#000000\" cx=\"797.4925\" cy=\"-279\" rx=\"58.4896\" ry=\"18\"/>\n",
       "<text text-anchor=\"middle\" x=\"797.4925\" y=\"-275.3\" font-family=\"Times,serif\" font-size=\"14.00\" fill=\"#000000\">Ticket&lt;456.5</text>\n",
       "</g>\n",
       "<!-- 4&#45;&gt;10 -->\n",
       "<g id=\"edge8\" class=\"edge\">\n",
       "<title>4&#45;&gt;10</title>\n",
       "<path fill=\"none\" stroke=\"#ff0000\" d=\"M742.5091,-348.3451C748.5212,-342.7027 754.9795,-336.2855 760.4925,-330 767.1669,-322.3905 773.8503,-313.6189 779.6642,-305.5195\"/>\n",
       "<polygon fill=\"#ff0000\" stroke=\"#ff0000\" points=\"782.7071,-307.2765 785.59,-297.0814 776.9786,-303.2535 782.7071,-307.2765\"/>\n",
       "<text text-anchor=\"middle\" x=\"779.4925\" y=\"-318.8\" font-family=\"Times,serif\" font-size=\"14.00\" fill=\"#000000\">no</text>\n",
       "</g>\n",
       "<!-- 15 -->\n",
       "<g id=\"node10\" class=\"node\">\n",
       "<title>15</title>\n",
       "<ellipse fill=\"none\" stroke=\"#000000\" cx=\"460.4925\" cy=\"-192\" rx=\"73.387\" ry=\"18\"/>\n",
       "<text text-anchor=\"middle\" x=\"460.4925\" y=\"-188.3\" font-family=\"Times,serif\" font-size=\"14.00\" fill=\"#000000\">Fare&lt;7.90210009</text>\n",
       "</g>\n",
       "<!-- 9&#45;&gt;15 -->\n",
       "<g id=\"edge9\" class=\"edge\">\n",
       "<title>9&#45;&gt;15</title>\n",
       "<path fill=\"none\" stroke=\"#0000ff\" d=\"M614.0104,-263.0429C583.1012,-248.7391 537.6066,-227.6858 504.1645,-212.2099\"/>\n",
       "<polygon fill=\"#0000ff\" stroke=\"#0000ff\" points=\"505.6191,-209.0265 495.0738,-208.0031 502.6792,-215.3793 505.6191,-209.0265\"/>\n",
       "<text text-anchor=\"middle\" x=\"600.9925\" y=\"-231.8\" font-family=\"Times,serif\" font-size=\"14.00\" fill=\"#000000\">yes, missing</text>\n",
       "</g>\n",
       "<!-- 16 -->\n",
       "<g id=\"node11\" class=\"node\">\n",
       "<title>16</title>\n",
       "<ellipse fill=\"none\" stroke=\"#000000\" cx=\"648.4925\" cy=\"-192\" rx=\"58.4896\" ry=\"18\"/>\n",
       "<text text-anchor=\"middle\" x=\"648.4925\" y=\"-188.3\" font-family=\"Times,serif\" font-size=\"14.00\" fill=\"#000000\">Ticket&lt;267.5</text>\n",
       "</g>\n",
       "<!-- 9&#45;&gt;16 -->\n",
       "<g id=\"edge10\" class=\"edge\">\n",
       "<title>9&#45;&gt;16</title>\n",
       "<path fill=\"none\" stroke=\"#ff0000\" d=\"M648.4925,-260.9735C648.4925,-249.1918 648.4925,-233.5607 648.4925,-220.1581\"/>\n",
       "<polygon fill=\"#ff0000\" stroke=\"#ff0000\" points=\"651.9926,-220.0033 648.4925,-210.0034 644.9926,-220.0034 651.9926,-220.0033\"/>\n",
       "<text text-anchor=\"middle\" x=\"655.4925\" y=\"-231.8\" font-family=\"Times,serif\" font-size=\"14.00\" fill=\"#000000\">no</text>\n",
       "</g>\n",
       "<!-- 17 -->\n",
       "<g id=\"node22\" class=\"node\">\n",
       "<title>17</title>\n",
       "<ellipse fill=\"none\" stroke=\"#000000\" cx=\"761.4925\" cy=\"-192\" rx=\"36.2938\" ry=\"18\"/>\n",
       "<text text-anchor=\"middle\" x=\"761.4925\" y=\"-188.3\" font-family=\"Times,serif\" font-size=\"14.00\" fill=\"#000000\">leaf=&#45;0</text>\n",
       "</g>\n",
       "<!-- 10&#45;&gt;17 -->\n",
       "<g id=\"edge21\" class=\"edge\">\n",
       "<title>10&#45;&gt;17</title>\n",
       "<path fill=\"none\" stroke=\"#0000ff\" d=\"M790.0333,-260.9735C785.0284,-248.8784 778.3448,-232.7263 772.7036,-219.0934\"/>\n",
       "<polygon fill=\"#0000ff\" stroke=\"#0000ff\" points=\"775.8766,-217.6076 768.819,-209.7057 769.4085,-220.2841 775.8766,-217.6076\"/>\n",
       "<text text-anchor=\"middle\" x=\"816.9925\" y=\"-231.8\" font-family=\"Times,serif\" font-size=\"14.00\" fill=\"#000000\">yes, missing</text>\n",
       "</g>\n",
       "<!-- 18 -->\n",
       "<g id=\"node23\" class=\"node\">\n",
       "<title>18</title>\n",
       "<ellipse fill=\"none\" stroke=\"#000000\" cx=\"899.4925\" cy=\"-192\" rx=\"83.3857\" ry=\"18\"/>\n",
       "<text text-anchor=\"middle\" x=\"899.4925\" y=\"-188.3\" font-family=\"Times,serif\" font-size=\"14.00\" fill=\"#000000\">leaf=&#45;0.0153846154</text>\n",
       "</g>\n",
       "<!-- 10&#45;&gt;18 -->\n",
       "<g id=\"edge22\" class=\"edge\">\n",
       "<title>10&#45;&gt;18</title>\n",
       "<path fill=\"none\" stroke=\"#ff0000\" d=\"M826.7085,-263.2326C836.3102,-257.4466 846.7537,-250.4692 855.4925,-243 864.1152,-235.6301 872.5206,-226.5231 879.6354,-218.0535\"/>\n",
       "<polygon fill=\"#ff0000\" stroke=\"#ff0000\" points=\"882.4254,-220.1702 886.0263,-210.2061 876.9976,-215.7499 882.4254,-220.1702\"/>\n",
       "<text text-anchor=\"middle\" x=\"877.4925\" y=\"-231.8\" font-family=\"Times,serif\" font-size=\"14.00\" fill=\"#000000\">no</text>\n",
       "</g>\n",
       "<!-- 27 -->\n",
       "<g id=\"node12\" class=\"node\">\n",
       "<title>27</title>\n",
       "<ellipse fill=\"none\" stroke=\"#000000\" cx=\"266.4925\" cy=\"-105\" rx=\"72.5877\" ry=\"18\"/>\n",
       "<text text-anchor=\"middle\" x=\"266.4925\" y=\"-101.3\" font-family=\"Times,serif\" font-size=\"14.00\" fill=\"#000000\">Age&lt;18.2660103</text>\n",
       "</g>\n",
       "<!-- 15&#45;&gt;27 -->\n",
       "<g id=\"edge11\" class=\"edge\">\n",
       "<title>15&#45;&gt;27</title>\n",
       "<path fill=\"none\" stroke=\"#0000ff\" d=\"M424.9099,-176.0429C392.9142,-161.6943 345.7732,-140.5537 311.2341,-125.0645\"/>\n",
       "<polygon fill=\"#0000ff\" stroke=\"#0000ff\" points=\"312.4062,-121.7544 301.8495,-120.856 309.5418,-128.1415 312.4062,-121.7544\"/>\n",
       "<text text-anchor=\"middle\" x=\"409.9925\" y=\"-144.8\" font-family=\"Times,serif\" font-size=\"14.00\" fill=\"#000000\">yes, missing</text>\n",
       "</g>\n",
       "<!-- 28 -->\n",
       "<g id=\"node13\" class=\"node\">\n",
       "<title>28</title>\n",
       "<ellipse fill=\"none\" stroke=\"#000000\" cx=\"460.4925\" cy=\"-105\" rx=\"72.5877\" ry=\"18\"/>\n",
       "<text text-anchor=\"middle\" x=\"460.4925\" y=\"-101.3\" font-family=\"Times,serif\" font-size=\"14.00\" fill=\"#000000\">Age&lt;16.3616581</text>\n",
       "</g>\n",
       "<!-- 15&#45;&gt;28 -->\n",
       "<g id=\"edge12\" class=\"edge\">\n",
       "<title>15&#45;&gt;28</title>\n",
       "<path fill=\"none\" stroke=\"#ff0000\" d=\"M460.4925,-173.9735C460.4925,-162.1918 460.4925,-146.5607 460.4925,-133.1581\"/>\n",
       "<polygon fill=\"#ff0000\" stroke=\"#ff0000\" points=\"463.9926,-133.0033 460.4925,-123.0034 456.9926,-133.0034 463.9926,-133.0033\"/>\n",
       "<text text-anchor=\"middle\" x=\"467.4925\" y=\"-144.8\" font-family=\"Times,serif\" font-size=\"14.00\" fill=\"#000000\">no</text>\n",
       "</g>\n",
       "<!-- 29 -->\n",
       "<g id=\"node18\" class=\"node\">\n",
       "<title>29</title>\n",
       "<ellipse fill=\"none\" stroke=\"#000000\" cx=\"648.4925\" cy=\"-105\" rx=\"84.485\" ry=\"18\"/>\n",
       "<text text-anchor=\"middle\" x=\"648.4925\" y=\"-101.3\" font-family=\"Times,serif\" font-size=\"14.00\" fill=\"#000000\">leaf=0.00999999978</text>\n",
       "</g>\n",
       "<!-- 16&#45;&gt;29 -->\n",
       "<g id=\"edge17\" class=\"edge\">\n",
       "<title>16&#45;&gt;29</title>\n",
       "<path fill=\"none\" stroke=\"#0000ff\" d=\"M648.4925,-173.9735C648.4925,-162.1918 648.4925,-146.5607 648.4925,-133.1581\"/>\n",
       "<polygon fill=\"#0000ff\" stroke=\"#0000ff\" points=\"651.9926,-133.0033 648.4925,-123.0034 644.9926,-133.0034 651.9926,-133.0033\"/>\n",
       "<text text-anchor=\"middle\" x=\"682.9925\" y=\"-144.8\" font-family=\"Times,serif\" font-size=\"14.00\" fill=\"#000000\">yes, missing</text>\n",
       "</g>\n",
       "<!-- 30 -->\n",
       "<g id=\"node19\" class=\"node\">\n",
       "<title>30</title>\n",
       "<ellipse fill=\"none\" stroke=\"#000000\" cx=\"826.4925\" cy=\"-105\" rx=\"51.9908\" ry=\"18\"/>\n",
       "<text text-anchor=\"middle\" x=\"826.4925\" y=\"-101.3\" font-family=\"Times,serif\" font-size=\"14.00\" fill=\"#000000\">Ticket&lt;466</text>\n",
       "</g>\n",
       "<!-- 16&#45;&gt;30 -->\n",
       "<g id=\"edge18\" class=\"edge\">\n",
       "<title>16&#45;&gt;30</title>\n",
       "<path fill=\"none\" stroke=\"#ff0000\" d=\"M679.9056,-176.6464C709.7914,-162.0393 754.8594,-140.0117 787.1287,-124.2396\"/>\n",
       "<polygon fill=\"#ff0000\" stroke=\"#ff0000\" points=\"788.8365,-127.3007 796.2838,-119.7649 785.7626,-121.0117 788.8365,-127.3007\"/>\n",
       "<text text-anchor=\"middle\" x=\"755.4925\" y=\"-144.8\" font-family=\"Times,serif\" font-size=\"14.00\" fill=\"#000000\">no</text>\n",
       "</g>\n",
       "<!-- 41 -->\n",
       "<g id=\"node14\" class=\"node\">\n",
       "<title>41</title>\n",
       "<ellipse fill=\"none\" stroke=\"#000000\" cx=\"84.4925\" cy=\"-18\" rx=\"84.485\" ry=\"18\"/>\n",
       "<text text-anchor=\"middle\" x=\"84.4925\" y=\"-14.3\" font-family=\"Times,serif\" font-size=\"14.00\" fill=\"#000000\">leaf=0.00333333341</text>\n",
       "</g>\n",
       "<!-- 27&#45;&gt;41 -->\n",
       "<g id=\"edge13\" class=\"edge\">\n",
       "<title>27&#45;&gt;41</title>\n",
       "<path fill=\"none\" stroke=\"#0000ff\" d=\"M232.6862,-88.8399C203.2139,-74.7514 160.2813,-54.2287 128.2041,-38.8951\"/>\n",
       "<polygon fill=\"#0000ff\" stroke=\"#0000ff\" points=\"129.5773,-35.6722 119.0456,-34.5171 126.5583,-41.9878 129.5773,-35.6722\"/>\n",
       "<text text-anchor=\"middle\" x=\"220.9925\" y=\"-57.8\" font-family=\"Times,serif\" font-size=\"14.00\" fill=\"#000000\">yes, missing</text>\n",
       "</g>\n",
       "<!-- 42 -->\n",
       "<g id=\"node15\" class=\"node\">\n",
       "<title>42</title>\n",
       "<ellipse fill=\"none\" stroke=\"#000000\" cx=\"266.4925\" cy=\"-18\" rx=\"79.8859\" ry=\"18\"/>\n",
       "<text text-anchor=\"middle\" x=\"266.4925\" y=\"-14.3\" font-family=\"Times,serif\" font-size=\"14.00\" fill=\"#000000\">leaf=0.0142857144</text>\n",
       "</g>\n",
       "<!-- 27&#45;&gt;42 -->\n",
       "<g id=\"edge14\" class=\"edge\">\n",
       "<title>27&#45;&gt;42</title>\n",
       "<path fill=\"none\" stroke=\"#ff0000\" d=\"M266.4925,-86.9735C266.4925,-75.1918 266.4925,-59.5607 266.4925,-46.1581\"/>\n",
       "<polygon fill=\"#ff0000\" stroke=\"#ff0000\" points=\"269.9926,-46.0033 266.4925,-36.0034 262.9926,-46.0034 269.9926,-46.0033\"/>\n",
       "<text text-anchor=\"middle\" x=\"273.4925\" y=\"-57.8\" font-family=\"Times,serif\" font-size=\"14.00\" fill=\"#000000\">no</text>\n",
       "</g>\n",
       "<!-- 43 -->\n",
       "<g id=\"node16\" class=\"node\">\n",
       "<title>43</title>\n",
       "<ellipse fill=\"none\" stroke=\"#000000\" cx=\"448.4925\" cy=\"-18\" rx=\"84.485\" ry=\"18\"/>\n",
       "<text text-anchor=\"middle\" x=\"448.4925\" y=\"-14.3\" font-family=\"Times,serif\" font-size=\"14.00\" fill=\"#000000\">leaf=0.00833333284</text>\n",
       "</g>\n",
       "<!-- 28&#45;&gt;43 -->\n",
       "<g id=\"edge15\" class=\"edge\">\n",
       "<title>28&#45;&gt;43</title>\n",
       "<path fill=\"none\" stroke=\"#0000ff\" d=\"M458.0061,-86.9735C456.381,-75.1918 454.225,-59.5607 452.3764,-46.1581\"/>\n",
       "<polygon fill=\"#0000ff\" stroke=\"#0000ff\" points=\"455.8094,-45.4313 450.9757,-36.0034 448.875,-46.3878 455.8094,-45.4313\"/>\n",
       "<text text-anchor=\"middle\" x=\"489.9925\" y=\"-57.8\" font-family=\"Times,serif\" font-size=\"14.00\" fill=\"#000000\">yes, missing</text>\n",
       "</g>\n",
       "<!-- 44 -->\n",
       "<g id=\"node17\" class=\"node\">\n",
       "<title>44</title>\n",
       "<ellipse fill=\"none\" stroke=\"#000000\" cx=\"638.4925\" cy=\"-18\" rx=\"87.1846\" ry=\"18\"/>\n",
       "<text text-anchor=\"middle\" x=\"638.4925\" y=\"-14.3\" font-family=\"Times,serif\" font-size=\"14.00\" fill=\"#000000\">leaf=&#45;0.00476190448</text>\n",
       "</g>\n",
       "<!-- 28&#45;&gt;44 -->\n",
       "<g id=\"edge16\" class=\"edge\">\n",
       "<title>28&#45;&gt;44</title>\n",
       "<path fill=\"none\" stroke=\"#ff0000\" d=\"M493.5558,-88.8399C522.1656,-74.8564 563.7442,-54.5343 595.0384,-39.2388\"/>\n",
       "<polygon fill=\"#ff0000\" stroke=\"#ff0000\" points=\"596.9471,-42.2017 604.3944,-34.6659 593.8732,-35.9127 596.9471,-42.2017\"/>\n",
       "<text text-anchor=\"middle\" x=\"567.4925\" y=\"-57.8\" font-family=\"Times,serif\" font-size=\"14.00\" fill=\"#000000\">no</text>\n",
       "</g>\n",
       "<!-- 45 -->\n",
       "<g id=\"node20\" class=\"node\">\n",
       "<title>45</title>\n",
       "<ellipse fill=\"none\" stroke=\"#000000\" cx=\"826.4925\" cy=\"-18\" rx=\"83.3857\" ry=\"18\"/>\n",
       "<text text-anchor=\"middle\" x=\"826.4925\" y=\"-14.3\" font-family=\"Times,serif\" font-size=\"14.00\" fill=\"#000000\">leaf=&#45;0.0111111114</text>\n",
       "</g>\n",
       "<!-- 30&#45;&gt;45 -->\n",
       "<g id=\"edge19\" class=\"edge\">\n",
       "<title>30&#45;&gt;45</title>\n",
       "<path fill=\"none\" stroke=\"#0000ff\" d=\"M826.4925,-86.9735C826.4925,-75.1918 826.4925,-59.5607 826.4925,-46.1581\"/>\n",
       "<polygon fill=\"#0000ff\" stroke=\"#0000ff\" points=\"829.9926,-46.0033 826.4925,-36.0034 822.9926,-46.0034 829.9926,-46.0033\"/>\n",
       "<text text-anchor=\"middle\" x=\"860.9925\" y=\"-57.8\" font-family=\"Times,serif\" font-size=\"14.00\" fill=\"#000000\">yes, missing</text>\n",
       "</g>\n",
       "<!-- 46 -->\n",
       "<g id=\"node21\" class=\"node\">\n",
       "<title>46</title>\n",
       "<ellipse fill=\"none\" stroke=\"#000000\" cx=\"964.4925\" cy=\"-18\" rx=\"36.2938\" ry=\"18\"/>\n",
       "<text text-anchor=\"middle\" x=\"964.4925\" y=\"-14.3\" font-family=\"Times,serif\" font-size=\"14.00\" fill=\"#000000\">leaf=&#45;0</text>\n",
       "</g>\n",
       "<!-- 30&#45;&gt;46 -->\n",
       "<g id=\"edge20\" class=\"edge\">\n",
       "<title>30&#45;&gt;46</title>\n",
       "<path fill=\"none\" stroke=\"#ff0000\" d=\"M858.8893,-90.7948C871.8434,-84.664 886.6958,-77.0536 899.4925,-69 912.9732,-60.5159 926.9892,-49.796 938.5396,-40.3763\"/>\n",
       "<polygon fill=\"#ff0000\" stroke=\"#ff0000\" points=\"941.0087,-42.8756 946.4713,-33.7976 936.5399,-37.4876 941.0087,-42.8756\"/>\n",
       "<text text-anchor=\"middle\" x=\"927.4925\" y=\"-57.8\" font-family=\"Times,serif\" font-size=\"14.00\" fill=\"#000000\">no</text>\n",
       "</g>\n",
       "<!-- 11 -->\n",
       "<g id=\"node26\" class=\"node\">\n",
       "<title>11</title>\n",
       "<ellipse fill=\"none\" stroke=\"#000000\" cx=\"1224.4925\" cy=\"-279\" rx=\"46.2923\" ry=\"18\"/>\n",
       "<text text-anchor=\"middle\" x=\"1224.4925\" y=\"-275.3\" font-family=\"Times,serif\" font-size=\"14.00\" fill=\"#000000\">Age&lt;17.5</text>\n",
       "</g>\n",
       "<!-- 5&#45;&gt;11 -->\n",
       "<g id=\"edge25\" class=\"edge\">\n",
       "<title>5&#45;&gt;11</title>\n",
       "<path fill=\"none\" stroke=\"#0000ff\" d=\"M1369.028,-350.0429C1338.8708,-335.2198 1293.9665,-313.1482 1262.2261,-297.547\"/>\n",
       "<polygon fill=\"#0000ff\" stroke=\"#0000ff\" points=\"1263.7566,-294.3994 1253.2382,-293.1292 1260.6688,-300.6816 1263.7566,-294.3994\"/>\n",
       "<text text-anchor=\"middle\" x=\"1358.9925\" y=\"-318.8\" font-family=\"Times,serif\" font-size=\"14.00\" fill=\"#000000\">yes, missing</text>\n",
       "</g>\n",
       "<!-- 12 -->\n",
       "<g id=\"node27\" class=\"node\">\n",
       "<title>12</title>\n",
       "<ellipse fill=\"none\" stroke=\"#000000\" cx=\"1497.4925\" cy=\"-279\" rx=\"48.1917\" ry=\"18\"/>\n",
       "<text text-anchor=\"middle\" x=\"1497.4925\" y=\"-275.3\" font-family=\"Times,serif\" font-size=\"14.00\" fill=\"#000000\">Cabin&lt;0.5</text>\n",
       "</g>\n",
       "<!-- 5&#45;&gt;12 -->\n",
       "<g id=\"edge26\" class=\"edge\">\n",
       "<title>5&#45;&gt;12</title>\n",
       "<path fill=\"none\" stroke=\"#ff0000\" d=\"M1420.9195,-348.3943C1435.5154,-335.1667 1455.6533,-316.9168 1471.6142,-302.4522\"/>\n",
       "<polygon fill=\"#ff0000\" stroke=\"#ff0000\" points=\"1474.0119,-305.0027 1479.0715,-295.694 1469.3113,-299.8158 1474.0119,-305.0027\"/>\n",
       "<text text-anchor=\"middle\" x=\"1462.4925\" y=\"-318.8\" font-family=\"Times,serif\" font-size=\"14.00\" fill=\"#000000\">no</text>\n",
       "</g>\n",
       "<!-- 13 -->\n",
       "<g id=\"node40\" class=\"node\">\n",
       "<title>13</title>\n",
       "<ellipse fill=\"none\" stroke=\"#000000\" cx=\"1938.4925\" cy=\"-279\" rx=\"41.6928\" ry=\"18\"/>\n",
       "<text text-anchor=\"middle\" x=\"1938.4925\" y=\"-275.3\" font-family=\"Times,serif\" font-size=\"14.00\" fill=\"#000000\">SibSp&lt;2</text>\n",
       "</g>\n",
       "<!-- 6&#45;&gt;13 -->\n",
       "<g id=\"edge39\" class=\"edge\">\n",
       "<title>6&#45;&gt;13</title>\n",
       "<path fill=\"none\" stroke=\"#0000ff\" d=\"M1938.4925,-347.9735C1938.4925,-336.1918 1938.4925,-320.5607 1938.4925,-307.1581\"/>\n",
       "<polygon fill=\"#0000ff\" stroke=\"#0000ff\" points=\"1941.9926,-307.0033 1938.4925,-297.0034 1934.9926,-307.0034 1941.9926,-307.0033\"/>\n",
       "<text text-anchor=\"middle\" x=\"1972.9925\" y=\"-318.8\" font-family=\"Times,serif\" font-size=\"14.00\" fill=\"#000000\">yes, missing</text>\n",
       "</g>\n",
       "<!-- 14 -->\n",
       "<g id=\"node41\" class=\"node\">\n",
       "<title>14</title>\n",
       "<ellipse fill=\"none\" stroke=\"#000000\" cx=\"2230.4925\" cy=\"-279\" rx=\"58.4896\" ry=\"18\"/>\n",
       "<text text-anchor=\"middle\" x=\"2230.4925\" y=\"-275.3\" font-family=\"Times,serif\" font-size=\"14.00\" fill=\"#000000\">Ticket&lt;114.5</text>\n",
       "</g>\n",
       "<!-- 6&#45;&gt;14 -->\n",
       "<g id=\"edge40\" class=\"edge\">\n",
       "<title>6&#45;&gt;14</title>\n",
       "<path fill=\"none\" stroke=\"#ff0000\" d=\"M1973.1354,-355.6783C2023.9751,-340.5309 2119.1674,-312.1688 2178.4434,-294.5078\"/>\n",
       "<polygon fill=\"#ff0000\" stroke=\"#ff0000\" points=\"2179.7705,-297.7645 2188.3548,-291.5547 2177.7717,-291.0559 2179.7705,-297.7645\"/>\n",
       "<text text-anchor=\"middle\" x=\"2109.4925\" y=\"-318.8\" font-family=\"Times,serif\" font-size=\"14.00\" fill=\"#000000\">no</text>\n",
       "</g>\n",
       "<!-- 19 -->\n",
       "<g id=\"node28\" class=\"node\">\n",
       "<title>19</title>\n",
       "<ellipse fill=\"none\" stroke=\"#000000\" cx=\"1080.4925\" cy=\"-192\" rx=\"79.8859\" ry=\"18\"/>\n",
       "<text text-anchor=\"middle\" x=\"1080.4925\" y=\"-188.3\" font-family=\"Times,serif\" font-size=\"14.00\" fill=\"#000000\">leaf=0.0127272718</text>\n",
       "</g>\n",
       "<!-- 11&#45;&gt;19 -->\n",
       "<g id=\"edge27\" class=\"edge\">\n",
       "<title>11&#45;&gt;19</title>\n",
       "<path fill=\"none\" stroke=\"#0000ff\" d=\"M1194.0656,-265.3733C1180.7318,-259.0529 1165.0628,-251.1442 1151.4925,-243 1137.7474,-234.7508 1123.2578,-224.6268 1110.9781,-215.5793\"/>\n",
       "<polygon fill=\"#0000ff\" stroke=\"#0000ff\" points=\"1112.9734,-212.7011 1102.8661,-209.5239 1108.786,-218.3106 1112.9734,-212.7011\"/>\n",
       "<text text-anchor=\"middle\" x=\"1185.9925\" y=\"-231.8\" font-family=\"Times,serif\" font-size=\"14.00\" fill=\"#000000\">yes, missing</text>\n",
       "</g>\n",
       "<!-- 20 -->\n",
       "<g id=\"node29\" class=\"node\">\n",
       "<title>20</title>\n",
       "<ellipse fill=\"none\" stroke=\"#000000\" cx=\"1224.4925\" cy=\"-192\" rx=\"46.2923\" ry=\"18\"/>\n",
       "<text text-anchor=\"middle\" x=\"1224.4925\" y=\"-188.3\" font-family=\"Times,serif\" font-size=\"14.00\" fill=\"#000000\">Age&lt;24.5</text>\n",
       "</g>\n",
       "<!-- 11&#45;&gt;20 -->\n",
       "<g id=\"edge28\" class=\"edge\">\n",
       "<title>11&#45;&gt;20</title>\n",
       "<path fill=\"none\" stroke=\"#ff0000\" d=\"M1224.4925,-260.9735C1224.4925,-249.1918 1224.4925,-233.5607 1224.4925,-220.1581\"/>\n",
       "<polygon fill=\"#ff0000\" stroke=\"#ff0000\" points=\"1227.9926,-220.0033 1224.4925,-210.0034 1220.9926,-220.0034 1227.9926,-220.0033\"/>\n",
       "<text text-anchor=\"middle\" x=\"1231.4925\" y=\"-231.8\" font-family=\"Times,serif\" font-size=\"14.00\" fill=\"#000000\">no</text>\n",
       "</g>\n",
       "<!-- 21 -->\n",
       "<g id=\"node34\" class=\"node\">\n",
       "<title>21</title>\n",
       "<ellipse fill=\"none\" stroke=\"#000000\" cx=\"1497.4925\" cy=\"-192\" rx=\"72.5877\" ry=\"18\"/>\n",
       "<text text-anchor=\"middle\" x=\"1497.4925\" y=\"-188.3\" font-family=\"Times,serif\" font-size=\"14.00\" fill=\"#000000\">Age&lt;45.6781769</text>\n",
       "</g>\n",
       "<!-- 12&#45;&gt;21 -->\n",
       "<g id=\"edge33\" class=\"edge\">\n",
       "<title>12&#45;&gt;21</title>\n",
       "<path fill=\"none\" stroke=\"#0000ff\" d=\"M1497.4925,-260.9735C1497.4925,-249.1918 1497.4925,-233.5607 1497.4925,-220.1581\"/>\n",
       "<polygon fill=\"#0000ff\" stroke=\"#0000ff\" points=\"1500.9926,-220.0033 1497.4925,-210.0034 1493.9926,-220.0034 1500.9926,-220.0033\"/>\n",
       "<text text-anchor=\"middle\" x=\"1531.9925\" y=\"-231.8\" font-family=\"Times,serif\" font-size=\"14.00\" fill=\"#000000\">yes, missing</text>\n",
       "</g>\n",
       "<!-- 22 -->\n",
       "<g id=\"node35\" class=\"node\">\n",
       "<title>22</title>\n",
       "<ellipse fill=\"none\" stroke=\"#000000\" cx=\"1706.4925\" cy=\"-192\" rx=\"39.7935\" ry=\"18\"/>\n",
       "<text text-anchor=\"middle\" x=\"1706.4925\" y=\"-188.3\" font-family=\"Times,serif\" font-size=\"14.00\" fill=\"#000000\">Age&lt;43</text>\n",
       "</g>\n",
       "<!-- 12&#45;&gt;22 -->\n",
       "<g id=\"edge34\" class=\"edge\">\n",
       "<title>12&#45;&gt;22</title>\n",
       "<path fill=\"none\" stroke=\"#ff0000\" d=\"M1529.6907,-265.5969C1566.8203,-250.1411 1627.8354,-224.7424 1667.5884,-208.1945\"/>\n",
       "<polygon fill=\"#ff0000\" stroke=\"#ff0000\" points=\"1669.0757,-211.3666 1676.9627,-204.2923 1666.3855,-204.9042 1669.0757,-211.3666\"/>\n",
       "<text text-anchor=\"middle\" x=\"1622.4925\" y=\"-231.8\" font-family=\"Times,serif\" font-size=\"14.00\" fill=\"#000000\">no</text>\n",
       "</g>\n",
       "<!-- 31 -->\n",
       "<g id=\"node30\" class=\"node\">\n",
       "<title>31</title>\n",
       "<ellipse fill=\"none\" stroke=\"#000000\" cx=\"1028.4925\" cy=\"-105\" rx=\"83.3857\" ry=\"18\"/>\n",
       "<text text-anchor=\"middle\" x=\"1028.4925\" y=\"-101.3\" font-family=\"Times,serif\" font-size=\"14.00\" fill=\"#000000\">leaf=&#45;0.0090909088</text>\n",
       "</g>\n",
       "<!-- 20&#45;&gt;31 -->\n",
       "<g id=\"edge29\" class=\"edge\">\n",
       "<title>20&#45;&gt;31</title>\n",
       "<path fill=\"none\" stroke=\"#0000ff\" d=\"M1188.8356,-180.547C1169.5283,-174.0017 1145.4127,-165.2658 1124.4925,-156 1105.1283,-147.4233 1084.294,-136.566 1066.9994,-127.0756\"/>\n",
       "<polygon fill=\"#0000ff\" stroke=\"#0000ff\" points=\"1068.23,-123.7559 1057.7873,-121.9669 1064.8351,-129.8776 1068.23,-123.7559\"/>\n",
       "<text text-anchor=\"middle\" x=\"1158.9925\" y=\"-144.8\" font-family=\"Times,serif\" font-size=\"14.00\" fill=\"#000000\">yes, missing</text>\n",
       "</g>\n",
       "<!-- 32 -->\n",
       "<g id=\"node31\" class=\"node\">\n",
       "<title>32</title>\n",
       "<ellipse fill=\"none\" stroke=\"#000000\" cx=\"1175.4925\" cy=\"-105\" rx=\"46.2923\" ry=\"18\"/>\n",
       "<text text-anchor=\"middle\" x=\"1175.4925\" y=\"-101.3\" font-family=\"Times,serif\" font-size=\"14.00\" fill=\"#000000\">Age&lt;28.5</text>\n",
       "</g>\n",
       "<!-- 20&#45;&gt;32 -->\n",
       "<g id=\"edge30\" class=\"edge\">\n",
       "<title>20&#45;&gt;32</title>\n",
       "<path fill=\"none\" stroke=\"#ff0000\" d=\"M1214.5766,-174.3943C1207.7148,-162.211 1198.4532,-145.7669 1190.668,-131.9443\"/>\n",
       "<polygon fill=\"#ff0000\" stroke=\"#ff0000\" points=\"1193.5188,-129.8737 1185.5618,-122.8782 1187.4197,-133.3089 1193.5188,-129.8737\"/>\n",
       "<text text-anchor=\"middle\" x=\"1210.4925\" y=\"-144.8\" font-family=\"Times,serif\" font-size=\"14.00\" fill=\"#000000\">no</text>\n",
       "</g>\n",
       "<!-- 47 -->\n",
       "<g id=\"node32\" class=\"node\">\n",
       "<title>47</title>\n",
       "<ellipse fill=\"none\" stroke=\"#000000\" cx=\"1139.4925\" cy=\"-18\" rx=\"84.485\" ry=\"18\"/>\n",
       "<text text-anchor=\"middle\" x=\"1139.4925\" y=\"-14.3\" font-family=\"Times,serif\" font-size=\"14.00\" fill=\"#000000\">leaf=0.00999999978</text>\n",
       "</g>\n",
       "<!-- 32&#45;&gt;47 -->\n",
       "<g id=\"edge31\" class=\"edge\">\n",
       "<title>32&#45;&gt;47</title>\n",
       "<path fill=\"none\" stroke=\"#0000ff\" d=\"M1168.0333,-86.9735C1163.0615,-74.9585 1156.4332,-58.9401 1150.8158,-45.3646\"/>\n",
       "<polygon fill=\"#0000ff\" stroke=\"#0000ff\" points=\"1153.9998,-43.9053 1146.9422,-36.0034 1147.5317,-46.5818 1153.9998,-43.9053\"/>\n",
       "<text text-anchor=\"middle\" x=\"1194.9925\" y=\"-57.8\" font-family=\"Times,serif\" font-size=\"14.00\" fill=\"#000000\">yes, missing</text>\n",
       "</g>\n",
       "<!-- 48 -->\n",
       "<g id=\"node33\" class=\"node\">\n",
       "<title>48</title>\n",
       "<ellipse fill=\"none\" stroke=\"#000000\" cx=\"1326.4925\" cy=\"-18\" rx=\"84.485\" ry=\"18\"/>\n",
       "<text text-anchor=\"middle\" x=\"1326.4925\" y=\"-14.3\" font-family=\"Times,serif\" font-size=\"14.00\" fill=\"#000000\">leaf=0.00124999997</text>\n",
       "</g>\n",
       "<!-- 32&#45;&gt;48 -->\n",
       "<g id=\"edge32\" class=\"edge\">\n",
       "<title>32&#45;&gt;48</title>\n",
       "<path fill=\"none\" stroke=\"#ff0000\" d=\"M1201.4503,-90.0442C1225.3143,-76.2947 1261.001,-55.7335 1288.1493,-40.0918\"/>\n",
       "<polygon fill=\"#ff0000\" stroke=\"#ff0000\" points=\"1290.0819,-43.0177 1296.9994,-34.9927 1286.5873,-36.9524 1290.0819,-43.0177\"/>\n",
       "<text text-anchor=\"middle\" x=\"1267.4925\" y=\"-57.8\" font-family=\"Times,serif\" font-size=\"14.00\" fill=\"#000000\">no</text>\n",
       "</g>\n",
       "<!-- 33 -->\n",
       "<g id=\"node36\" class=\"node\">\n",
       "<title>33</title>\n",
       "<ellipse fill=\"none\" stroke=\"#000000\" cx=\"1326.4925\" cy=\"-105\" rx=\"87.1846\" ry=\"18\"/>\n",
       "<text text-anchor=\"middle\" x=\"1326.4925\" y=\"-101.3\" font-family=\"Times,serif\" font-size=\"14.00\" fill=\"#000000\">leaf=&#45;0.00499999989</text>\n",
       "</g>\n",
       "<!-- 21&#45;&gt;33 -->\n",
       "<g id=\"edge35\" class=\"edge\">\n",
       "<title>21&#45;&gt;33</title>\n",
       "<path fill=\"none\" stroke=\"#0000ff\" d=\"M1465.3287,-175.636C1437.8858,-161.6738 1398.237,-141.5016 1368.33,-126.2857\"/>\n",
       "<polygon fill=\"#0000ff\" stroke=\"#0000ff\" points=\"1369.8854,-123.1502 1359.3855,-121.735 1366.7112,-129.3891 1369.8854,-123.1502\"/>\n",
       "<text text-anchor=\"middle\" x=\"1456.9925\" y=\"-144.8\" font-family=\"Times,serif\" font-size=\"14.00\" fill=\"#000000\">yes, missing</text>\n",
       "</g>\n",
       "<!-- 34 -->\n",
       "<g id=\"node37\" class=\"node\">\n",
       "<title>34</title>\n",
       "<ellipse fill=\"none\" stroke=\"#000000\" cx=\"1516.4925\" cy=\"-105\" rx=\"84.485\" ry=\"18\"/>\n",
       "<text text-anchor=\"middle\" x=\"1516.4925\" y=\"-101.3\" font-family=\"Times,serif\" font-size=\"14.00\" fill=\"#000000\">leaf=0.00222222228</text>\n",
       "</g>\n",
       "<!-- 21&#45;&gt;34 -->\n",
       "<g id=\"edge36\" class=\"edge\">\n",
       "<title>21&#45;&gt;34</title>\n",
       "<path fill=\"none\" stroke=\"#ff0000\" d=\"M1501.4293,-173.9735C1504.0023,-162.1918 1507.416,-146.5607 1510.343,-133.1581\"/>\n",
       "<polygon fill=\"#ff0000\" stroke=\"#ff0000\" points=\"1513.8464,-133.5199 1512.5607,-123.0034 1507.0076,-132.0263 1513.8464,-133.5199\"/>\n",
       "<text text-anchor=\"middle\" x=\"1515.4925\" y=\"-144.8\" font-family=\"Times,serif\" font-size=\"14.00\" fill=\"#000000\">no</text>\n",
       "</g>\n",
       "<!-- 35 -->\n",
       "<g id=\"node38\" class=\"node\">\n",
       "<title>35</title>\n",
       "<ellipse fill=\"none\" stroke=\"#000000\" cx=\"1706.4925\" cy=\"-105\" rx=\"87.1846\" ry=\"18\"/>\n",
       "<text text-anchor=\"middle\" x=\"1706.4925\" y=\"-101.3\" font-family=\"Times,serif\" font-size=\"14.00\" fill=\"#000000\">leaf=&#45;0.00181818183</text>\n",
       "</g>\n",
       "<!-- 22&#45;&gt;35 -->\n",
       "<g id=\"edge37\" class=\"edge\">\n",
       "<title>22&#45;&gt;35</title>\n",
       "<path fill=\"none\" stroke=\"#0000ff\" d=\"M1706.4925,-173.9735C1706.4925,-162.1918 1706.4925,-146.5607 1706.4925,-133.1581\"/>\n",
       "<polygon fill=\"#0000ff\" stroke=\"#0000ff\" points=\"1709.9926,-133.0033 1706.4925,-123.0034 1702.9926,-133.0034 1709.9926,-133.0033\"/>\n",
       "<text text-anchor=\"middle\" x=\"1740.9925\" y=\"-144.8\" font-family=\"Times,serif\" font-size=\"14.00\" fill=\"#000000\">yes, missing</text>\n",
       "</g>\n",
       "<!-- 36 -->\n",
       "<g id=\"node39\" class=\"node\">\n",
       "<title>36</title>\n",
       "<ellipse fill=\"none\" stroke=\"#000000\" cx=\"1894.4925\" cy=\"-105\" rx=\"83.3857\" ry=\"18\"/>\n",
       "<text text-anchor=\"middle\" x=\"1894.4925\" y=\"-101.3\" font-family=\"Times,serif\" font-size=\"14.00\" fill=\"#000000\">leaf=&#45;0.0115789473</text>\n",
       "</g>\n",
       "<!-- 22&#45;&gt;36 -->\n",
       "<g id=\"edge38\" class=\"edge\">\n",
       "<title>22&#45;&gt;36</title>\n",
       "<path fill=\"none\" stroke=\"#ff0000\" d=\"M1734.638,-178.9752C1765.1038,-164.8767 1814.1168,-142.1951 1849.8481,-125.6599\"/>\n",
       "<polygon fill=\"#ff0000\" stroke=\"#ff0000\" points=\"1851.4809,-128.761 1859.0863,-121.3848 1848.541,-122.4082 1851.4809,-128.761\"/>\n",
       "<text text-anchor=\"middle\" x=\"1819.4925\" y=\"-144.8\" font-family=\"Times,serif\" font-size=\"14.00\" fill=\"#000000\">no</text>\n",
       "</g>\n",
       "<!-- 23 -->\n",
       "<g id=\"node42\" class=\"node\">\n",
       "<title>23</title>\n",
       "<ellipse fill=\"none\" stroke=\"#000000\" cx=\"1871.4925\" cy=\"-192\" rx=\"79.8859\" ry=\"18\"/>\n",
       "<text text-anchor=\"middle\" x=\"1871.4925\" y=\"-188.3\" font-family=\"Times,serif\" font-size=\"14.00\" fill=\"#000000\">leaf=0.0155555559</text>\n",
       "</g>\n",
       "<!-- 13&#45;&gt;23 -->\n",
       "<g id=\"edge41\" class=\"edge\">\n",
       "<title>13&#45;&gt;23</title>\n",
       "<path fill=\"none\" stroke=\"#0000ff\" d=\"M1925.2555,-261.8116C1915.564,-249.2272 1902.2485,-231.9369 1891.2939,-217.7122\"/>\n",
       "<polygon fill=\"#0000ff\" stroke=\"#0000ff\" points=\"1894.0366,-215.5373 1885.162,-209.75 1888.4906,-219.8084 1894.0366,-215.5373\"/>\n",
       "<text text-anchor=\"middle\" x=\"1943.9925\" y=\"-231.8\" font-family=\"Times,serif\" font-size=\"14.00\" fill=\"#000000\">yes, missing</text>\n",
       "</g>\n",
       "<!-- 24 -->\n",
       "<g id=\"node43\" class=\"node\">\n",
       "<title>24</title>\n",
       "<ellipse fill=\"none\" stroke=\"#000000\" cx=\"2048.4925\" cy=\"-192\" rx=\"78.7863\" ry=\"18\"/>\n",
       "<text text-anchor=\"middle\" x=\"2048.4925\" y=\"-188.3\" font-family=\"Times,serif\" font-size=\"14.00\" fill=\"#000000\">leaf=&#45;0.012941177</text>\n",
       "</g>\n",
       "<!-- 13&#45;&gt;24 -->\n",
       "<g id=\"edge42\" class=\"edge\">\n",
       "<title>13&#45;&gt;24</title>\n",
       "<path fill=\"none\" stroke=\"#ff0000\" d=\"M1958.6682,-263.0429C1975.417,-249.7961 1999.4851,-230.7604 2018.4927,-215.7271\"/>\n",
       "<polygon fill=\"#ff0000\" stroke=\"#ff0000\" points=\"2020.8864,-218.2964 2026.5585,-209.3478 2016.544,-212.806 2020.8864,-218.2964\"/>\n",
       "<text text-anchor=\"middle\" x=\"2007.4925\" y=\"-231.8\" font-family=\"Times,serif\" font-size=\"14.00\" fill=\"#000000\">no</text>\n",
       "</g>\n",
       "<!-- 25 -->\n",
       "<g id=\"node44\" class=\"node\">\n",
       "<title>25</title>\n",
       "<ellipse fill=\"none\" stroke=\"#000000\" cx=\"2230.4925\" cy=\"-192\" rx=\"72.5877\" ry=\"18\"/>\n",
       "<text text-anchor=\"middle\" x=\"2230.4925\" y=\"-188.3\" font-family=\"Times,serif\" font-size=\"14.00\" fill=\"#000000\">Age&lt;41.4017715</text>\n",
       "</g>\n",
       "<!-- 14&#45;&gt;25 -->\n",
       "<g id=\"edge43\" class=\"edge\">\n",
       "<title>14&#45;&gt;25</title>\n",
       "<path fill=\"none\" stroke=\"#0000ff\" d=\"M2230.4925,-260.9735C2230.4925,-249.1918 2230.4925,-233.5607 2230.4925,-220.1581\"/>\n",
       "<polygon fill=\"#0000ff\" stroke=\"#0000ff\" points=\"2233.9926,-220.0033 2230.4925,-210.0034 2226.9926,-220.0034 2233.9926,-220.0033\"/>\n",
       "<text text-anchor=\"middle\" x=\"2264.9925\" y=\"-231.8\" font-family=\"Times,serif\" font-size=\"14.00\" fill=\"#000000\">yes, missing</text>\n",
       "</g>\n",
       "<!-- 26 -->\n",
       "<g id=\"node45\" class=\"node\">\n",
       "<title>26</title>\n",
       "<ellipse fill=\"none\" stroke=\"#000000\" cx=\"2428.4925\" cy=\"-192\" rx=\"58.4896\" ry=\"18\"/>\n",
       "<text text-anchor=\"middle\" x=\"2428.4925\" y=\"-188.3\" font-family=\"Times,serif\" font-size=\"14.00\" fill=\"#000000\">Ticket&lt;894.5</text>\n",
       "</g>\n",
       "<!-- 14&#45;&gt;26 -->\n",
       "<g id=\"edge44\" class=\"edge\">\n",
       "<title>14&#45;&gt;26</title>\n",
       "<path fill=\"none\" stroke=\"#ff0000\" d=\"M2264.0805,-264.2416C2297.5035,-249.5558 2348.9307,-226.959 2385.3572,-210.9534\"/>\n",
       "<polygon fill=\"#ff0000\" stroke=\"#ff0000\" points=\"2386.9925,-214.0579 2394.7397,-206.8308 2384.1766,-207.6492 2386.9925,-214.0579\"/>\n",
       "<text text-anchor=\"middle\" x=\"2348.4925\" y=\"-231.8\" font-family=\"Times,serif\" font-size=\"14.00\" fill=\"#000000\">no</text>\n",
       "</g>\n",
       "<!-- 37 -->\n",
       "<g id=\"node46\" class=\"node\">\n",
       "<title>37</title>\n",
       "<ellipse fill=\"none\" stroke=\"#000000\" cx=\"2069.4925\" cy=\"-105\" rx=\"73.387\" ry=\"18\"/>\n",
       "<text text-anchor=\"middle\" x=\"2069.4925\" y=\"-101.3\" font-family=\"Times,serif\" font-size=\"14.00\" fill=\"#000000\">Fare&lt;23.7749996</text>\n",
       "</g>\n",
       "<!-- 25&#45;&gt;37 -->\n",
       "<g id=\"edge45\" class=\"edge\">\n",
       "<title>25&#45;&gt;37</title>\n",
       "<path fill=\"none\" stroke=\"#0000ff\" d=\"M2199.8307,-175.4312C2174.0922,-161.5228 2137.1472,-141.5588 2109.1592,-126.4348\"/>\n",
       "<polygon fill=\"#0000ff\" stroke=\"#0000ff\" points=\"2110.5018,-123.182 2100.0402,-121.5071 2107.1739,-129.3404 2110.5018,-123.182\"/>\n",
       "<text text-anchor=\"middle\" x=\"2194.9925\" y=\"-144.8\" font-family=\"Times,serif\" font-size=\"14.00\" fill=\"#000000\">yes, missing</text>\n",
       "</g>\n",
       "<!-- 38 -->\n",
       "<g id=\"node47\" class=\"node\">\n",
       "<title>38</title>\n",
       "<ellipse fill=\"none\" stroke=\"#000000\" cx=\"2244.4925\" cy=\"-105\" rx=\"83.3857\" ry=\"18\"/>\n",
       "<text text-anchor=\"middle\" x=\"2244.4925\" y=\"-101.3\" font-family=\"Times,serif\" font-size=\"14.00\" fill=\"#000000\">leaf=&#45;0.0114285713</text>\n",
       "</g>\n",
       "<!-- 25&#45;&gt;38 -->\n",
       "<g id=\"edge46\" class=\"edge\">\n",
       "<title>25&#45;&gt;38</title>\n",
       "<path fill=\"none\" stroke=\"#ff0000\" d=\"M2233.3933,-173.9735C2235.2892,-162.1918 2237.8046,-146.5607 2239.9613,-133.1581\"/>\n",
       "<polygon fill=\"#ff0000\" stroke=\"#ff0000\" points=\"2243.4621,-133.4324 2241.5954,-123.0034 2236.551,-132.3203 2243.4621,-133.4324\"/>\n",
       "<text text-anchor=\"middle\" x=\"2245.4925\" y=\"-144.8\" font-family=\"Times,serif\" font-size=\"14.00\" fill=\"#000000\">no</text>\n",
       "</g>\n",
       "<!-- 39 -->\n",
       "<g id=\"node50\" class=\"node\">\n",
       "<title>39</title>\n",
       "<ellipse fill=\"none\" stroke=\"#000000\" cx=\"2428.4925\" cy=\"-105\" rx=\"83.3857\" ry=\"18\"/>\n",
       "<text text-anchor=\"middle\" x=\"2428.4925\" y=\"-101.3\" font-family=\"Times,serif\" font-size=\"14.00\" fill=\"#000000\">leaf=&#45;0.0165079366</text>\n",
       "</g>\n",
       "<!-- 26&#45;&gt;39 -->\n",
       "<g id=\"edge49\" class=\"edge\">\n",
       "<title>26&#45;&gt;39</title>\n",
       "<path fill=\"none\" stroke=\"#0000ff\" d=\"M2428.4925,-173.9735C2428.4925,-162.1918 2428.4925,-146.5607 2428.4925,-133.1581\"/>\n",
       "<polygon fill=\"#0000ff\" stroke=\"#0000ff\" points=\"2431.9926,-133.0033 2428.4925,-123.0034 2424.9926,-133.0034 2431.9926,-133.0033\"/>\n",
       "<text text-anchor=\"middle\" x=\"2462.9925\" y=\"-144.8\" font-family=\"Times,serif\" font-size=\"14.00\" fill=\"#000000\">yes, missing</text>\n",
       "</g>\n",
       "<!-- 40 -->\n",
       "<g id=\"node51\" class=\"node\">\n",
       "<title>40</title>\n",
       "<ellipse fill=\"none\" stroke=\"#000000\" cx=\"2581.4925\" cy=\"-105\" rx=\"51.9908\" ry=\"18\"/>\n",
       "<text text-anchor=\"middle\" x=\"2581.4925\" y=\"-101.3\" font-family=\"Times,serif\" font-size=\"14.00\" fill=\"#000000\">Ticket&lt;907</text>\n",
       "</g>\n",
       "<!-- 26&#45;&gt;40 -->\n",
       "<g id=\"edge50\" class=\"edge\">\n",
       "<title>26&#45;&gt;40</title>\n",
       "<path fill=\"none\" stroke=\"#ff0000\" d=\"M2460.8671,-176.9748C2473.6818,-170.7848 2488.4407,-163.3495 2501.4925,-156 2517.5377,-146.9649 2534.8259,-136.0949 2549.2113,-126.7156\"/>\n",
       "<polygon fill=\"#ff0000\" stroke=\"#ff0000\" points=\"2551.3228,-129.5161 2557.7561,-121.0981 2547.4774,-123.6669 2551.3228,-129.5161\"/>\n",
       "<text text-anchor=\"middle\" x=\"2533.4925\" y=\"-144.8\" font-family=\"Times,serif\" font-size=\"14.00\" fill=\"#000000\">no</text>\n",
       "</g>\n",
       "<!-- 49 -->\n",
       "<g id=\"node48\" class=\"node\">\n",
       "<title>49</title>\n",
       "<ellipse fill=\"none\" stroke=\"#000000\" cx=\"2008.4925\" cy=\"-18\" rx=\"87.1846\" ry=\"18\"/>\n",
       "<text text-anchor=\"middle\" x=\"2008.4925\" y=\"-14.3\" font-family=\"Times,serif\" font-size=\"14.00\" fill=\"#000000\">leaf=&#45;0.00999999978</text>\n",
       "</g>\n",
       "<!-- 37&#45;&gt;49 -->\n",
       "<g id=\"edge47\" class=\"edge\">\n",
       "<title>37&#45;&gt;49</title>\n",
       "<path fill=\"none\" stroke=\"#0000ff\" d=\"M2056.8533,-86.9735C2048.2653,-74.7252 2036.7604,-58.3165 2027.1266,-44.5766\"/>\n",
       "<polygon fill=\"#0000ff\" stroke=\"#0000ff\" points=\"2029.7223,-42.1819 2021.1156,-36.0034 2023.9908,-46.2006 2029.7223,-42.1819\"/>\n",
       "<text text-anchor=\"middle\" x=\"2077.9925\" y=\"-57.8\" font-family=\"Times,serif\" font-size=\"14.00\" fill=\"#000000\">yes, missing</text>\n",
       "</g>\n",
       "<!-- 50 -->\n",
       "<g id=\"node49\" class=\"node\">\n",
       "<title>50</title>\n",
       "<ellipse fill=\"none\" stroke=\"#000000\" cx=\"2198.4925\" cy=\"-18\" rx=\"84.485\" ry=\"18\"/>\n",
       "<text text-anchor=\"middle\" x=\"2198.4925\" y=\"-14.3\" font-family=\"Times,serif\" font-size=\"14.00\" fill=\"#000000\">leaf=0.00749999983</text>\n",
       "</g>\n",
       "<!-- 37&#45;&gt;50 -->\n",
       "<g id=\"edge48\" class=\"edge\">\n",
       "<title>37&#45;&gt;50</title>\n",
       "<path fill=\"none\" stroke=\"#ff0000\" d=\"M2094.6712,-88.019C2114.6082,-74.5731 2142.6504,-55.661 2164.5661,-40.8806\"/>\n",
       "<polygon fill=\"#ff0000\" stroke=\"#ff0000\" points=\"2166.6027,-43.7287 2172.9364,-35.2355 2162.6887,-37.9252 2166.6027,-43.7287\"/>\n",
       "<text text-anchor=\"middle\" x=\"2149.4925\" y=\"-57.8\" font-family=\"Times,serif\" font-size=\"14.00\" fill=\"#000000\">no</text>\n",
       "</g>\n",
       "<!-- 51 -->\n",
       "<g id=\"node52\" class=\"node\">\n",
       "<title>51</title>\n",
       "<ellipse fill=\"none\" stroke=\"#000000\" cx=\"2452.4925\" cy=\"-18\" rx=\"84.485\" ry=\"18\"/>\n",
       "<text text-anchor=\"middle\" x=\"2452.4925\" y=\"-14.3\" font-family=\"Times,serif\" font-size=\"14.00\" fill=\"#000000\">leaf=0.00153846154</text>\n",
       "</g>\n",
       "<!-- 40&#45;&gt;51 -->\n",
       "<g id=\"edge51\" class=\"edge\">\n",
       "<title>40&#45;&gt;51</title>\n",
       "<path fill=\"none\" stroke=\"#0000ff\" d=\"M2557.5309,-88.8399C2537.5904,-75.3916 2508.9567,-56.0805 2486.6203,-41.0164\"/>\n",
       "<polygon fill=\"#0000ff\" stroke=\"#0000ff\" points=\"2488.3409,-37.9553 2478.0932,-35.2656 2484.4269,-43.7588 2488.3409,-37.9553\"/>\n",
       "<text text-anchor=\"middle\" x=\"2559.9925\" y=\"-57.8\" font-family=\"Times,serif\" font-size=\"14.00\" fill=\"#000000\">yes, missing</text>\n",
       "</g>\n",
       "<!-- 52 -->\n",
       "<g id=\"node53\" class=\"node\">\n",
       "<title>52</title>\n",
       "<ellipse fill=\"none\" stroke=\"#000000\" cx=\"2642.4925\" cy=\"-18\" rx=\"87.1846\" ry=\"18\"/>\n",
       "<text text-anchor=\"middle\" x=\"2642.4925\" y=\"-14.3\" font-family=\"Times,serif\" font-size=\"14.00\" fill=\"#000000\">leaf=&#45;0.00999999978</text>\n",
       "</g>\n",
       "<!-- 40&#45;&gt;52 -->\n",
       "<g id=\"edge52\" class=\"edge\">\n",
       "<title>40&#45;&gt;52</title>\n",
       "<path fill=\"none\" stroke=\"#ff0000\" d=\"M2593.8368,-87.3943C2602.5433,-74.9767 2614.3533,-58.1329 2624.1576,-44.1498\"/>\n",
       "<polygon fill=\"#ff0000\" stroke=\"#ff0000\" points=\"2627.082,-46.0754 2629.9572,-35.8782 2621.3505,-42.0567 2627.082,-46.0754\"/>\n",
       "<text text-anchor=\"middle\" x=\"2622.4925\" y=\"-57.8\" font-family=\"Times,serif\" font-size=\"14.00\" fill=\"#000000\">no</text>\n",
       "</g>\n",
       "</g>\n",
       "</svg>\n"
      ],
      "text/plain": [
       "<graphviz.files.Source at 0x7f0d206283c8>"
      ]
     },
     "execution_count": 21,
     "metadata": {},
     "output_type": "execute_result"
    }
   ],
   "source": [
    "xgb.to_graphviz(modelXGB)"
   ]
  },
  {
   "cell_type": "markdown",
   "metadata": {},
   "source": [
    "##### Feature importance\n",
    "\n",
    "- From my point of view it doesn't look so obvious why our model picked up `Ticket` as the most important feature. My guess here would be that passengers in group has the best chance to escape the sinking ship. But strange that eliminating this feature gives worse accuracy score. So we will keep it as it is.\n",
    "\n",
    "- Secondly, looks like `Age` contributes heavily to survival probability after whether the passenger was in group or alone. This drives to conclusion that passengers of particular age group have higher chances to survive.\n",
    "\n",
    "- `Fare` and `Cabin` sector are the next deciders in this game of dice.\n",
    "\n",
    "- Class and gender don't play so crucial role as it might appeared in the beginning.\n",
    "\n",
    "- Apperantly a particular `Title` or whether the passenger is a parent or children (`Parch`) contribute very little to importance"
   ]
  },
  {
   "cell_type": "code",
   "execution_count": 22,
   "metadata": {
    "scrolled": true
   },
   "outputs": [
    {
     "data": {
      "image/png": "[encoded data removed]",
      "text/plain": [
       "<Figure size 432x288 with 1 Axes>"
      ]
     },
     "metadata": {},
     "output_type": "display_data"
    }
   ],
   "source": [
    "plot_importance(modelXGB)\n",
    "plt.show()"
   ]
  },
  {
   "cell_type": "markdown",
   "metadata": {},
   "source": [
    "#### scikit-learn: KNN - K Nearest Neighbours "
   ]
  },
  {
   "cell_type": "code",
   "execution_count": 23,
   "metadata": {
    "scrolled": true
   },
   "outputs": [],
   "source": [
    "modelKNN = KNeighborsClassifier(n_neighbors=10)\n",
    "modelKNN.fit(X_train, y_train)\n",
    "predictions = modelKNN.predict(X_test)"
   ]
  },
  {
   "cell_type": "markdown",
   "metadata": {},
   "source": [
    "##### Model overview\n",
    "\n",
    "Quite a surprise -- KNN and Gradient Boosting ended up predicting with the same rate of accuracy!"
   ]
  },
  {
   "cell_type": "code",
   "execution_count": 24,
   "metadata": {},
   "outputs": [
    {
     "name": "stdout",
     "output_type": "stream",
     "text": [
      "Accuracy: 0.8444444444444444\n",
      "MSE: 0.15555555555555556\n"
     ]
    }
   ],
   "source": [
    "print('Accuracy: %s' % accuracy_score(y_test, predictions.round()))\n",
    "print('MSE: %s' % mean_squared_error(y_test, predictions.round()))"
   ]
  },
  {
   "cell_type": "markdown",
   "metadata": {},
   "source": [
    "#### Neural network with multiple layers (Keras & TF)"
   ]
  },
  {
   "cell_type": "code",
   "execution_count": 25,
   "metadata": {},
   "outputs": [
    {
     "name": "stdout",
     "output_type": "stream",
     "text": [
      "Train on 846 samples, validate on 45 samples\n",
      "Epoch 1/5\n",
      "846/846 [==============================] - 0s 249us/step - loss: 0.3828 - accuracy: 0.6040 - val_loss: 0.2889 - val_accuracy: 0.7111\n",
      "Epoch 2/5\n",
      "846/846 [==============================] - 0s 145us/step - loss: 0.3407 - accuracy: 0.6454 - val_loss: 0.2690 - val_accuracy: 0.7111\n",
      "Epoch 3/5\n",
      "846/846 [==============================] - 0s 114us/step - loss: 0.2958 - accuracy: 0.6655 - val_loss: 0.2302 - val_accuracy: 0.7556\n",
      "Epoch 4/5\n",
      "846/846 [==============================] - 0s 119us/step - loss: 0.2798 - accuracy: 0.6572 - val_loss: 0.2824 - val_accuracy: 0.7111\n",
      "Epoch 5/5\n",
      "846/846 [==============================] - 0s 121us/step - loss: 0.2960 - accuracy: 0.6844 - val_loss: 0.1917 - val_accuracy: 0.8000\n"
     ]
    },
    {
     "data": {
      "text/plain": [
       "<keras.callbacks.callbacks.History at 0x7f0d06725f98>"
      ]
     },
     "execution_count": 25,
     "metadata": {},
     "output_type": "execute_result"
    }
   ],
   "source": [
    "neurons=len(testing_data.columns.values)\n",
    "modelNN = Sequential([\n",
    "    Dense(neurons * 8, input_dim=neurons, activation='relu'),\n",
    "    Dense(neurons * 3, activation='relu'),\n",
    "    Dense(neurons * 1, activation='relu'),\n",
    "    Dense(1, activation='sigmoid'),\n",
    "])\n",
    "\n",
    "modelNN.compile(\n",
    "    loss='mse',\n",
    "    optimizer='adam',\n",
    "    metrics=['accuracy']\n",
    ")\n",
    "\n",
    "modelNN.fit(\n",
    "    X_train, y_train,\n",
    "    epochs=5, batch_size=10,\n",
    "    validation_data=(X_test, y_test),\n",
    "    verbose = 1\n",
    ")"
   ]
  },
  {
   "cell_type": "markdown",
   "metadata": {},
   "source": [
    "##### Model overview"
   ]
  },
  {
   "cell_type": "code",
   "execution_count": 26,
   "metadata": {},
   "outputs": [
    {
     "name": "stdout",
     "output_type": "stream",
     "text": [
      "45/45 [==============================] - 0s 78us/step\n",
      "Accuracy: 0.800000011920929\n",
      "Loss: 0.19173308809598286\n"
     ]
    }
   ],
   "source": [
    "loss, accuracy = modelNN.evaluate(X_test, y_test)\n",
    "print(\"Accuracy: %s\" % accuracy)\n",
    "print(\"Loss: %s\" % loss)"
   ]
  },
  {
   "cell_type": "markdown",
   "metadata": {},
   "source": [
    "#### Convolutional Neural Network with 1x1 dimension (Keras & TF)"
   ]
  },
  {
   "cell_type": "code",
   "execution_count": 27,
   "metadata": {},
   "outputs": [
    {
     "name": "stdout",
     "output_type": "stream",
     "text": [
      "Train on 846 samples, validate on 45 samples\n",
      "Epoch 1/5\n",
      "846/846 [==============================] - 0s 353us/step - loss: 0.5967 - accuracy: 0.3983 - val_loss: 0.7111 - val_accuracy: 0.2889\n",
      "Epoch 2/5\n",
      "846/846 [==============================] - 0s 157us/step - loss: 0.6068 - accuracy: 0.3901 - val_loss: 0.6683 - val_accuracy: 0.3111\n",
      "Epoch 3/5\n",
      "846/846 [==============================] - 0s 150us/step - loss: 0.3934 - accuracy: 0.6040 - val_loss: 0.2889 - val_accuracy: 0.7111\n",
      "Epoch 4/5\n",
      "846/846 [==============================] - 0s 248us/step - loss: 0.3889 - accuracy: 0.6111 - val_loss: 0.2889 - val_accuracy: 0.7111\n",
      "Epoch 5/5\n",
      "846/846 [==============================] - 0s 344us/step - loss: 0.3888 - accuracy: 0.6111 - val_loss: 0.2889 - val_accuracy: 0.7111\n"
     ]
    },
    {
     "data": {
      "text/plain": [
       "<keras.callbacks.callbacks.History at 0x7f0d06403e48>"
      ]
     },
     "execution_count": 27,
     "metadata": {},
     "output_type": "execute_result"
    }
   ],
   "source": [
    "modelCNN = Sequential([\n",
    "    Conv1D(filters=32, kernel_size=4, input_shape=(neurons,1)),\n",
    "    Conv1D(filters=32, kernel_size=4, activation='relu'),\n",
    "    MaxPooling1D(pool_size=2),\n",
    "    Dropout(0.1),\n",
    "    Flatten(),\n",
    "    Dense(neurons * 4, activation='relu'),\n",
    "    Dense(1, activation='sigmoid'),\n",
    "])\n",
    "\n",
    "modelCNN.compile(\n",
    "   loss = 'mse',\n",
    "   optimizer = 'adam',\n",
    "   metrics = ['accuracy']\n",
    ")\n",
    "\n",
    "X_train_reshaped = X_train.to_numpy().reshape(X_train.shape[0], X_train.shape[1], 1)\n",
    "X_test_reshaped = X_test.to_numpy().reshape(X_test.shape[0], X_test.shape[1], 1)\n",
    "\n",
    "modelCNN.fit(\n",
    "    X_train_reshaped, y_train,\n",
    "    epochs=5, batch_size=10,\n",
    "    validation_data=(X_test_reshaped, y_test),\n",
    "    verbose = 1\n",
    ")"
   ]
  },
  {
   "cell_type": "markdown",
   "metadata": {},
   "source": [
    "##### Model overview\n",
    "\n",
    "Worst result! I know... this domain of problem is not suitable for CNN as the data set isn't large enough, so the model ended up underfitted -- I'm just experimenting :)"
   ]
  },
  {
   "cell_type": "code",
   "execution_count": 28,
   "metadata": {},
   "outputs": [
    {
     "name": "stdout",
     "output_type": "stream",
     "text": [
      "45/45 [==============================] - 0s 62us/step\n",
      "Accuracy: 0.7111111283302307\n",
      "Loss: 0.28888889220025804\n"
     ]
    }
   ],
   "source": [
    "loss, accuracy = modelCNN.evaluate(X_test_reshaped, y_test)\n",
    "print(\"Accuracy: %s\" % accuracy)\n",
    "print(\"Loss: %s\" % loss)"
   ]
  },
  {
   "cell_type": "markdown",
   "metadata": {},
   "source": [
    "### Feed testing data set"
   ]
  },
  {
   "cell_type": "code",
   "execution_count": 29,
   "metadata": {},
   "outputs": [],
   "source": [
    "TestDataReshaped = testing_data.to_numpy().reshape(testing_data.shape[0],testing_data.shape[1],1)\n",
    "OutputCNN = testing_data.copy()\n",
    "OutputCNN[\"Survived\"] = modelCNN.predict_classes(TestDataReshaped)\n",
    "OutputCNN['PassengerId'] = td_merged.PassengerId.astype(int)"
   ]
  },
  {
   "cell_type": "code",
   "execution_count": 30,
   "metadata": {},
   "outputs": [],
   "source": [
    "OutputNN = testing_data.copy()\n",
    "OutputNN[\"Survived\"] = modelNN.predict_classes(testing_data.to_numpy())\n",
    "OutputNN['PassengerId'] = td_merged.PassengerId.astype(int)"
   ]
  },
  {
   "cell_type": "code",
   "execution_count": 31,
   "metadata": {},
   "outputs": [],
   "source": [
    "OutputXGB = testing_data.copy()\n",
    "OutputXGB[\"Survived\"] = np.array(\n",
    "    modelXGB.predict(\n",
    "        xgb.DMatrix(testing_data.to_numpy(), feature_names=testing_data.columns.values)\n",
    "    ).round()\n",
    "    ,dtype=int)\n",
    "OutputXGB['PassengerId'] = td_merged.PassengerId.astype(int)"
   ]
  },
  {
   "cell_type": "code",
   "execution_count": 32,
   "metadata": {},
   "outputs": [],
   "source": [
    "OutputKNN = testing_data.copy()\n",
    "OutputKNN[\"Survived\"] = modelKNN.predict(testing_data.to_numpy())\n",
    "OutputKNN.Survived = OutputKNN.Survived.astype(int)\n",
    "OutputKNN['PassengerId'] = td_merged.PassengerId.astype(int)"
   ]
  },
  {
   "cell_type": "markdown",
   "metadata": {},
   "source": [
    "### Save predictions to file"
   ]
  },
  {
   "cell_type": "code",
   "execution_count": 33,
   "metadata": {},
   "outputs": [],
   "source": [
    "OutputXGB[['PassengerId', 'Survived']].to_csv('output/XGB.csv', index=False)"
   ]
  },
  {
   "cell_type": "code",
   "execution_count": 34,
   "metadata": {},
   "outputs": [],
   "source": [
    "OutputCNN[['PassengerId', 'Survived']].to_csv('output/CNN.csv', index=False)"
   ]
  },
  {
   "cell_type": "code",
   "execution_count": 35,
   "metadata": {},
   "outputs": [],
   "source": [
    "OutputNN[['PassengerId', 'Survived']].to_csv('output/NN.csv', index=False)"
   ]
  },
  {
   "cell_type": "code",
   "execution_count": 36,
   "metadata": {},
   "outputs": [],
   "source": [
    "OutputKNN[['PassengerId', 'Survived']].to_csv('output/KNN.csv', index=False)"
   ]
  }
 ],
 "metadata": {
  "celltoolbar": "Raw Cell Format",
  "kernelspec": {
   "display_name": "Python 3",
   "language": "python",
   "name": "python3"
  },
  "language_info": {
   "codemirror_mode": {
    "name": "ipython",
    "version": 3
   },
   "file_extension": ".py",
   "mimetype": "text/x-python",
   "name": "python",
   "nbconvert_exporter": "python",
   "pygments_lexer": "ipython3",
   "version": "3.7.3"
  }
 },
 "nbformat": 4,
 "nbformat_minor": 4
}
